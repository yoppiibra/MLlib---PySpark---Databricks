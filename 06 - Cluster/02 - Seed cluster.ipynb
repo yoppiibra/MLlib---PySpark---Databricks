{
 "cells": [
  {
   "cell_type": "markdown",
   "metadata": {
    "application/vnd.databricks.v1+cell": {
     "cellMetadata": {},
     "inputWidgets": {},
     "nuid": "73bcddda-bc4c-44d0-a80d-444bb74c3df8",
     "showTitle": false,
     "tableResultSettingsMap": {},
     "title": ""
    }
   },
   "source": [
    "We'll be working with a real data set about seeds, from UCI repository: https://archive.ics.uci.edu/ml/datasets/seeds.\n",
    "\n",
    "The examined group comprised kernels belonging to three different varieties of wheat: Kama, Rosa and Canadian, 70 elements each, randomly selected for the experiment. High quality visualization of the internal kernel structure was detected using a soft X-ray technique. It is non-destructive and considerably cheaper than other more sophisticated imaging techniques like scanning microscopy or laser technology. The images were recorded on 13x18 cm X-ray KODAK plates. Studies were conducted using combine harvested wheat grain originating from experimental fields, explored at the Institute of Agrophysics of the Polish Academy of Sciences in Lublin.\n",
    "\n",
    "The data set can be used for the tasks of classification and cluster analysis.\n",
    "\n",
    "Attribute Information:\n",
    "\n",
    "To construct the data, seven geometric parameters of wheat kernels were measured:\n",
    "\n",
    "1. area A,\n",
    "2. perimeter P,\n",
    "3. compactness C = 4piA/P^2,\n",
    "4. length of kernel,\n",
    "5. width of kernel,\n",
    "6. asymmetry coefficient\n",
    "7. length of kernel groove. All of these parameters were real-valued continuous."
   ]
  },
  {
   "cell_type": "code",
   "execution_count": 0,
   "metadata": {
    "application/vnd.databricks.v1+cell": {
     "cellMetadata": {
      "byteLimit": 2048000,
      "rowLimit": 10000
     },
     "inputWidgets": {},
     "nuid": "9ab43ca1-2b02-4c5b-a852-a201d50bfb91",
     "showTitle": false,
     "tableResultSettingsMap": {},
     "title": ""
    }
   },
   "outputs": [],
   "source": [
    "from pyspark.sql import SparkSession"
   ]
  },
  {
   "cell_type": "code",
   "execution_count": 0,
   "metadata": {
    "application/vnd.databricks.v1+cell": {
     "cellMetadata": {
      "byteLimit": 2048000,
      "rowLimit": 10000
     },
     "inputWidgets": {},
     "nuid": "6787f124-78c8-4a71-985a-a72425f7dee5",
     "showTitle": false,
     "tableResultSettingsMap": {},
     "title": ""
    }
   },
   "outputs": [],
   "source": [
    "spark = SparkSession.builder.appName('seed').getOrCreate()"
   ]
  },
  {
   "cell_type": "code",
   "execution_count": 0,
   "metadata": {
    "application/vnd.databricks.v1+cell": {
     "cellMetadata": {
      "byteLimit": 2048000,
      "rowLimit": 10000
     },
     "inputWidgets": {},
     "nuid": "1191ed54-ae80-461a-beb7-004644191ccb",
     "showTitle": false,
     "tableResultSettingsMap": {},
     "title": ""
    }
   },
   "outputs": [],
   "source": [
    "data = spark.read.csv('dbfs:/FileStore/seeds_dataset.csv', inferSchema=True, header=True)"
   ]
  },
  {
   "cell_type": "code",
   "execution_count": 0,
   "metadata": {
    "application/vnd.databricks.v1+cell": {
     "cellMetadata": {
      "byteLimit": 2048000,
      "rowLimit": 10000
     },
     "inputWidgets": {},
     "nuid": "d5bb6ef3-d68b-4f83-b393-86c6c45a602b",
     "showTitle": false,
     "tableResultSettingsMap": {},
     "title": ""
    }
   },
   "outputs": [
    {
     "output_type": "stream",
     "name": "stdout",
     "output_type": "stream",
     "text": [
      "+-----+---------+-----------+------------------+------------------+---------------------+------------------+\n| area|perimeter|compactness|  length_of_kernel|   width_of_kernel|asymmetry_coefficient|  length_of_groove|\n+-----+---------+-----------+------------------+------------------+---------------------+------------------+\n|15.26|    14.84|      0.871|             5.763|             3.312|                2.221|              5.22|\n|14.88|    14.57|     0.8811| 5.553999999999999|             3.333|                1.018|             4.956|\n|14.29|    14.09|      0.905|             5.291|3.3369999999999997|                2.699|             4.825|\n|13.84|    13.94|     0.8955|             5.324|3.3789999999999996|                2.259|             4.805|\n|16.14|    14.99|     0.9034|5.6579999999999995|             3.562|                1.355|             5.175|\n|14.38|    14.21|     0.8951|             5.386|             3.312|   2.4619999999999997|             4.956|\n|14.69|    14.49|     0.8799|             5.563|             3.259|   3.5860000000000003| 5.218999999999999|\n|14.11|     14.1|     0.8911|              5.42|             3.302|                  2.7|               5.0|\n|16.63|    15.46|     0.8747|             6.053|             3.465|                 2.04| 5.877000000000001|\n|16.44|    15.25|      0.888|5.8839999999999995|             3.505|                1.969|5.5329999999999995|\n|15.26|    14.85|     0.8696|5.7139999999999995|             3.242|                4.543|             5.314|\n|14.03|    14.16|     0.8796|             5.438|             3.201|   1.7169999999999999|             5.001|\n|13.89|    14.02|      0.888|             5.439|             3.199|                3.986|             4.738|\n|13.78|    14.06|     0.8759|             5.479|             3.156|                3.136|             4.872|\n|13.74|    14.05|     0.8744|             5.482|             3.114|                2.932|             4.825|\n|14.59|    14.28|     0.8993|             5.351|             3.333|                4.185| 4.781000000000001|\n|13.99|    13.83|     0.9183|             5.119|             3.383|                5.234| 4.781000000000001|\n|15.69|    14.75|     0.9058|             5.527|             3.514|                1.599|             5.046|\n| 14.7|    14.21|     0.9153|             5.205|             3.466|                1.767|             4.649|\n|12.72|    13.57|     0.8686|             5.226|             3.049|                4.102|             4.914|\n+-----+---------+-----------+------------------+------------------+---------------------+------------------+\nonly showing top 20 rows\n\n"
     ]
    }
   ],
   "source": [
    "data.show()"
   ]
  },
  {
   "cell_type": "code",
   "execution_count": 0,
   "metadata": {
    "application/vnd.databricks.v1+cell": {
     "cellMetadata": {
      "byteLimit": 2048000,
      "rowLimit": 10000
     },
     "inputWidgets": {},
     "nuid": "97b0a27d-b028-4912-b645-01d4447db97d",
     "showTitle": false,
     "tableResultSettingsMap": {},
     "title": ""
    }
   },
   "outputs": [
    {
     "output_type": "stream",
     "name": "stdout",
     "output_type": "stream",
     "text": [
      "root\n |-- area: double (nullable = true)\n |-- perimeter: double (nullable = true)\n |-- compactness: double (nullable = true)\n |-- length_of_kernel: double (nullable = true)\n |-- width_of_kernel: double (nullable = true)\n |-- asymmetry_coefficient: double (nullable = true)\n |-- length_of_groove: double (nullable = true)\n\n"
     ]
    }
   ],
   "source": [
    "data.printSchema()"
   ]
  },
  {
   "cell_type": "code",
   "execution_count": 0,
   "metadata": {
    "application/vnd.databricks.v1+cell": {
     "cellMetadata": {
      "byteLimit": 2048000,
      "rowLimit": 10000
     },
     "inputWidgets": {},
     "nuid": "3c9cfab4-19ce-48ad-8f31-391110c78147",
     "showTitle": false,
     "tableResultSettingsMap": {},
     "title": ""
    }
   },
   "outputs": [
    {
     "output_type": "stream",
     "name": "stdout",
     "output_type": "stream",
     "text": [
      "(210, 7)\n"
     ]
    }
   ],
   "source": [
    "print((data.count(), len(data.columns)))"
   ]
  },
  {
   "cell_type": "code",
   "execution_count": 0,
   "metadata": {
    "application/vnd.databricks.v1+cell": {
     "cellMetadata": {
      "byteLimit": 2048000,
      "rowLimit": 10000
     },
     "inputWidgets": {},
     "nuid": "83766677-dff4-4d89-a02b-aa56a64dceb3",
     "showTitle": false,
     "tableResultSettingsMap": {},
     "title": ""
    }
   },
   "outputs": [
    {
     "output_type": "stream",
     "name": "stdout",
     "output_type": "stream",
     "text": [
      "+----+---------+-----------+----------------+---------------+---------------------+----------------+\n|area|perimeter|compactness|length_of_kernel|width_of_kernel|asymmetry_coefficient|length_of_groove|\n+----+---------+-----------+----------------+---------------+---------------------+----------------+\n|   0|        0|          0|               0|              0|                    0|               0|\n+----+---------+-----------+----------------+---------------+---------------------+----------------+\n\n"
     ]
    }
   ],
   "source": [
    "# missing values\n",
    "from pyspark.sql.functions import col, sum as _sum\n",
    "\n",
    "missing_val = data.select([_sum(col(c).isNull().cast('int')).alias(c) for c in data.columns])\n",
    "missing_val.show()"
   ]
  },
  {
   "cell_type": "code",
   "execution_count": 0,
   "metadata": {
    "application/vnd.databricks.v1+cell": {
     "cellMetadata": {
      "byteLimit": 2048000,
      "rowLimit": 10000
     },
     "inputWidgets": {},
     "nuid": "b63c2364-6141-4887-b8ce-389eeb5275ca",
     "showTitle": false,
     "tableResultSettingsMap": {},
     "title": ""
    }
   },
   "outputs": [
    {
     "output_type": "stream",
     "name": "stdout",
     "output_type": "stream",
     "text": [
      "+----+---------+-----------+----------------+---------------+---------------------+----------------+\n|area|perimeter|compactness|length_of_kernel|width_of_kernel|asymmetry_coefficient|length_of_groove|\n+----+---------+-----------+----------------+---------------+---------------------+----------------+\n+----+---------+-----------+----------------+---------------+---------------------+----------------+\n\n"
     ]
    }
   ],
   "source": [
    "# duplicated\n",
    "duplicated = data.exceptAll(data.dropDuplicates())\n",
    "duplicated.show()"
   ]
  },
  {
   "cell_type": "markdown",
   "metadata": {
    "application/vnd.databricks.v1+cell": {
     "cellMetadata": {},
     "inputWidgets": {},
     "nuid": "150d5865-c5f1-4043-9cdf-cde583916ac0",
     "showTitle": false,
     "tableResultSettingsMap": {},
     "title": ""
    }
   },
   "source": [
    "## Format for Mllib"
   ]
  },
  {
   "cell_type": "code",
   "execution_count": 0,
   "metadata": {
    "application/vnd.databricks.v1+cell": {
     "cellMetadata": {
      "byteLimit": 2048000,
      "rowLimit": 10000
     },
     "inputWidgets": {},
     "nuid": "0dfe4f68-633d-4187-a83b-cbe49d9d2869",
     "showTitle": false,
     "tableResultSettingsMap": {},
     "title": ""
    }
   },
   "outputs": [],
   "source": [
    "from pyspark.ml.feature import VectorAssembler"
   ]
  },
  {
   "cell_type": "code",
   "execution_count": 0,
   "metadata": {
    "application/vnd.databricks.v1+cell": {
     "cellMetadata": {
      "byteLimit": 2048000,
      "rowLimit": 10000
     },
     "inputWidgets": {},
     "nuid": "2a56c7a2-9116-40b4-9ac3-ac615955be37",
     "showTitle": false,
     "tableResultSettingsMap": {},
     "title": ""
    }
   },
   "outputs": [
    {
     "output_type": "execute_result",
     "data": {
      "text/plain": [
       "['area',\n",
       " 'perimeter',\n",
       " 'compactness',\n",
       " 'length_of_kernel',\n",
       " 'width_of_kernel',\n",
       " 'asymmetry_coefficient',\n",
       " 'length_of_groove']"
      ]
     },
     "execution_count": 11,
     "metadata": {},
     "output_type": "execute_result"
    }
   ],
   "source": [
    "data.columns"
   ]
  },
  {
   "cell_type": "code",
   "execution_count": 0,
   "metadata": {
    "application/vnd.databricks.v1+cell": {
     "cellMetadata": {
      "byteLimit": 2048000,
      "rowLimit": 10000
     },
     "inputWidgets": {},
     "nuid": "d75d6bdd-6c28-40da-932a-e820662a7ff9",
     "showTitle": false,
     "tableResultSettingsMap": {},
     "title": ""
    }
   },
   "outputs": [],
   "source": [
    "assembler = VectorAssembler(inputCols=data.columns, outputCol='features')"
   ]
  },
  {
   "cell_type": "code",
   "execution_count": 0,
   "metadata": {
    "application/vnd.databricks.v1+cell": {
     "cellMetadata": {
      "byteLimit": 2048000,
      "rowLimit": 10000
     },
     "inputWidgets": {},
     "nuid": "dc74ed1a-bf3e-4bb6-8de0-6425162b1489",
     "showTitle": false,
     "tableResultSettingsMap": {},
     "title": ""
    }
   },
   "outputs": [],
   "source": [
    "output = assembler.transform(data)"
   ]
  },
  {
   "cell_type": "markdown",
   "metadata": {
    "application/vnd.databricks.v1+cell": {
     "cellMetadata": {
      "byteLimit": 2048000,
      "rowLimit": 10000
     },
     "inputWidgets": {},
     "nuid": "a1a81e17-b761-41c0-a3fb-4e9a15ce24b9",
     "showTitle": false,
     "tableResultSettingsMap": {},
     "title": ""
    }
   },
   "source": [
    "## StandardScaler"
   ]
  },
  {
   "cell_type": "code",
   "execution_count": 0,
   "metadata": {
    "application/vnd.databricks.v1+cell": {
     "cellMetadata": {
      "byteLimit": 2048000,
      "rowLimit": 10000
     },
     "inputWidgets": {},
     "nuid": "65079cfa-7077-47ea-b796-0f3c5de60f54",
     "showTitle": false,
     "tableResultSettingsMap": {},
     "title": ""
    }
   },
   "outputs": [],
   "source": [
    "from pyspark.ml.feature import StandardScaler"
   ]
  },
  {
   "cell_type": "code",
   "execution_count": 0,
   "metadata": {
    "application/vnd.databricks.v1+cell": {
     "cellMetadata": {
      "byteLimit": 2048000,
      "rowLimit": 10000
     },
     "inputWidgets": {},
     "nuid": "33b792bc-1b24-4cc3-9d08-261d25a47226",
     "showTitle": false,
     "tableResultSettingsMap": {},
     "title": ""
    }
   },
   "outputs": [],
   "source": [
    "scaler = StandardScaler(inputCol='features', outputCol='scalerfeatures', withStd= True, withMean= False)"
   ]
  },
  {
   "cell_type": "code",
   "execution_count": 0,
   "metadata": {
    "application/vnd.databricks.v1+cell": {
     "cellMetadata": {
      "byteLimit": 2048000,
      "rowLimit": 10000
     },
     "inputWidgets": {},
     "nuid": "ce1fa6c1-e550-477a-ad4e-b044299d1bcf",
     "showTitle": false,
     "tableResultSettingsMap": {},
     "title": ""
    }
   },
   "outputs": [],
   "source": [
    "final_data = scaler.fit(output).transform(output)"
   ]
  },
  {
   "cell_type": "markdown",
   "metadata": {
    "application/vnd.databricks.v1+cell": {
     "cellMetadata": {},
     "inputWidgets": {},
     "nuid": "3938f8c6-3862-4f1c-8844-410c47216b6d",
     "showTitle": false,
     "tableResultSettingsMap": {},
     "title": ""
    }
   },
   "source": [
    "## Model cluster and evaluation silhouette score"
   ]
  },
  {
   "cell_type": "code",
   "execution_count": 0,
   "metadata": {
    "application/vnd.databricks.v1+cell": {
     "cellMetadata": {
      "byteLimit": 2048000,
      "rowLimit": 10000
     },
     "inputWidgets": {},
     "nuid": "704fde9e-adf9-41ce-a674-2afdae87ff8a",
     "showTitle": false,
     "tableResultSettingsMap": {},
     "title": ""
    }
   },
   "outputs": [],
   "source": [
    "from pyspark.ml.clustering import KMeans\n",
    "from pyspark.ml.evaluation import ClusteringEvaluator"
   ]
  },
  {
   "cell_type": "code",
   "execution_count": 0,
   "metadata": {
    "application/vnd.databricks.v1+cell": {
     "cellMetadata": {
      "byteLimit": 2048000,
      "rowLimit": 10000
     },
     "inputWidgets": {},
     "nuid": "b94b7090-068a-4f4b-a771-c80336b14caf",
     "showTitle": false,
     "tableResultSettingsMap": {},
     "title": ""
    }
   },
   "outputs": [
    {
     "output_type": "stream",
     "name": "stdout",
     "output_type": "stream",
     "text": [
      "k : 2, silhouette score : 0.7093882893548508\n****************************************************************************************************\nk : 3, silhouette score : 0.616267393520126\n****************************************************************************************************\nk : 4, silhouette score : 0.5118605771341731\n****************************************************************************************************\nk : 5, silhouette score : 0.3527725468098333\n****************************************************************************************************\nk : 6, silhouette score : 0.4457065728535895\n****************************************************************************************************\nk : 7, silhouette score : 0.36862594319683506\n****************************************************************************************************\nk : 8, silhouette score : 0.3513475917622866\n****************************************************************************************************\nk : 9, silhouette score : 0.28404419516148277\n****************************************************************************************************\nk : 10, silhouette score : 0.18581403440890606\n****************************************************************************************************\nk : 11, silhouette score : 0.20013656707614386\n****************************************************************************************************\n"
     ]
    }
   ],
   "source": [
    "silhouette_score = []\n",
    "k_values = range(2, 12)\n",
    "\n",
    "for k in k_values:\n",
    "  kmeans = KMeans(featuresCol='scalerfeatures').setK(k)\n",
    "  model = kmeans.fit(final_data)\n",
    "  predict = model.transform(final_data)\n",
    "\n",
    "  evalcluster = ClusteringEvaluator()\n",
    "  silhouette = evalcluster.evaluate(predict)\n",
    "  silhouette_score.append(silhouette)\n",
    "  print(f'k : {k}, silhouette score : {silhouette}')\n",
    "  print('*' * 100)"
   ]
  },
  {
   "cell_type": "markdown",
   "metadata": {
    "application/vnd.databricks.v1+cell": {
     "cellMetadata": {},
     "inputWidgets": {},
     "nuid": "84bb5764-e9fd-408d-955c-08c9fb93200a",
     "showTitle": false,
     "tableResultSettingsMap": {},
     "title": ""
    }
   },
   "source": [
    "## Final cluster model k=2"
   ]
  },
  {
   "cell_type": "code",
   "execution_count": 0,
   "metadata": {
    "application/vnd.databricks.v1+cell": {
     "cellMetadata": {
      "byteLimit": 2048000,
      "rowLimit": 10000
     },
     "inputWidgets": {},
     "nuid": "5a3e3829-27ff-42ea-ad71-2933ea12dad9",
     "showTitle": false,
     "tableResultSettingsMap": {},
     "title": ""
    }
   },
   "outputs": [],
   "source": [
    "kmeans = KMeans(featuresCol='scalerfeatures', k = 2)"
   ]
  },
  {
   "cell_type": "code",
   "execution_count": 0,
   "metadata": {
    "application/vnd.databricks.v1+cell": {
     "cellMetadata": {
      "byteLimit": 2048000,
      "rowLimit": 10000
     },
     "inputWidgets": {},
     "nuid": "318f2e05-0b46-4359-a65b-d5ae4d3a7e94",
     "showTitle": false,
     "tableResultSettingsMap": {},
     "title": ""
    }
   },
   "outputs": [],
   "source": [
    "model = kmeans.fit(final_data)"
   ]
  },
  {
   "cell_type": "code",
   "execution_count": 0,
   "metadata": {
    "application/vnd.databricks.v1+cell": {
     "cellMetadata": {
      "byteLimit": 2048000,
      "rowLimit": 10000
     },
     "inputWidgets": {},
     "nuid": "bf6fa65c-70a5-4c06-95dc-2e691ede9096",
     "showTitle": false,
     "tableResultSettingsMap": {},
     "title": ""
    }
   },
   "outputs": [],
   "source": [
    "prediction = model.transform(final_data)"
   ]
  },
  {
   "cell_type": "code",
   "execution_count": 0,
   "metadata": {
    "application/vnd.databricks.v1+cell": {
     "cellMetadata": {
      "byteLimit": 2048000,
      "rowLimit": 10000
     },
     "inputWidgets": {},
     "nuid": "3117fa8c-6d09-452b-891a-15ada6f6d2d4",
     "showTitle": false,
     "tableResultSettingsMap": {},
     "title": ""
    }
   },
   "outputs": [
    {
     "output_type": "stream",
     "name": "stdout",
     "output_type": "stream",
     "text": [
      "Silhouette score cluster k_2 : 0.7093882893548508\n"
     ]
    }
   ],
   "source": [
    "# evaluation\n",
    "evalcluster = ClusteringEvaluator()\n",
    "silhouette_score = evalcluster.evaluate(prediction)\n",
    "print(f'Silhouette score cluster k_2 : {silhouette_score}')"
   ]
  },
  {
   "cell_type": "code",
   "execution_count": 0,
   "metadata": {
    "application/vnd.databricks.v1+cell": {
     "cellMetadata": {
      "byteLimit": 2048000,
      "rowLimit": 10000
     },
     "inputWidgets": {},
     "nuid": "5b7f13d1-7b75-4725-8d2b-0ba4a54ddcec",
     "showTitle": false,
     "tableResultSettingsMap": {},
     "title": ""
    }
   },
   "outputs": [
    {
     "output_type": "stream",
     "name": "stdout",
     "output_type": "stream",
     "text": [
      "[ 4.42210624 10.46640451 36.50749337 12.04573012  7.98091715  2.56066803\n 10.33364421]\n[ 6.20884577 12.25651292 37.43485358 13.77282897  9.67731721  2.2989371\n 12.09236686]\n"
     ]
    }
   ],
   "source": [
    "centers = model.clusterCenters()\n",
    "for center in centers:\n",
    "  print(center)"
   ]
  },
  {
   "cell_type": "code",
   "execution_count": 0,
   "metadata": {
    "application/vnd.databricks.v1+cell": {
     "cellMetadata": {
      "byteLimit": 2048000,
      "rowLimit": 10000
     },
     "inputWidgets": {},
     "nuid": "253fbefc-8035-48d6-89ed-4e2b12cad1db",
     "showTitle": false,
     "tableResultSettingsMap": {},
     "title": ""
    }
   },
   "outputs": [
    {
     "output_type": "stream",
     "name": "stdout",
     "output_type": "stream",
     "text": [
      "+----------+-----+\n|prediction|count|\n+----------+-----+\n|         1|   80|\n|         0|  130|\n+----------+-----+\n\n"
     ]
    }
   ],
   "source": [
    "model.transform(final_data).groupBy('prediction').count().show()"
   ]
  },
  {
   "cell_type": "code",
   "execution_count": 0,
   "metadata": {
    "application/vnd.databricks.v1+cell": {
     "cellMetadata": {
      "byteLimit": 2048000,
      "rowLimit": 10000
     },
     "inputWidgets": {},
     "nuid": "9b9198ac-649b-4246-a5d7-68f468ade7cb",
     "showTitle": false,
     "tableResultSettingsMap": {},
     "title": ""
    }
   },
   "outputs": [
    {
     "output_type": "stream",
     "name": "stdout",
     "output_type": "stream",
     "text": [
      "+----------+\n|prediction|\n+----------+\n|         0|\n|         0|\n|         0|\n|         0|\n|         1|\n|         0|\n|         0|\n|         0|\n|         1|\n|         1|\n|         0|\n|         0|\n|         0|\n|         0|\n|         0|\n|         0|\n|         0|\n|         1|\n|         0|\n|         0|\n+----------+\nonly showing top 20 rows\n\n"
     ]
    }
   ],
   "source": [
    "prediction.select('prediction').show()"
   ]
  },
  {
   "cell_type": "markdown",
   "metadata": {
    "application/vnd.databricks.v1+cell": {
     "cellMetadata": {},
     "inputWidgets": {},
     "nuid": "da14e7c7-b30e-4d21-a14d-b32dc77e3e50",
     "showTitle": false,
     "tableResultSettingsMap": {},
     "title": ""
    }
   },
   "source": [
    "## Good Job..!"
   ]
  }
 ],
 "metadata": {
  "application/vnd.databricks.v1+notebook": {
   "dashboards": [],
   "environmentMetadata": null,
   "language": "python",
   "notebookMetadata": {
    "pythonIndentUnit": 2
   },
   "notebookName": "02 - Seed cluster",
   "widgets": {}
  }
 },
 "nbformat": 4,
 "nbformat_minor": 0
}
