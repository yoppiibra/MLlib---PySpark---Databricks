{
 "cells": [
  {
   "cell_type": "markdown",
   "metadata": {
    "application/vnd.databricks.v1+cell": {
     "cellMetadata": {
      "byteLimit": 2048000,
      "rowLimit": 10000
     },
     "inputWidgets": {},
     "nuid": "d6412502-1a91-4984-ac64-eca483da47b2",
     "showTitle": false,
     "tableResultSettingsMap": {},
     "title": ""
    }
   },
   "source": [
    "## Clustering\n",
    "\n",
    "A large technology firm needs your help, they've been hacked! Luckily their forensic engineers have grabbed valuable data about the hacks, including information like session time,locations, wpm typing speed, etc. The forensic engineer relates to you what she has been able to figure out so far, she has been able to grab meta data of each session that the hackers used to connect to their servers. These are the features of the data:\n",
    "\n",
    "* 'Session_Connection_Time': How long the session lasted in minutes\n",
    "* 'Bytes Transferred': Number of MB transferred during session\n",
    "* 'Kali_Trace_Used': Indicates if the hacker was using Kali Linux\n",
    "* 'Servers_Corrupted': Number of server corrupted during the attack\n",
    "* 'Pages_Corrupted': Number of pages illegally accessed\n",
    "* 'Location': Location attack came from (Probably useless because the hackers used VPNs)\n",
    "* 'WPM_Typing_Speed': Their estimated typing speed based on session logs.\n",
    "\n",
    "\n",
    "The technology firm has 3 potential hackers that perpetrated the attack. Their certain of the first two hackers but they aren't very sure if the third hacker was involved or not. They have requested your help! Can you help figure out whether or not the third suspect had anything to do with the attacks, or was it just two hackers? It's probably not possible to know for sure, but maybe what you've just learned about Clustering can help!\n",
    "\n",
    "One last key fact, the forensic engineer knows that the hackers trade off attacks. Meaning they should each have roughly the same amount of attacks. For example if there were 100 total attacks, then in a 2 hacker situation each should have about 50 hacks, in a three hacker situation each would have about 33 hacks. The engineer believes this is the key element to solving this, but doesn't know how to distinguish this unlabeled data into groups of hackers."
   ]
  },
  {
   "cell_type": "code",
   "execution_count": 0,
   "metadata": {
    "application/vnd.databricks.v1+cell": {
     "cellMetadata": {
      "byteLimit": 2048000,
      "rowLimit": 10000
     },
     "inputWidgets": {},
     "nuid": "77f5d901-5ad0-471f-a77d-67e8e7256b68",
     "showTitle": false,
     "tableResultSettingsMap": {},
     "title": ""
    }
   },
   "outputs": [],
   "source": [
    "from pyspark.sql import SparkSession "
   ]
  },
  {
   "cell_type": "code",
   "execution_count": 0,
   "metadata": {
    "application/vnd.databricks.v1+cell": {
     "cellMetadata": {
      "byteLimit": 2048000,
      "rowLimit": 10000
     },
     "inputWidgets": {},
     "nuid": "228ed9fd-fd4b-4e5a-8e8e-f75b703a1bca",
     "showTitle": false,
     "tableResultSettingsMap": {},
     "title": ""
    }
   },
   "outputs": [],
   "source": [
    "spark = SparkSession.builder.appName('cluster').getOrCreate()"
   ]
  },
  {
   "cell_type": "code",
   "execution_count": 0,
   "metadata": {
    "application/vnd.databricks.v1+cell": {
     "cellMetadata": {
      "byteLimit": 2048000,
      "rowLimit": 10000
     },
     "inputWidgets": {},
     "nuid": "ea6d1549-dd4a-48c8-972b-e90fed155892",
     "showTitle": false,
     "tableResultSettingsMap": {},
     "title": ""
    }
   },
   "outputs": [],
   "source": [
    "data = spark.read.csv('dbfs:/FileStore/hack_data.csv', inferSchema=True, header=True)"
   ]
  },
  {
   "cell_type": "code",
   "execution_count": 0,
   "metadata": {
    "application/vnd.databricks.v1+cell": {
     "cellMetadata": {
      "byteLimit": 2048000,
      "rowLimit": 10000
     },
     "inputWidgets": {},
     "nuid": "a4c48376-f20f-4bc7-a0ef-14ec0dd3daf1",
     "showTitle": false,
     "tableResultSettingsMap": {},
     "title": ""
    }
   },
   "outputs": [
    {
     "output_type": "display_data",
     "data": {
      "text/html": [
       "<style scoped>\n",
       "  .table-result-container {\n",
       "    max-height: 300px;\n",
       "    overflow: auto;\n",
       "  }\n",
       "  table, th, td {\n",
       "    border: 1px solid black;\n",
       "    border-collapse: collapse;\n",
       "  }\n",
       "  th, td {\n",
       "    padding: 5px;\n",
       "  }\n",
       "  th {\n",
       "    text-align: left;\n",
       "  }\n",
       "</style><div class='table-result-container'><table class='table-result'><thead style='background-color: white'><tr><th>Session_Connection_Time</th><th>Bytes Transferred</th><th>Kali_Trace_Used</th><th>Servers_Corrupted</th><th>Pages_Corrupted</th><th>Location</th><th>WPM_Typing_Speed</th><th>hack</th></tr></thead><tbody><tr><td>8.0</td><td>391.09</td><td>1</td><td>2.96</td><td>7.0</td><td>Slovenia</td><td>72.37</td><td>1</td></tr><tr><td>20.0</td><td>720.99</td><td>0</td><td>3.04</td><td>9.0</td><td>British Virgin Islands</td><td>69.08</td><td>1</td></tr><tr><td>31.0</td><td>356.32</td><td>1</td><td>3.71</td><td>8.0</td><td>Tokelau</td><td>70.58</td><td>1</td></tr><tr><td>2.0</td><td>228.08</td><td>1</td><td>2.48</td><td>8.0</td><td>Bolivia</td><td>70.8</td><td>1</td></tr><tr><td>20.0</td><td>408.5</td><td>0</td><td>3.57</td><td>8.0</td><td>Iraq</td><td>71.28</td><td>1</td></tr></tbody></table></div>"
      ]
     },
     "metadata": {
      "application/vnd.databricks.v1+output": {
       "addedWidgets": {},
       "aggData": [],
       "aggError": "",
       "aggOverflow": false,
       "aggSchema": [],
       "aggSeriesLimitReached": false,
       "aggType": "",
       "arguments": {},
       "columnCustomDisplayInfos": {},
       "data": [
        [
         8.0,
         391.09,
         1,
         2.96,
         7.0,
         "Slovenia",
         72.37,
         1
        ],
        [
         20.0,
         720.99,
         0,
         3.04,
         9.0,
         "British Virgin Islands",
         69.08,
         1
        ],
        [
         31.0,
         356.32,
         1,
         3.71,
         8.0,
         "Tokelau",
         70.58,
         1
        ],
        [
         2.0,
         228.08,
         1,
         2.48,
         8.0,
         "Bolivia",
         70.8,
         1
        ],
        [
         20.0,
         408.5,
         0,
         3.57,
         8.0,
         "Iraq",
         71.28,
         1
        ]
       ],
       "datasetInfos": [],
       "dbfsResultPath": null,
       "isJsonSchema": true,
       "metadata": {},
       "overflow": false,
       "plotOptions": {
        "customPlotOptions": {},
        "displayType": "table",
        "pivotAggregation": null,
        "pivotColumns": null,
        "xColumns": null,
        "yColumns": null
       },
       "removedWidgets": [],
       "schema": [
        {
         "metadata": "{}",
         "name": "Session_Connection_Time",
         "type": "\"double\""
        },
        {
         "metadata": "{}",
         "name": "Bytes Transferred",
         "type": "\"double\""
        },
        {
         "metadata": "{}",
         "name": "Kali_Trace_Used",
         "type": "\"integer\""
        },
        {
         "metadata": "{}",
         "name": "Servers_Corrupted",
         "type": "\"double\""
        },
        {
         "metadata": "{}",
         "name": "Pages_Corrupted",
         "type": "\"double\""
        },
        {
         "metadata": "{}",
         "name": "Location",
         "type": "\"string\""
        },
        {
         "metadata": "{}",
         "name": "WPM_Typing_Speed",
         "type": "\"double\""
        },
        {
         "metadata": "{}",
         "name": "hack",
         "type": "\"integer\""
        }
       ],
       "type": "table"
      }
     },
     "output_type": "display_data"
    }
   ],
   "source": [
    "data.limit(5).display()"
   ]
  },
  {
   "cell_type": "code",
   "execution_count": 0,
   "metadata": {
    "application/vnd.databricks.v1+cell": {
     "cellMetadata": {
      "byteLimit": 2048000,
      "rowLimit": 10000
     },
     "inputWidgets": {},
     "nuid": "81a5e334-daa7-490b-809b-da873be914a4",
     "showTitle": false,
     "tableResultSettingsMap": {},
     "title": ""
    }
   },
   "outputs": [
    {
     "output_type": "stream",
     "name": "stdout",
     "output_type": "stream",
     "text": [
      "root\n |-- Session_Connection_Time: double (nullable = true)\n |-- Bytes Transferred: double (nullable = true)\n |-- Kali_Trace_Used: integer (nullable = true)\n |-- Servers_Corrupted: double (nullable = true)\n |-- Pages_Corrupted: double (nullable = true)\n |-- Location: string (nullable = true)\n |-- WPM_Typing_Speed: double (nullable = true)\n |-- hack: integer (nullable = true)\n\n"
     ]
    }
   ],
   "source": [
    "data.printSchema()"
   ]
  },
  {
   "cell_type": "code",
   "execution_count": 0,
   "metadata": {
    "application/vnd.databricks.v1+cell": {
     "cellMetadata": {
      "byteLimit": 2048000,
      "rowLimit": 10000
     },
     "inputWidgets": {},
     "nuid": "63f53969-d9b4-4b9a-abfa-72a498f2c38f",
     "showTitle": false,
     "tableResultSettingsMap": {},
     "title": ""
    }
   },
   "outputs": [
    {
     "output_type": "stream",
     "name": "stdout",
     "output_type": "stream",
     "text": [
      "+-----------------------+-----------------+---------------+-----------------+---------------+--------+----------------+----+\n|Session_Connection_Time|Bytes Transferred|Kali_Trace_Used|Servers_Corrupted|Pages_Corrupted|Location|WPM_Typing_Speed|hack|\n+-----------------------+-----------------+---------------+-----------------+---------------+--------+----------------+----+\n|                      0|                0|              0|                0|              0|       0|               0|   0|\n+-----------------------+-----------------+---------------+-----------------+---------------+--------+----------------+----+\n\n"
     ]
    }
   ],
   "source": [
    "# missing values\n",
    "from pyspark.sql.functions import col, sum as _sum\n",
    "\n",
    "missing_val = data.select([_sum(col(c).isNull().cast('int')).alias(c) for c in data.columns])\n",
    "missing_val.show()"
   ]
  },
  {
   "cell_type": "code",
   "execution_count": 0,
   "metadata": {
    "application/vnd.databricks.v1+cell": {
     "cellMetadata": {
      "byteLimit": 2048000,
      "rowLimit": 10000
     },
     "inputWidgets": {},
     "nuid": "936cc6fd-e511-495e-9e54-72c47ef34826",
     "showTitle": false,
     "tableResultSettingsMap": {},
     "title": ""
    }
   },
   "outputs": [
    {
     "output_type": "stream",
     "name": "stdout",
     "output_type": "stream",
     "text": [
      "+-----------------------+-----------------+---------------+-----------------+---------------+--------+----------------+----+\n|Session_Connection_Time|Bytes Transferred|Kali_Trace_Used|Servers_Corrupted|Pages_Corrupted|Location|WPM_Typing_Speed|hack|\n+-----------------------+-----------------+---------------+-----------------+---------------+--------+----------------+----+\n+-----------------------+-----------------+---------------+-----------------+---------------+--------+----------------+----+\n\n"
     ]
    }
   ],
   "source": [
    "# duplicates data\n",
    "dupliated = data.exceptAll(data.dropDuplicates())\n",
    "dupliated.show()"
   ]
  },
  {
   "cell_type": "code",
   "execution_count": 0,
   "metadata": {
    "application/vnd.databricks.v1+cell": {
     "cellMetadata": {
      "byteLimit": 2048000,
      "rowLimit": 10000
     },
     "inputWidgets": {},
     "nuid": "1f4accea-52cf-4a4a-8e8a-0359137ea586",
     "showTitle": false,
     "tableResultSettingsMap": {},
     "title": ""
    }
   },
   "outputs": [
    {
     "output_type": "stream",
     "name": "stdout",
     "output_type": "stream",
     "text": [
      "+----+-----+\n|hack|count|\n+----+-----+\n|   1|  167|\n|   0|  167|\n+----+-----+\n\n"
     ]
    }
   ],
   "source": [
    "data.groupBy('hack').count().show()"
   ]
  },
  {
   "cell_type": "code",
   "execution_count": 0,
   "metadata": {
    "application/vnd.databricks.v1+cell": {
     "cellMetadata": {
      "byteLimit": 2048000,
      "rowLimit": 10000
     },
     "inputWidgets": {},
     "nuid": "ca880cf3-5263-451a-947d-ffc652f5430b",
     "showTitle": false,
     "tableResultSettingsMap": {},
     "title": ""
    }
   },
   "outputs": [
    {
     "output_type": "execute_result",
     "data": {
      "text/plain": [
       "['Session_Connection_Time',\n",
       " 'Bytes Transferred',\n",
       " 'Kali_Trace_Used',\n",
       " 'Servers_Corrupted',\n",
       " 'Pages_Corrupted',\n",
       " 'Location',\n",
       " 'WPM_Typing_Speed',\n",
       " 'hack']"
      ]
     },
     "execution_count": 39,
     "metadata": {},
     "output_type": "execute_result"
    }
   ],
   "source": [
    "data.columns"
   ]
  },
  {
   "cell_type": "code",
   "execution_count": 0,
   "metadata": {
    "application/vnd.databricks.v1+cell": {
     "cellMetadata": {
      "byteLimit": 2048000,
      "rowLimit": 10000
     },
     "inputWidgets": {},
     "nuid": "833f9d1d-21f2-4328-9248-cad72b76c1a1",
     "showTitle": false,
     "tableResultSettingsMap": {},
     "title": ""
    }
   },
   "outputs": [
    {
     "output_type": "display_data",
     "data": {
      "text/html": [
       "<style scoped>\n",
       "  .table-result-container {\n",
       "    max-height: 300px;\n",
       "    overflow: auto;\n",
       "  }\n",
       "  table, th, td {\n",
       "    border: 1px solid black;\n",
       "    border-collapse: collapse;\n",
       "  }\n",
       "  th, td {\n",
       "    padding: 5px;\n",
       "  }\n",
       "  th {\n",
       "    text-align: left;\n",
       "  }\n",
       "</style><div class='table-result-container'><table class='table-result'><thead style='background-color: white'><tr><th>summary</th><th>Session_Connection_Time</th><th>Bytes Transferred</th><th>Kali_Trace_Used</th><th>Servers_Corrupted</th><th>Pages_Corrupted</th><th>WPM_Typing_Speed</th><th>hack</th></tr></thead><tbody><tr><td>count</td><td>334</td><td>334</td><td>334</td><td>334</td><td>334</td><td>334</td><td>334</td></tr><tr><td>mean</td><td>30.008982035928145</td><td>607.2452694610777</td><td>0.5119760479041916</td><td>5.258502994011977</td><td>10.838323353293413</td><td>57.342395209580864</td><td>0.5</td></tr><tr><td>stddev</td><td>14.088200614636158</td><td>286.33593163576757</td><td>0.5006065264451406</td><td>2.30190693339697</td><td>3.06352633036022</td><td>13.41106336843464</td><td>0.5007501879687625</td></tr><tr><td>min</td><td>1.0</td><td>10.0</td><td>0</td><td>1.0</td><td>6.0</td><td>40.0</td><td>0</td></tr><tr><td>max</td><td>60.0</td><td>1330.5</td><td>1</td><td>10.0</td><td>15.0</td><td>75.0</td><td>1</td></tr></tbody></table></div>"
      ]
     },
     "metadata": {
      "application/vnd.databricks.v1+output": {
       "addedWidgets": {},
       "aggData": [],
       "aggError": "",
       "aggOverflow": false,
       "aggSchema": [],
       "aggSeriesLimitReached": false,
       "aggType": "",
       "arguments": {},
       "columnCustomDisplayInfos": {},
       "data": [
        [
         "count",
         "334",
         "334",
         "334",
         "334",
         "334",
         "334",
         "334"
        ],
        [
         "mean",
         "30.008982035928145",
         "607.2452694610777",
         "0.5119760479041916",
         "5.258502994011977",
         "10.838323353293413",
         "57.342395209580864",
         "0.5"
        ],
        [
         "stddev",
         "14.088200614636158",
         "286.33593163576757",
         "0.5006065264451406",
         "2.30190693339697",
         "3.06352633036022",
         "13.41106336843464",
         "0.5007501879687625"
        ],
        [
         "min",
         "1.0",
         "10.0",
         "0",
         "1.0",
         "6.0",
         "40.0",
         "0"
        ],
        [
         "max",
         "60.0",
         "1330.5",
         "1",
         "10.0",
         "15.0",
         "75.0",
         "1"
        ]
       ],
       "datasetInfos": [],
       "dbfsResultPath": null,
       "isJsonSchema": true,
       "metadata": {},
       "overflow": false,
       "plotOptions": {
        "customPlotOptions": {},
        "displayType": "table",
        "pivotAggregation": null,
        "pivotColumns": null,
        "xColumns": null,
        "yColumns": null
       },
       "removedWidgets": [],
       "schema": [
        {
         "metadata": "{}",
         "name": "summary",
         "type": "\"string\""
        },
        {
         "metadata": "{}",
         "name": "Session_Connection_Time",
         "type": "\"string\""
        },
        {
         "metadata": "{}",
         "name": "Bytes Transferred",
         "type": "\"string\""
        },
        {
         "metadata": "{}",
         "name": "Kali_Trace_Used",
         "type": "\"string\""
        },
        {
         "metadata": "{}",
         "name": "Servers_Corrupted",
         "type": "\"string\""
        },
        {
         "metadata": "{}",
         "name": "Pages_Corrupted",
         "type": "\"string\""
        },
        {
         "metadata": "{}",
         "name": "WPM_Typing_Speed",
         "type": "\"string\""
        },
        {
         "metadata": "{}",
         "name": "hack",
         "type": "\"string\""
        }
       ],
       "type": "table"
      }
     },
     "output_type": "display_data"
    }
   ],
   "source": [
    "data.select(['Session_Connection_Time', 'Bytes Transferred', 'Kali_Trace_Used',\n",
    "              'Servers_Corrupted', 'Pages_Corrupted', 'WPM_Typing_Speed', 'hack']).describe().display()"
   ]
  },
  {
   "cell_type": "markdown",
   "metadata": {
    "application/vnd.databricks.v1+cell": {
     "cellMetadata": {
      "byteLimit": 2048000,
      "rowLimit": 10000
     },
     "inputWidgets": {},
     "nuid": "068297dd-d559-4da6-a96e-eafabc4db321",
     "showTitle": false,
     "tableResultSettingsMap": {},
     "title": ""
    }
   },
   "source": [
    "## Format for MLlib"
   ]
  },
  {
   "cell_type": "code",
   "execution_count": 0,
   "metadata": {
    "application/vnd.databricks.v1+cell": {
     "cellMetadata": {
      "byteLimit": 2048000,
      "rowLimit": 10000
     },
     "inputWidgets": {},
     "nuid": "99c9071c-fd84-4303-8d76-303082be0711",
     "showTitle": false,
     "tableResultSettingsMap": {},
     "title": ""
    }
   },
   "outputs": [],
   "source": [
    "from pyspark.ml.feature import VectorAssembler"
   ]
  },
  {
   "cell_type": "code",
   "execution_count": 0,
   "metadata": {
    "application/vnd.databricks.v1+cell": {
     "cellMetadata": {
      "byteLimit": 2048000,
      "rowLimit": 10000
     },
     "inputWidgets": {},
     "nuid": "ee7a919c-c138-4fa1-af0a-b0b1adfbe7e8",
     "showTitle": false,
     "tableResultSettingsMap": {},
     "title": ""
    }
   },
   "outputs": [],
   "source": [
    "assembler= VectorAssembler(inputCols= ['Session_Connection_Time', 'Bytes Transferred',\n",
    "                                       'Kali_Trace_Used', 'Servers_Corrupted', 'Pages_Corrupted',\n",
    "                                        'WPM_Typing_Speed', 'hack'], \n",
    "                           outputCol='features')"
   ]
  },
  {
   "cell_type": "code",
   "execution_count": 0,
   "metadata": {
    "application/vnd.databricks.v1+cell": {
     "cellMetadata": {
      "byteLimit": 2048000,
      "rowLimit": 10000
     },
     "inputWidgets": {},
     "nuid": "6ed08f4c-cf7a-487e-919e-050e9d88b9e2",
     "showTitle": false,
     "tableResultSettingsMap": {},
     "title": ""
    }
   },
   "outputs": [],
   "source": [
    "output = assembler.transform(data)"
   ]
  },
  {
   "cell_type": "markdown",
   "metadata": {
    "application/vnd.databricks.v1+cell": {
     "cellMetadata": {
      "byteLimit": 2048000,
      "rowLimit": 10000
     },
     "inputWidgets": {},
     "nuid": "746ac3eb-5513-4c15-965e-f962ae7f80dc",
     "showTitle": false,
     "tableResultSettingsMap": {},
     "title": ""
    }
   },
   "source": [
    "## Standard Scaler"
   ]
  },
  {
   "cell_type": "code",
   "execution_count": 0,
   "metadata": {
    "application/vnd.databricks.v1+cell": {
     "cellMetadata": {
      "byteLimit": 2048000,
      "rowLimit": 10000
     },
     "inputWidgets": {},
     "nuid": "d4290250-d7df-45b9-905a-5acd7af1e451",
     "showTitle": false,
     "tableResultSettingsMap": {},
     "title": ""
    }
   },
   "outputs": [],
   "source": [
    "from pyspark.ml.feature import StandardScaler"
   ]
  },
  {
   "cell_type": "code",
   "execution_count": 0,
   "metadata": {
    "application/vnd.databricks.v1+cell": {
     "cellMetadata": {
      "byteLimit": 2048000,
      "rowLimit": 10000
     },
     "inputWidgets": {},
     "nuid": "259d1e92-5dec-4400-bcad-076fdb2c653f",
     "showTitle": false,
     "tableResultSettingsMap": {},
     "title": ""
    }
   },
   "outputs": [],
   "source": [
    "scaler = StandardScaler(inputCol='features', outputCol='scalerfeatures', withStd= True, withMean=False)"
   ]
  },
  {
   "cell_type": "code",
   "execution_count": 0,
   "metadata": {
    "application/vnd.databricks.v1+cell": {
     "cellMetadata": {
      "byteLimit": 2048000,
      "rowLimit": 10000
     },
     "inputWidgets": {},
     "nuid": "fd7e58ea-287b-4d8e-9578-e089c47a7ab2",
     "showTitle": false,
     "tableResultSettingsMap": {},
     "title": ""
    }
   },
   "outputs": [],
   "source": [
    "final_data = scaler.fit(output).transform(output)"
   ]
  },
  {
   "cell_type": "code",
   "execution_count": 0,
   "metadata": {
    "application/vnd.databricks.v1+cell": {
     "cellMetadata": {
      "byteLimit": 2048000,
      "rowLimit": 10000
     },
     "inputWidgets": {},
     "nuid": "ffc1625d-7375-4d6e-b433-6295d26783fb",
     "showTitle": false,
     "tableResultSettingsMap": {},
     "title": ""
    }
   },
   "outputs": [
    {
     "output_type": "display_data",
     "data": {
      "text/html": [
       "<style scoped>\n",
       "  .table-result-container {\n",
       "    max-height: 300px;\n",
       "    overflow: auto;\n",
       "  }\n",
       "  table, th, td {\n",
       "    border: 1px solid black;\n",
       "    border-collapse: collapse;\n",
       "  }\n",
       "  th, td {\n",
       "    padding: 5px;\n",
       "  }\n",
       "  th {\n",
       "    text-align: left;\n",
       "  }\n",
       "</style><div class='table-result-container'><table class='table-result'><thead style='background-color: white'><tr><th>Session_Connection_Time</th><th>Bytes Transferred</th><th>Kali_Trace_Used</th><th>Servers_Corrupted</th><th>Pages_Corrupted</th><th>Location</th><th>WPM_Typing_Speed</th><th>hack</th><th>features</th><th>scalerfeatures</th></tr></thead><tbody><tr><td>8.0</td><td>391.09</td><td>1</td><td>2.96</td><td>7.0</td><td>Slovenia</td><td>72.37</td><td>1</td><td>Map(vectorType -> dense, length -> 7, values -> List(8.0, 391.09, 1.0, 2.96, 7.0, 72.37, 1.0))</td><td>Map(vectorType -> dense, length -> 7, values -> List(0.5678510846650524, 1.3658432518957642, 1.9975768336483841, 1.2858903881191532, 2.2849485348398866, 5.396290958577967, 1.9970037436359023))</td></tr><tr><td>20.0</td><td>720.99</td><td>0</td><td>3.04</td><td>9.0</td><td>British Virgin Islands</td><td>69.08</td><td>1</td><td>Map(vectorType -> dense, length -> 7, values -> List(20.0, 720.99, 0.0, 3.04, 9.0, 69.08, 1.0))</td><td>Map(vectorType -> dense, length -> 7, values -> List(1.419627711662631, 2.517986463945197, 0.0, 1.320644182392644, 2.9377909733655687, 5.150971112595909, 1.9970037436359023))</td></tr><tr><td>31.0</td><td>356.32</td><td>1</td><td>3.71</td><td>8.0</td><td>Tokelau</td><td>70.58</td><td>1</td><td>Map(vectorType -> dense, length -> 7, values -> List(31.0, 356.32, 1.0, 3.71, 8.0, 70.58, 1.0))</td><td>Map(vectorType -> dense, length -> 7, values -> List(2.2004229530770782, 1.2444124562517545, 1.9975768336483841, 1.611707209433128, 2.6113697541027276, 5.262819066691072, 1.9970037436359023))</td></tr><tr><td>2.0</td><td>228.08</td><td>1</td><td>2.48</td><td>8.0</td><td>Bolivia</td><td>70.8</td><td>1</td><td>Map(vectorType -> dense, length -> 7, values -> List(2.0, 228.08, 1.0, 2.48, 8.0, 70.8, 1.0))</td><td>Map(vectorType -> dense, length -> 7, values -> List(0.1419627711662631, 0.7965469045293562, 1.9975768336483841, 1.0773676224782096, 2.6113697541027276, 5.279223433291696, 1.9970037436359023))</td></tr><tr><td>20.0</td><td>408.5</td><td>0</td><td>3.57</td><td>8.0</td><td>Iraq</td><td>71.28</td><td>1</td><td>Map(vectorType -> dense, length -> 7, values -> List(20.0, 408.5, 0.0, 3.57, 8.0, 71.28, 1.0))</td><td>Map(vectorType -> dense, length -> 7, values -> List(1.419627711662631, 1.4266459597520256, 0.0, 1.5508880694545193, 2.6113697541027276, 5.315014778602148, 1.9970037436359023))</td></tr></tbody></table></div>"
      ]
     },
     "metadata": {
      "application/vnd.databricks.v1+output": {
       "addedWidgets": {},
       "aggData": [],
       "aggError": "",
       "aggOverflow": false,
       "aggSchema": [],
       "aggSeriesLimitReached": false,
       "aggType": "",
       "arguments": {},
       "columnCustomDisplayInfos": {},
       "data": [
        [
         8.0,
         391.09,
         1,
         2.96,
         7.0,
         "Slovenia",
         72.37,
         1,
         {
          "length": 7,
          "values": [
           8.0,
           391.09,
           1.0,
           2.96,
           7.0,
           72.37,
           1.0
          ],
          "vectorType": "dense"
         },
         {
          "length": 7,
          "values": [
           0.5678510846650524,
           1.3658432518957642,
           1.9975768336483841,
           1.2858903881191532,
           2.2849485348398866,
           5.396290958577967,
           1.9970037436359023
          ],
          "vectorType": "dense"
         }
        ],
        [
         20.0,
         720.99,
         0,
         3.04,
         9.0,
         "British Virgin Islands",
         69.08,
         1,
         {
          "length": 7,
          "values": [
           20.0,
           720.99,
           0.0,
           3.04,
           9.0,
           69.08,
           1.0
          ],
          "vectorType": "dense"
         },
         {
          "length": 7,
          "values": [
           1.419627711662631,
           2.517986463945197,
           0.0,
           1.320644182392644,
           2.9377909733655687,
           5.150971112595909,
           1.9970037436359023
          ],
          "vectorType": "dense"
         }
        ],
        [
         31.0,
         356.32,
         1,
         3.71,
         8.0,
         "Tokelau",
         70.58,
         1,
         {
          "length": 7,
          "values": [
           31.0,
           356.32,
           1.0,
           3.71,
           8.0,
           70.58,
           1.0
          ],
          "vectorType": "dense"
         },
         {
          "length": 7,
          "values": [
           2.2004229530770782,
           1.2444124562517545,
           1.9975768336483841,
           1.611707209433128,
           2.6113697541027276,
           5.262819066691072,
           1.9970037436359023
          ],
          "vectorType": "dense"
         }
        ],
        [
         2.0,
         228.08,
         1,
         2.48,
         8.0,
         "Bolivia",
         70.8,
         1,
         {
          "length": 7,
          "values": [
           2.0,
           228.08,
           1.0,
           2.48,
           8.0,
           70.8,
           1.0
          ],
          "vectorType": "dense"
         },
         {
          "length": 7,
          "values": [
           0.1419627711662631,
           0.7965469045293562,
           1.9975768336483841,
           1.0773676224782096,
           2.6113697541027276,
           5.279223433291696,
           1.9970037436359023
          ],
          "vectorType": "dense"
         }
        ],
        [
         20.0,
         408.5,
         0,
         3.57,
         8.0,
         "Iraq",
         71.28,
         1,
         {
          "length": 7,
          "values": [
           20.0,
           408.5,
           0.0,
           3.57,
           8.0,
           71.28,
           1.0
          ],
          "vectorType": "dense"
         },
         {
          "length": 7,
          "values": [
           1.419627711662631,
           1.4266459597520256,
           0.0,
           1.5508880694545193,
           2.6113697541027276,
           5.315014778602148,
           1.9970037436359023
          ],
          "vectorType": "dense"
         }
        ]
       ],
       "datasetInfos": [],
       "dbfsResultPath": null,
       "isJsonSchema": true,
       "metadata": {},
       "overflow": false,
       "plotOptions": {
        "customPlotOptions": {},
        "displayType": "table",
        "pivotAggregation": null,
        "pivotColumns": null,
        "xColumns": null,
        "yColumns": null
       },
       "removedWidgets": [],
       "schema": [
        {
         "metadata": "{}",
         "name": "Session_Connection_Time",
         "type": "\"double\""
        },
        {
         "metadata": "{}",
         "name": "Bytes Transferred",
         "type": "\"double\""
        },
        {
         "metadata": "{}",
         "name": "Kali_Trace_Used",
         "type": "\"integer\""
        },
        {
         "metadata": "{}",
         "name": "Servers_Corrupted",
         "type": "\"double\""
        },
        {
         "metadata": "{}",
         "name": "Pages_Corrupted",
         "type": "\"double\""
        },
        {
         "metadata": "{}",
         "name": "Location",
         "type": "\"string\""
        },
        {
         "metadata": "{}",
         "name": "WPM_Typing_Speed",
         "type": "\"double\""
        },
        {
         "metadata": "{}",
         "name": "hack",
         "type": "\"integer\""
        },
        {
         "metadata": "{\"ml_attr\":{\"attrs\":{\"numeric\":[{\"idx\":0,\"name\":\"Session_Connection_Time\"},{\"idx\":1,\"name\":\"Bytes Transferred\"},{\"idx\":2,\"name\":\"Kali_Trace_Used\"},{\"idx\":3,\"name\":\"Servers_Corrupted\"},{\"idx\":4,\"name\":\"Pages_Corrupted\"},{\"idx\":5,\"name\":\"WPM_Typing_Speed\"},{\"idx\":6,\"name\":\"hack\"}]},\"num_attrs\":7}}",
         "name": "features",
         "type": "{\"type\":\"udt\",\"class\":\"org.apache.spark.ml.linalg.VectorUDT\",\"pyClass\":\"pyspark.ml.linalg.VectorUDT\",\"sqlType\":{\"type\":\"struct\",\"fields\":[{\"name\":\"type\",\"type\":\"byte\",\"nullable\":false,\"metadata\":{}},{\"name\":\"size\",\"type\":\"integer\",\"nullable\":true,\"metadata\":{}},{\"name\":\"indices\",\"type\":{\"type\":\"array\",\"elementType\":\"integer\",\"containsNull\":false},\"nullable\":true,\"metadata\":{}},{\"name\":\"values\",\"type\":{\"type\":\"array\",\"elementType\":\"double\",\"containsNull\":false},\"nullable\":true,\"metadata\":{}}]}}"
        },
        {
         "metadata": "{\"ml_attr\":{\"num_attrs\":7}}",
         "name": "scalerfeatures",
         "type": "{\"type\":\"udt\",\"class\":\"org.apache.spark.ml.linalg.VectorUDT\",\"pyClass\":\"pyspark.ml.linalg.VectorUDT\",\"sqlType\":{\"type\":\"struct\",\"fields\":[{\"name\":\"type\",\"type\":\"byte\",\"nullable\":false,\"metadata\":{}},{\"name\":\"size\",\"type\":\"integer\",\"nullable\":true,\"metadata\":{}},{\"name\":\"indices\",\"type\":{\"type\":\"array\",\"elementType\":\"integer\",\"containsNull\":false},\"nullable\":true,\"metadata\":{}},{\"name\":\"values\",\"type\":{\"type\":\"array\",\"elementType\":\"double\",\"containsNull\":false},\"nullable\":true,\"metadata\":{}}]}}"
        }
       ],
       "type": "table"
      }
     },
     "output_type": "display_data"
    }
   ],
   "source": [
    "final_data.limit(5).display()"
   ]
  },
  {
   "cell_type": "markdown",
   "metadata": {
    "application/vnd.databricks.v1+cell": {
     "cellMetadata": {
      "byteLimit": 2048000,
      "rowLimit": 10000
     },
     "inputWidgets": {},
     "nuid": "c604b460-05e0-49b9-879b-4d136f644d72",
     "showTitle": false,
     "tableResultSettingsMap": {},
     "title": ""
    }
   },
   "source": [
    "## Model Cluster KMeans"
   ]
  },
  {
   "cell_type": "code",
   "execution_count": 0,
   "metadata": {
    "application/vnd.databricks.v1+cell": {
     "cellMetadata": {
      "byteLimit": 2048000,
      "rowLimit": 10000
     },
     "inputWidgets": {},
     "nuid": "853be527-b061-432c-9924-fd6b2465fca8",
     "showTitle": false,
     "tableResultSettingsMap": {},
     "title": ""
    }
   },
   "outputs": [],
   "source": [
    "from pyspark.ml.clustering import KMeans\n",
    "from pyspark.ml.evaluation import ClusteringEvaluator"
   ]
  },
  {
   "cell_type": "code",
   "execution_count": 0,
   "metadata": {
    "application/vnd.databricks.v1+cell": {
     "cellMetadata": {
      "byteLimit": 2048000,
      "rowLimit": 10000
     },
     "inputWidgets": {},
     "nuid": "ced99fcd-af9e-4249-94bb-228850a2248b",
     "showTitle": false,
     "tableResultSettingsMap": {},
     "title": ""
    }
   },
   "outputs": [],
   "source": [
    "kmean2 = KMeans(featuresCol='scalerfeatures', k= 2)\n",
    "kmean3 = KMeans(featuresCol='scalerfeatures', k= 3)"
   ]
  },
  {
   "cell_type": "code",
   "execution_count": 0,
   "metadata": {
    "application/vnd.databricks.v1+cell": {
     "cellMetadata": {
      "byteLimit": 2048000,
      "rowLimit": 10000
     },
     "inputWidgets": {},
     "nuid": "00f2747a-ed2e-4366-8e61-29a35f6c6b09",
     "showTitle": false,
     "tableResultSettingsMap": {},
     "title": ""
    }
   },
   "outputs": [],
   "source": [
    "model_k2 = kmean2.fit(final_data)\n",
    "model_k3 = kmean3.fit(final_data)"
   ]
  },
  {
   "cell_type": "code",
   "execution_count": 0,
   "metadata": {
    "application/vnd.databricks.v1+cell": {
     "cellMetadata": {
      "byteLimit": 2048000,
      "rowLimit": 10000
     },
     "inputWidgets": {},
     "nuid": "92bf2e29-ee90-44c2-a8b8-cd5fa79a8763",
     "showTitle": false,
     "tableResultSettingsMap": {},
     "title": ""
    }
   },
   "outputs": [],
   "source": [
    "prediction_k2 = model_k2.transform(final_data)\n",
    "prediction_k3 = model_k3.transform(final_data)"
   ]
  },
  {
   "cell_type": "code",
   "execution_count": 0,
   "metadata": {
    "application/vnd.databricks.v1+cell": {
     "cellMetadata": {
      "byteLimit": 2048000,
      "rowLimit": 10000
     },
     "inputWidgets": {},
     "nuid": "88d583e5-7a61-4b2d-9eeb-2b56cfa1ea04",
     "showTitle": false,
     "tableResultSettingsMap": {},
     "title": ""
    }
   },
   "outputs": [
    {
     "output_type": "stream",
     "name": "stdout",
     "output_type": "stream",
     "text": [
      "with k = 2\nwith Shilouette score = 0.6683642300696484\n****************************************************************************************************\nwith k = 3\nwith Shilouette score = 0.3068099738784494\n"
     ]
    }
   ],
   "source": [
    "cluster_eval = ClusteringEvaluator()\n",
    "silhouette_k2 = cluster_eval.evaluate(prediction_k2)\n",
    "sillouette_k3 = cluster_eval.evaluate(prediction_k3)\n",
    "\n",
    "print('with k = 2')\n",
    "print(f'with Shilouette score = {silhouette_k2}')\n",
    "print('*' * 100)\n",
    "print('with k = 3')\n",
    "print(f'with Shilouette score = {sillouette_k3}')"
   ]
  },
  {
   "cell_type": "markdown",
   "metadata": {
    "application/vnd.databricks.v1+cell": {
     "cellMetadata": {
      "byteLimit": 2048000,
      "rowLimit": 10000
     },
     "inputWidgets": {},
     "nuid": "9bd3d86d-64f9-4ca6-ba99-882f045a429c",
     "showTitle": false,
     "tableResultSettingsMap": {},
     "title": ""
    }
   },
   "source": [
    "## Looking for k values, use the best score : Silhouette Score"
   ]
  },
  {
   "cell_type": "code",
   "execution_count": 0,
   "metadata": {
    "application/vnd.databricks.v1+cell": {
     "cellMetadata": {
      "byteLimit": 2048000,
      "rowLimit": 10000
     },
     "inputWidgets": {},
     "nuid": "baefd51f-bdd4-40b9-ba90-a07cfc40db1c",
     "showTitle": false,
     "tableResultSettingsMap": {},
     "title": ""
    }
   },
   "outputs": [
    {
     "output_type": "stream",
     "name": "stdout",
     "output_type": "stream",
     "text": [
      "K : 2, Shilhouette score : 0.6683642300696484\n****************************************************************************************************\nK : 3, Shilhouette score : 0.3068099738784494\n****************************************************************************************************\nK : 4, Shilhouette score : -0.04792790081154923\n****************************************************************************************************\nK : 5, Shilhouette score : -0.1021952281772995\n****************************************************************************************************\nK : 6, Shilhouette score : -0.14728076778236637\n****************************************************************************************************\nK : 7, Shilhouette score : -0.16032261356804753\n****************************************************************************************************\nK : 8, Shilhouette score : -0.16306777526764035\n****************************************************************************************************\nK : 9, Shilhouette score : -0.13968672406066499\n****************************************************************************************************\nK : 10, Shilhouette score : -0.16982875282332635\n****************************************************************************************************\n"
     ]
    }
   ],
   "source": [
    "silhouette_score = []\n",
    "k_values = range(2,11)\n",
    "\n",
    "for k in k_values:\n",
    "  kmeans = KMeans(featuresCol='scalerfeatures').setK(k)\n",
    "  model = kmeans.fit(final_data)\n",
    "  predict = model.transform(final_data)\n",
    "\n",
    "  evaluateCluster = ClusteringEvaluator()\n",
    "  silhouette = evaluateCluster.evaluate(predict)\n",
    "  silhouette_score.append(silhouette)\n",
    "  print(f'K : {k}, Shilhouette score : {silhouette}')\n",
    "  print('*' * 100)"
   ]
  },
  {
   "cell_type": "code",
   "execution_count": 0,
   "metadata": {
    "application/vnd.databricks.v1+cell": {
     "cellMetadata": {
      "byteLimit": 2048000,
      "rowLimit": 10000
     },
     "inputWidgets": {},
     "nuid": "4b0052e5-058d-4f16-8643-e5fc7d6cfc90",
     "showTitle": false,
     "tableResultSettingsMap": {},
     "title": ""
    }
   },
   "outputs": [
    {
     "output_type": "stream",
     "name": "stdout",
     "output_type": "stream",
     "text": [
      "+----------+-----+\n|prediction|count|\n+----------+-----+\n|         1|   83|\n|         2|   84|\n|         0|  167|\n+----------+-----+\n\n"
     ]
    }
   ],
   "source": [
    "model_k3.transform(final_data).groupBy('prediction').count().show()"
   ]
  },
  {
   "cell_type": "code",
   "execution_count": 0,
   "metadata": {
    "application/vnd.databricks.v1+cell": {
     "cellMetadata": {
      "byteLimit": 2048000,
      "rowLimit": 10000
     },
     "inputWidgets": {},
     "nuid": "bdc4c0a5-9faa-43f4-8b8f-d5fe88dbcda2",
     "showTitle": false,
     "tableResultSettingsMap": {},
     "title": ""
    }
   },
   "outputs": [
    {
     "output_type": "stream",
     "name": "stdout",
     "output_type": "stream",
     "text": [
      "+----------+-----+\n|prediction|count|\n+----------+-----+\n|         1|  167|\n|         0|  167|\n+----------+-----+\n\n"
     ]
    }
   ],
   "source": [
    "model_k2.transform(final_data).groupBy('prediction').count().show()"
   ]
  },
  {
   "cell_type": "markdown",
   "metadata": {
    "application/vnd.databricks.v1+cell": {
     "cellMetadata": {
      "byteLimit": 2048000,
      "rowLimit": 10000
     },
     "inputWidgets": {},
     "nuid": "46e37df9-81fa-486a-8146-f1c1ba039b60",
     "showTitle": false,
     "tableResultSettingsMap": {},
     "title": ""
    }
   },
   "source": [
    "Bingo! It was 2 hackers, in fact, our clustering algorithm created two equally sized clusters with K=2, no way that is a coincidence!\n",
    "## Great Job!"
   ]
  }
 ],
 "metadata": {
  "application/vnd.databricks.v1+notebook": {
   "dashboards": [],
   "environmentMetadata": null,
   "language": "python",
   "notebookMetadata": {
    "pythonIndentUnit": 2
   },
   "notebookName": "01- Hacker Clustering",
   "widgets": {}
  }
 },
 "nbformat": 4,
 "nbformat_minor": 0
}
