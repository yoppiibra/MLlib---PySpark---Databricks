{
 "cells": [
  {
   "cell_type": "markdown",
   "metadata": {
    "application/vnd.databricks.v1+cell": {
     "cellMetadata": {},
     "inputWidgets": {},
     "nuid": "555ae69b-b276-4931-81de-dff03a0c7154",
     "showTitle": false,
     "tableResultSettingsMap": {},
     "title": ""
    }
   },
   "source": [
    "## Tree Method \n",
    "* single decision tree\n",
    "* random forest\n",
    "* gradient boosting tree\n",
    "\n",
    "\n",
    "### We will be using a college dataset to try to classify colleges as Private or Public based off these features:\n",
    "\n",
    "* Private A factor with levels No and Yes indicating private or public university\n",
    "* Apps Number of applications received\n",
    "* Accept Number of applications accepted\n",
    "* Enroll Number of new students enrolled\n",
    "* Top10perc Pct. new students from top 10% of H.S. class\n",
    "* Top25perc Pct. new students from top 25% of H.S. class\n",
    "* F.Undergrad Number of fulltime undergraduates\n",
    "* P.Undergrad Number of parttime undergraduates\n",
    "* Outstate Out-of-state tuition\n",
    "* Room.Board Room and board costs\n",
    "* Books Estimated book costs\n",
    "* Personal Estimated personal spending\n",
    "* PhD Pct. of faculty with Ph.D.’s\n",
    "* Terminal Pct. of faculty with terminal degree\n",
    "* S.F.Ratio Student/faculty ratio\n",
    "* perc.alumni Pct. alumni who donate\n",
    "* Expend Instructional expenditure per student\n",
    "* Grad.Rate Graduation rate"
   ]
  },
  {
   "cell_type": "code",
   "execution_count": 0,
   "metadata": {
    "application/vnd.databricks.v1+cell": {
     "cellMetadata": {
      "byteLimit": 2048000,
      "rowLimit": 10000
     },
     "inputWidgets": {},
     "nuid": "a77dee20-5289-4dfb-9670-002d5ea850d2",
     "showTitle": false,
     "tableResultSettingsMap": {},
     "title": ""
    }
   },
   "outputs": [],
   "source": [
    "from pyspark.sql import SparkSession"
   ]
  },
  {
   "cell_type": "code",
   "execution_count": 0,
   "metadata": {
    "application/vnd.databricks.v1+cell": {
     "cellMetadata": {
      "byteLimit": 2048000,
      "rowLimit": 10000
     },
     "inputWidgets": {},
     "nuid": "f5e4e60e-af5d-4219-a07e-16fd91193941",
     "showTitle": false,
     "tableResultSettingsMap": {},
     "title": ""
    }
   },
   "outputs": [],
   "source": [
    "spark = SparkSession.builder.appName('collage').getOrCreate()"
   ]
  },
  {
   "cell_type": "code",
   "execution_count": 0,
   "metadata": {
    "application/vnd.databricks.v1+cell": {
     "cellMetadata": {
      "byteLimit": 2048000,
      "rowLimit": 10000
     },
     "inputWidgets": {},
     "nuid": "63852146-f604-498a-94fa-56a6e2e3f186",
     "showTitle": false,
     "tableResultSettingsMap": {},
     "title": ""
    }
   },
   "outputs": [],
   "source": [
    "data = spark.read.csv('dbfs:/FileStore/College.csv', inferSchema=True, header=True)"
   ]
  },
  {
   "cell_type": "code",
   "execution_count": 0,
   "metadata": {
    "application/vnd.databricks.v1+cell": {
     "cellMetadata": {
      "byteLimit": 2048000,
      "rowLimit": 10000
     },
     "inputWidgets": {},
     "nuid": "4138c285-2bfc-4830-b88b-8c1a513a25e2",
     "showTitle": false,
     "tableResultSettingsMap": {},
     "title": ""
    }
   },
   "outputs": [
    {
     "output_type": "display_data",
     "data": {
      "text/html": [
       "<style scoped>\n",
       "  .table-result-container {\n",
       "    max-height: 300px;\n",
       "    overflow: auto;\n",
       "  }\n",
       "  table, th, td {\n",
       "    border: 1px solid black;\n",
       "    border-collapse: collapse;\n",
       "  }\n",
       "  th, td {\n",
       "    padding: 5px;\n",
       "  }\n",
       "  th {\n",
       "    text-align: left;\n",
       "  }\n",
       "</style><div class='table-result-container'><table class='table-result'><thead style='background-color: white'><tr><th>School</th><th>Private</th><th>Apps</th><th>Accept</th><th>Enroll</th><th>Top10perc</th><th>Top25perc</th><th>F_Undergrad</th><th>P_Undergrad</th><th>Outstate</th><th>Room_Board</th><th>Books</th><th>Personal</th><th>PhD</th><th>Terminal</th><th>S_F_Ratio</th><th>perc_alumni</th><th>Expend</th><th>Grad_Rate</th></tr></thead><tbody><tr><td>Abilene Christian University</td><td>Yes</td><td>1660</td><td>1232</td><td>721</td><td>23</td><td>52</td><td>2885</td><td>537</td><td>7440</td><td>3300</td><td>450</td><td>2200</td><td>70</td><td>78</td><td>18.1</td><td>12</td><td>7041</td><td>60</td></tr><tr><td>Adelphi University</td><td>Yes</td><td>2186</td><td>1924</td><td>512</td><td>16</td><td>29</td><td>2683</td><td>1227</td><td>12280</td><td>6450</td><td>750</td><td>1500</td><td>29</td><td>30</td><td>12.2</td><td>16</td><td>10527</td><td>56</td></tr><tr><td>Adrian College</td><td>Yes</td><td>1428</td><td>1097</td><td>336</td><td>22</td><td>50</td><td>1036</td><td>99</td><td>11250</td><td>3750</td><td>400</td><td>1165</td><td>53</td><td>66</td><td>12.9</td><td>30</td><td>8735</td><td>54</td></tr><tr><td>Agnes Scott College</td><td>Yes</td><td>417</td><td>349</td><td>137</td><td>60</td><td>89</td><td>510</td><td>63</td><td>12960</td><td>5450</td><td>450</td><td>875</td><td>92</td><td>97</td><td>7.7</td><td>37</td><td>19016</td><td>59</td></tr><tr><td>Alaska Pacific University</td><td>Yes</td><td>193</td><td>146</td><td>55</td><td>16</td><td>44</td><td>249</td><td>869</td><td>7560</td><td>4120</td><td>800</td><td>1500</td><td>76</td><td>72</td><td>11.9</td><td>2</td><td>10922</td><td>15</td></tr></tbody></table></div>"
      ]
     },
     "metadata": {
      "application/vnd.databricks.v1+output": {
       "addedWidgets": {},
       "aggData": [],
       "aggError": "",
       "aggOverflow": false,
       "aggSchema": [],
       "aggSeriesLimitReached": false,
       "aggType": "",
       "arguments": {},
       "columnCustomDisplayInfos": {},
       "data": [
        [
         "Abilene Christian University",
         "Yes",
         1660,
         1232,
         721,
         23,
         52,
         2885,
         537,
         7440,
         3300,
         450,
         2200,
         70,
         78,
         18.1,
         12,
         7041,
         60
        ],
        [
         "Adelphi University",
         "Yes",
         2186,
         1924,
         512,
         16,
         29,
         2683,
         1227,
         12280,
         6450,
         750,
         1500,
         29,
         30,
         12.2,
         16,
         10527,
         56
        ],
        [
         "Adrian College",
         "Yes",
         1428,
         1097,
         336,
         22,
         50,
         1036,
         99,
         11250,
         3750,
         400,
         1165,
         53,
         66,
         12.9,
         30,
         8735,
         54
        ],
        [
         "Agnes Scott College",
         "Yes",
         417,
         349,
         137,
         60,
         89,
         510,
         63,
         12960,
         5450,
         450,
         875,
         92,
         97,
         7.7,
         37,
         19016,
         59
        ],
        [
         "Alaska Pacific University",
         "Yes",
         193,
         146,
         55,
         16,
         44,
         249,
         869,
         7560,
         4120,
         800,
         1500,
         76,
         72,
         11.9,
         2,
         10922,
         15
        ]
       ],
       "datasetInfos": [],
       "dbfsResultPath": null,
       "isJsonSchema": true,
       "metadata": {},
       "overflow": false,
       "plotOptions": {
        "customPlotOptions": {},
        "displayType": "table",
        "pivotAggregation": null,
        "pivotColumns": null,
        "xColumns": null,
        "yColumns": null
       },
       "removedWidgets": [],
       "schema": [
        {
         "metadata": "{}",
         "name": "School",
         "type": "\"string\""
        },
        {
         "metadata": "{}",
         "name": "Private",
         "type": "\"string\""
        },
        {
         "metadata": "{}",
         "name": "Apps",
         "type": "\"integer\""
        },
        {
         "metadata": "{}",
         "name": "Accept",
         "type": "\"integer\""
        },
        {
         "metadata": "{}",
         "name": "Enroll",
         "type": "\"integer\""
        },
        {
         "metadata": "{}",
         "name": "Top10perc",
         "type": "\"integer\""
        },
        {
         "metadata": "{}",
         "name": "Top25perc",
         "type": "\"integer\""
        },
        {
         "metadata": "{}",
         "name": "F_Undergrad",
         "type": "\"integer\""
        },
        {
         "metadata": "{}",
         "name": "P_Undergrad",
         "type": "\"integer\""
        },
        {
         "metadata": "{}",
         "name": "Outstate",
         "type": "\"integer\""
        },
        {
         "metadata": "{}",
         "name": "Room_Board",
         "type": "\"integer\""
        },
        {
         "metadata": "{}",
         "name": "Books",
         "type": "\"integer\""
        },
        {
         "metadata": "{}",
         "name": "Personal",
         "type": "\"integer\""
        },
        {
         "metadata": "{}",
         "name": "PhD",
         "type": "\"integer\""
        },
        {
         "metadata": "{}",
         "name": "Terminal",
         "type": "\"integer\""
        },
        {
         "metadata": "{}",
         "name": "S_F_Ratio",
         "type": "\"double\""
        },
        {
         "metadata": "{}",
         "name": "perc_alumni",
         "type": "\"integer\""
        },
        {
         "metadata": "{}",
         "name": "Expend",
         "type": "\"integer\""
        },
        {
         "metadata": "{}",
         "name": "Grad_Rate",
         "type": "\"integer\""
        }
       ],
       "type": "table"
      }
     },
     "output_type": "display_data"
    }
   ],
   "source": [
    "data.limit(5).display()"
   ]
  },
  {
   "cell_type": "code",
   "execution_count": 0,
   "metadata": {
    "application/vnd.databricks.v1+cell": {
     "cellMetadata": {
      "byteLimit": 2048000,
      "rowLimit": 10000
     },
     "inputWidgets": {},
     "nuid": "fd3941a0-78fe-4da0-b013-61002cbf8b26",
     "showTitle": false,
     "tableResultSettingsMap": {},
     "title": ""
    }
   },
   "outputs": [
    {
     "output_type": "stream",
     "name": "stdout",
     "output_type": "stream",
     "text": [
      "(777, 19)\n"
     ]
    }
   ],
   "source": [
    "print((data.count(), len(data.columns)))"
   ]
  },
  {
   "cell_type": "code",
   "execution_count": 0,
   "metadata": {
    "application/vnd.databricks.v1+cell": {
     "cellMetadata": {
      "byteLimit": 2048000,
      "rowLimit": 10000
     },
     "inputWidgets": {},
     "nuid": "21799bc5-1cca-412c-9c6b-1e33b36e355b",
     "showTitle": false,
     "tableResultSettingsMap": {},
     "title": ""
    }
   },
   "outputs": [
    {
     "output_type": "stream",
     "name": "stdout",
     "output_type": "stream",
     "text": [
      "root\n |-- School: string (nullable = true)\n |-- Private: string (nullable = true)\n |-- Apps: integer (nullable = true)\n |-- Accept: integer (nullable = true)\n |-- Enroll: integer (nullable = true)\n |-- Top10perc: integer (nullable = true)\n |-- Top25perc: integer (nullable = true)\n |-- F_Undergrad: integer (nullable = true)\n |-- P_Undergrad: integer (nullable = true)\n |-- Outstate: integer (nullable = true)\n |-- Room_Board: integer (nullable = true)\n |-- Books: integer (nullable = true)\n |-- Personal: integer (nullable = true)\n |-- PhD: integer (nullable = true)\n |-- Terminal: integer (nullable = true)\n |-- S_F_Ratio: double (nullable = true)\n |-- perc_alumni: integer (nullable = true)\n |-- Expend: integer (nullable = true)\n |-- Grad_Rate: integer (nullable = true)\n\n"
     ]
    }
   ],
   "source": [
    "data.printSchema()"
   ]
  },
  {
   "cell_type": "code",
   "execution_count": 0,
   "metadata": {
    "application/vnd.databricks.v1+cell": {
     "cellMetadata": {
      "byteLimit": 2048000,
      "rowLimit": 10000
     },
     "inputWidgets": {},
     "nuid": "a281ce0b-9b0b-4be5-ab29-faf25a3feb7c",
     "showTitle": false,
     "tableResultSettingsMap": {},
     "title": ""
    }
   },
   "outputs": [],
   "source": [
    "from pyspark.sql.functions import col, sum as _sum"
   ]
  },
  {
   "cell_type": "code",
   "execution_count": 0,
   "metadata": {
    "application/vnd.databricks.v1+cell": {
     "cellMetadata": {
      "byteLimit": 2048000,
      "rowLimit": 10000
     },
     "inputWidgets": {},
     "nuid": "4ee8a316-95b9-4712-b0ed-7aad9589fbb2",
     "showTitle": false,
     "tableResultSettingsMap": {},
     "title": ""
    }
   },
   "outputs": [
    {
     "output_type": "stream",
     "name": "stdout",
     "output_type": "stream",
     "text": [
      "+------+-------+----+------+------+---------+---------+-----------+-----------+--------+----------+-----+--------+---+--------+---------+-----------+------+---------+\n|School|Private|Apps|Accept|Enroll|Top10perc|Top25perc|F_Undergrad|P_Undergrad|Outstate|Room_Board|Books|Personal|PhD|Terminal|S_F_Ratio|perc_alumni|Expend|Grad_Rate|\n+------+-------+----+------+------+---------+---------+-----------+-----------+--------+----------+-----+--------+---+--------+---------+-----------+------+---------+\n|     0|      0|   0|     0|     0|        0|        0|          0|          0|       0|         0|    0|       0|  0|       0|        0|          0|     0|        0|\n+------+-------+----+------+------+---------+---------+-----------+-----------+--------+----------+-----+--------+---+--------+---------+-----------+------+---------+\n\n"
     ]
    }
   ],
   "source": [
    "# check missing values\n",
    "missing_val = data.select([_sum(col(c).isNull().cast('int')).alias(c) for c in data.columns])\n",
    "missing_val.show()"
   ]
  },
  {
   "cell_type": "code",
   "execution_count": 0,
   "metadata": {
    "application/vnd.databricks.v1+cell": {
     "cellMetadata": {
      "byteLimit": 2048000,
      "rowLimit": 10000
     },
     "inputWidgets": {},
     "nuid": "adf843ca-2028-4090-a3fb-fb21fbc5b5f7",
     "showTitle": false,
     "tableResultSettingsMap": {},
     "title": ""
    }
   },
   "outputs": [
    {
     "output_type": "stream",
     "name": "stdout",
     "output_type": "stream",
     "text": [
      "+------+-------+----+------+------+---------+---------+-----------+-----------+--------+----------+-----+--------+---+--------+---------+-----------+------+---------+\n|School|Private|Apps|Accept|Enroll|Top10perc|Top25perc|F_Undergrad|P_Undergrad|Outstate|Room_Board|Books|Personal|PhD|Terminal|S_F_Ratio|perc_alumni|Expend|Grad_Rate|\n+------+-------+----+------+------+---------+---------+-----------+-----------+--------+----------+-----+--------+---+--------+---------+-----------+------+---------+\n+------+-------+----+------+------+---------+---------+-----------+-----------+--------+----------+-----+--------+---+--------+---------+-----------+------+---------+\n\n"
     ]
    }
   ],
   "source": [
    "# check duplicates\n",
    "duplicates = data.exceptAll(data.dropDuplicates())\n",
    "duplicates.show()"
   ]
  },
  {
   "cell_type": "code",
   "execution_count": 0,
   "metadata": {
    "application/vnd.databricks.v1+cell": {
     "cellMetadata": {
      "byteLimit": 2048000,
      "rowLimit": 10000
     },
     "inputWidgets": {},
     "nuid": "4855d75d-8fbe-40fa-b2a6-63acf9439ef6",
     "showTitle": false,
     "tableResultSettingsMap": {},
     "title": ""
    }
   },
   "outputs": [
    {
     "output_type": "execute_result",
     "data": {
      "text/plain": [
       "Row(School='Abilene Christian University', Private='Yes', Apps=1660, Accept=1232, Enroll=721, Top10perc=23, Top25perc=52, F_Undergrad=2885, P_Undergrad=537, Outstate=7440, Room_Board=3300, Books=450, Personal=2200, PhD=70, Terminal=78, S_F_Ratio=18.1, perc_alumni=12, Expend=7041, Grad_Rate=60)"
      ]
     },
     "execution_count": 31,
     "metadata": {},
     "output_type": "execute_result"
    }
   ],
   "source": [
    "data.head()"
   ]
  },
  {
   "cell_type": "markdown",
   "metadata": {
    "application/vnd.databricks.v1+cell": {
     "cellMetadata": {
      "byteLimit": 2048000,
      "rowLimit": 10000
     },
     "inputWidgets": {},
     "nuid": "ebe1e5ee-8ecd-45a9-8d16-9544e9f613bf",
     "showTitle": false,
     "tableResultSettingsMap": {},
     "title": ""
    }
   },
   "source": [
    "## Format for MLlib"
   ]
  },
  {
   "cell_type": "code",
   "execution_count": 0,
   "metadata": {
    "application/vnd.databricks.v1+cell": {
     "cellMetadata": {
      "byteLimit": 2048000,
      "rowLimit": 10000
     },
     "inputWidgets": {},
     "nuid": "72b844bd-d106-4d4f-9c0c-e282210f4b63",
     "showTitle": false,
     "tableResultSettingsMap": {},
     "title": ""
    }
   },
   "outputs": [],
   "source": [
    "from pyspark.ml.linalg import Vectors\n",
    "from pyspark.ml.feature import VectorAssembler"
   ]
  },
  {
   "cell_type": "code",
   "execution_count": 0,
   "metadata": {
    "application/vnd.databricks.v1+cell": {
     "cellMetadata": {
      "byteLimit": 2048000,
      "rowLimit": 10000
     },
     "inputWidgets": {},
     "nuid": "7751bde1-41d5-434f-9f3f-37fb4a84bf48",
     "showTitle": false,
     "tableResultSettingsMap": {},
     "title": ""
    }
   },
   "outputs": [
    {
     "output_type": "execute_result",
     "data": {
      "text/plain": [
       "['School',\n",
       " 'Private',\n",
       " 'Apps',\n",
       " 'Accept',\n",
       " 'Enroll',\n",
       " 'Top10perc',\n",
       " 'Top25perc',\n",
       " 'F_Undergrad',\n",
       " 'P_Undergrad',\n",
       " 'Outstate',\n",
       " 'Room_Board',\n",
       " 'Books',\n",
       " 'Personal',\n",
       " 'PhD',\n",
       " 'Terminal',\n",
       " 'S_F_Ratio',\n",
       " 'perc_alumni',\n",
       " 'Expend',\n",
       " 'Grad_Rate']"
      ]
     },
     "execution_count": 33,
     "metadata": {},
     "output_type": "execute_result"
    }
   ],
   "source": [
    "data.columns"
   ]
  },
  {
   "cell_type": "code",
   "execution_count": 0,
   "metadata": {
    "application/vnd.databricks.v1+cell": {
     "cellMetadata": {
      "byteLimit": 2048000,
      "rowLimit": 10000
     },
     "inputWidgets": {},
     "nuid": "e9437f90-f8d4-4464-9368-6185e0d625a1",
     "showTitle": false,
     "tableResultSettingsMap": {},
     "title": ""
    }
   },
   "outputs": [],
   "source": [
    "assembler = VectorAssembler(inputCols = ['Apps',\n",
    " 'Accept',\n",
    " 'Enroll',\n",
    " 'Top10perc',\n",
    " 'Top25perc',\n",
    " 'F_Undergrad',\n",
    " 'P_Undergrad',\n",
    " 'Outstate',\n",
    " 'Room_Board',\n",
    " 'Books',\n",
    " 'Personal',\n",
    " 'PhD',\n",
    " 'Terminal',\n",
    " 'S_F_Ratio',\n",
    " 'perc_alumni',\n",
    " 'Expend',\n",
    " 'Grad_Rate'],  outputCol='features')"
   ]
  },
  {
   "cell_type": "code",
   "execution_count": 0,
   "metadata": {
    "application/vnd.databricks.v1+cell": {
     "cellMetadata": {
      "byteLimit": 2048000,
      "rowLimit": 10000
     },
     "inputWidgets": {},
     "nuid": "6b3bcf1b-a648-49c7-8158-d836650dc679",
     "showTitle": false,
     "tableResultSettingsMap": {},
     "title": ""
    }
   },
   "outputs": [],
   "source": [
    "output = assembler.transform(data)"
   ]
  },
  {
   "cell_type": "code",
   "execution_count": 0,
   "metadata": {
    "application/vnd.databricks.v1+cell": {
     "cellMetadata": {
      "byteLimit": 2048000,
      "rowLimit": 10000
     },
     "inputWidgets": {},
     "nuid": "b36f8a93-b29e-4295-b854-b0f71ce0672b",
     "showTitle": false,
     "tableResultSettingsMap": {},
     "title": ""
    }
   },
   "outputs": [
    {
     "output_type": "stream",
     "name": "stdout",
     "output_type": "stream",
     "text": [
      "+-------+-----+\n|private|count|\n+-------+-----+\n|     No|  212|\n|    Yes|  565|\n+-------+-----+\n\n"
     ]
    }
   ],
   "source": [
    "data.groupBy('private').count().show()"
   ]
  },
  {
   "cell_type": "code",
   "execution_count": 0,
   "metadata": {
    "application/vnd.databricks.v1+cell": {
     "cellMetadata": {
      "byteLimit": 2048000,
      "rowLimit": 10000
     },
     "inputWidgets": {},
     "nuid": "42485821-4a60-4c26-b71f-00d2da2bdd3e",
     "showTitle": false,
     "tableResultSettingsMap": {},
     "title": ""
    }
   },
   "outputs": [],
   "source": [
    "from pyspark.ml.feature import StringIndexer\n",
    "indexer = StringIndexer(inputCol= 'Private', outputCol='PrivateIndex')\n",
    "outputIndex = indexer.fit(output).transform(output)"
   ]
  },
  {
   "cell_type": "code",
   "execution_count": 0,
   "metadata": {
    "application/vnd.databricks.v1+cell": {
     "cellMetadata": {
      "byteLimit": 2048000,
      "rowLimit": 10000
     },
     "inputWidgets": {},
     "nuid": "51e31e5b-9201-4218-892c-3f9188e98f49",
     "showTitle": false,
     "tableResultSettingsMap": {},
     "title": ""
    }
   },
   "outputs": [],
   "source": [
    "from pyspark.ml.feature import StandardScaler\n",
    "scaler = StandardScaler(inputCol='features', outputCol='scalerfeatures', withStd=True, withMean=False)\n",
    "outputScaler = scaler.fit(outputIndex).transform(outputIndex)"
   ]
  },
  {
   "cell_type": "code",
   "execution_count": 0,
   "metadata": {
    "application/vnd.databricks.v1+cell": {
     "cellMetadata": {
      "byteLimit": 2048000,
      "rowLimit": 10000
     },
     "inputWidgets": {},
     "nuid": "6db65ef4-ecb4-4f95-9b78-5c118369957e",
     "showTitle": false,
     "tableResultSettingsMap": {},
     "title": ""
    }
   },
   "outputs": [
    {
     "output_type": "display_data",
     "data": {
      "text/html": [
       "<style scoped>\n",
       "  .table-result-container {\n",
       "    max-height: 300px;\n",
       "    overflow: auto;\n",
       "  }\n",
       "  table, th, td {\n",
       "    border: 1px solid black;\n",
       "    border-collapse: collapse;\n",
       "  }\n",
       "  th, td {\n",
       "    padding: 5px;\n",
       "  }\n",
       "  th {\n",
       "    text-align: left;\n",
       "  }\n",
       "</style><div class='table-result-container'><table class='table-result'><thead style='background-color: white'><tr><th>School</th><th>Private</th><th>Apps</th><th>Accept</th><th>Enroll</th><th>Top10perc</th><th>Top25perc</th><th>F_Undergrad</th><th>P_Undergrad</th><th>Outstate</th><th>Room_Board</th><th>Books</th><th>Personal</th><th>PhD</th><th>Terminal</th><th>S_F_Ratio</th><th>perc_alumni</th><th>Expend</th><th>Grad_Rate</th><th>features</th><th>PrivateIndex</th><th>scalerfeatures</th></tr></thead><tbody><tr><td>Abilene Christian University</td><td>Yes</td><td>1660</td><td>1232</td><td>721</td><td>23</td><td>52</td><td>2885</td><td>537</td><td>7440</td><td>3300</td><td>450</td><td>2200</td><td>70</td><td>78</td><td>18.1</td><td>12</td><td>7041</td><td>60</td><td>Map(vectorType -> dense, length -> 17, values -> List(1660.0, 1232.0, 721.0, 23.0, 52.0, 2885.0, 537.0, 7440.0, 3300.0, 450.0, 2200.0, 70.0, 78.0, 18.1, 12.0, 7041.0, 60.0))</td><td>0.0</td><td>Map(vectorType -> dense, length -> 17, values -> List(0.42891823763594444, 0.5026286066580069, 0.7759561724207533, 1.3038279424073527, 2.6256290811760095, 0.5947937878021864, 0.3527251396145811, 1.8493585669814325, 3.009036915848813, 2.725532348715692, 3.2492877794997543, 4.287073544918401, 5.29806415542497, 4.57261332483753, 0.9683822009485828, 1.3483937637407082, 3.4928986668901585))</td></tr><tr><td>Adelphi University</td><td>Yes</td><td>2186</td><td>1924</td><td>512</td><td>16</td><td>29</td><td>2683</td><td>1227</td><td>12280</td><td>6450</td><td>750</td><td>1500</td><td>29</td><td>30</td><td>12.2</td><td>16</td><td>10527</td><td>56</td><td>Map(vectorType -> dense, length -> 17, values -> List(2186.0, 1924.0, 512.0, 16.0, 29.0, 2683.0, 1227.0, 12280.0, 6450.0, 750.0, 1500.0, 29.0, 30.0, 12.2, 16.0, 10527.0, 56.0))</td><td>0.0</td><td>Map(vectorType -> dense, length -> 17, values -> List(0.5648284743808281, 0.7849492201379912, 0.5510257424125183, 0.9070107425442453, 1.4642931414250822, 0.553147914271496, 0.8059473860467244, 3.0524359143188162, 5.881299426431771, 4.542553914526153, 2.2154234860225595, 1.776073325751909, 2.0377169828557578, 3.0820929592827544, 1.2911762679314438, 2.0159836885241353, 3.260038755764148))</td></tr><tr><td>Adrian College</td><td>Yes</td><td>1428</td><td>1097</td><td>336</td><td>22</td><td>50</td><td>1036</td><td>99</td><td>11250</td><td>3750</td><td>400</td><td>1165</td><td>53</td><td>66</td><td>12.9</td><td>30</td><td>8735</td><td>54</td><td>Map(vectorType -> dense, length -> 17, values -> List(1428.0, 1097.0, 336.0, 22.0, 50.0, 1036.0, 99.0, 11250.0, 3750.0, 400.0, 1165.0, 53.0, 66.0, 12.9, 30.0, 8735.0, 54.0))</td><td>0.0</td><td>Map(vectorType -> dense, length -> 17, values -> List(0.36897303815911364, 0.4475516083635012, 0.36161064345821514, 1.2471397709983374, 2.5246433472846244, 0.2135897276128475, 0.06502753970548143, 2.7964091234598274, 3.4193601316463784, 2.4226954210806153, 1.720645574144188, 3.245927112581075, 4.482977362282667, 3.2589343585858637, 2.420955502371457, 1.67280493200896, 3.1436088002011426))</td></tr><tr><td>Agnes Scott College</td><td>Yes</td><td>417</td><td>349</td><td>137</td><td>60</td><td>89</td><td>510</td><td>63</td><td>12960</td><td>5450</td><td>450</td><td>875</td><td>92</td><td>97</td><td>7.7</td><td>37</td><td>19016</td><td>59</td><td>Map(vectorType -> dense, length -> 17, values -> List(417.0, 349.0, 137.0, 60.0, 89.0, 510.0, 63.0, 12960.0, 5450.0, 450.0, 875.0, 92.0, 97.0, 7.7, 37.0, 19016.0, 59.0))</td><td>0.0</td><td>Map(vectorType -> dense, length -> 17, values -> List(0.10774632836999327, 0.14238424003542566, 0.14744243498147463, 3.40129028454092, 4.493865158166631, 0.10514552228045582, 0.04138116163076091, 3.221463310225721, 4.969470057992736, 2.725532348715692, 1.2923303668464932, 5.63443951617847, 6.588618244566949, 1.9452553923341978, 2.9858451195914637, 3.6416781439132664, 3.434683689108656))</td></tr><tr><td>Alaska Pacific University</td><td>Yes</td><td>193</td><td>146</td><td>55</td><td>16</td><td>44</td><td>249</td><td>869</td><td>7560</td><td>4120</td><td>800</td><td>1500</td><td>76</td><td>72</td><td>11.9</td><td>2</td><td>10922</td><td>15</td><td>Map(vectorType -> dense, length -> 17, values -> List(193.0, 146.0, 55.0, 16.0, 44.0, 249.0, 869.0, 7560.0, 4120.0, 800.0, 1500.0, 76.0, 72.0, 11.9, 2.0, 10922.0, 15.0))</td><td>0.0</td><td>Map(vectorType -> dense, length -> 17, values -> List(0.049868204737191134, 0.059564753711094966, 0.05919221842321974, 0.9070107425442453, 2.2216861456104695, 0.051335754995751964, 0.570797292970337, 1.879186930965004, 3.756736997968821, 4.845390842161231, 2.2154234860225595, 4.654536991625693, 4.890520758853818, 3.006303788152851, 0.16139703349143047, 2.0916285595193886, 0.8732246667225396))</td></tr></tbody></table></div>"
      ]
     },
     "metadata": {
      "application/vnd.databricks.v1+output": {
       "addedWidgets": {},
       "aggData": [],
       "aggError": "",
       "aggOverflow": false,
       "aggSchema": [],
       "aggSeriesLimitReached": false,
       "aggType": "",
       "arguments": {},
       "columnCustomDisplayInfos": {},
       "data": [
        [
         "Abilene Christian University",
         "Yes",
         1660,
         1232,
         721,
         23,
         52,
         2885,
         537,
         7440,
         3300,
         450,
         2200,
         70,
         78,
         18.1,
         12,
         7041,
         60,
         {
          "length": 17,
          "values": [
           1660.0,
           1232.0,
           721.0,
           23.0,
           52.0,
           2885.0,
           537.0,
           7440.0,
           3300.0,
           450.0,
           2200.0,
           70.0,
           78.0,
           18.1,
           12.0,
           7041.0,
           60.0
          ],
          "vectorType": "dense"
         },
         0.0,
         {
          "length": 17,
          "values": [
           0.42891823763594444,
           0.5026286066580069,
           0.7759561724207533,
           1.3038279424073527,
           2.6256290811760095,
           0.5947937878021864,
           0.3527251396145811,
           1.8493585669814325,
           3.009036915848813,
           2.725532348715692,
           3.2492877794997543,
           4.287073544918401,
           5.29806415542497,
           4.57261332483753,
           0.9683822009485828,
           1.3483937637407082,
           3.4928986668901585
          ],
          "vectorType": "dense"
         }
        ],
        [
         "Adelphi University",
         "Yes",
         2186,
         1924,
         512,
         16,
         29,
         2683,
         1227,
         12280,
         6450,
         750,
         1500,
         29,
         30,
         12.2,
         16,
         10527,
         56,
         {
          "length": 17,
          "values": [
           2186.0,
           1924.0,
           512.0,
           16.0,
           29.0,
           2683.0,
           1227.0,
           12280.0,
           6450.0,
           750.0,
           1500.0,
           29.0,
           30.0,
           12.2,
           16.0,
           10527.0,
           56.0
          ],
          "vectorType": "dense"
         },
         0.0,
         {
          "length": 17,
          "values": [
           0.5648284743808281,
           0.7849492201379912,
           0.5510257424125183,
           0.9070107425442453,
           1.4642931414250822,
           0.553147914271496,
           0.8059473860467244,
           3.0524359143188162,
           5.881299426431771,
           4.542553914526153,
           2.2154234860225595,
           1.776073325751909,
           2.0377169828557578,
           3.0820929592827544,
           1.2911762679314438,
           2.0159836885241353,
           3.260038755764148
          ],
          "vectorType": "dense"
         }
        ],
        [
         "Adrian College",
         "Yes",
         1428,
         1097,
         336,
         22,
         50,
         1036,
         99,
         11250,
         3750,
         400,
         1165,
         53,
         66,
         12.9,
         30,
         8735,
         54,
         {
          "length": 17,
          "values": [
           1428.0,
           1097.0,
           336.0,
           22.0,
           50.0,
           1036.0,
           99.0,
           11250.0,
           3750.0,
           400.0,
           1165.0,
           53.0,
           66.0,
           12.9,
           30.0,
           8735.0,
           54.0
          ],
          "vectorType": "dense"
         },
         0.0,
         {
          "length": 17,
          "values": [
           0.36897303815911364,
           0.4475516083635012,
           0.36161064345821514,
           1.2471397709983374,
           2.5246433472846244,
           0.2135897276128475,
           0.06502753970548143,
           2.7964091234598274,
           3.4193601316463784,
           2.4226954210806153,
           1.720645574144188,
           3.245927112581075,
           4.482977362282667,
           3.2589343585858637,
           2.420955502371457,
           1.67280493200896,
           3.1436088002011426
          ],
          "vectorType": "dense"
         }
        ],
        [
         "Agnes Scott College",
         "Yes",
         417,
         349,
         137,
         60,
         89,
         510,
         63,
         12960,
         5450,
         450,
         875,
         92,
         97,
         7.7,
         37,
         19016,
         59,
         {
          "length": 17,
          "values": [
           417.0,
           349.0,
           137.0,
           60.0,
           89.0,
           510.0,
           63.0,
           12960.0,
           5450.0,
           450.0,
           875.0,
           92.0,
           97.0,
           7.7,
           37.0,
           19016.0,
           59.0
          ],
          "vectorType": "dense"
         },
         0.0,
         {
          "length": 17,
          "values": [
           0.10774632836999327,
           0.14238424003542566,
           0.14744243498147463,
           3.40129028454092,
           4.493865158166631,
           0.10514552228045582,
           0.04138116163076091,
           3.221463310225721,
           4.969470057992736,
           2.725532348715692,
           1.2923303668464932,
           5.63443951617847,
           6.588618244566949,
           1.9452553923341978,
           2.9858451195914637,
           3.6416781439132664,
           3.434683689108656
          ],
          "vectorType": "dense"
         }
        ],
        [
         "Alaska Pacific University",
         "Yes",
         193,
         146,
         55,
         16,
         44,
         249,
         869,
         7560,
         4120,
         800,
         1500,
         76,
         72,
         11.9,
         2,
         10922,
         15,
         {
          "length": 17,
          "values": [
           193.0,
           146.0,
           55.0,
           16.0,
           44.0,
           249.0,
           869.0,
           7560.0,
           4120.0,
           800.0,
           1500.0,
           76.0,
           72.0,
           11.9,
           2.0,
           10922.0,
           15.0
          ],
          "vectorType": "dense"
         },
         0.0,
         {
          "length": 17,
          "values": [
           0.049868204737191134,
           0.059564753711094966,
           0.05919221842321974,
           0.9070107425442453,
           2.2216861456104695,
           0.051335754995751964,
           0.570797292970337,
           1.879186930965004,
           3.756736997968821,
           4.845390842161231,
           2.2154234860225595,
           4.654536991625693,
           4.890520758853818,
           3.006303788152851,
           0.16139703349143047,
           2.0916285595193886,
           0.8732246667225396
          ],
          "vectorType": "dense"
         }
        ]
       ],
       "datasetInfos": [],
       "dbfsResultPath": null,
       "isJsonSchema": true,
       "metadata": {},
       "overflow": false,
       "plotOptions": {
        "customPlotOptions": {},
        "displayType": "table",
        "pivotAggregation": null,
        "pivotColumns": null,
        "xColumns": null,
        "yColumns": null
       },
       "removedWidgets": [],
       "schema": [
        {
         "metadata": "{}",
         "name": "School",
         "type": "\"string\""
        },
        {
         "metadata": "{}",
         "name": "Private",
         "type": "\"string\""
        },
        {
         "metadata": "{}",
         "name": "Apps",
         "type": "\"integer\""
        },
        {
         "metadata": "{}",
         "name": "Accept",
         "type": "\"integer\""
        },
        {
         "metadata": "{}",
         "name": "Enroll",
         "type": "\"integer\""
        },
        {
         "metadata": "{}",
         "name": "Top10perc",
         "type": "\"integer\""
        },
        {
         "metadata": "{}",
         "name": "Top25perc",
         "type": "\"integer\""
        },
        {
         "metadata": "{}",
         "name": "F_Undergrad",
         "type": "\"integer\""
        },
        {
         "metadata": "{}",
         "name": "P_Undergrad",
         "type": "\"integer\""
        },
        {
         "metadata": "{}",
         "name": "Outstate",
         "type": "\"integer\""
        },
        {
         "metadata": "{}",
         "name": "Room_Board",
         "type": "\"integer\""
        },
        {
         "metadata": "{}",
         "name": "Books",
         "type": "\"integer\""
        },
        {
         "metadata": "{}",
         "name": "Personal",
         "type": "\"integer\""
        },
        {
         "metadata": "{}",
         "name": "PhD",
         "type": "\"integer\""
        },
        {
         "metadata": "{}",
         "name": "Terminal",
         "type": "\"integer\""
        },
        {
         "metadata": "{}",
         "name": "S_F_Ratio",
         "type": "\"double\""
        },
        {
         "metadata": "{}",
         "name": "perc_alumni",
         "type": "\"integer\""
        },
        {
         "metadata": "{}",
         "name": "Expend",
         "type": "\"integer\""
        },
        {
         "metadata": "{}",
         "name": "Grad_Rate",
         "type": "\"integer\""
        },
        {
         "metadata": "{\"ml_attr\":{\"attrs\":{\"numeric\":[{\"idx\":0,\"name\":\"Apps\"},{\"idx\":1,\"name\":\"Accept\"},{\"idx\":2,\"name\":\"Enroll\"},{\"idx\":3,\"name\":\"Top10perc\"},{\"idx\":4,\"name\":\"Top25perc\"},{\"idx\":5,\"name\":\"F_Undergrad\"},{\"idx\":6,\"name\":\"P_Undergrad\"},{\"idx\":7,\"name\":\"Outstate\"},{\"idx\":8,\"name\":\"Room_Board\"},{\"idx\":9,\"name\":\"Books\"},{\"idx\":10,\"name\":\"Personal\"},{\"idx\":11,\"name\":\"PhD\"},{\"idx\":12,\"name\":\"Terminal\"},{\"idx\":13,\"name\":\"S_F_Ratio\"},{\"idx\":14,\"name\":\"perc_alumni\"},{\"idx\":15,\"name\":\"Expend\"},{\"idx\":16,\"name\":\"Grad_Rate\"}]},\"num_attrs\":17}}",
         "name": "features",
         "type": "{\"type\":\"udt\",\"class\":\"org.apache.spark.ml.linalg.VectorUDT\",\"pyClass\":\"pyspark.ml.linalg.VectorUDT\",\"sqlType\":{\"type\":\"struct\",\"fields\":[{\"name\":\"type\",\"type\":\"byte\",\"nullable\":false,\"metadata\":{}},{\"name\":\"size\",\"type\":\"integer\",\"nullable\":true,\"metadata\":{}},{\"name\":\"indices\",\"type\":{\"type\":\"array\",\"elementType\":\"integer\",\"containsNull\":false},\"nullable\":true,\"metadata\":{}},{\"name\":\"values\",\"type\":{\"type\":\"array\",\"elementType\":\"double\",\"containsNull\":false},\"nullable\":true,\"metadata\":{}}]}}"
        },
        {
         "metadata": "{\"ml_attr\":{\"vals\":[\"Yes\",\"No\"],\"type\":\"nominal\",\"name\":\"PrivateIndex\"}}",
         "name": "PrivateIndex",
         "type": "\"double\""
        },
        {
         "metadata": "{\"ml_attr\":{\"num_attrs\":17}}",
         "name": "scalerfeatures",
         "type": "{\"type\":\"udt\",\"class\":\"org.apache.spark.ml.linalg.VectorUDT\",\"pyClass\":\"pyspark.ml.linalg.VectorUDT\",\"sqlType\":{\"type\":\"struct\",\"fields\":[{\"name\":\"type\",\"type\":\"byte\",\"nullable\":false,\"metadata\":{}},{\"name\":\"size\",\"type\":\"integer\",\"nullable\":true,\"metadata\":{}},{\"name\":\"indices\",\"type\":{\"type\":\"array\",\"elementType\":\"integer\",\"containsNull\":false},\"nullable\":true,\"metadata\":{}},{\"name\":\"values\",\"type\":{\"type\":\"array\",\"elementType\":\"double\",\"containsNull\":false},\"nullable\":true,\"metadata\":{}}]}}"
        }
       ],
       "type": "table"
      }
     },
     "output_type": "display_data"
    }
   ],
   "source": [
    "outputScaler.limit(5).display()"
   ]
  },
  {
   "cell_type": "code",
   "execution_count": 0,
   "metadata": {
    "application/vnd.databricks.v1+cell": {
     "cellMetadata": {
      "byteLimit": 2048000,
      "rowLimit": 10000
     },
     "inputWidgets": {},
     "nuid": "f4526609-548c-4537-a283-ae0f718b9020",
     "showTitle": false,
     "tableResultSettingsMap": {},
     "title": ""
    }
   },
   "outputs": [],
   "source": [
    "final_data = outputScaler.select('scalerfeatures', 'PrivateIndex')"
   ]
  },
  {
   "cell_type": "markdown",
   "metadata": {
    "application/vnd.databricks.v1+cell": {
     "cellMetadata": {},
     "inputWidgets": {},
     "nuid": "9a906c16-3f8c-41e4-9bc3-bda10c9fae49",
     "showTitle": false,
     "tableResultSettingsMap": {},
     "title": ""
    }
   },
   "source": [
    "## Train Test Split"
   ]
  },
  {
   "cell_type": "code",
   "execution_count": 0,
   "metadata": {
    "application/vnd.databricks.v1+cell": {
     "cellMetadata": {
      "byteLimit": 2048000,
      "rowLimit": 10000
     },
     "inputWidgets": {},
     "nuid": "b83d1887-26cc-4ad7-a2bd-e2d2d57f6dc6",
     "showTitle": false,
     "tableResultSettingsMap": {},
     "title": ""
    }
   },
   "outputs": [],
   "source": [
    "train, test = final_data.randomSplit([0.7, 0.3])"
   ]
  },
  {
   "cell_type": "markdown",
   "metadata": {
    "application/vnd.databricks.v1+cell": {
     "cellMetadata": {},
     "inputWidgets": {},
     "nuid": "e1773d66-e2f9-448c-82d1-a95a140ca3e5",
     "showTitle": false,
     "tableResultSettingsMap": {},
     "title": ""
    }
   },
   "source": [
    "## Model Classifications"
   ]
  },
  {
   "cell_type": "code",
   "execution_count": 0,
   "metadata": {
    "application/vnd.databricks.v1+cell": {
     "cellMetadata": {
      "byteLimit": 2048000,
      "rowLimit": 10000
     },
     "inputWidgets": {},
     "nuid": "ce5212b3-2b41-4a7b-bade-84467106a052",
     "showTitle": false,
     "tableResultSettingsMap": {},
     "title": ""
    }
   },
   "outputs": [],
   "source": [
    "from pyspark.ml.classification import RandomForestClassifier, GBTClassifier, DecisionTreeClassifier"
   ]
  },
  {
   "cell_type": "code",
   "execution_count": 0,
   "metadata": {
    "application/vnd.databricks.v1+cell": {
     "cellMetadata": {
      "byteLimit": 2048000,
      "rowLimit": 10000
     },
     "inputWidgets": {},
     "nuid": "89420652-1044-41a4-995c-09b6f6d7b8fb",
     "showTitle": false,
     "tableResultSettingsMap": {},
     "title": ""
    }
   },
   "outputs": [],
   "source": [
    "# create the model\n",
    "rfc = RandomForestClassifier(featuresCol='scalerfeatures', labelCol='PrivateIndex')\n",
    "gbt = GBTClassifier(featuresCol='scalerfeatures', labelCol='PrivateIndex')\n",
    "dct = DecisionTreeClassifier(featuresCol='scalerfeatures', labelCol='PrivateIndex')"
   ]
  },
  {
   "cell_type": "code",
   "execution_count": 0,
   "metadata": {
    "application/vnd.databricks.v1+cell": {
     "cellMetadata": {
      "byteLimit": 2048000,
      "rowLimit": 10000
     },
     "inputWidgets": {},
     "nuid": "befd71d7-c301-41bd-aebb-0f28050ff6e1",
     "showTitle": false,
     "tableResultSettingsMap": {},
     "title": ""
    }
   },
   "outputs": [],
   "source": [
    "# train the model \n",
    "rfcModel = rfc.fit(train)\n",
    "gbtModel = gbt.fit(train)\n",
    "dctModel = dct.fit(train)"
   ]
  },
  {
   "cell_type": "code",
   "execution_count": 0,
   "metadata": {
    "application/vnd.databricks.v1+cell": {
     "cellMetadata": {
      "byteLimit": 2048000,
      "rowLimit": 10000
     },
     "inputWidgets": {},
     "nuid": "7667c447-06fa-4601-8067-7757f1530acf",
     "showTitle": false,
     "tableResultSettingsMap": {},
     "title": ""
    }
   },
   "outputs": [],
   "source": [
    "# prediction\n",
    "rfcpredict = rfcModel.transform(test)\n",
    "gbtpredict = gbtModel.transform(test)\n",
    "dctpredict = dctModel.transform(test)"
   ]
  },
  {
   "cell_type": "markdown",
   "metadata": {
    "application/vnd.databricks.v1+cell": {
     "cellMetadata": {},
     "inputWidgets": {},
     "nuid": "eab49f94-7575-448c-84f3-9eb26b7f2b63",
     "showTitle": false,
     "tableResultSettingsMap": {},
     "title": ""
    }
   },
   "source": [
    "## Evaluation Classification"
   ]
  },
  {
   "cell_type": "code",
   "execution_count": 0,
   "metadata": {
    "application/vnd.databricks.v1+cell": {
     "cellMetadata": {
      "byteLimit": 2048000,
      "rowLimit": 10000
     },
     "inputWidgets": {},
     "nuid": "0ab413f1-e17b-4885-8fbf-34673078a768",
     "showTitle": false,
     "tableResultSettingsMap": {},
     "title": ""
    }
   },
   "outputs": [],
   "source": [
    "from pyspark.ml.evaluation import MulticlassClassificationEvaluator"
   ]
  },
  {
   "cell_type": "code",
   "execution_count": 0,
   "metadata": {
    "application/vnd.databricks.v1+cell": {
     "cellMetadata": {
      "byteLimit": 2048000,
      "rowLimit": 10000
     },
     "inputWidgets": {},
     "nuid": "469c7ef5-2d17-4321-8237-31a322c70d1a",
     "showTitle": false,
     "tableResultSettingsMap": {},
     "title": ""
    }
   },
   "outputs": [],
   "source": [
    "eval = MulticlassClassificationEvaluator(predictionCol='prediction', labelCol='PrivateIndex', metricName='accuracy')\n"
   ]
  },
  {
   "cell_type": "code",
   "execution_count": 0,
   "metadata": {
    "application/vnd.databricks.v1+cell": {
     "cellMetadata": {
      "byteLimit": 2048000,
      "rowLimit": 10000
     },
     "inputWidgets": {},
     "nuid": "9cce6d6c-ee67-444b-aed0-e607d6f33408",
     "showTitle": false,
     "tableResultSettingsMap": {},
     "title": ""
    }
   },
   "outputs": [],
   "source": [
    "acc_rfc = eval.evaluate(rfcpredict)\n",
    "acc_gbt = eval.evaluate(gbtpredict)\n",
    "acc_dct = eval.evaluate(dctpredict)"
   ]
  },
  {
   "cell_type": "code",
   "execution_count": 0,
   "metadata": {
    "application/vnd.databricks.v1+cell": {
     "cellMetadata": {
      "byteLimit": 2048000,
      "rowLimit": 10000
     },
     "inputWidgets": {},
     "nuid": "67362a1f-41ad-43e0-8bb5-caab9038fdea",
     "showTitle": false,
     "tableResultSettingsMap": {},
     "title": ""
    }
   },
   "outputs": [
    {
     "output_type": "stream",
     "name": "stdout",
     "output_type": "stream",
     "text": [
      "Here are the result\n----------------------------------------------------------------------------------------------------\nRandom Forest had a accuracy result : 94.64%\n----------------------------------------------------------------------------------------------------\nGradient Boostin Trees had a accuracy result : 92.41%\n----------------------------------------------------------------------------------------------------\nDeciont tree had a accuracy result : 94.64%\n"
     ]
    }
   ],
   "source": [
    "print('Here are the result')\n",
    "print('-' *100 )\n",
    "print('Random Forest had a accuracy result : {:.2f}%'.format(acc_rfc * 100))\n",
    "print('-' *100 )\n",
    "print('Gradient Boostin Trees had a accuracy result : {:.2f}%'.format(acc_gbt * 100) )\n",
    "print('-' *100 )\n",
    "print('Deciont tree had a accuracy result : {:.2f}%'.format(acc_rfc * 100) )"
   ]
  }
 ],
 "metadata": {
  "application/vnd.databricks.v1+notebook": {
   "dashboards": [],
   "environmentMetadata": null,
   "language": "python",
   "notebookMetadata": {
    "pythonIndentUnit": 4
   },
   "notebookName": "02- collage",
   "widgets": {}
  }
 },
 "nbformat": 4,
 "nbformat_minor": 0
}
