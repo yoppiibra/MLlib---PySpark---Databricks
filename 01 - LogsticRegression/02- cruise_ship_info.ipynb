{
 "cells": [
  {
   "cell_type": "markdown",
   "metadata": {
    "application/vnd.databricks.v1+cell": {
     "cellMetadata": {
      "byteLimit": 2048000,
      "rowLimit": 10000
     },
     "inputWidgets": {},
     "nuid": "93762477-6741-4864-b22d-d425bdc0d39a",
     "showTitle": false,
     "tableResultSettingsMap": {},
     "title": ""
    }
   },
   "source": [
    "## MLlib Logistic Regression \n",
    "## Cruise Ship Info\n",
    "They are currently building new ships for some customers and want you to create a model and use it to predict how many crew members the ships will need.\n",
    "\n",
    "Description: Measurements of ship size, capacity, crew, and age for 158 cruise\n",
    "ships.\n",
    "\n",
    "\n",
    "Variables/Columns\n",
    "\n",
    "* Ship Name     1-20\n",
    "* Cruise Line   21-40\n",
    "* Age (as of 2013)   46-48\n",
    "* Tonnage (1000s of tons)   50-56\n",
    "* passengers (100s)   58-64\n",
    "* Length (100s of feet)  66-72\n",
    "* Cabins  (100s)   74-80\n",
    "* Passenger Density   82-88\n",
    "* Crew  (100s)   90-96"
   ]
  },
  {
   "cell_type": "code",
   "execution_count": 0,
   "metadata": {
    "application/vnd.databricks.v1+cell": {
     "cellMetadata": {
      "byteLimit": 2048000,
      "rowLimit": 10000
     },
     "inputWidgets": {},
     "nuid": "c5f2ed07-86d6-4d14-ae27-cbfeb1cea9cb",
     "showTitle": false,
     "tableResultSettingsMap": {},
     "title": ""
    }
   },
   "outputs": [],
   "source": [
    "from pyspark.sql import SparkSession"
   ]
  },
  {
   "cell_type": "code",
   "execution_count": 0,
   "metadata": {
    "application/vnd.databricks.v1+cell": {
     "cellMetadata": {
      "byteLimit": 2048000,
      "rowLimit": 10000
     },
     "inputWidgets": {},
     "nuid": "f76b061c-b961-4e0f-9af0-f7ebf9999b5d",
     "showTitle": false,
     "tableResultSettingsMap": {},
     "title": ""
    }
   },
   "outputs": [],
   "source": [
    "spark = SparkSession.builder.appName('cruise_ship_info').getOrCreate()"
   ]
  },
  {
   "cell_type": "code",
   "execution_count": 0,
   "metadata": {
    "application/vnd.databricks.v1+cell": {
     "cellMetadata": {
      "byteLimit": 2048000,
      "rowLimit": 10000
     },
     "inputWidgets": {},
     "nuid": "4c6e4586-b70e-4b59-8423-2e297ea40461",
     "showTitle": false,
     "tableResultSettingsMap": {},
     "title": ""
    }
   },
   "outputs": [],
   "source": [
    "df = spark.read.csv('dbfs:/FileStore/cruise_ship_info.csv', inferSchema =True, header=True)"
   ]
  },
  {
   "cell_type": "code",
   "execution_count": 0,
   "metadata": {
    "application/vnd.databricks.v1+cell": {
     "cellMetadata": {
      "byteLimit": 2048000,
      "rowLimit": 10000
     },
     "inputWidgets": {},
     "nuid": "047d56d0-959d-4096-bad4-c1fba4fc00f7",
     "showTitle": false,
     "tableResultSettingsMap": {},
     "title": ""
    }
   },
   "outputs": [
    {
     "output_type": "stream",
     "name": "stdout",
     "output_type": "stream",
     "text": [
      "+-----------+-----------+---+------------------+----------+------+------+-----------------+----+\n|  Ship_name|Cruise_line|Age|           Tonnage|passengers|length|cabins|passenger_density|crew|\n+-----------+-----------+---+------------------+----------+------+------+-----------------+----+\n|    Journey|    Azamara|  6|30.276999999999997|      6.94|  5.94|  3.55|            42.64|3.55|\n|      Quest|    Azamara|  6|30.276999999999997|      6.94|  5.94|  3.55|            42.64|3.55|\n|Celebration|   Carnival| 26|            47.262|     14.86|  7.22|  7.43|             31.8| 6.7|\n|   Conquest|   Carnival| 11|             110.0|     29.74|  9.53| 14.88|            36.99|19.1|\n|    Destiny|   Carnival| 17|           101.353|     26.42|  8.92| 13.21|            38.36|10.0|\n|    Ecstasy|   Carnival| 22|            70.367|     20.52|  8.55|  10.2|            34.29| 9.2|\n|    Elation|   Carnival| 15|            70.367|     20.52|  8.55|  10.2|            34.29| 9.2|\n|    Fantasy|   Carnival| 23|            70.367|     20.56|  8.55| 10.22|            34.23| 9.2|\n|Fascination|   Carnival| 19|            70.367|     20.52|  8.55|  10.2|            34.29| 9.2|\n|    Freedom|   Carnival|  6|110.23899999999999|      37.0|  9.51| 14.87|            29.79|11.5|\n|      Glory|   Carnival| 10|             110.0|     29.74|  9.51| 14.87|            36.99|11.6|\n|    Holiday|   Carnival| 28|            46.052|     14.52|  7.27|  7.26|            31.72| 6.6|\n|Imagination|   Carnival| 18|            70.367|     20.52|  8.55|  10.2|            34.29| 9.2|\n|Inspiration|   Carnival| 17|            70.367|     20.52|  8.55|  10.2|            34.29| 9.2|\n|     Legend|   Carnival| 11|              86.0|     21.24|  9.63| 10.62|            40.49| 9.3|\n|   Liberty*|   Carnival|  8|             110.0|     29.74|  9.51| 14.87|            36.99|11.6|\n|    Miracle|   Carnival|  9|              88.5|     21.24|  9.63| 10.62|            41.67|10.3|\n|   Paradise|   Carnival| 15|            70.367|     20.52|  8.55|  10.2|            34.29| 9.2|\n|      Pride|   Carnival| 12|              88.5|     21.24|  9.63| 11.62|            41.67| 9.3|\n|  Sensation|   Carnival| 20|            70.367|     20.52|  8.55|  10.2|            34.29| 9.2|\n+-----------+-----------+---+------------------+----------+------+------+-----------------+----+\nonly showing top 20 rows\n\n"
     ]
    }
   ],
   "source": [
    "df.show()"
   ]
  },
  {
   "cell_type": "code",
   "execution_count": 0,
   "metadata": {
    "application/vnd.databricks.v1+cell": {
     "cellMetadata": {
      "byteLimit": 2048000,
      "rowLimit": 10000
     },
     "inputWidgets": {},
     "nuid": "f326e971-75a3-4b3a-b01d-4084f60b5bde",
     "showTitle": false,
     "tableResultSettingsMap": {},
     "title": ""
    }
   },
   "outputs": [
    {
     "output_type": "stream",
     "name": "stdout",
     "output_type": "stream",
     "text": [
      "root\n |-- Ship_name: string (nullable = true)\n |-- Cruise_line: string (nullable = true)\n |-- Age: integer (nullable = true)\n |-- Tonnage: double (nullable = true)\n |-- passengers: double (nullable = true)\n |-- length: double (nullable = true)\n |-- cabins: double (nullable = true)\n |-- passenger_density: double (nullable = true)\n |-- crew: double (nullable = true)\n\n"
     ]
    }
   ],
   "source": [
    "df.printSchema()"
   ]
  },
  {
   "cell_type": "code",
   "execution_count": 0,
   "metadata": {
    "application/vnd.databricks.v1+cell": {
     "cellMetadata": {
      "byteLimit": 2048000,
      "rowLimit": 10000
     },
     "inputWidgets": {},
     "nuid": "baf5b2a3-4a94-4492-b798-5266cdb8df78",
     "showTitle": false,
     "tableResultSettingsMap": {},
     "title": ""
    }
   },
   "outputs": [
    {
     "output_type": "stream",
     "name": "stdout",
     "output_type": "stream",
     "text": [
      "(158, 9)\n"
     ]
    }
   ],
   "source": [
    "print((df.count(), len(df.columns)))"
   ]
  },
  {
   "cell_type": "code",
   "execution_count": 0,
   "metadata": {
    "application/vnd.databricks.v1+cell": {
     "cellMetadata": {
      "byteLimit": 2048000,
      "rowLimit": 10000
     },
     "inputWidgets": {},
     "nuid": "70f31b22-fbd2-4d69-9035-f68ac8250fbe",
     "showTitle": false,
     "tableResultSettingsMap": {},
     "title": ""
    }
   },
   "outputs": [
    {
     "output_type": "display_data",
     "data": {
      "text/html": [
       "<style scoped>\n",
       "  .table-result-container {\n",
       "    max-height: 300px;\n",
       "    overflow: auto;\n",
       "  }\n",
       "  table, th, td {\n",
       "    border: 1px solid black;\n",
       "    border-collapse: collapse;\n",
       "  }\n",
       "  th, td {\n",
       "    padding: 5px;\n",
       "  }\n",
       "  th {\n",
       "    text-align: left;\n",
       "  }\n",
       "</style><div class='table-result-container'><table class='table-result'><thead style='background-color: white'><tr><th>Ship_name</th><th>Cruise_line</th><th>Age</th><th>Tonnage</th><th>passengers</th><th>length</th><th>cabins</th><th>passenger_density</th><th>crew</th></tr></thead><tbody><tr><td>Journey</td><td>Azamara</td><td>6</td><td>30.276999999999997</td><td>6.94</td><td>5.94</td><td>3.55</td><td>42.64</td><td>3.55</td></tr><tr><td>Quest</td><td>Azamara</td><td>6</td><td>30.276999999999997</td><td>6.94</td><td>5.94</td><td>3.55</td><td>42.64</td><td>3.55</td></tr><tr><td>Celebration</td><td>Carnival</td><td>26</td><td>47.262</td><td>14.86</td><td>7.22</td><td>7.43</td><td>31.8</td><td>6.7</td></tr><tr><td>Conquest</td><td>Carnival</td><td>11</td><td>110.0</td><td>29.74</td><td>9.53</td><td>14.88</td><td>36.99</td><td>19.1</td></tr><tr><td>Destiny</td><td>Carnival</td><td>17</td><td>101.353</td><td>26.42</td><td>8.92</td><td>13.21</td><td>38.36</td><td>10.0</td></tr><tr><td>Ecstasy</td><td>Carnival</td><td>22</td><td>70.367</td><td>20.52</td><td>8.55</td><td>10.2</td><td>34.29</td><td>9.2</td></tr><tr><td>Elation</td><td>Carnival</td><td>15</td><td>70.367</td><td>20.52</td><td>8.55</td><td>10.2</td><td>34.29</td><td>9.2</td></tr><tr><td>Fantasy</td><td>Carnival</td><td>23</td><td>70.367</td><td>20.56</td><td>8.55</td><td>10.22</td><td>34.23</td><td>9.2</td></tr><tr><td>Fascination</td><td>Carnival</td><td>19</td><td>70.367</td><td>20.52</td><td>8.55</td><td>10.2</td><td>34.29</td><td>9.2</td></tr><tr><td>Freedom</td><td>Carnival</td><td>6</td><td>110.23899999999999</td><td>37.0</td><td>9.51</td><td>14.87</td><td>29.79</td><td>11.5</td></tr><tr><td>Glory</td><td>Carnival</td><td>10</td><td>110.0</td><td>29.74</td><td>9.51</td><td>14.87</td><td>36.99</td><td>11.6</td></tr><tr><td>Holiday</td><td>Carnival</td><td>28</td><td>46.052</td><td>14.52</td><td>7.27</td><td>7.26</td><td>31.72</td><td>6.6</td></tr><tr><td>Imagination</td><td>Carnival</td><td>18</td><td>70.367</td><td>20.52</td><td>8.55</td><td>10.2</td><td>34.29</td><td>9.2</td></tr><tr><td>Inspiration</td><td>Carnival</td><td>17</td><td>70.367</td><td>20.52</td><td>8.55</td><td>10.2</td><td>34.29</td><td>9.2</td></tr><tr><td>Legend</td><td>Carnival</td><td>11</td><td>86.0</td><td>21.24</td><td>9.63</td><td>10.62</td><td>40.49</td><td>9.3</td></tr><tr><td>Liberty*</td><td>Carnival</td><td>8</td><td>110.0</td><td>29.74</td><td>9.51</td><td>14.87</td><td>36.99</td><td>11.6</td></tr><tr><td>Miracle</td><td>Carnival</td><td>9</td><td>88.5</td><td>21.24</td><td>9.63</td><td>10.62</td><td>41.67</td><td>10.3</td></tr><tr><td>Paradise</td><td>Carnival</td><td>15</td><td>70.367</td><td>20.52</td><td>8.55</td><td>10.2</td><td>34.29</td><td>9.2</td></tr><tr><td>Pride</td><td>Carnival</td><td>12</td><td>88.5</td><td>21.24</td><td>9.63</td><td>11.62</td><td>41.67</td><td>9.3</td></tr><tr><td>Sensation</td><td>Carnival</td><td>20</td><td>70.367</td><td>20.52</td><td>8.55</td><td>10.2</td><td>34.29</td><td>9.2</td></tr><tr><td>Spirit</td><td>Carnival</td><td>12</td><td>88.5</td><td>21.24</td><td>9.63</td><td>10.56</td><td>41.67</td><td>10.29</td></tr><tr><td>Triumph</td><td>Carnival</td><td>14</td><td>101.509</td><td>27.58</td><td>8.93</td><td>13.21</td><td>36.81</td><td>10.0</td></tr><tr><td>Valor</td><td>Carnival</td><td>9</td><td>110.0</td><td>29.74</td><td>9.52</td><td>14.87</td><td>36.99</td><td>11.6</td></tr><tr><td>Victory</td><td>Carnival</td><td>13</td><td>101.509</td><td>27.58</td><td>8.93</td><td>13.79</td><td>36.81</td><td>11.5</td></tr><tr><td>Century</td><td>Celebrity</td><td>18</td><td>70.60600000000001</td><td>17.7</td><td>8.15</td><td>8.75</td><td>39.89</td><td>8.58</td></tr><tr><td>Constellation</td><td>Celebrity</td><td>11</td><td>91.0</td><td>20.32</td><td>9.65</td><td>9.75</td><td>44.78</td><td>9.99</td></tr><tr><td>Galaxy</td><td>Celebrity</td><td>17</td><td>77.71300000000001</td><td>18.9</td><td>8.66</td><td>9.35</td><td>41.12</td><td>9.09</td></tr><tr><td>Infinity</td><td>Celebrity</td><td>12</td><td>91.0</td><td>20.32</td><td>9.65</td><td>9.75</td><td>44.78</td><td>9.99</td></tr><tr><td>Mercury</td><td>Celebrity</td><td>16</td><td>77.71300000000001</td><td>18.82</td><td>8.66</td><td>9.35</td><td>41.29</td><td>9.09</td></tr><tr><td>Millenium</td><td>Celebrity</td><td>13</td><td>91.0</td><td>20.32</td><td>9.65</td><td>9.75</td><td>44.78</td><td>9.99</td></tr><tr><td>Solstice</td><td>Celebrity</td><td>5</td><td>122.0</td><td>28.5</td><td>10.33</td><td>6.87</td><td>34.57</td><td>6.7</td></tr><tr><td>Summit</td><td>Celebrity</td><td>12</td><td>91.0</td><td>20.32</td><td>9.65</td><td>9.75</td><td>44.78</td><td>9.99</td></tr><tr><td>Xpedition</td><td>Celebrity</td><td>12</td><td>2.329</td><td>0.94</td><td>2.96</td><td>0.45</td><td>24.78</td><td>0.6</td></tr><tr><td>Zenith</td><td>Celebrity</td><td>21</td><td>47.225</td><td>13.66</td><td>6.82</td><td>6.87</td><td>34.57</td><td>6.7</td></tr><tr><td>Allegra</td><td>Costa</td><td>21</td><td>28.43</td><td>8.08</td><td>6.16</td><td>4.1</td><td>35.19</td><td>4.0</td></tr><tr><td>Atlantica</td><td>Costa</td><td>13</td><td>85.619</td><td>21.14</td><td>9.57</td><td>10.56</td><td>40.5</td><td>9.2</td></tr><tr><td>Classica</td><td>Costa</td><td>22</td><td>52.926</td><td>13.02</td><td>7.18</td><td>6.54</td><td>40.65</td><td>6.17</td></tr><tr><td>Europa</td><td>Costa</td><td>27</td><td>53.872</td><td>14.94</td><td>7.98</td><td>7.67</td><td>36.06</td><td>6.36</td></tr><tr><td>Fortuna</td><td>Costa</td><td>10</td><td>105.0</td><td>27.2</td><td>8.9</td><td>13.56</td><td>38.6</td><td>10.68</td></tr><tr><td>Magica</td><td>Costa</td><td>9</td><td>105.0</td><td>27.2</td><td>8.9</td><td>13.56</td><td>38.6</td><td>10.68</td></tr><tr><td>Marina</td><td>Costa</td><td>23</td><td>25.0</td><td>7.76</td><td>6.22</td><td>3.86</td><td>32.22</td><td>3.85</td></tr><tr><td>Mediterranea</td><td>Costa</td><td>10</td><td>86.0</td><td>21.14</td><td>9.6</td><td>10.56</td><td>40.68</td><td>9.2</td></tr><tr><td>Romantica</td><td>Costa</td><td>20</td><td>53.049</td><td>13.44</td><td>7.22</td><td>6.78</td><td>39.47</td><td>6.0</td></tr><tr><td>Serena</td><td>Costa</td><td>6</td><td>112.0</td><td>38.0</td><td>9.51</td><td>15.0</td><td>29.47</td><td>10.9</td></tr><tr><td>Victoria</td><td>Costa</td><td>17</td><td>75.166</td><td>19.28</td><td>8.28</td><td>9.64</td><td>38.99</td><td>7.66</td></tr><tr><td>Serenity</td><td>Crystal</td><td>10</td><td>68.0</td><td>10.8</td><td>7.9</td><td>5.5</td><td>62.96</td><td>6.36</td></tr><tr><td>Symphony</td><td>Crystal</td><td>18</td><td>51.004</td><td>9.4</td><td>7.81</td><td>4.8</td><td>54.26</td><td>5.45</td></tr><tr><td>QueenElizabethII</td><td>Cunard</td><td>44</td><td>70.327</td><td>17.91</td><td>9.63</td><td>9.5</td><td>39.27</td><td>9.21</td></tr><tr><td>QueenMary2</td><td>Cunard</td><td>10</td><td>151.4</td><td>26.2</td><td>11.32</td><td>11.34</td><td>57.79</td><td>12.53</td></tr><tr><td>QueenVictoria</td><td>Cunard</td><td>6</td><td>90.0</td><td>20.0</td><td>9.64</td><td>10.29</td><td>45.0</td><td>9.0</td></tr><tr><td>Magic</td><td>Disney</td><td>15</td><td>83.338</td><td>17.5</td><td>9.64</td><td>8.75</td><td>47.62</td><td>9.45</td></tr><tr><td>Wonder</td><td>Disney</td><td>14</td><td>83.0</td><td>17.5</td><td>9.64</td><td>8.75</td><td>47.43</td><td>9.45</td></tr><tr><td>Amsterdam</td><td>Holland_American</td><td>13</td><td>61.0</td><td>13.8</td><td>7.8</td><td>6.88</td><td>44.2</td><td>6.0</td></tr><tr><td>Eurodam</td><td>Holland_American</td><td>5</td><td>86.0</td><td>21.04</td><td>9.36</td><td>10.22</td><td>40.87</td><td>8.0</td></tr><tr><td>Maasdam</td><td>Holland_American</td><td>20</td><td>55.451</td><td>12.64</td><td>7.19</td><td>6.32</td><td>43.87</td><td>5.57</td></tr><tr><td>Noordam</td><td>Holland_American</td><td>29</td><td>33.92</td><td>12.14</td><td>7.04</td><td>6.07</td><td>27.94</td><td>5.3</td></tr><tr><td>Oosterdam</td><td>Holland_American</td><td>10</td><td>81.76899999999999</td><td>18.48</td><td>9.59</td><td>9.24</td><td>44.25</td><td>8.42</td></tr><tr><td>Prinsendam</td><td>Holland_American</td><td>25</td><td>38.0</td><td>7.49</td><td>6.74</td><td>3.96</td><td>50.73</td><td>4.6</td></tr><tr><td>Rotterdam</td><td>Holland_American</td><td>16</td><td>59.652</td><td>13.2</td><td>7.77</td><td>6.6</td><td>45.19</td><td>6.44</td></tr><tr><td>Ryndam</td><td>Holland_American</td><td>19</td><td>55.451</td><td>12.66</td><td>7.19</td><td>6.33</td><td>43.8</td><td>5.88</td></tr><tr><td>Statendam</td><td>Holland_American</td><td>20</td><td>55.451</td><td>12.66</td><td>7.19</td><td>6.33</td><td>43.8</td><td>5.88</td></tr><tr><td>Veendam</td><td>Holland_American</td><td>17</td><td>55.451</td><td>12.66</td><td>7.19</td><td>6.33</td><td>43.8</td><td>5.88</td></tr><tr><td>Volendam</td><td>Holland_American</td><td>14</td><td>63.0</td><td>14.4</td><td>7.77</td><td>7.2</td><td>43.75</td><td>5.61</td></tr><tr><td>Westerdam</td><td>Holland_American</td><td>27</td><td>53.872</td><td>14.94</td><td>7.98</td><td>7.47</td><td>36.06</td><td>6.12</td></tr><tr><td>Zaandam</td><td>Holland_American</td><td>13</td><td>63.0</td><td>14.4</td><td>7.77</td><td>7.2</td><td>43.75</td><td>5.31</td></tr><tr><td>Zuiderdam</td><td>Holland_American</td><td>11</td><td>85.0</td><td>18.48</td><td>9.51</td><td>9.24</td><td>46.0</td><td>8.0</td></tr><tr><td>Armonia</td><td>MSC</td><td>12</td><td>58.6</td><td>15.66</td><td>8.24</td><td>7.83</td><td>37.42</td><td>7.0</td></tr><tr><td>Fantasia</td><td>MSC</td><td>5</td><td>133.5</td><td>39.59</td><td>10.93</td><td>16.37</td><td>33.72</td><td>13.13</td></tr><tr><td>Lirica</td><td>MSC</td><td>10</td><td>58.825</td><td>15.6</td><td>8.23</td><td>7.65</td><td>37.71</td><td>7.0</td></tr><tr><td>Melody</td><td>MSC</td><td>31</td><td>35.143</td><td>12.5</td><td>6.69</td><td>5.32</td><td>28.11</td><td>5.35</td></tr><tr><td>Musica</td><td>MSC</td><td>7</td><td>89.6</td><td>25.5</td><td>9.61</td><td>12.75</td><td>35.14</td><td>9.87</td></tr><tr><td>Opera</td><td>MSC</td><td>9</td><td>59.058</td><td>17.0</td><td>7.63</td><td>8.5</td><td>34.74</td><td>7.4</td></tr><tr><td>Rhapsody</td><td>MSC</td><td>36</td><td>16.852</td><td>9.52</td><td>5.41</td><td>3.83</td><td>17.7</td><td>2.97</td></tr><tr><td>Sinfonia</td><td>MSC</td><td>11</td><td>58.6</td><td>15.66</td><td>8.23</td><td>7.83</td><td>37.42</td><td>7.6</td></tr><tr><td>Crown</td><td>Norwegian</td><td>25</td><td>34.25</td><td>10.52</td><td>6.15</td><td>5.26</td><td>32.56</td><td>4.7</td></tr><tr><td>Dawn</td><td>Norwegian</td><td>11</td><td>90.0</td><td>22.4</td><td>9.65</td><td>11.2</td><td>40.18</td><td>11.0</td></tr><tr><td>Dream</td><td>Norwegian</td><td>21</td><td>50.76</td><td>17.48</td><td>7.54</td><td>8.74</td><td>29.04</td><td>6.14</td></tr><tr><td>Gem</td><td>Norwegian</td><td>6</td><td>93.0</td><td>23.94</td><td>9.65</td><td>11.97</td><td>38.85</td><td>11.09</td></tr><tr><td>Jewel</td><td>Norwegian</td><td>8</td><td>91.0</td><td>22.44</td><td>9.65</td><td>11.22</td><td>40.55</td><td>11.0</td></tr><tr><td>Majesty</td><td>Norwegian</td><td>21</td><td>38.0</td><td>10.56</td><td>5.67</td><td>5.28</td><td>35.98</td><td>4.38</td></tr><tr><td>PrideofAloha</td><td>Norwegian</td><td>14</td><td>77.104</td><td>20.02</td><td>8.53</td><td>10.01</td><td>38.51</td><td>8.0</td></tr><tr><td>PrideofAmerica</td><td>Norwegian</td><td>9</td><td>81.0</td><td>21.44</td><td>9.21</td><td>10.72</td><td>37.78</td><td>10.0</td></tr><tr><td>Sea</td><td>Norwegian</td><td>25</td><td>42.0</td><td>15.04</td><td>7.08</td><td>7.52</td><td>27.93</td><td>6.3</td></tr><tr><td>Spirit</td><td>Norwegian</td><td>15</td><td>75.33800000000001</td><td>19.56</td><td>8.79</td><td>9.83</td><td>38.52</td><td>13.0</td></tr><tr><td>Star</td><td>Norwegian</td><td>40</td><td>28.0</td><td>11.5</td><td>6.74</td><td>4.0</td><td>24.35</td><td>3.8</td></tr><tr><td>Sun</td><td>Norwegian</td><td>12</td><td>77.104</td><td>20.02</td><td>8.53</td><td>10.01</td><td>38.51</td><td>9.59</td></tr><tr><td>Wind</td><td>Norwegian</td><td>20</td><td>50.76</td><td>17.48</td><td>7.54</td><td>8.74</td><td>29.04</td><td>6.14</td></tr><tr><td>Insignia</td><td>Oceania</td><td>15</td><td>30.276999999999997</td><td>6.84</td><td>5.94</td><td>3.42</td><td>44.26</td><td>4.0</td></tr><tr><td>Nautica</td><td>Oceania</td><td>13</td><td>30.276999999999997</td><td>6.84</td><td>5.94</td><td>3.42</td><td>44.26</td><td>4.0</td></tr><tr><td>Regatta</td><td>Oceania</td><td>15</td><td>30.276999999999997</td><td>6.84</td><td>5.94</td><td>3.42</td><td>44.26</td><td>4.0</td></tr><tr><td>MarcoPolo</td><td>Orient</td><td>48</td><td>22.08</td><td>8.26</td><td>5.78</td><td>4.25</td><td>26.73</td><td>3.5</td></tr><tr><td>Arcadia</td><td>P&O</td><td>9</td><td>85.0</td><td>19.68</td><td>9.35</td><td>9.84</td><td>43.19</td><td>8.69</td></tr><tr><td>Artemis</td><td>P&O</td><td>29</td><td>45.0</td><td>11.78</td><td>7.54</td><td>5.3</td><td>38.2</td><td>5.2</td></tr><tr><td>Aurora</td><td>P&O</td><td>13</td><td>76.0</td><td>18.74</td><td>8.86</td><td>9.39</td><td>40.55</td><td>8.5</td></tr><tr><td>Oceana</td><td>P&O</td><td>10</td><td>77.0</td><td>20.16</td><td>8.56</td><td>9.75</td><td>38.19</td><td>9.0</td></tr><tr><td>Oriana</td><td>P&O</td><td>18</td><td>69.153</td><td>18.82</td><td>8.53</td><td>9.14</td><td>36.74</td><td>7.94</td></tr><tr><td>Ventura</td><td>P&O</td><td>5</td><td>115.0</td><td>35.74</td><td>9.0</td><td>15.32</td><td>32.18</td><td>12.2</td></tr><tr><td>Caribbean</td><td>Princess</td><td>9</td><td>116.0</td><td>26.0</td><td>9.51</td><td>13.0</td><td>44.62</td><td>11.0</td></tr><tr><td>Coral</td><td>Princess</td><td>11</td><td>91.62700000000001</td><td>19.74</td><td>9.64</td><td>9.87</td><td>46.42</td><td>9.0</td></tr><tr><td>Crown</td><td>Princess</td><td>7</td><td>116.0</td><td>31.0</td><td>9.51</td><td>15.57</td><td>37.42</td><td>12.0</td></tr><tr><td>Dawn</td><td>Princess</td><td>16</td><td>77.499</td><td>19.5</td><td>8.56</td><td>10.5</td><td>39.74</td><td>9.0</td></tr><tr><td>Diamond</td><td>Princess</td><td>9</td><td>113.0</td><td>26.74</td><td>9.51</td><td>13.37</td><td>42.26</td><td>12.38</td></tr><tr><td>Emerald</td><td>Princess</td><td>6</td><td>113.0</td><td>37.82</td><td>9.51</td><td>15.57</td><td>29.88</td><td>12.0</td></tr><tr><td>Golden</td><td>Princess</td><td>12</td><td>108.865</td><td>27.58</td><td>9.51</td><td>13.0</td><td>39.47</td><td>11.0</td></tr><tr><td>Grand</td><td>Princess</td><td>15</td><td>108.806</td><td>26.0</td><td>9.51</td><td>13.0</td><td>41.85</td><td>11.1</td></tr><tr><td>Island</td><td>Princess</td><td>10</td><td>91.62700000000001</td><td>19.74</td><td>9.64</td><td>9.87</td><td>46.42</td><td>9.0</td></tr><tr><td>Pacific</td><td>Princess</td><td>14</td><td>30.276999999999997</td><td>6.86</td><td>5.93</td><td>3.44</td><td>44.14</td><td>3.73</td></tr><tr><td>Regal</td><td>Princess</td><td>22</td><td>69.845</td><td>15.9</td><td>8.03</td><td>7.95</td><td>43.93</td><td>6.96</td></tr><tr><td>Royal</td><td>Princess</td><td>29</td><td>44.348</td><td>12.0</td><td>7.54</td><td>6.0</td><td>36.96</td><td>5.2</td></tr><tr><td>Saphire</td><td>Princess</td><td>9</td><td>113.0</td><td>26.74</td><td>9.51</td><td>13.37</td><td>42.26</td><td>12.38</td></tr><tr><td>Sea</td><td>Princess</td><td>8</td><td>77.499</td><td>19.5</td><td>8.56</td><td>9.75</td><td>39.74</td><td>9.0</td></tr><tr><td>Star</td><td>Princess</td><td>11</td><td>108.977</td><td>26.02</td><td>9.51</td><td>13.01</td><td>41.88</td><td>12.0</td></tr><tr><td>Sun</td><td>Princess</td><td>18</td><td>77.499</td><td>19.5</td><td>8.56</td><td>9.75</td><td>39.74</td><td>9.0</td></tr><tr><td>Tahitian</td><td>Princess</td><td>14</td><td>30.276999999999997</td><td>6.88</td><td>5.93</td><td>3.44</td><td>44.01</td><td>3.73</td></tr><tr><td>ExplorerII</td><td>Regent_Seven_Seas</td><td>27</td><td>12.5</td><td>3.94</td><td>4.36</td><td>0.88</td><td>31.73</td><td>1.46</td></tr><tr><td>Mariner</td><td>Regent_Seven_Seas</td><td>12</td><td>50.0</td><td>7.0</td><td>7.09</td><td>3.54</td><td>71.43</td><td>4.45</td></tr><tr><td>Navigator</td><td>Regent_Seven_Seas</td><td>14</td><td>33.0</td><td>4.9</td><td>5.6</td><td>2.45</td><td>67.35</td><td>3.24</td></tr><tr><td>PaulGauguin</td><td>Regent_Seven_Seas</td><td>16</td><td>19.2</td><td>3.2</td><td>5.13</td><td>1.6</td><td>60.0</td><td>2.11</td></tr><tr><td>Voyager</td><td>Regent_Seven_Seas</td><td>10</td><td>46.0</td><td>7.0</td><td>6.7</td><td>1.82</td><td>65.71</td><td>4.47</td></tr><tr><td>Adventure</td><td>Royal_Caribbean</td><td>12</td><td>138.0</td><td>31.14</td><td>10.2</td><td>15.57</td><td>44.32</td><td>11.85</td></tr><tr><td>Brilliance</td><td>Royal_Caribbean</td><td>11</td><td>90.09</td><td>25.01</td><td>9.62</td><td>10.5</td><td>36.02</td><td>8.48</td></tr><tr><td>Empress</td><td>Royal_Caribbean</td><td>23</td><td>48.563</td><td>20.2</td><td>6.92</td><td>8.0</td><td>24.04</td><td>6.71</td></tr><tr><td>Enchantment</td><td>Royal_Caribbean</td><td>16</td><td>74.137</td><td>19.5</td><td>9.16</td><td>9.75</td><td>38.02</td><td>7.6</td></tr><tr><td>Explorer</td><td>Royal_Caribbean</td><td>13</td><td>138.0</td><td>31.14</td><td>10.2</td><td>15.57</td><td>44.32</td><td>11.76</td></tr><tr><td>Freedom</td><td>Royal_Caribbean</td><td>7</td><td>158.0</td><td>43.7</td><td>11.12</td><td>18.0</td><td>36.16</td><td>13.6</td></tr><tr><td>Grandeur</td><td>Royal_Caribbean</td><td>17</td><td>74.137</td><td>19.5</td><td>9.16</td><td>9.75</td><td>38.02</td><td>7.6</td></tr><tr><td>Independence</td><td>Royal_Caribbean</td><td>5</td><td>160.0</td><td>36.34</td><td>11.12</td><td>18.17</td><td>44.03</td><td>13.6</td></tr><tr><td>Jewel</td><td>Royal_Caribbean</td><td>9</td><td>90.09</td><td>25.01</td><td>9.62</td><td>10.94</td><td>36.02</td><td>8.69</td></tr><tr><td>Legend</td><td>Royal_Caribbean</td><td>18</td><td>70.0</td><td>18.0</td><td>8.67</td><td>9.0</td><td>38.89</td><td>7.2</td></tr><tr><td>Liberty</td><td>Royal_Caribbean</td><td>6</td><td>158.0</td><td>43.7</td><td>11.25</td><td>18.0</td><td>36.16</td><td>13.6</td></tr><tr><td>Majesty</td><td>Royal_Caribbean</td><td>21</td><td>73.941</td><td>27.44</td><td>8.8</td><td>11.75</td><td>26.95</td><td>8.22</td></tr><tr><td>Mariner</td><td>Royal_Caribbean</td><td>10</td><td>138.0</td><td>31.14</td><td>10.2</td><td>15.57</td><td>44.32</td><td>11.85</td></tr><tr><td>Monarch</td><td>Royal_Caribbean</td><td>22</td><td>73.941</td><td>27.44</td><td>8.8</td><td>11.77</td><td>30.94</td><td>8.22</td></tr><tr><td>Navigator</td><td>Royal_Caribbean</td><td>11</td><td>138.0</td><td>31.14</td><td>10.2</td><td>15.57</td><td>44.32</td><td>11.85</td></tr><tr><td>Oasis</td><td>Royal_Caribbean</td><td>4</td><td>220.0</td><td>54.0</td><td>11.82</td><td>27.0</td><td>40.74</td><td>21.0</td></tr><tr><td>Radiance</td><td>Royal_Caribbean</td><td>12</td><td>90.09</td><td>25.01</td><td>9.62</td><td>10.5</td><td>36.02</td><td>8.68</td></tr><tr><td>Rhapsody</td><td>Royal_Caribbean</td><td>16</td><td>78.491</td><td>24.35</td><td>9.15</td><td>10.0</td><td>32.23</td><td>7.65</td></tr><tr><td>Serenade</td><td>Royal_Caribbean</td><td>10</td><td>90.09</td><td>25.01</td><td>9.62</td><td>10.5</td><td>36.02</td><td>8.58</td></tr><tr><td>Sovreign</td><td>Royal_Caribbean</td><td>25</td><td>73.192</td><td>28.52</td><td>8.8</td><td>11.38</td><td>25.66</td><td>8.08</td></tr><tr><td>Splendour</td><td>Royal_Caribbean</td><td>17</td><td>70.0</td><td>20.76</td><td>8.67</td><td>9.02</td><td>33.72</td><td>7.2</td></tr><tr><td>Vision</td><td>Royal_Caribbean</td><td>15</td><td>78.491</td><td>24.35</td><td>9.15</td><td>10.0</td><td>32.23</td><td>6.6</td></tr><tr><td>Voyager</td><td>Royal_Caribbean</td><td>14</td><td>138.0</td><td>31.14</td><td>10.2</td><td>15.57</td><td>44.32</td><td>11.76</td></tr><tr><td>Legend</td><td>Seabourn</td><td>21</td><td>10.0</td><td>2.08</td><td>4.4</td><td>1.04</td><td>48.08</td><td>1.6</td></tr><tr><td>Pride</td><td>Seabourn</td><td>27</td><td>10.0</td><td>2.08</td><td>4.4</td><td>1.04</td><td>48.08</td><td>1.6</td></tr><tr><td>Spirit</td><td>Seabourn</td><td>24</td><td>10.0</td><td>2.08</td><td>4.4</td><td>1.04</td><td>48.08</td><td>1.6</td></tr><tr><td>Cloud</td><td>Silversea</td><td>19</td><td>16.8</td><td>2.96</td><td>5.14</td><td>1.48</td><td>56.76</td><td>2.1</td></tr><tr><td>Shadow</td><td>Silversea</td><td>13</td><td>25.0</td><td>3.82</td><td>5.97</td><td>1.94</td><td>65.45</td><td>2.95</td></tr><tr><td>Whisper</td><td>Silversea</td><td>12</td><td>25.0</td><td>3.88</td><td>5.97</td><td>1.94</td><td>64.43</td><td>2.87</td></tr><tr><td>Wind</td><td>Silversea</td><td>19</td><td>16.8</td><td>2.96</td><td>5.14</td><td>1.48</td><td>56.76</td><td>1.97</td></tr><tr><td>Aries</td><td>Star</td><td>22</td><td>3.341</td><td>0.66</td><td>2.8</td><td>0.33</td><td>50.62</td><td>0.59</td></tr><tr><td>Gemini</td><td>Star</td><td>21</td><td>19.093</td><td>8.0</td><td>5.37</td><td>4.0</td><td>23.87</td><td>4.7</td></tr><tr><td>Libra</td><td>Star</td><td>12</td><td>42.0</td><td>14.8</td><td>7.13</td><td>7.4</td><td>28.38</td><td>6.8</td></tr><tr><td>Pisces</td><td>Star</td><td>24</td><td>40.053000000000004</td><td>12.87</td><td>5.79</td><td>7.76</td><td>31.12</td><td>7.5</td></tr><tr><td>Taurus</td><td>Star</td><td>22</td><td>3.341</td><td>0.66</td><td>2.79</td><td>0.33</td><td>50.62</td><td>0.59</td></tr><tr><td>Virgo</td><td>Star</td><td>14</td><td>76.8</td><td>19.6</td><td>8.79</td><td>9.67</td><td>39.18</td><td>12.0</td></tr><tr><td>Spirit</td><td>Windstar</td><td>25</td><td>5.35</td><td>1.58</td><td>4.4</td><td>0.74</td><td>33.86</td><td>0.88</td></tr><tr><td>Star</td><td>Windstar</td><td>27</td><td>5.35</td><td>1.67</td><td>4.4</td><td>0.74</td><td>32.04</td><td>0.88</td></tr><tr><td>Surf</td><td>Windstar</td><td>23</td><td>14.745</td><td>3.08</td><td>6.17</td><td>1.56</td><td>47.87</td><td>1.8</td></tr></tbody></table></div>"
      ]
     },
     "metadata": {
      "application/vnd.databricks.v1+output": {
       "addedWidgets": {},
       "aggData": [],
       "aggError": "",
       "aggOverflow": false,
       "aggSchema": [],
       "aggSeriesLimitReached": false,
       "aggType": "",
       "arguments": {},
       "columnCustomDisplayInfos": {},
       "data": [
        [
         "Journey",
         "Azamara",
         6,
         30.276999999999997,
         6.94,
         5.94,
         3.55,
         42.64,
         3.55
        ],
        [
         "Quest",
         "Azamara",
         6,
         30.276999999999997,
         6.94,
         5.94,
         3.55,
         42.64,
         3.55
        ],
        [
         "Celebration",
         "Carnival",
         26,
         47.262,
         14.86,
         7.22,
         7.43,
         31.8,
         6.7
        ],
        [
         "Conquest",
         "Carnival",
         11,
         110.0,
         29.74,
         9.53,
         14.88,
         36.99,
         19.1
        ],
        [
         "Destiny",
         "Carnival",
         17,
         101.353,
         26.42,
         8.92,
         13.21,
         38.36,
         10.0
        ],
        [
         "Ecstasy",
         "Carnival",
         22,
         70.367,
         20.52,
         8.55,
         10.2,
         34.29,
         9.2
        ],
        [
         "Elation",
         "Carnival",
         15,
         70.367,
         20.52,
         8.55,
         10.2,
         34.29,
         9.2
        ],
        [
         "Fantasy",
         "Carnival",
         23,
         70.367,
         20.56,
         8.55,
         10.22,
         34.23,
         9.2
        ],
        [
         "Fascination",
         "Carnival",
         19,
         70.367,
         20.52,
         8.55,
         10.2,
         34.29,
         9.2
        ],
        [
         "Freedom",
         "Carnival",
         6,
         110.23899999999999,
         37.0,
         9.51,
         14.87,
         29.79,
         11.5
        ],
        [
         "Glory",
         "Carnival",
         10,
         110.0,
         29.74,
         9.51,
         14.87,
         36.99,
         11.6
        ],
        [
         "Holiday",
         "Carnival",
         28,
         46.052,
         14.52,
         7.27,
         7.26,
         31.72,
         6.6
        ],
        [
         "Imagination",
         "Carnival",
         18,
         70.367,
         20.52,
         8.55,
         10.2,
         34.29,
         9.2
        ],
        [
         "Inspiration",
         "Carnival",
         17,
         70.367,
         20.52,
         8.55,
         10.2,
         34.29,
         9.2
        ],
        [
         "Legend",
         "Carnival",
         11,
         86.0,
         21.24,
         9.63,
         10.62,
         40.49,
         9.3
        ],
        [
         "Liberty*",
         "Carnival",
         8,
         110.0,
         29.74,
         9.51,
         14.87,
         36.99,
         11.6
        ],
        [
         "Miracle",
         "Carnival",
         9,
         88.5,
         21.24,
         9.63,
         10.62,
         41.67,
         10.3
        ],
        [
         "Paradise",
         "Carnival",
         15,
         70.367,
         20.52,
         8.55,
         10.2,
         34.29,
         9.2
        ],
        [
         "Pride",
         "Carnival",
         12,
         88.5,
         21.24,
         9.63,
         11.62,
         41.67,
         9.3
        ],
        [
         "Sensation",
         "Carnival",
         20,
         70.367,
         20.52,
         8.55,
         10.2,
         34.29,
         9.2
        ],
        [
         "Spirit",
         "Carnival",
         12,
         88.5,
         21.24,
         9.63,
         10.56,
         41.67,
         10.29
        ],
        [
         "Triumph",
         "Carnival",
         14,
         101.509,
         27.58,
         8.93,
         13.21,
         36.81,
         10.0
        ],
        [
         "Valor",
         "Carnival",
         9,
         110.0,
         29.74,
         9.52,
         14.87,
         36.99,
         11.6
        ],
        [
         "Victory",
         "Carnival",
         13,
         101.509,
         27.58,
         8.93,
         13.79,
         36.81,
         11.5
        ],
        [
         "Century",
         "Celebrity",
         18,
         70.60600000000001,
         17.7,
         8.15,
         8.75,
         39.89,
         8.58
        ],
        [
         "Constellation",
         "Celebrity",
         11,
         91.0,
         20.32,
         9.65,
         9.75,
         44.78,
         9.99
        ],
        [
         "Galaxy",
         "Celebrity",
         17,
         77.71300000000001,
         18.9,
         8.66,
         9.35,
         41.12,
         9.09
        ],
        [
         "Infinity",
         "Celebrity",
         12,
         91.0,
         20.32,
         9.65,
         9.75,
         44.78,
         9.99
        ],
        [
         "Mercury",
         "Celebrity",
         16,
         77.71300000000001,
         18.82,
         8.66,
         9.35,
         41.29,
         9.09
        ],
        [
         "Millenium",
         "Celebrity",
         13,
         91.0,
         20.32,
         9.65,
         9.75,
         44.78,
         9.99
        ],
        [
         "Solstice",
         "Celebrity",
         5,
         122.0,
         28.5,
         10.33,
         6.87,
         34.57,
         6.7
        ],
        [
         "Summit",
         "Celebrity",
         12,
         91.0,
         20.32,
         9.65,
         9.75,
         44.78,
         9.99
        ],
        [
         "Xpedition",
         "Celebrity",
         12,
         2.329,
         0.94,
         2.96,
         0.45,
         24.78,
         0.6
        ],
        [
         "Zenith",
         "Celebrity",
         21,
         47.225,
         13.66,
         6.82,
         6.87,
         34.57,
         6.7
        ],
        [
         "Allegra",
         "Costa",
         21,
         28.43,
         8.08,
         6.16,
         4.1,
         35.19,
         4.0
        ],
        [
         "Atlantica",
         "Costa",
         13,
         85.619,
         21.14,
         9.57,
         10.56,
         40.5,
         9.2
        ],
        [
         "Classica",
         "Costa",
         22,
         52.926,
         13.02,
         7.18,
         6.54,
         40.65,
         6.17
        ],
        [
         "Europa",
         "Costa",
         27,
         53.872,
         14.94,
         7.98,
         7.67,
         36.06,
         6.36
        ],
        [
         "Fortuna",
         "Costa",
         10,
         105.0,
         27.2,
         8.9,
         13.56,
         38.6,
         10.68
        ],
        [
         "Magica",
         "Costa",
         9,
         105.0,
         27.2,
         8.9,
         13.56,
         38.6,
         10.68
        ],
        [
         "Marina",
         "Costa",
         23,
         25.0,
         7.76,
         6.22,
         3.86,
         32.22,
         3.85
        ],
        [
         "Mediterranea",
         "Costa",
         10,
         86.0,
         21.14,
         9.6,
         10.56,
         40.68,
         9.2
        ],
        [
         "Romantica",
         "Costa",
         20,
         53.049,
         13.44,
         7.22,
         6.78,
         39.47,
         6.0
        ],
        [
         "Serena",
         "Costa",
         6,
         112.0,
         38.0,
         9.51,
         15.0,
         29.47,
         10.9
        ],
        [
         "Victoria",
         "Costa",
         17,
         75.166,
         19.28,
         8.28,
         9.64,
         38.99,
         7.66
        ],
        [
         "Serenity",
         "Crystal",
         10,
         68.0,
         10.8,
         7.9,
         5.5,
         62.96,
         6.36
        ],
        [
         "Symphony",
         "Crystal",
         18,
         51.004,
         9.4,
         7.81,
         4.8,
         54.26,
         5.45
        ],
        [
         "QueenElizabethII",
         "Cunard",
         44,
         70.327,
         17.91,
         9.63,
         9.5,
         39.27,
         9.21
        ],
        [
         "QueenMary2",
         "Cunard",
         10,
         151.4,
         26.2,
         11.32,
         11.34,
         57.79,
         12.53
        ],
        [
         "QueenVictoria",
         "Cunard",
         6,
         90.0,
         20.0,
         9.64,
         10.29,
         45.0,
         9.0
        ],
        [
         "Magic",
         "Disney",
         15,
         83.338,
         17.5,
         9.64,
         8.75,
         47.62,
         9.45
        ],
        [
         "Wonder",
         "Disney",
         14,
         83.0,
         17.5,
         9.64,
         8.75,
         47.43,
         9.45
        ],
        [
         "Amsterdam",
         "Holland_American",
         13,
         61.0,
         13.8,
         7.8,
         6.88,
         44.2,
         6.0
        ],
        [
         "Eurodam",
         "Holland_American",
         5,
         86.0,
         21.04,
         9.36,
         10.22,
         40.87,
         8.0
        ],
        [
         "Maasdam",
         "Holland_American",
         20,
         55.451,
         12.64,
         7.19,
         6.32,
         43.87,
         5.57
        ],
        [
         "Noordam",
         "Holland_American",
         29,
         33.92,
         12.14,
         7.04,
         6.07,
         27.94,
         5.3
        ],
        [
         "Oosterdam",
         "Holland_American",
         10,
         81.76899999999999,
         18.48,
         9.59,
         9.24,
         44.25,
         8.42
        ],
        [
         "Prinsendam",
         "Holland_American",
         25,
         38.0,
         7.49,
         6.74,
         3.96,
         50.73,
         4.6
        ],
        [
         "Rotterdam",
         "Holland_American",
         16,
         59.652,
         13.2,
         7.77,
         6.6,
         45.19,
         6.44
        ],
        [
         "Ryndam",
         "Holland_American",
         19,
         55.451,
         12.66,
         7.19,
         6.33,
         43.8,
         5.88
        ],
        [
         "Statendam",
         "Holland_American",
         20,
         55.451,
         12.66,
         7.19,
         6.33,
         43.8,
         5.88
        ],
        [
         "Veendam",
         "Holland_American",
         17,
         55.451,
         12.66,
         7.19,
         6.33,
         43.8,
         5.88
        ],
        [
         "Volendam",
         "Holland_American",
         14,
         63.0,
         14.4,
         7.77,
         7.2,
         43.75,
         5.61
        ],
        [
         "Westerdam",
         "Holland_American",
         27,
         53.872,
         14.94,
         7.98,
         7.47,
         36.06,
         6.12
        ],
        [
         "Zaandam",
         "Holland_American",
         13,
         63.0,
         14.4,
         7.77,
         7.2,
         43.75,
         5.31
        ],
        [
         "Zuiderdam",
         "Holland_American",
         11,
         85.0,
         18.48,
         9.51,
         9.24,
         46.0,
         8.0
        ],
        [
         "Armonia",
         "MSC",
         12,
         58.6,
         15.66,
         8.24,
         7.83,
         37.42,
         7.0
        ],
        [
         "Fantasia",
         "MSC",
         5,
         133.5,
         39.59,
         10.93,
         16.37,
         33.72,
         13.13
        ],
        [
         "Lirica",
         "MSC",
         10,
         58.825,
         15.6,
         8.23,
         7.65,
         37.71,
         7.0
        ],
        [
         "Melody",
         "MSC",
         31,
         35.143,
         12.5,
         6.69,
         5.32,
         28.11,
         5.35
        ],
        [
         "Musica",
         "MSC",
         7,
         89.6,
         25.5,
         9.61,
         12.75,
         35.14,
         9.87
        ],
        [
         "Opera",
         "MSC",
         9,
         59.058,
         17.0,
         7.63,
         8.5,
         34.74,
         7.4
        ],
        [
         "Rhapsody",
         "MSC",
         36,
         16.852,
         9.52,
         5.41,
         3.83,
         17.7,
         2.97
        ],
        [
         "Sinfonia",
         "MSC",
         11,
         58.6,
         15.66,
         8.23,
         7.83,
         37.42,
         7.6
        ],
        [
         "Crown",
         "Norwegian",
         25,
         34.25,
         10.52,
         6.15,
         5.26,
         32.56,
         4.7
        ],
        [
         "Dawn",
         "Norwegian",
         11,
         90.0,
         22.4,
         9.65,
         11.2,
         40.18,
         11.0
        ],
        [
         "Dream",
         "Norwegian",
         21,
         50.76,
         17.48,
         7.54,
         8.74,
         29.04,
         6.14
        ],
        [
         "Gem",
         "Norwegian",
         6,
         93.0,
         23.94,
         9.65,
         11.97,
         38.85,
         11.09
        ],
        [
         "Jewel",
         "Norwegian",
         8,
         91.0,
         22.44,
         9.65,
         11.22,
         40.55,
         11.0
        ],
        [
         "Majesty",
         "Norwegian",
         21,
         38.0,
         10.56,
         5.67,
         5.28,
         35.98,
         4.38
        ],
        [
         "PrideofAloha",
         "Norwegian",
         14,
         77.104,
         20.02,
         8.53,
         10.01,
         38.51,
         8.0
        ],
        [
         "PrideofAmerica",
         "Norwegian",
         9,
         81.0,
         21.44,
         9.21,
         10.72,
         37.78,
         10.0
        ],
        [
         "Sea",
         "Norwegian",
         25,
         42.0,
         15.04,
         7.08,
         7.52,
         27.93,
         6.3
        ],
        [
         "Spirit",
         "Norwegian",
         15,
         75.33800000000001,
         19.56,
         8.79,
         9.83,
         38.52,
         13.0
        ],
        [
         "Star",
         "Norwegian",
         40,
         28.0,
         11.5,
         6.74,
         4.0,
         24.35,
         3.8
        ],
        [
         "Sun",
         "Norwegian",
         12,
         77.104,
         20.02,
         8.53,
         10.01,
         38.51,
         9.59
        ],
        [
         "Wind",
         "Norwegian",
         20,
         50.76,
         17.48,
         7.54,
         8.74,
         29.04,
         6.14
        ],
        [
         "Insignia",
         "Oceania",
         15,
         30.276999999999997,
         6.84,
         5.94,
         3.42,
         44.26,
         4.0
        ],
        [
         "Nautica",
         "Oceania",
         13,
         30.276999999999997,
         6.84,
         5.94,
         3.42,
         44.26,
         4.0
        ],
        [
         "Regatta",
         "Oceania",
         15,
         30.276999999999997,
         6.84,
         5.94,
         3.42,
         44.26,
         4.0
        ],
        [
         "MarcoPolo",
         "Orient",
         48,
         22.08,
         8.26,
         5.78,
         4.25,
         26.73,
         3.5
        ],
        [
         "Arcadia",
         "P&O",
         9,
         85.0,
         19.68,
         9.35,
         9.84,
         43.19,
         8.69
        ],
        [
         "Artemis",
         "P&O",
         29,
         45.0,
         11.78,
         7.54,
         5.3,
         38.2,
         5.2
        ],
        [
         "Aurora",
         "P&O",
         13,
         76.0,
         18.74,
         8.86,
         9.39,
         40.55,
         8.5
        ],
        [
         "Oceana",
         "P&O",
         10,
         77.0,
         20.16,
         8.56,
         9.75,
         38.19,
         9.0
        ],
        [
         "Oriana",
         "P&O",
         18,
         69.153,
         18.82,
         8.53,
         9.14,
         36.74,
         7.94
        ],
        [
         "Ventura",
         "P&O",
         5,
         115.0,
         35.74,
         9.0,
         15.32,
         32.18,
         12.2
        ],
        [
         "Caribbean",
         "Princess",
         9,
         116.0,
         26.0,
         9.51,
         13.0,
         44.62,
         11.0
        ],
        [
         "Coral",
         "Princess",
         11,
         91.62700000000001,
         19.74,
         9.64,
         9.87,
         46.42,
         9.0
        ],
        [
         "Crown",
         "Princess",
         7,
         116.0,
         31.0,
         9.51,
         15.57,
         37.42,
         12.0
        ],
        [
         "Dawn",
         "Princess",
         16,
         77.499,
         19.5,
         8.56,
         10.5,
         39.74,
         9.0
        ],
        [
         "Diamond",
         "Princess",
         9,
         113.0,
         26.74,
         9.51,
         13.37,
         42.26,
         12.38
        ],
        [
         "Emerald",
         "Princess",
         6,
         113.0,
         37.82,
         9.51,
         15.57,
         29.88,
         12.0
        ],
        [
         "Golden",
         "Princess",
         12,
         108.865,
         27.58,
         9.51,
         13.0,
         39.47,
         11.0
        ],
        [
         "Grand",
         "Princess",
         15,
         108.806,
         26.0,
         9.51,
         13.0,
         41.85,
         11.1
        ],
        [
         "Island",
         "Princess",
         10,
         91.62700000000001,
         19.74,
         9.64,
         9.87,
         46.42,
         9.0
        ],
        [
         "Pacific",
         "Princess",
         14,
         30.276999999999997,
         6.86,
         5.93,
         3.44,
         44.14,
         3.73
        ],
        [
         "Regal",
         "Princess",
         22,
         69.845,
         15.9,
         8.03,
         7.95,
         43.93,
         6.96
        ],
        [
         "Royal",
         "Princess",
         29,
         44.348,
         12.0,
         7.54,
         6.0,
         36.96,
         5.2
        ],
        [
         "Saphire",
         "Princess",
         9,
         113.0,
         26.74,
         9.51,
         13.37,
         42.26,
         12.38
        ],
        [
         "Sea",
         "Princess",
         8,
         77.499,
         19.5,
         8.56,
         9.75,
         39.74,
         9.0
        ],
        [
         "Star",
         "Princess",
         11,
         108.977,
         26.02,
         9.51,
         13.01,
         41.88,
         12.0
        ],
        [
         "Sun",
         "Princess",
         18,
         77.499,
         19.5,
         8.56,
         9.75,
         39.74,
         9.0
        ],
        [
         "Tahitian",
         "Princess",
         14,
         30.276999999999997,
         6.88,
         5.93,
         3.44,
         44.01,
         3.73
        ],
        [
         "ExplorerII",
         "Regent_Seven_Seas",
         27,
         12.5,
         3.94,
         4.36,
         0.88,
         31.73,
         1.46
        ],
        [
         "Mariner",
         "Regent_Seven_Seas",
         12,
         50.0,
         7.0,
         7.09,
         3.54,
         71.43,
         4.45
        ],
        [
         "Navigator",
         "Regent_Seven_Seas",
         14,
         33.0,
         4.9,
         5.6,
         2.45,
         67.35,
         3.24
        ],
        [
         "PaulGauguin",
         "Regent_Seven_Seas",
         16,
         19.2,
         3.2,
         5.13,
         1.6,
         60.0,
         2.11
        ],
        [
         "Voyager",
         "Regent_Seven_Seas",
         10,
         46.0,
         7.0,
         6.7,
         1.82,
         65.71,
         4.47
        ],
        [
         "Adventure",
         "Royal_Caribbean",
         12,
         138.0,
         31.14,
         10.2,
         15.57,
         44.32,
         11.85
        ],
        [
         "Brilliance",
         "Royal_Caribbean",
         11,
         90.09,
         25.01,
         9.62,
         10.5,
         36.02,
         8.48
        ],
        [
         "Empress",
         "Royal_Caribbean",
         23,
         48.563,
         20.2,
         6.92,
         8.0,
         24.04,
         6.71
        ],
        [
         "Enchantment",
         "Royal_Caribbean",
         16,
         74.137,
         19.5,
         9.16,
         9.75,
         38.02,
         7.6
        ],
        [
         "Explorer",
         "Royal_Caribbean",
         13,
         138.0,
         31.14,
         10.2,
         15.57,
         44.32,
         11.76
        ],
        [
         "Freedom",
         "Royal_Caribbean",
         7,
         158.0,
         43.7,
         11.12,
         18.0,
         36.16,
         13.6
        ],
        [
         "Grandeur",
         "Royal_Caribbean",
         17,
         74.137,
         19.5,
         9.16,
         9.75,
         38.02,
         7.6
        ],
        [
         "Independence",
         "Royal_Caribbean",
         5,
         160.0,
         36.34,
         11.12,
         18.17,
         44.03,
         13.6
        ],
        [
         "Jewel",
         "Royal_Caribbean",
         9,
         90.09,
         25.01,
         9.62,
         10.94,
         36.02,
         8.69
        ],
        [
         "Legend",
         "Royal_Caribbean",
         18,
         70.0,
         18.0,
         8.67,
         9.0,
         38.89,
         7.2
        ],
        [
         "Liberty",
         "Royal_Caribbean",
         6,
         158.0,
         43.7,
         11.25,
         18.0,
         36.16,
         13.6
        ],
        [
         "Majesty",
         "Royal_Caribbean",
         21,
         73.941,
         27.44,
         8.8,
         11.75,
         26.95,
         8.22
        ],
        [
         "Mariner",
         "Royal_Caribbean",
         10,
         138.0,
         31.14,
         10.2,
         15.57,
         44.32,
         11.85
        ],
        [
         "Monarch",
         "Royal_Caribbean",
         22,
         73.941,
         27.44,
         8.8,
         11.77,
         30.94,
         8.22
        ],
        [
         "Navigator",
         "Royal_Caribbean",
         11,
         138.0,
         31.14,
         10.2,
         15.57,
         44.32,
         11.85
        ],
        [
         "Oasis",
         "Royal_Caribbean",
         4,
         220.0,
         54.0,
         11.82,
         27.0,
         40.74,
         21.0
        ],
        [
         "Radiance",
         "Royal_Caribbean",
         12,
         90.09,
         25.01,
         9.62,
         10.5,
         36.02,
         8.68
        ],
        [
         "Rhapsody",
         "Royal_Caribbean",
         16,
         78.491,
         24.35,
         9.15,
         10.0,
         32.23,
         7.65
        ],
        [
         "Serenade",
         "Royal_Caribbean",
         10,
         90.09,
         25.01,
         9.62,
         10.5,
         36.02,
         8.58
        ],
        [
         "Sovreign",
         "Royal_Caribbean",
         25,
         73.192,
         28.52,
         8.8,
         11.38,
         25.66,
         8.08
        ],
        [
         "Splendour",
         "Royal_Caribbean",
         17,
         70.0,
         20.76,
         8.67,
         9.02,
         33.72,
         7.2
        ],
        [
         "Vision",
         "Royal_Caribbean",
         15,
         78.491,
         24.35,
         9.15,
         10.0,
         32.23,
         6.6
        ],
        [
         "Voyager",
         "Royal_Caribbean",
         14,
         138.0,
         31.14,
         10.2,
         15.57,
         44.32,
         11.76
        ],
        [
         "Legend",
         "Seabourn",
         21,
         10.0,
         2.08,
         4.4,
         1.04,
         48.08,
         1.6
        ],
        [
         "Pride",
         "Seabourn",
         27,
         10.0,
         2.08,
         4.4,
         1.04,
         48.08,
         1.6
        ],
        [
         "Spirit",
         "Seabourn",
         24,
         10.0,
         2.08,
         4.4,
         1.04,
         48.08,
         1.6
        ],
        [
         "Cloud",
         "Silversea",
         19,
         16.8,
         2.96,
         5.14,
         1.48,
         56.76,
         2.1
        ],
        [
         "Shadow",
         "Silversea",
         13,
         25.0,
         3.82,
         5.97,
         1.94,
         65.45,
         2.95
        ],
        [
         "Whisper",
         "Silversea",
         12,
         25.0,
         3.88,
         5.97,
         1.94,
         64.43,
         2.87
        ],
        [
         "Wind",
         "Silversea",
         19,
         16.8,
         2.96,
         5.14,
         1.48,
         56.76,
         1.97
        ],
        [
         "Aries",
         "Star",
         22,
         3.341,
         0.66,
         2.8,
         0.33,
         50.62,
         0.59
        ],
        [
         "Gemini",
         "Star",
         21,
         19.093,
         8.0,
         5.37,
         4.0,
         23.87,
         4.7
        ],
        [
         "Libra",
         "Star",
         12,
         42.0,
         14.8,
         7.13,
         7.4,
         28.38,
         6.8
        ],
        [
         "Pisces",
         "Star",
         24,
         40.053000000000004,
         12.87,
         5.79,
         7.76,
         31.12,
         7.5
        ],
        [
         "Taurus",
         "Star",
         22,
         3.341,
         0.66,
         2.79,
         0.33,
         50.62,
         0.59
        ],
        [
         "Virgo",
         "Star",
         14,
         76.8,
         19.6,
         8.79,
         9.67,
         39.18,
         12.0
        ],
        [
         "Spirit",
         "Windstar",
         25,
         5.35,
         1.58,
         4.4,
         0.74,
         33.86,
         0.88
        ],
        [
         "Star",
         "Windstar",
         27,
         5.35,
         1.67,
         4.4,
         0.74,
         32.04,
         0.88
        ],
        [
         "Surf",
         "Windstar",
         23,
         14.745,
         3.08,
         6.17,
         1.56,
         47.87,
         1.8
        ]
       ],
       "datasetInfos": [],
       "dbfsResultPath": null,
       "isJsonSchema": true,
       "metadata": {},
       "overflow": false,
       "plotOptions": {
        "customPlotOptions": {},
        "displayType": "table",
        "pivotAggregation": null,
        "pivotColumns": null,
        "xColumns": null,
        "yColumns": null
       },
       "removedWidgets": [],
       "schema": [
        {
         "metadata": "{}",
         "name": "Ship_name",
         "type": "\"string\""
        },
        {
         "metadata": "{}",
         "name": "Cruise_line",
         "type": "\"string\""
        },
        {
         "metadata": "{}",
         "name": "Age",
         "type": "\"integer\""
        },
        {
         "metadata": "{}",
         "name": "Tonnage",
         "type": "\"double\""
        },
        {
         "metadata": "{}",
         "name": "passengers",
         "type": "\"double\""
        },
        {
         "metadata": "{}",
         "name": "length",
         "type": "\"double\""
        },
        {
         "metadata": "{}",
         "name": "cabins",
         "type": "\"double\""
        },
        {
         "metadata": "{}",
         "name": "passenger_density",
         "type": "\"double\""
        },
        {
         "metadata": "{}",
         "name": "crew",
         "type": "\"double\""
        }
       ],
       "type": "table"
      }
     },
     "output_type": "display_data"
    },
    {
     "output_type": "display_data",
     "data": {
      "text/plain": [
       "Databricks visualization. Run in Databricks to view."
      ]
     },
     "metadata": {
      "application/vnd.databricks.v1.subcommand+json": {
       "baseErrorDetails": null,
       "bindings": {},
       "collapsed": false,
       "command": "%python\n__backend_agg_display_orig = display\n__backend_agg_dfs = []\ndef __backend_agg_display_new(df):\n    __backend_agg_df_modules = [\"pandas.core.frame\", \"databricks.koalas.frame\", \"pyspark.sql.dataframe\", \"pyspark.pandas.frame\", \"pyspark.sql.connect.dataframe\"]\n    if (type(df).__module__ in __backend_agg_df_modules and type(df).__name__ == 'DataFrame') or isinstance(df, list):\n        __backend_agg_dfs.append(df)\n\ndisplay = __backend_agg_display_new\n\ndef __backend_agg_user_code_fn():\n    import base64\n    exec(base64.standard_b64decode(\"ZGYuZGlzcGxheSgp\").decode())\n\ntry:\n    # run user code\n    __backend_agg_user_code_fn()\n\n    #reset display function\n    display = __backend_agg_display_orig\n\n    if len(__backend_agg_dfs) > 0:\n        # create a temp view\n        if type(__backend_agg_dfs[0]).__module__ == \"databricks.koalas.frame\":\n            # koalas dataframe\n            __backend_agg_dfs[0].to_spark().createOrReplaceTempView(\"DatabricksView47ab5be\")\n        elif type(__backend_agg_dfs[0]).__module__ == \"pandas.core.frame\" or isinstance(__backend_agg_dfs[0], list):\n            # pandas dataframe\n            spark.createDataFrame(__backend_agg_dfs[0]).createOrReplaceTempView(\"DatabricksView47ab5be\")\n        else:\n            __backend_agg_dfs[0].createOrReplaceTempView(\"DatabricksView47ab5be\")\n        #run backend agg\n        display(spark.sql(\"\"\"WITH q AS (select * from DatabricksView47ab5be) SELECT `Ship_name`,SUM(`Age`) `column_fe5f2e0d13` FROM q GROUP BY `Ship_name`\"\"\"))\n    else:\n        displayHTML(\"dataframe no longer exists. If you're using dataframe.display(), use display(dataframe) instead.\")\n\n\nfinally:\n    spark.sql(\"drop view if exists DatabricksView47ab5be\")\n    display = __backend_agg_display_orig\n    del __backend_agg_display_new\n    del __backend_agg_display_orig\n    del __backend_agg_dfs\n    del __backend_agg_user_code_fn\n\n",
       "commandTitle": "Visualization 1",
       "commandType": "auto",
       "commandVersion": 0,
       "commentThread": [],
       "commentsVisible": false,
       "contentSha256Hex": null,
       "customPlotOptions": {
        "redashChart": [
         {
          "key": "type",
          "value": "CHART"
         },
         {
          "key": "options",
          "value": {
           "alignYAxesAtZero": true,
           "coefficient": 1,
           "columnConfigurationMap": {
            "x": {
             "column": "Ship_name",
             "id": "column_fe5f2e0d11"
            },
            "y": [
             {
              "column": "Age",
              "id": "column_fe5f2e0d13",
              "transform": "SUM"
             }
            ]
           },
           "dateTimeFormat": "DD/MM/YYYY HH:mm",
           "direction": {
            "type": "counterclockwise"
           },
           "error_y": {
            "type": "data",
            "visible": true
           },
           "globalSeriesType": "column",
           "isAggregationOn": true,
           "legend": {
            "traceorder": "normal"
           },
           "missingValuesAsZero": true,
           "numberFormat": "0,0.[00000]",
           "percentFormat": "0[.]00%",
           "series": {
            "error_y": {
             "type": "data",
             "visible": true
            },
            "stacking": null
           },
           "seriesOptions": {
            "column_fe5f2e0d13": {
             "color": "#8CFFB4",
             "type": "column",
             "yAxis": 0
            }
           },
           "showDataLabels": true,
           "sizemode": "diameter",
           "sortX": true,
           "sortY": true,
           "swappedAxes": false,
           "textFormat": "",
           "useAggregationsUi": true,
           "valuesOptions": {},
           "version": 2,
           "xAxis": {
            "labels": {
             "enabled": true
            },
            "type": "-"
           },
           "yAxis": [
            {
             "type": "-"
            },
            {
             "opposite": true,
             "type": "-"
            }
           ]
          }
         }
        ]
       },
       "datasetPreviewNameToCmdIdMap": {},
       "diffDeletes": [],
       "diffInserts": [],
       "displayType": "redashChart",
       "error": null,
       "errorDetails": null,
       "errorSummary": null,
       "errorTraceType": null,
       "finishTime": 0,
       "globalVars": {},
       "guid": "",
       "height": "auto",
       "hideCommandCode": false,
       "hideCommandResult": false,
       "iPythonMetadata": null,
       "inputWidgets": {},
       "isLockedInExamMode": false,
       "latestUser": "a user",
       "latestUserId": null,
       "listResultMetadata": null,
       "metadata": {
        "byteLimit": 2048000,
        "rowLimit": 10000
       },
       "nuid": "005b0f15-5848-4a0d-be6e-402e42227a98",
       "origId": 0,
       "parentHierarchy": [],
       "pivotAggregation": null,
       "pivotColumns": null,
       "position": 10.0,
       "resultDbfsErrorMessage": null,
       "resultDbfsStatus": "INLINED_IN_TREE",
       "results": null,
       "showCommandTitle": false,
       "startTime": 0,
       "state": "finished",
       "streamStates": {},
       "subcommandOptions": {
        "queryPlan": {
         "groups": [
          {
           "column": "Ship_name",
           "type": "column"
          }
         ],
         "selects": [
          {
           "column": "Ship_name",
           "type": "column"
          },
          {
           "alias": "column_fe5f2e0d13",
           "args": [
            {
             "column": "Age",
             "type": "column"
            }
           ],
           "function": "SUM",
           "type": "function"
          }
         ]
        }
       },
       "submitTime": 0,
       "subtype": "tableResultSubCmd.visualization",
       "tableResultIndex": 0,
       "tableResultSettingsMap": {},
       "useConsistentColors": false,
       "version": "CommandV1",
       "width": "auto",
       "workflows": [],
       "xColumns": null,
       "yColumns": null
      }
     },
     "output_type": "display_data"
    }
   ],
   "source": [
    "df.display()"
   ]
  },
  {
   "cell_type": "code",
   "execution_count": 0,
   "metadata": {
    "application/vnd.databricks.v1+cell": {
     "cellMetadata": {
      "byteLimit": 2048000,
      "rowLimit": 10000
     },
     "inputWidgets": {},
     "nuid": "d26852e3-2460-4b95-b391-c9905334316d",
     "showTitle": false,
     "tableResultSettingsMap": {},
     "title": ""
    }
   },
   "outputs": [
    {
     "output_type": "display_data",
     "data": {
      "text/html": [
       "<style scoped>\n",
       "  .table-result-container {\n",
       "    max-height: 300px;\n",
       "    overflow: auto;\n",
       "  }\n",
       "  table, th, td {\n",
       "    border: 1px solid black;\n",
       "    border-collapse: collapse;\n",
       "  }\n",
       "  th, td {\n",
       "    padding: 5px;\n",
       "  }\n",
       "  th {\n",
       "    text-align: left;\n",
       "  }\n",
       "</style><div class='table-result-container'><table class='table-result'><thead style='background-color: white'><tr><th>Ship_name</th><th>Cruise_line</th><th>Age</th><th>Tonnage</th><th>passengers</th><th>length</th><th>cabins</th><th>passenger_density</th><th>crew</th></tr></thead><tbody><tr><td>Journey</td><td>Azamara</td><td>6</td><td>30.276999999999997</td><td>6.94</td><td>5.94</td><td>3.55</td><td>42.64</td><td>3.55</td></tr><tr><td>Quest</td><td>Azamara</td><td>6</td><td>30.276999999999997</td><td>6.94</td><td>5.94</td><td>3.55</td><td>42.64</td><td>3.55</td></tr><tr><td>Celebration</td><td>Carnival</td><td>26</td><td>47.262</td><td>14.86</td><td>7.22</td><td>7.43</td><td>31.8</td><td>6.7</td></tr><tr><td>Conquest</td><td>Carnival</td><td>11</td><td>110.0</td><td>29.74</td><td>9.53</td><td>14.88</td><td>36.99</td><td>19.1</td></tr><tr><td>Destiny</td><td>Carnival</td><td>17</td><td>101.353</td><td>26.42</td><td>8.92</td><td>13.21</td><td>38.36</td><td>10.0</td></tr><tr><td>Ecstasy</td><td>Carnival</td><td>22</td><td>70.367</td><td>20.52</td><td>8.55</td><td>10.2</td><td>34.29</td><td>9.2</td></tr><tr><td>Elation</td><td>Carnival</td><td>15</td><td>70.367</td><td>20.52</td><td>8.55</td><td>10.2</td><td>34.29</td><td>9.2</td></tr><tr><td>Fantasy</td><td>Carnival</td><td>23</td><td>70.367</td><td>20.56</td><td>8.55</td><td>10.22</td><td>34.23</td><td>9.2</td></tr><tr><td>Fascination</td><td>Carnival</td><td>19</td><td>70.367</td><td>20.52</td><td>8.55</td><td>10.2</td><td>34.29</td><td>9.2</td></tr><tr><td>Freedom</td><td>Carnival</td><td>6</td><td>110.23899999999999</td><td>37.0</td><td>9.51</td><td>14.87</td><td>29.79</td><td>11.5</td></tr><tr><td>Glory</td><td>Carnival</td><td>10</td><td>110.0</td><td>29.74</td><td>9.51</td><td>14.87</td><td>36.99</td><td>11.6</td></tr><tr><td>Holiday</td><td>Carnival</td><td>28</td><td>46.052</td><td>14.52</td><td>7.27</td><td>7.26</td><td>31.72</td><td>6.6</td></tr><tr><td>Imagination</td><td>Carnival</td><td>18</td><td>70.367</td><td>20.52</td><td>8.55</td><td>10.2</td><td>34.29</td><td>9.2</td></tr><tr><td>Inspiration</td><td>Carnival</td><td>17</td><td>70.367</td><td>20.52</td><td>8.55</td><td>10.2</td><td>34.29</td><td>9.2</td></tr><tr><td>Legend</td><td>Carnival</td><td>11</td><td>86.0</td><td>21.24</td><td>9.63</td><td>10.62</td><td>40.49</td><td>9.3</td></tr><tr><td>Liberty*</td><td>Carnival</td><td>8</td><td>110.0</td><td>29.74</td><td>9.51</td><td>14.87</td><td>36.99</td><td>11.6</td></tr><tr><td>Miracle</td><td>Carnival</td><td>9</td><td>88.5</td><td>21.24</td><td>9.63</td><td>10.62</td><td>41.67</td><td>10.3</td></tr><tr><td>Paradise</td><td>Carnival</td><td>15</td><td>70.367</td><td>20.52</td><td>8.55</td><td>10.2</td><td>34.29</td><td>9.2</td></tr><tr><td>Pride</td><td>Carnival</td><td>12</td><td>88.5</td><td>21.24</td><td>9.63</td><td>11.62</td><td>41.67</td><td>9.3</td></tr><tr><td>Sensation</td><td>Carnival</td><td>20</td><td>70.367</td><td>20.52</td><td>8.55</td><td>10.2</td><td>34.29</td><td>9.2</td></tr><tr><td>Spirit</td><td>Carnival</td><td>12</td><td>88.5</td><td>21.24</td><td>9.63</td><td>10.56</td><td>41.67</td><td>10.29</td></tr><tr><td>Triumph</td><td>Carnival</td><td>14</td><td>101.509</td><td>27.58</td><td>8.93</td><td>13.21</td><td>36.81</td><td>10.0</td></tr><tr><td>Valor</td><td>Carnival</td><td>9</td><td>110.0</td><td>29.74</td><td>9.52</td><td>14.87</td><td>36.99</td><td>11.6</td></tr><tr><td>Victory</td><td>Carnival</td><td>13</td><td>101.509</td><td>27.58</td><td>8.93</td><td>13.79</td><td>36.81</td><td>11.5</td></tr><tr><td>Century</td><td>Celebrity</td><td>18</td><td>70.60600000000001</td><td>17.7</td><td>8.15</td><td>8.75</td><td>39.89</td><td>8.58</td></tr><tr><td>Constellation</td><td>Celebrity</td><td>11</td><td>91.0</td><td>20.32</td><td>9.65</td><td>9.75</td><td>44.78</td><td>9.99</td></tr><tr><td>Galaxy</td><td>Celebrity</td><td>17</td><td>77.71300000000001</td><td>18.9</td><td>8.66</td><td>9.35</td><td>41.12</td><td>9.09</td></tr><tr><td>Infinity</td><td>Celebrity</td><td>12</td><td>91.0</td><td>20.32</td><td>9.65</td><td>9.75</td><td>44.78</td><td>9.99</td></tr><tr><td>Mercury</td><td>Celebrity</td><td>16</td><td>77.71300000000001</td><td>18.82</td><td>8.66</td><td>9.35</td><td>41.29</td><td>9.09</td></tr><tr><td>Millenium</td><td>Celebrity</td><td>13</td><td>91.0</td><td>20.32</td><td>9.65</td><td>9.75</td><td>44.78</td><td>9.99</td></tr><tr><td>Solstice</td><td>Celebrity</td><td>5</td><td>122.0</td><td>28.5</td><td>10.33</td><td>6.87</td><td>34.57</td><td>6.7</td></tr><tr><td>Summit</td><td>Celebrity</td><td>12</td><td>91.0</td><td>20.32</td><td>9.65</td><td>9.75</td><td>44.78</td><td>9.99</td></tr><tr><td>Xpedition</td><td>Celebrity</td><td>12</td><td>2.329</td><td>0.94</td><td>2.96</td><td>0.45</td><td>24.78</td><td>0.6</td></tr><tr><td>Zenith</td><td>Celebrity</td><td>21</td><td>47.225</td><td>13.66</td><td>6.82</td><td>6.87</td><td>34.57</td><td>6.7</td></tr><tr><td>Allegra</td><td>Costa</td><td>21</td><td>28.43</td><td>8.08</td><td>6.16</td><td>4.1</td><td>35.19</td><td>4.0</td></tr><tr><td>Atlantica</td><td>Costa</td><td>13</td><td>85.619</td><td>21.14</td><td>9.57</td><td>10.56</td><td>40.5</td><td>9.2</td></tr><tr><td>Classica</td><td>Costa</td><td>22</td><td>52.926</td><td>13.02</td><td>7.18</td><td>6.54</td><td>40.65</td><td>6.17</td></tr><tr><td>Europa</td><td>Costa</td><td>27</td><td>53.872</td><td>14.94</td><td>7.98</td><td>7.67</td><td>36.06</td><td>6.36</td></tr><tr><td>Fortuna</td><td>Costa</td><td>10</td><td>105.0</td><td>27.2</td><td>8.9</td><td>13.56</td><td>38.6</td><td>10.68</td></tr><tr><td>Magica</td><td>Costa</td><td>9</td><td>105.0</td><td>27.2</td><td>8.9</td><td>13.56</td><td>38.6</td><td>10.68</td></tr><tr><td>Marina</td><td>Costa</td><td>23</td><td>25.0</td><td>7.76</td><td>6.22</td><td>3.86</td><td>32.22</td><td>3.85</td></tr><tr><td>Mediterranea</td><td>Costa</td><td>10</td><td>86.0</td><td>21.14</td><td>9.6</td><td>10.56</td><td>40.68</td><td>9.2</td></tr><tr><td>Romantica</td><td>Costa</td><td>20</td><td>53.049</td><td>13.44</td><td>7.22</td><td>6.78</td><td>39.47</td><td>6.0</td></tr><tr><td>Serena</td><td>Costa</td><td>6</td><td>112.0</td><td>38.0</td><td>9.51</td><td>15.0</td><td>29.47</td><td>10.9</td></tr><tr><td>Victoria</td><td>Costa</td><td>17</td><td>75.166</td><td>19.28</td><td>8.28</td><td>9.64</td><td>38.99</td><td>7.66</td></tr><tr><td>Serenity</td><td>Crystal</td><td>10</td><td>68.0</td><td>10.8</td><td>7.9</td><td>5.5</td><td>62.96</td><td>6.36</td></tr><tr><td>Symphony</td><td>Crystal</td><td>18</td><td>51.004</td><td>9.4</td><td>7.81</td><td>4.8</td><td>54.26</td><td>5.45</td></tr><tr><td>QueenElizabethII</td><td>Cunard</td><td>44</td><td>70.327</td><td>17.91</td><td>9.63</td><td>9.5</td><td>39.27</td><td>9.21</td></tr><tr><td>QueenMary2</td><td>Cunard</td><td>10</td><td>151.4</td><td>26.2</td><td>11.32</td><td>11.34</td><td>57.79</td><td>12.53</td></tr><tr><td>QueenVictoria</td><td>Cunard</td><td>6</td><td>90.0</td><td>20.0</td><td>9.64</td><td>10.29</td><td>45.0</td><td>9.0</td></tr><tr><td>Magic</td><td>Disney</td><td>15</td><td>83.338</td><td>17.5</td><td>9.64</td><td>8.75</td><td>47.62</td><td>9.45</td></tr><tr><td>Wonder</td><td>Disney</td><td>14</td><td>83.0</td><td>17.5</td><td>9.64</td><td>8.75</td><td>47.43</td><td>9.45</td></tr><tr><td>Amsterdam</td><td>Holland_American</td><td>13</td><td>61.0</td><td>13.8</td><td>7.8</td><td>6.88</td><td>44.2</td><td>6.0</td></tr><tr><td>Eurodam</td><td>Holland_American</td><td>5</td><td>86.0</td><td>21.04</td><td>9.36</td><td>10.22</td><td>40.87</td><td>8.0</td></tr><tr><td>Maasdam</td><td>Holland_American</td><td>20</td><td>55.451</td><td>12.64</td><td>7.19</td><td>6.32</td><td>43.87</td><td>5.57</td></tr><tr><td>Noordam</td><td>Holland_American</td><td>29</td><td>33.92</td><td>12.14</td><td>7.04</td><td>6.07</td><td>27.94</td><td>5.3</td></tr><tr><td>Oosterdam</td><td>Holland_American</td><td>10</td><td>81.76899999999999</td><td>18.48</td><td>9.59</td><td>9.24</td><td>44.25</td><td>8.42</td></tr><tr><td>Prinsendam</td><td>Holland_American</td><td>25</td><td>38.0</td><td>7.49</td><td>6.74</td><td>3.96</td><td>50.73</td><td>4.6</td></tr><tr><td>Rotterdam</td><td>Holland_American</td><td>16</td><td>59.652</td><td>13.2</td><td>7.77</td><td>6.6</td><td>45.19</td><td>6.44</td></tr><tr><td>Ryndam</td><td>Holland_American</td><td>19</td><td>55.451</td><td>12.66</td><td>7.19</td><td>6.33</td><td>43.8</td><td>5.88</td></tr><tr><td>Statendam</td><td>Holland_American</td><td>20</td><td>55.451</td><td>12.66</td><td>7.19</td><td>6.33</td><td>43.8</td><td>5.88</td></tr><tr><td>Veendam</td><td>Holland_American</td><td>17</td><td>55.451</td><td>12.66</td><td>7.19</td><td>6.33</td><td>43.8</td><td>5.88</td></tr><tr><td>Volendam</td><td>Holland_American</td><td>14</td><td>63.0</td><td>14.4</td><td>7.77</td><td>7.2</td><td>43.75</td><td>5.61</td></tr><tr><td>Westerdam</td><td>Holland_American</td><td>27</td><td>53.872</td><td>14.94</td><td>7.98</td><td>7.47</td><td>36.06</td><td>6.12</td></tr><tr><td>Zaandam</td><td>Holland_American</td><td>13</td><td>63.0</td><td>14.4</td><td>7.77</td><td>7.2</td><td>43.75</td><td>5.31</td></tr><tr><td>Zuiderdam</td><td>Holland_American</td><td>11</td><td>85.0</td><td>18.48</td><td>9.51</td><td>9.24</td><td>46.0</td><td>8.0</td></tr><tr><td>Armonia</td><td>MSC</td><td>12</td><td>58.6</td><td>15.66</td><td>8.24</td><td>7.83</td><td>37.42</td><td>7.0</td></tr><tr><td>Fantasia</td><td>MSC</td><td>5</td><td>133.5</td><td>39.59</td><td>10.93</td><td>16.37</td><td>33.72</td><td>13.13</td></tr><tr><td>Lirica</td><td>MSC</td><td>10</td><td>58.825</td><td>15.6</td><td>8.23</td><td>7.65</td><td>37.71</td><td>7.0</td></tr><tr><td>Melody</td><td>MSC</td><td>31</td><td>35.143</td><td>12.5</td><td>6.69</td><td>5.32</td><td>28.11</td><td>5.35</td></tr><tr><td>Musica</td><td>MSC</td><td>7</td><td>89.6</td><td>25.5</td><td>9.61</td><td>12.75</td><td>35.14</td><td>9.87</td></tr><tr><td>Opera</td><td>MSC</td><td>9</td><td>59.058</td><td>17.0</td><td>7.63</td><td>8.5</td><td>34.74</td><td>7.4</td></tr><tr><td>Rhapsody</td><td>MSC</td><td>36</td><td>16.852</td><td>9.52</td><td>5.41</td><td>3.83</td><td>17.7</td><td>2.97</td></tr><tr><td>Sinfonia</td><td>MSC</td><td>11</td><td>58.6</td><td>15.66</td><td>8.23</td><td>7.83</td><td>37.42</td><td>7.6</td></tr><tr><td>Crown</td><td>Norwegian</td><td>25</td><td>34.25</td><td>10.52</td><td>6.15</td><td>5.26</td><td>32.56</td><td>4.7</td></tr><tr><td>Dawn</td><td>Norwegian</td><td>11</td><td>90.0</td><td>22.4</td><td>9.65</td><td>11.2</td><td>40.18</td><td>11.0</td></tr><tr><td>Dream</td><td>Norwegian</td><td>21</td><td>50.76</td><td>17.48</td><td>7.54</td><td>8.74</td><td>29.04</td><td>6.14</td></tr><tr><td>Gem</td><td>Norwegian</td><td>6</td><td>93.0</td><td>23.94</td><td>9.65</td><td>11.97</td><td>38.85</td><td>11.09</td></tr><tr><td>Jewel</td><td>Norwegian</td><td>8</td><td>91.0</td><td>22.44</td><td>9.65</td><td>11.22</td><td>40.55</td><td>11.0</td></tr><tr><td>Majesty</td><td>Norwegian</td><td>21</td><td>38.0</td><td>10.56</td><td>5.67</td><td>5.28</td><td>35.98</td><td>4.38</td></tr><tr><td>PrideofAloha</td><td>Norwegian</td><td>14</td><td>77.104</td><td>20.02</td><td>8.53</td><td>10.01</td><td>38.51</td><td>8.0</td></tr><tr><td>PrideofAmerica</td><td>Norwegian</td><td>9</td><td>81.0</td><td>21.44</td><td>9.21</td><td>10.72</td><td>37.78</td><td>10.0</td></tr><tr><td>Sea</td><td>Norwegian</td><td>25</td><td>42.0</td><td>15.04</td><td>7.08</td><td>7.52</td><td>27.93</td><td>6.3</td></tr><tr><td>Spirit</td><td>Norwegian</td><td>15</td><td>75.33800000000001</td><td>19.56</td><td>8.79</td><td>9.83</td><td>38.52</td><td>13.0</td></tr><tr><td>Star</td><td>Norwegian</td><td>40</td><td>28.0</td><td>11.5</td><td>6.74</td><td>4.0</td><td>24.35</td><td>3.8</td></tr><tr><td>Sun</td><td>Norwegian</td><td>12</td><td>77.104</td><td>20.02</td><td>8.53</td><td>10.01</td><td>38.51</td><td>9.59</td></tr><tr><td>Wind</td><td>Norwegian</td><td>20</td><td>50.76</td><td>17.48</td><td>7.54</td><td>8.74</td><td>29.04</td><td>6.14</td></tr><tr><td>Insignia</td><td>Oceania</td><td>15</td><td>30.276999999999997</td><td>6.84</td><td>5.94</td><td>3.42</td><td>44.26</td><td>4.0</td></tr><tr><td>Nautica</td><td>Oceania</td><td>13</td><td>30.276999999999997</td><td>6.84</td><td>5.94</td><td>3.42</td><td>44.26</td><td>4.0</td></tr><tr><td>Regatta</td><td>Oceania</td><td>15</td><td>30.276999999999997</td><td>6.84</td><td>5.94</td><td>3.42</td><td>44.26</td><td>4.0</td></tr><tr><td>MarcoPolo</td><td>Orient</td><td>48</td><td>22.08</td><td>8.26</td><td>5.78</td><td>4.25</td><td>26.73</td><td>3.5</td></tr><tr><td>Arcadia</td><td>P&O</td><td>9</td><td>85.0</td><td>19.68</td><td>9.35</td><td>9.84</td><td>43.19</td><td>8.69</td></tr><tr><td>Artemis</td><td>P&O</td><td>29</td><td>45.0</td><td>11.78</td><td>7.54</td><td>5.3</td><td>38.2</td><td>5.2</td></tr><tr><td>Aurora</td><td>P&O</td><td>13</td><td>76.0</td><td>18.74</td><td>8.86</td><td>9.39</td><td>40.55</td><td>8.5</td></tr><tr><td>Oceana</td><td>P&O</td><td>10</td><td>77.0</td><td>20.16</td><td>8.56</td><td>9.75</td><td>38.19</td><td>9.0</td></tr><tr><td>Oriana</td><td>P&O</td><td>18</td><td>69.153</td><td>18.82</td><td>8.53</td><td>9.14</td><td>36.74</td><td>7.94</td></tr><tr><td>Ventura</td><td>P&O</td><td>5</td><td>115.0</td><td>35.74</td><td>9.0</td><td>15.32</td><td>32.18</td><td>12.2</td></tr><tr><td>Caribbean</td><td>Princess</td><td>9</td><td>116.0</td><td>26.0</td><td>9.51</td><td>13.0</td><td>44.62</td><td>11.0</td></tr><tr><td>Coral</td><td>Princess</td><td>11</td><td>91.62700000000001</td><td>19.74</td><td>9.64</td><td>9.87</td><td>46.42</td><td>9.0</td></tr><tr><td>Crown</td><td>Princess</td><td>7</td><td>116.0</td><td>31.0</td><td>9.51</td><td>15.57</td><td>37.42</td><td>12.0</td></tr><tr><td>Dawn</td><td>Princess</td><td>16</td><td>77.499</td><td>19.5</td><td>8.56</td><td>10.5</td><td>39.74</td><td>9.0</td></tr><tr><td>Diamond</td><td>Princess</td><td>9</td><td>113.0</td><td>26.74</td><td>9.51</td><td>13.37</td><td>42.26</td><td>12.38</td></tr><tr><td>Emerald</td><td>Princess</td><td>6</td><td>113.0</td><td>37.82</td><td>9.51</td><td>15.57</td><td>29.88</td><td>12.0</td></tr><tr><td>Golden</td><td>Princess</td><td>12</td><td>108.865</td><td>27.58</td><td>9.51</td><td>13.0</td><td>39.47</td><td>11.0</td></tr><tr><td>Grand</td><td>Princess</td><td>15</td><td>108.806</td><td>26.0</td><td>9.51</td><td>13.0</td><td>41.85</td><td>11.1</td></tr><tr><td>Island</td><td>Princess</td><td>10</td><td>91.62700000000001</td><td>19.74</td><td>9.64</td><td>9.87</td><td>46.42</td><td>9.0</td></tr><tr><td>Pacific</td><td>Princess</td><td>14</td><td>30.276999999999997</td><td>6.86</td><td>5.93</td><td>3.44</td><td>44.14</td><td>3.73</td></tr><tr><td>Regal</td><td>Princess</td><td>22</td><td>69.845</td><td>15.9</td><td>8.03</td><td>7.95</td><td>43.93</td><td>6.96</td></tr><tr><td>Royal</td><td>Princess</td><td>29</td><td>44.348</td><td>12.0</td><td>7.54</td><td>6.0</td><td>36.96</td><td>5.2</td></tr><tr><td>Saphire</td><td>Princess</td><td>9</td><td>113.0</td><td>26.74</td><td>9.51</td><td>13.37</td><td>42.26</td><td>12.38</td></tr><tr><td>Sea</td><td>Princess</td><td>8</td><td>77.499</td><td>19.5</td><td>8.56</td><td>9.75</td><td>39.74</td><td>9.0</td></tr><tr><td>Star</td><td>Princess</td><td>11</td><td>108.977</td><td>26.02</td><td>9.51</td><td>13.01</td><td>41.88</td><td>12.0</td></tr><tr><td>Sun</td><td>Princess</td><td>18</td><td>77.499</td><td>19.5</td><td>8.56</td><td>9.75</td><td>39.74</td><td>9.0</td></tr><tr><td>Tahitian</td><td>Princess</td><td>14</td><td>30.276999999999997</td><td>6.88</td><td>5.93</td><td>3.44</td><td>44.01</td><td>3.73</td></tr><tr><td>ExplorerII</td><td>Regent_Seven_Seas</td><td>27</td><td>12.5</td><td>3.94</td><td>4.36</td><td>0.88</td><td>31.73</td><td>1.46</td></tr><tr><td>Mariner</td><td>Regent_Seven_Seas</td><td>12</td><td>50.0</td><td>7.0</td><td>7.09</td><td>3.54</td><td>71.43</td><td>4.45</td></tr><tr><td>Navigator</td><td>Regent_Seven_Seas</td><td>14</td><td>33.0</td><td>4.9</td><td>5.6</td><td>2.45</td><td>67.35</td><td>3.24</td></tr><tr><td>PaulGauguin</td><td>Regent_Seven_Seas</td><td>16</td><td>19.2</td><td>3.2</td><td>5.13</td><td>1.6</td><td>60.0</td><td>2.11</td></tr><tr><td>Voyager</td><td>Regent_Seven_Seas</td><td>10</td><td>46.0</td><td>7.0</td><td>6.7</td><td>1.82</td><td>65.71</td><td>4.47</td></tr><tr><td>Adventure</td><td>Royal_Caribbean</td><td>12</td><td>138.0</td><td>31.14</td><td>10.2</td><td>15.57</td><td>44.32</td><td>11.85</td></tr><tr><td>Brilliance</td><td>Royal_Caribbean</td><td>11</td><td>90.09</td><td>25.01</td><td>9.62</td><td>10.5</td><td>36.02</td><td>8.48</td></tr><tr><td>Empress</td><td>Royal_Caribbean</td><td>23</td><td>48.563</td><td>20.2</td><td>6.92</td><td>8.0</td><td>24.04</td><td>6.71</td></tr><tr><td>Enchantment</td><td>Royal_Caribbean</td><td>16</td><td>74.137</td><td>19.5</td><td>9.16</td><td>9.75</td><td>38.02</td><td>7.6</td></tr><tr><td>Explorer</td><td>Royal_Caribbean</td><td>13</td><td>138.0</td><td>31.14</td><td>10.2</td><td>15.57</td><td>44.32</td><td>11.76</td></tr><tr><td>Freedom</td><td>Royal_Caribbean</td><td>7</td><td>158.0</td><td>43.7</td><td>11.12</td><td>18.0</td><td>36.16</td><td>13.6</td></tr><tr><td>Grandeur</td><td>Royal_Caribbean</td><td>17</td><td>74.137</td><td>19.5</td><td>9.16</td><td>9.75</td><td>38.02</td><td>7.6</td></tr><tr><td>Independence</td><td>Royal_Caribbean</td><td>5</td><td>160.0</td><td>36.34</td><td>11.12</td><td>18.17</td><td>44.03</td><td>13.6</td></tr><tr><td>Jewel</td><td>Royal_Caribbean</td><td>9</td><td>90.09</td><td>25.01</td><td>9.62</td><td>10.94</td><td>36.02</td><td>8.69</td></tr><tr><td>Legend</td><td>Royal_Caribbean</td><td>18</td><td>70.0</td><td>18.0</td><td>8.67</td><td>9.0</td><td>38.89</td><td>7.2</td></tr><tr><td>Liberty</td><td>Royal_Caribbean</td><td>6</td><td>158.0</td><td>43.7</td><td>11.25</td><td>18.0</td><td>36.16</td><td>13.6</td></tr><tr><td>Majesty</td><td>Royal_Caribbean</td><td>21</td><td>73.941</td><td>27.44</td><td>8.8</td><td>11.75</td><td>26.95</td><td>8.22</td></tr><tr><td>Mariner</td><td>Royal_Caribbean</td><td>10</td><td>138.0</td><td>31.14</td><td>10.2</td><td>15.57</td><td>44.32</td><td>11.85</td></tr><tr><td>Monarch</td><td>Royal_Caribbean</td><td>22</td><td>73.941</td><td>27.44</td><td>8.8</td><td>11.77</td><td>30.94</td><td>8.22</td></tr><tr><td>Navigator</td><td>Royal_Caribbean</td><td>11</td><td>138.0</td><td>31.14</td><td>10.2</td><td>15.57</td><td>44.32</td><td>11.85</td></tr><tr><td>Oasis</td><td>Royal_Caribbean</td><td>4</td><td>220.0</td><td>54.0</td><td>11.82</td><td>27.0</td><td>40.74</td><td>21.0</td></tr><tr><td>Radiance</td><td>Royal_Caribbean</td><td>12</td><td>90.09</td><td>25.01</td><td>9.62</td><td>10.5</td><td>36.02</td><td>8.68</td></tr><tr><td>Rhapsody</td><td>Royal_Caribbean</td><td>16</td><td>78.491</td><td>24.35</td><td>9.15</td><td>10.0</td><td>32.23</td><td>7.65</td></tr><tr><td>Serenade</td><td>Royal_Caribbean</td><td>10</td><td>90.09</td><td>25.01</td><td>9.62</td><td>10.5</td><td>36.02</td><td>8.58</td></tr><tr><td>Sovreign</td><td>Royal_Caribbean</td><td>25</td><td>73.192</td><td>28.52</td><td>8.8</td><td>11.38</td><td>25.66</td><td>8.08</td></tr><tr><td>Splendour</td><td>Royal_Caribbean</td><td>17</td><td>70.0</td><td>20.76</td><td>8.67</td><td>9.02</td><td>33.72</td><td>7.2</td></tr><tr><td>Vision</td><td>Royal_Caribbean</td><td>15</td><td>78.491</td><td>24.35</td><td>9.15</td><td>10.0</td><td>32.23</td><td>6.6</td></tr><tr><td>Voyager</td><td>Royal_Caribbean</td><td>14</td><td>138.0</td><td>31.14</td><td>10.2</td><td>15.57</td><td>44.32</td><td>11.76</td></tr><tr><td>Legend</td><td>Seabourn</td><td>21</td><td>10.0</td><td>2.08</td><td>4.4</td><td>1.04</td><td>48.08</td><td>1.6</td></tr><tr><td>Pride</td><td>Seabourn</td><td>27</td><td>10.0</td><td>2.08</td><td>4.4</td><td>1.04</td><td>48.08</td><td>1.6</td></tr><tr><td>Spirit</td><td>Seabourn</td><td>24</td><td>10.0</td><td>2.08</td><td>4.4</td><td>1.04</td><td>48.08</td><td>1.6</td></tr><tr><td>Cloud</td><td>Silversea</td><td>19</td><td>16.8</td><td>2.96</td><td>5.14</td><td>1.48</td><td>56.76</td><td>2.1</td></tr><tr><td>Shadow</td><td>Silversea</td><td>13</td><td>25.0</td><td>3.82</td><td>5.97</td><td>1.94</td><td>65.45</td><td>2.95</td></tr><tr><td>Whisper</td><td>Silversea</td><td>12</td><td>25.0</td><td>3.88</td><td>5.97</td><td>1.94</td><td>64.43</td><td>2.87</td></tr><tr><td>Wind</td><td>Silversea</td><td>19</td><td>16.8</td><td>2.96</td><td>5.14</td><td>1.48</td><td>56.76</td><td>1.97</td></tr><tr><td>Aries</td><td>Star</td><td>22</td><td>3.341</td><td>0.66</td><td>2.8</td><td>0.33</td><td>50.62</td><td>0.59</td></tr><tr><td>Gemini</td><td>Star</td><td>21</td><td>19.093</td><td>8.0</td><td>5.37</td><td>4.0</td><td>23.87</td><td>4.7</td></tr><tr><td>Libra</td><td>Star</td><td>12</td><td>42.0</td><td>14.8</td><td>7.13</td><td>7.4</td><td>28.38</td><td>6.8</td></tr><tr><td>Pisces</td><td>Star</td><td>24</td><td>40.053000000000004</td><td>12.87</td><td>5.79</td><td>7.76</td><td>31.12</td><td>7.5</td></tr><tr><td>Taurus</td><td>Star</td><td>22</td><td>3.341</td><td>0.66</td><td>2.79</td><td>0.33</td><td>50.62</td><td>0.59</td></tr><tr><td>Virgo</td><td>Star</td><td>14</td><td>76.8</td><td>19.6</td><td>8.79</td><td>9.67</td><td>39.18</td><td>12.0</td></tr><tr><td>Spirit</td><td>Windstar</td><td>25</td><td>5.35</td><td>1.58</td><td>4.4</td><td>0.74</td><td>33.86</td><td>0.88</td></tr><tr><td>Star</td><td>Windstar</td><td>27</td><td>5.35</td><td>1.67</td><td>4.4</td><td>0.74</td><td>32.04</td><td>0.88</td></tr><tr><td>Surf</td><td>Windstar</td><td>23</td><td>14.745</td><td>3.08</td><td>6.17</td><td>1.56</td><td>47.87</td><td>1.8</td></tr></tbody></table></div>"
      ]
     },
     "metadata": {
      "application/vnd.databricks.v1+output": {
       "addedWidgets": {},
       "aggData": [],
       "aggError": "",
       "aggOverflow": false,
       "aggSchema": [],
       "aggSeriesLimitReached": false,
       "aggType": "",
       "arguments": {},
       "columnCustomDisplayInfos": {},
       "data": [
        [
         "Journey",
         "Azamara",
         6,
         30.276999999999997,
         6.94,
         5.94,
         3.55,
         42.64,
         3.55
        ],
        [
         "Quest",
         "Azamara",
         6,
         30.276999999999997,
         6.94,
         5.94,
         3.55,
         42.64,
         3.55
        ],
        [
         "Celebration",
         "Carnival",
         26,
         47.262,
         14.86,
         7.22,
         7.43,
         31.8,
         6.7
        ],
        [
         "Conquest",
         "Carnival",
         11,
         110.0,
         29.74,
         9.53,
         14.88,
         36.99,
         19.1
        ],
        [
         "Destiny",
         "Carnival",
         17,
         101.353,
         26.42,
         8.92,
         13.21,
         38.36,
         10.0
        ],
        [
         "Ecstasy",
         "Carnival",
         22,
         70.367,
         20.52,
         8.55,
         10.2,
         34.29,
         9.2
        ],
        [
         "Elation",
         "Carnival",
         15,
         70.367,
         20.52,
         8.55,
         10.2,
         34.29,
         9.2
        ],
        [
         "Fantasy",
         "Carnival",
         23,
         70.367,
         20.56,
         8.55,
         10.22,
         34.23,
         9.2
        ],
        [
         "Fascination",
         "Carnival",
         19,
         70.367,
         20.52,
         8.55,
         10.2,
         34.29,
         9.2
        ],
        [
         "Freedom",
         "Carnival",
         6,
         110.23899999999999,
         37.0,
         9.51,
         14.87,
         29.79,
         11.5
        ],
        [
         "Glory",
         "Carnival",
         10,
         110.0,
         29.74,
         9.51,
         14.87,
         36.99,
         11.6
        ],
        [
         "Holiday",
         "Carnival",
         28,
         46.052,
         14.52,
         7.27,
         7.26,
         31.72,
         6.6
        ],
        [
         "Imagination",
         "Carnival",
         18,
         70.367,
         20.52,
         8.55,
         10.2,
         34.29,
         9.2
        ],
        [
         "Inspiration",
         "Carnival",
         17,
         70.367,
         20.52,
         8.55,
         10.2,
         34.29,
         9.2
        ],
        [
         "Legend",
         "Carnival",
         11,
         86.0,
         21.24,
         9.63,
         10.62,
         40.49,
         9.3
        ],
        [
         "Liberty*",
         "Carnival",
         8,
         110.0,
         29.74,
         9.51,
         14.87,
         36.99,
         11.6
        ],
        [
         "Miracle",
         "Carnival",
         9,
         88.5,
         21.24,
         9.63,
         10.62,
         41.67,
         10.3
        ],
        [
         "Paradise",
         "Carnival",
         15,
         70.367,
         20.52,
         8.55,
         10.2,
         34.29,
         9.2
        ],
        [
         "Pride",
         "Carnival",
         12,
         88.5,
         21.24,
         9.63,
         11.62,
         41.67,
         9.3
        ],
        [
         "Sensation",
         "Carnival",
         20,
         70.367,
         20.52,
         8.55,
         10.2,
         34.29,
         9.2
        ],
        [
         "Spirit",
         "Carnival",
         12,
         88.5,
         21.24,
         9.63,
         10.56,
         41.67,
         10.29
        ],
        [
         "Triumph",
         "Carnival",
         14,
         101.509,
         27.58,
         8.93,
         13.21,
         36.81,
         10.0
        ],
        [
         "Valor",
         "Carnival",
         9,
         110.0,
         29.74,
         9.52,
         14.87,
         36.99,
         11.6
        ],
        [
         "Victory",
         "Carnival",
         13,
         101.509,
         27.58,
         8.93,
         13.79,
         36.81,
         11.5
        ],
        [
         "Century",
         "Celebrity",
         18,
         70.60600000000001,
         17.7,
         8.15,
         8.75,
         39.89,
         8.58
        ],
        [
         "Constellation",
         "Celebrity",
         11,
         91.0,
         20.32,
         9.65,
         9.75,
         44.78,
         9.99
        ],
        [
         "Galaxy",
         "Celebrity",
         17,
         77.71300000000001,
         18.9,
         8.66,
         9.35,
         41.12,
         9.09
        ],
        [
         "Infinity",
         "Celebrity",
         12,
         91.0,
         20.32,
         9.65,
         9.75,
         44.78,
         9.99
        ],
        [
         "Mercury",
         "Celebrity",
         16,
         77.71300000000001,
         18.82,
         8.66,
         9.35,
         41.29,
         9.09
        ],
        [
         "Millenium",
         "Celebrity",
         13,
         91.0,
         20.32,
         9.65,
         9.75,
         44.78,
         9.99
        ],
        [
         "Solstice",
         "Celebrity",
         5,
         122.0,
         28.5,
         10.33,
         6.87,
         34.57,
         6.7
        ],
        [
         "Summit",
         "Celebrity",
         12,
         91.0,
         20.32,
         9.65,
         9.75,
         44.78,
         9.99
        ],
        [
         "Xpedition",
         "Celebrity",
         12,
         2.329,
         0.94,
         2.96,
         0.45,
         24.78,
         0.6
        ],
        [
         "Zenith",
         "Celebrity",
         21,
         47.225,
         13.66,
         6.82,
         6.87,
         34.57,
         6.7
        ],
        [
         "Allegra",
         "Costa",
         21,
         28.43,
         8.08,
         6.16,
         4.1,
         35.19,
         4.0
        ],
        [
         "Atlantica",
         "Costa",
         13,
         85.619,
         21.14,
         9.57,
         10.56,
         40.5,
         9.2
        ],
        [
         "Classica",
         "Costa",
         22,
         52.926,
         13.02,
         7.18,
         6.54,
         40.65,
         6.17
        ],
        [
         "Europa",
         "Costa",
         27,
         53.872,
         14.94,
         7.98,
         7.67,
         36.06,
         6.36
        ],
        [
         "Fortuna",
         "Costa",
         10,
         105.0,
         27.2,
         8.9,
         13.56,
         38.6,
         10.68
        ],
        [
         "Magica",
         "Costa",
         9,
         105.0,
         27.2,
         8.9,
         13.56,
         38.6,
         10.68
        ],
        [
         "Marina",
         "Costa",
         23,
         25.0,
         7.76,
         6.22,
         3.86,
         32.22,
         3.85
        ],
        [
         "Mediterranea",
         "Costa",
         10,
         86.0,
         21.14,
         9.6,
         10.56,
         40.68,
         9.2
        ],
        [
         "Romantica",
         "Costa",
         20,
         53.049,
         13.44,
         7.22,
         6.78,
         39.47,
         6.0
        ],
        [
         "Serena",
         "Costa",
         6,
         112.0,
         38.0,
         9.51,
         15.0,
         29.47,
         10.9
        ],
        [
         "Victoria",
         "Costa",
         17,
         75.166,
         19.28,
         8.28,
         9.64,
         38.99,
         7.66
        ],
        [
         "Serenity",
         "Crystal",
         10,
         68.0,
         10.8,
         7.9,
         5.5,
         62.96,
         6.36
        ],
        [
         "Symphony",
         "Crystal",
         18,
         51.004,
         9.4,
         7.81,
         4.8,
         54.26,
         5.45
        ],
        [
         "QueenElizabethII",
         "Cunard",
         44,
         70.327,
         17.91,
         9.63,
         9.5,
         39.27,
         9.21
        ],
        [
         "QueenMary2",
         "Cunard",
         10,
         151.4,
         26.2,
         11.32,
         11.34,
         57.79,
         12.53
        ],
        [
         "QueenVictoria",
         "Cunard",
         6,
         90.0,
         20.0,
         9.64,
         10.29,
         45.0,
         9.0
        ],
        [
         "Magic",
         "Disney",
         15,
         83.338,
         17.5,
         9.64,
         8.75,
         47.62,
         9.45
        ],
        [
         "Wonder",
         "Disney",
         14,
         83.0,
         17.5,
         9.64,
         8.75,
         47.43,
         9.45
        ],
        [
         "Amsterdam",
         "Holland_American",
         13,
         61.0,
         13.8,
         7.8,
         6.88,
         44.2,
         6.0
        ],
        [
         "Eurodam",
         "Holland_American",
         5,
         86.0,
         21.04,
         9.36,
         10.22,
         40.87,
         8.0
        ],
        [
         "Maasdam",
         "Holland_American",
         20,
         55.451,
         12.64,
         7.19,
         6.32,
         43.87,
         5.57
        ],
        [
         "Noordam",
         "Holland_American",
         29,
         33.92,
         12.14,
         7.04,
         6.07,
         27.94,
         5.3
        ],
        [
         "Oosterdam",
         "Holland_American",
         10,
         81.76899999999999,
         18.48,
         9.59,
         9.24,
         44.25,
         8.42
        ],
        [
         "Prinsendam",
         "Holland_American",
         25,
         38.0,
         7.49,
         6.74,
         3.96,
         50.73,
         4.6
        ],
        [
         "Rotterdam",
         "Holland_American",
         16,
         59.652,
         13.2,
         7.77,
         6.6,
         45.19,
         6.44
        ],
        [
         "Ryndam",
         "Holland_American",
         19,
         55.451,
         12.66,
         7.19,
         6.33,
         43.8,
         5.88
        ],
        [
         "Statendam",
         "Holland_American",
         20,
         55.451,
         12.66,
         7.19,
         6.33,
         43.8,
         5.88
        ],
        [
         "Veendam",
         "Holland_American",
         17,
         55.451,
         12.66,
         7.19,
         6.33,
         43.8,
         5.88
        ],
        [
         "Volendam",
         "Holland_American",
         14,
         63.0,
         14.4,
         7.77,
         7.2,
         43.75,
         5.61
        ],
        [
         "Westerdam",
         "Holland_American",
         27,
         53.872,
         14.94,
         7.98,
         7.47,
         36.06,
         6.12
        ],
        [
         "Zaandam",
         "Holland_American",
         13,
         63.0,
         14.4,
         7.77,
         7.2,
         43.75,
         5.31
        ],
        [
         "Zuiderdam",
         "Holland_American",
         11,
         85.0,
         18.48,
         9.51,
         9.24,
         46.0,
         8.0
        ],
        [
         "Armonia",
         "MSC",
         12,
         58.6,
         15.66,
         8.24,
         7.83,
         37.42,
         7.0
        ],
        [
         "Fantasia",
         "MSC",
         5,
         133.5,
         39.59,
         10.93,
         16.37,
         33.72,
         13.13
        ],
        [
         "Lirica",
         "MSC",
         10,
         58.825,
         15.6,
         8.23,
         7.65,
         37.71,
         7.0
        ],
        [
         "Melody",
         "MSC",
         31,
         35.143,
         12.5,
         6.69,
         5.32,
         28.11,
         5.35
        ],
        [
         "Musica",
         "MSC",
         7,
         89.6,
         25.5,
         9.61,
         12.75,
         35.14,
         9.87
        ],
        [
         "Opera",
         "MSC",
         9,
         59.058,
         17.0,
         7.63,
         8.5,
         34.74,
         7.4
        ],
        [
         "Rhapsody",
         "MSC",
         36,
         16.852,
         9.52,
         5.41,
         3.83,
         17.7,
         2.97
        ],
        [
         "Sinfonia",
         "MSC",
         11,
         58.6,
         15.66,
         8.23,
         7.83,
         37.42,
         7.6
        ],
        [
         "Crown",
         "Norwegian",
         25,
         34.25,
         10.52,
         6.15,
         5.26,
         32.56,
         4.7
        ],
        [
         "Dawn",
         "Norwegian",
         11,
         90.0,
         22.4,
         9.65,
         11.2,
         40.18,
         11.0
        ],
        [
         "Dream",
         "Norwegian",
         21,
         50.76,
         17.48,
         7.54,
         8.74,
         29.04,
         6.14
        ],
        [
         "Gem",
         "Norwegian",
         6,
         93.0,
         23.94,
         9.65,
         11.97,
         38.85,
         11.09
        ],
        [
         "Jewel",
         "Norwegian",
         8,
         91.0,
         22.44,
         9.65,
         11.22,
         40.55,
         11.0
        ],
        [
         "Majesty",
         "Norwegian",
         21,
         38.0,
         10.56,
         5.67,
         5.28,
         35.98,
         4.38
        ],
        [
         "PrideofAloha",
         "Norwegian",
         14,
         77.104,
         20.02,
         8.53,
         10.01,
         38.51,
         8.0
        ],
        [
         "PrideofAmerica",
         "Norwegian",
         9,
         81.0,
         21.44,
         9.21,
         10.72,
         37.78,
         10.0
        ],
        [
         "Sea",
         "Norwegian",
         25,
         42.0,
         15.04,
         7.08,
         7.52,
         27.93,
         6.3
        ],
        [
         "Spirit",
         "Norwegian",
         15,
         75.33800000000001,
         19.56,
         8.79,
         9.83,
         38.52,
         13.0
        ],
        [
         "Star",
         "Norwegian",
         40,
         28.0,
         11.5,
         6.74,
         4.0,
         24.35,
         3.8
        ],
        [
         "Sun",
         "Norwegian",
         12,
         77.104,
         20.02,
         8.53,
         10.01,
         38.51,
         9.59
        ],
        [
         "Wind",
         "Norwegian",
         20,
         50.76,
         17.48,
         7.54,
         8.74,
         29.04,
         6.14
        ],
        [
         "Insignia",
         "Oceania",
         15,
         30.276999999999997,
         6.84,
         5.94,
         3.42,
         44.26,
         4.0
        ],
        [
         "Nautica",
         "Oceania",
         13,
         30.276999999999997,
         6.84,
         5.94,
         3.42,
         44.26,
         4.0
        ],
        [
         "Regatta",
         "Oceania",
         15,
         30.276999999999997,
         6.84,
         5.94,
         3.42,
         44.26,
         4.0
        ],
        [
         "MarcoPolo",
         "Orient",
         48,
         22.08,
         8.26,
         5.78,
         4.25,
         26.73,
         3.5
        ],
        [
         "Arcadia",
         "P&O",
         9,
         85.0,
         19.68,
         9.35,
         9.84,
         43.19,
         8.69
        ],
        [
         "Artemis",
         "P&O",
         29,
         45.0,
         11.78,
         7.54,
         5.3,
         38.2,
         5.2
        ],
        [
         "Aurora",
         "P&O",
         13,
         76.0,
         18.74,
         8.86,
         9.39,
         40.55,
         8.5
        ],
        [
         "Oceana",
         "P&O",
         10,
         77.0,
         20.16,
         8.56,
         9.75,
         38.19,
         9.0
        ],
        [
         "Oriana",
         "P&O",
         18,
         69.153,
         18.82,
         8.53,
         9.14,
         36.74,
         7.94
        ],
        [
         "Ventura",
         "P&O",
         5,
         115.0,
         35.74,
         9.0,
         15.32,
         32.18,
         12.2
        ],
        [
         "Caribbean",
         "Princess",
         9,
         116.0,
         26.0,
         9.51,
         13.0,
         44.62,
         11.0
        ],
        [
         "Coral",
         "Princess",
         11,
         91.62700000000001,
         19.74,
         9.64,
         9.87,
         46.42,
         9.0
        ],
        [
         "Crown",
         "Princess",
         7,
         116.0,
         31.0,
         9.51,
         15.57,
         37.42,
         12.0
        ],
        [
         "Dawn",
         "Princess",
         16,
         77.499,
         19.5,
         8.56,
         10.5,
         39.74,
         9.0
        ],
        [
         "Diamond",
         "Princess",
         9,
         113.0,
         26.74,
         9.51,
         13.37,
         42.26,
         12.38
        ],
        [
         "Emerald",
         "Princess",
         6,
         113.0,
         37.82,
         9.51,
         15.57,
         29.88,
         12.0
        ],
        [
         "Golden",
         "Princess",
         12,
         108.865,
         27.58,
         9.51,
         13.0,
         39.47,
         11.0
        ],
        [
         "Grand",
         "Princess",
         15,
         108.806,
         26.0,
         9.51,
         13.0,
         41.85,
         11.1
        ],
        [
         "Island",
         "Princess",
         10,
         91.62700000000001,
         19.74,
         9.64,
         9.87,
         46.42,
         9.0
        ],
        [
         "Pacific",
         "Princess",
         14,
         30.276999999999997,
         6.86,
         5.93,
         3.44,
         44.14,
         3.73
        ],
        [
         "Regal",
         "Princess",
         22,
         69.845,
         15.9,
         8.03,
         7.95,
         43.93,
         6.96
        ],
        [
         "Royal",
         "Princess",
         29,
         44.348,
         12.0,
         7.54,
         6.0,
         36.96,
         5.2
        ],
        [
         "Saphire",
         "Princess",
         9,
         113.0,
         26.74,
         9.51,
         13.37,
         42.26,
         12.38
        ],
        [
         "Sea",
         "Princess",
         8,
         77.499,
         19.5,
         8.56,
         9.75,
         39.74,
         9.0
        ],
        [
         "Star",
         "Princess",
         11,
         108.977,
         26.02,
         9.51,
         13.01,
         41.88,
         12.0
        ],
        [
         "Sun",
         "Princess",
         18,
         77.499,
         19.5,
         8.56,
         9.75,
         39.74,
         9.0
        ],
        [
         "Tahitian",
         "Princess",
         14,
         30.276999999999997,
         6.88,
         5.93,
         3.44,
         44.01,
         3.73
        ],
        [
         "ExplorerII",
         "Regent_Seven_Seas",
         27,
         12.5,
         3.94,
         4.36,
         0.88,
         31.73,
         1.46
        ],
        [
         "Mariner",
         "Regent_Seven_Seas",
         12,
         50.0,
         7.0,
         7.09,
         3.54,
         71.43,
         4.45
        ],
        [
         "Navigator",
         "Regent_Seven_Seas",
         14,
         33.0,
         4.9,
         5.6,
         2.45,
         67.35,
         3.24
        ],
        [
         "PaulGauguin",
         "Regent_Seven_Seas",
         16,
         19.2,
         3.2,
         5.13,
         1.6,
         60.0,
         2.11
        ],
        [
         "Voyager",
         "Regent_Seven_Seas",
         10,
         46.0,
         7.0,
         6.7,
         1.82,
         65.71,
         4.47
        ],
        [
         "Adventure",
         "Royal_Caribbean",
         12,
         138.0,
         31.14,
         10.2,
         15.57,
         44.32,
         11.85
        ],
        [
         "Brilliance",
         "Royal_Caribbean",
         11,
         90.09,
         25.01,
         9.62,
         10.5,
         36.02,
         8.48
        ],
        [
         "Empress",
         "Royal_Caribbean",
         23,
         48.563,
         20.2,
         6.92,
         8.0,
         24.04,
         6.71
        ],
        [
         "Enchantment",
         "Royal_Caribbean",
         16,
         74.137,
         19.5,
         9.16,
         9.75,
         38.02,
         7.6
        ],
        [
         "Explorer",
         "Royal_Caribbean",
         13,
         138.0,
         31.14,
         10.2,
         15.57,
         44.32,
         11.76
        ],
        [
         "Freedom",
         "Royal_Caribbean",
         7,
         158.0,
         43.7,
         11.12,
         18.0,
         36.16,
         13.6
        ],
        [
         "Grandeur",
         "Royal_Caribbean",
         17,
         74.137,
         19.5,
         9.16,
         9.75,
         38.02,
         7.6
        ],
        [
         "Independence",
         "Royal_Caribbean",
         5,
         160.0,
         36.34,
         11.12,
         18.17,
         44.03,
         13.6
        ],
        [
         "Jewel",
         "Royal_Caribbean",
         9,
         90.09,
         25.01,
         9.62,
         10.94,
         36.02,
         8.69
        ],
        [
         "Legend",
         "Royal_Caribbean",
         18,
         70.0,
         18.0,
         8.67,
         9.0,
         38.89,
         7.2
        ],
        [
         "Liberty",
         "Royal_Caribbean",
         6,
         158.0,
         43.7,
         11.25,
         18.0,
         36.16,
         13.6
        ],
        [
         "Majesty",
         "Royal_Caribbean",
         21,
         73.941,
         27.44,
         8.8,
         11.75,
         26.95,
         8.22
        ],
        [
         "Mariner",
         "Royal_Caribbean",
         10,
         138.0,
         31.14,
         10.2,
         15.57,
         44.32,
         11.85
        ],
        [
         "Monarch",
         "Royal_Caribbean",
         22,
         73.941,
         27.44,
         8.8,
         11.77,
         30.94,
         8.22
        ],
        [
         "Navigator",
         "Royal_Caribbean",
         11,
         138.0,
         31.14,
         10.2,
         15.57,
         44.32,
         11.85
        ],
        [
         "Oasis",
         "Royal_Caribbean",
         4,
         220.0,
         54.0,
         11.82,
         27.0,
         40.74,
         21.0
        ],
        [
         "Radiance",
         "Royal_Caribbean",
         12,
         90.09,
         25.01,
         9.62,
         10.5,
         36.02,
         8.68
        ],
        [
         "Rhapsody",
         "Royal_Caribbean",
         16,
         78.491,
         24.35,
         9.15,
         10.0,
         32.23,
         7.65
        ],
        [
         "Serenade",
         "Royal_Caribbean",
         10,
         90.09,
         25.01,
         9.62,
         10.5,
         36.02,
         8.58
        ],
        [
         "Sovreign",
         "Royal_Caribbean",
         25,
         73.192,
         28.52,
         8.8,
         11.38,
         25.66,
         8.08
        ],
        [
         "Splendour",
         "Royal_Caribbean",
         17,
         70.0,
         20.76,
         8.67,
         9.02,
         33.72,
         7.2
        ],
        [
         "Vision",
         "Royal_Caribbean",
         15,
         78.491,
         24.35,
         9.15,
         10.0,
         32.23,
         6.6
        ],
        [
         "Voyager",
         "Royal_Caribbean",
         14,
         138.0,
         31.14,
         10.2,
         15.57,
         44.32,
         11.76
        ],
        [
         "Legend",
         "Seabourn",
         21,
         10.0,
         2.08,
         4.4,
         1.04,
         48.08,
         1.6
        ],
        [
         "Pride",
         "Seabourn",
         27,
         10.0,
         2.08,
         4.4,
         1.04,
         48.08,
         1.6
        ],
        [
         "Spirit",
         "Seabourn",
         24,
         10.0,
         2.08,
         4.4,
         1.04,
         48.08,
         1.6
        ],
        [
         "Cloud",
         "Silversea",
         19,
         16.8,
         2.96,
         5.14,
         1.48,
         56.76,
         2.1
        ],
        [
         "Shadow",
         "Silversea",
         13,
         25.0,
         3.82,
         5.97,
         1.94,
         65.45,
         2.95
        ],
        [
         "Whisper",
         "Silversea",
         12,
         25.0,
         3.88,
         5.97,
         1.94,
         64.43,
         2.87
        ],
        [
         "Wind",
         "Silversea",
         19,
         16.8,
         2.96,
         5.14,
         1.48,
         56.76,
         1.97
        ],
        [
         "Aries",
         "Star",
         22,
         3.341,
         0.66,
         2.8,
         0.33,
         50.62,
         0.59
        ],
        [
         "Gemini",
         "Star",
         21,
         19.093,
         8.0,
         5.37,
         4.0,
         23.87,
         4.7
        ],
        [
         "Libra",
         "Star",
         12,
         42.0,
         14.8,
         7.13,
         7.4,
         28.38,
         6.8
        ],
        [
         "Pisces",
         "Star",
         24,
         40.053000000000004,
         12.87,
         5.79,
         7.76,
         31.12,
         7.5
        ],
        [
         "Taurus",
         "Star",
         22,
         3.341,
         0.66,
         2.79,
         0.33,
         50.62,
         0.59
        ],
        [
         "Virgo",
         "Star",
         14,
         76.8,
         19.6,
         8.79,
         9.67,
         39.18,
         12.0
        ],
        [
         "Spirit",
         "Windstar",
         25,
         5.35,
         1.58,
         4.4,
         0.74,
         33.86,
         0.88
        ],
        [
         "Star",
         "Windstar",
         27,
         5.35,
         1.67,
         4.4,
         0.74,
         32.04,
         0.88
        ],
        [
         "Surf",
         "Windstar",
         23,
         14.745,
         3.08,
         6.17,
         1.56,
         47.87,
         1.8
        ]
       ],
       "datasetInfos": [],
       "dbfsResultPath": null,
       "isJsonSchema": true,
       "metadata": {},
       "overflow": false,
       "plotOptions": {
        "customPlotOptions": {},
        "displayType": "table",
        "pivotAggregation": null,
        "pivotColumns": null,
        "xColumns": null,
        "yColumns": null
       },
       "removedWidgets": [],
       "schema": [
        {
         "metadata": "{}",
         "name": "Ship_name",
         "type": "\"string\""
        },
        {
         "metadata": "{}",
         "name": "Cruise_line",
         "type": "\"string\""
        },
        {
         "metadata": "{}",
         "name": "Age",
         "type": "\"integer\""
        },
        {
         "metadata": "{}",
         "name": "Tonnage",
         "type": "\"double\""
        },
        {
         "metadata": "{}",
         "name": "passengers",
         "type": "\"double\""
        },
        {
         "metadata": "{}",
         "name": "length",
         "type": "\"double\""
        },
        {
         "metadata": "{}",
         "name": "cabins",
         "type": "\"double\""
        },
        {
         "metadata": "{}",
         "name": "passenger_density",
         "type": "\"double\""
        },
        {
         "metadata": "{}",
         "name": "crew",
         "type": "\"double\""
        }
       ],
       "type": "table"
      }
     },
     "output_type": "display_data"
    },
    {
     "output_type": "display_data",
     "data": {
      "text/plain": [
       "Databricks visualization. Run in Databricks to view."
      ]
     },
     "metadata": {
      "application/vnd.databricks.v1.subcommand+json": {
       "baseErrorDetails": null,
       "bindings": {},
       "collapsed": false,
       "command": "%python\n__backend_agg_display_orig = display\n__backend_agg_dfs = []\ndef __backend_agg_display_new(df):\n    __backend_agg_df_modules = [\"pandas.core.frame\", \"databricks.koalas.frame\", \"pyspark.sql.dataframe\", \"pyspark.pandas.frame\", \"pyspark.sql.connect.dataframe\"]\n    if (type(df).__module__ in __backend_agg_df_modules and type(df).__name__ == 'DataFrame') or isinstance(df, list):\n        __backend_agg_dfs.append(df)\n\ndisplay = __backend_agg_display_new\n\ndef __backend_agg_user_code_fn():\n    import base64\n    exec(base64.standard_b64decode(\"ZGYuZGlzcGxheSgp\").decode())\n\ntry:\n    # run user code\n    __backend_agg_user_code_fn()\n\n    #reset display function\n    display = __backend_agg_display_orig\n\n    if len(__backend_agg_dfs) > 0:\n        # create a temp view\n        if type(__backend_agg_dfs[0]).__module__ == \"databricks.koalas.frame\":\n            # koalas dataframe\n            __backend_agg_dfs[0].to_spark().createOrReplaceTempView(\"DatabricksView8dac97f\")\n        elif type(__backend_agg_dfs[0]).__module__ == \"pandas.core.frame\" or isinstance(__backend_agg_dfs[0], list):\n            # pandas dataframe\n            spark.createDataFrame(__backend_agg_dfs[0]).createOrReplaceTempView(\"DatabricksView8dac97f\")\n        else:\n            __backend_agg_dfs[0].createOrReplaceTempView(\"DatabricksView8dac97f\")\n        #run backend agg\n        display(spark.sql(\"\"\"WITH q AS (select * from DatabricksView8dac97f) SELECT `Cruise_line`,COUNT(`Cruise_line`) `column_fe5f2e0d8` FROM q GROUP BY `Cruise_line`\"\"\"))\n    else:\n        displayHTML(\"dataframe no longer exists. If you're using dataframe.display(), use display(dataframe) instead.\")\n\n\nfinally:\n    spark.sql(\"drop view if exists DatabricksView8dac97f\")\n    display = __backend_agg_display_orig\n    del __backend_agg_display_new\n    del __backend_agg_display_orig\n    del __backend_agg_dfs\n    del __backend_agg_user_code_fn\n\n",
       "commandTitle": "Visualization 1",
       "commandType": "auto",
       "commandVersion": 0,
       "commentThread": [],
       "commentsVisible": false,
       "contentSha256Hex": null,
       "customPlotOptions": {
        "redashChart": [
         {
          "key": "type",
          "value": "CHART"
         },
         {
          "key": "options",
          "value": {
           "alignYAxesAtZero": true,
           "coefficient": 1,
           "columnConfigurationMap": {
            "x": {
             "column": "Cruise_line",
             "id": "column_fe5f2e0d3"
            },
            "y": [
             {
              "column": "Cruise_line",
              "id": "column_fe5f2e0d8",
              "transform": "COUNT"
             }
            ]
           },
           "dateTimeFormat": "DD/MM/YYYY HH:mm",
           "direction": {
            "type": "counterclockwise"
           },
           "error_y": {
            "type": "data",
            "visible": true
           },
           "globalSeriesType": "column",
           "isAggregationOn": true,
           "legend": {
            "traceorder": "normal"
           },
           "missingValuesAsZero": true,
           "numberFormat": "0,0.[00000]",
           "percentFormat": "0[.]00%",
           "series": {
            "error_y": {
             "type": "data",
             "visible": true
            },
            "percentValues": false,
            "stacking": ""
           },
           "seriesOptions": {
            "column_fe5f2e0d5": {
             "type": "column",
             "yAxis": 0
            },
            "column_fe5f2e0d8": {
             "type": "column",
             "yAxis": 0
            }
           },
           "showDataLabels": true,
           "sizemode": "diameter",
           "sortX": true,
           "sortY": true,
           "swappedAxes": false,
           "textFormat": "",
           "useAggregationsUi": true,
           "valuesOptions": {},
           "version": 2,
           "xAxis": {
            "labels": {
             "enabled": true
            },
            "type": "-"
           },
           "yAxis": [
            {
             "type": "-"
            },
            {
             "opposite": true,
             "type": "-"
            }
           ]
          }
         }
        ]
       },
       "datasetPreviewNameToCmdIdMap": {},
       "diffDeletes": [],
       "diffInserts": [],
       "displayType": "redashChart",
       "error": null,
       "errorDetails": null,
       "errorSummary": null,
       "errorTraceType": null,
       "finishTime": 0,
       "globalVars": {},
       "guid": "",
       "height": "auto",
       "hideCommandCode": false,
       "hideCommandResult": false,
       "iPythonMetadata": null,
       "inputWidgets": {},
       "isLockedInExamMode": false,
       "latestUser": "a user",
       "latestUserId": null,
       "listResultMetadata": null,
       "metadata": {
        "byteLimit": 2048000,
        "rowLimit": 10000
       },
       "nuid": "ad90a2b1-5ef9-4e98-ba60-c32bcd119b15",
       "origId": 0,
       "parentHierarchy": [],
       "pivotAggregation": null,
       "pivotColumns": null,
       "position": 9.0,
       "resultDbfsErrorMessage": null,
       "resultDbfsStatus": "INLINED_IN_TREE",
       "results": null,
       "showCommandTitle": false,
       "startTime": 0,
       "state": "finished",
       "streamStates": {},
       "subcommandOptions": {
        "queryPlan": {
         "groups": [
          {
           "column": "Cruise_line",
           "type": "column"
          }
         ],
         "selects": [
          {
           "column": "Cruise_line",
           "type": "column"
          },
          {
           "alias": "column_fe5f2e0d8",
           "args": [
            {
             "column": "Cruise_line",
             "type": "column"
            }
           ],
           "function": "COUNT",
           "type": "function"
          }
         ]
        }
       },
       "submitTime": 0,
       "subtype": "tableResultSubCmd.visualization",
       "tableResultIndex": 0,
       "tableResultSettingsMap": {},
       "useConsistentColors": false,
       "version": "CommandV1",
       "width": "auto",
       "workflows": [],
       "xColumns": null,
       "yColumns": null
      }
     },
     "output_type": "display_data"
    }
   ],
   "source": [
    "df.display()"
   ]
  },
  {
   "cell_type": "code",
   "execution_count": 0,
   "metadata": {
    "application/vnd.databricks.v1+cell": {
     "cellMetadata": {
      "byteLimit": 2048000,
      "rowLimit": 10000
     },
     "inputWidgets": {},
     "nuid": "da26c9b6-631f-42d8-8068-46dab5ccc300",
     "showTitle": false,
     "tableResultSettingsMap": {},
     "title": ""
    }
   },
   "outputs": [
    {
     "output_type": "display_data",
     "data": {
      "text/html": [
       "<style scoped>\n",
       "  .table-result-container {\n",
       "    max-height: 300px;\n",
       "    overflow: auto;\n",
       "  }\n",
       "  table, th, td {\n",
       "    border: 1px solid black;\n",
       "    border-collapse: collapse;\n",
       "  }\n",
       "  th, td {\n",
       "    padding: 5px;\n",
       "  }\n",
       "  th {\n",
       "    text-align: left;\n",
       "  }\n",
       "</style><div class='table-result-container'><table class='table-result'><thead style='background-color: white'><tr><th>Ship_name</th><th>Cruise_line</th><th>Age</th><th>Tonnage</th><th>passengers</th><th>length</th><th>cabins</th><th>passenger_density</th><th>crew</th></tr></thead><tbody><tr><td>Journey</td><td>Azamara</td><td>6</td><td>30.276999999999997</td><td>6.94</td><td>5.94</td><td>3.55</td><td>42.64</td><td>3.55</td></tr><tr><td>Quest</td><td>Azamara</td><td>6</td><td>30.276999999999997</td><td>6.94</td><td>5.94</td><td>3.55</td><td>42.64</td><td>3.55</td></tr><tr><td>Celebration</td><td>Carnival</td><td>26</td><td>47.262</td><td>14.86</td><td>7.22</td><td>7.43</td><td>31.8</td><td>6.7</td></tr><tr><td>Conquest</td><td>Carnival</td><td>11</td><td>110.0</td><td>29.74</td><td>9.53</td><td>14.88</td><td>36.99</td><td>19.1</td></tr><tr><td>Destiny</td><td>Carnival</td><td>17</td><td>101.353</td><td>26.42</td><td>8.92</td><td>13.21</td><td>38.36</td><td>10.0</td></tr><tr><td>Ecstasy</td><td>Carnival</td><td>22</td><td>70.367</td><td>20.52</td><td>8.55</td><td>10.2</td><td>34.29</td><td>9.2</td></tr><tr><td>Elation</td><td>Carnival</td><td>15</td><td>70.367</td><td>20.52</td><td>8.55</td><td>10.2</td><td>34.29</td><td>9.2</td></tr><tr><td>Fantasy</td><td>Carnival</td><td>23</td><td>70.367</td><td>20.56</td><td>8.55</td><td>10.22</td><td>34.23</td><td>9.2</td></tr><tr><td>Fascination</td><td>Carnival</td><td>19</td><td>70.367</td><td>20.52</td><td>8.55</td><td>10.2</td><td>34.29</td><td>9.2</td></tr><tr><td>Freedom</td><td>Carnival</td><td>6</td><td>110.23899999999999</td><td>37.0</td><td>9.51</td><td>14.87</td><td>29.79</td><td>11.5</td></tr><tr><td>Glory</td><td>Carnival</td><td>10</td><td>110.0</td><td>29.74</td><td>9.51</td><td>14.87</td><td>36.99</td><td>11.6</td></tr><tr><td>Holiday</td><td>Carnival</td><td>28</td><td>46.052</td><td>14.52</td><td>7.27</td><td>7.26</td><td>31.72</td><td>6.6</td></tr><tr><td>Imagination</td><td>Carnival</td><td>18</td><td>70.367</td><td>20.52</td><td>8.55</td><td>10.2</td><td>34.29</td><td>9.2</td></tr><tr><td>Inspiration</td><td>Carnival</td><td>17</td><td>70.367</td><td>20.52</td><td>8.55</td><td>10.2</td><td>34.29</td><td>9.2</td></tr><tr><td>Legend</td><td>Carnival</td><td>11</td><td>86.0</td><td>21.24</td><td>9.63</td><td>10.62</td><td>40.49</td><td>9.3</td></tr><tr><td>Liberty*</td><td>Carnival</td><td>8</td><td>110.0</td><td>29.74</td><td>9.51</td><td>14.87</td><td>36.99</td><td>11.6</td></tr><tr><td>Miracle</td><td>Carnival</td><td>9</td><td>88.5</td><td>21.24</td><td>9.63</td><td>10.62</td><td>41.67</td><td>10.3</td></tr><tr><td>Paradise</td><td>Carnival</td><td>15</td><td>70.367</td><td>20.52</td><td>8.55</td><td>10.2</td><td>34.29</td><td>9.2</td></tr><tr><td>Pride</td><td>Carnival</td><td>12</td><td>88.5</td><td>21.24</td><td>9.63</td><td>11.62</td><td>41.67</td><td>9.3</td></tr><tr><td>Sensation</td><td>Carnival</td><td>20</td><td>70.367</td><td>20.52</td><td>8.55</td><td>10.2</td><td>34.29</td><td>9.2</td></tr><tr><td>Spirit</td><td>Carnival</td><td>12</td><td>88.5</td><td>21.24</td><td>9.63</td><td>10.56</td><td>41.67</td><td>10.29</td></tr><tr><td>Triumph</td><td>Carnival</td><td>14</td><td>101.509</td><td>27.58</td><td>8.93</td><td>13.21</td><td>36.81</td><td>10.0</td></tr><tr><td>Valor</td><td>Carnival</td><td>9</td><td>110.0</td><td>29.74</td><td>9.52</td><td>14.87</td><td>36.99</td><td>11.6</td></tr><tr><td>Victory</td><td>Carnival</td><td>13</td><td>101.509</td><td>27.58</td><td>8.93</td><td>13.79</td><td>36.81</td><td>11.5</td></tr><tr><td>Century</td><td>Celebrity</td><td>18</td><td>70.60600000000001</td><td>17.7</td><td>8.15</td><td>8.75</td><td>39.89</td><td>8.58</td></tr><tr><td>Constellation</td><td>Celebrity</td><td>11</td><td>91.0</td><td>20.32</td><td>9.65</td><td>9.75</td><td>44.78</td><td>9.99</td></tr><tr><td>Galaxy</td><td>Celebrity</td><td>17</td><td>77.71300000000001</td><td>18.9</td><td>8.66</td><td>9.35</td><td>41.12</td><td>9.09</td></tr><tr><td>Infinity</td><td>Celebrity</td><td>12</td><td>91.0</td><td>20.32</td><td>9.65</td><td>9.75</td><td>44.78</td><td>9.99</td></tr><tr><td>Mercury</td><td>Celebrity</td><td>16</td><td>77.71300000000001</td><td>18.82</td><td>8.66</td><td>9.35</td><td>41.29</td><td>9.09</td></tr><tr><td>Millenium</td><td>Celebrity</td><td>13</td><td>91.0</td><td>20.32</td><td>9.65</td><td>9.75</td><td>44.78</td><td>9.99</td></tr><tr><td>Solstice</td><td>Celebrity</td><td>5</td><td>122.0</td><td>28.5</td><td>10.33</td><td>6.87</td><td>34.57</td><td>6.7</td></tr><tr><td>Summit</td><td>Celebrity</td><td>12</td><td>91.0</td><td>20.32</td><td>9.65</td><td>9.75</td><td>44.78</td><td>9.99</td></tr><tr><td>Xpedition</td><td>Celebrity</td><td>12</td><td>2.329</td><td>0.94</td><td>2.96</td><td>0.45</td><td>24.78</td><td>0.6</td></tr><tr><td>Zenith</td><td>Celebrity</td><td>21</td><td>47.225</td><td>13.66</td><td>6.82</td><td>6.87</td><td>34.57</td><td>6.7</td></tr><tr><td>Allegra</td><td>Costa</td><td>21</td><td>28.43</td><td>8.08</td><td>6.16</td><td>4.1</td><td>35.19</td><td>4.0</td></tr><tr><td>Atlantica</td><td>Costa</td><td>13</td><td>85.619</td><td>21.14</td><td>9.57</td><td>10.56</td><td>40.5</td><td>9.2</td></tr><tr><td>Classica</td><td>Costa</td><td>22</td><td>52.926</td><td>13.02</td><td>7.18</td><td>6.54</td><td>40.65</td><td>6.17</td></tr><tr><td>Europa</td><td>Costa</td><td>27</td><td>53.872</td><td>14.94</td><td>7.98</td><td>7.67</td><td>36.06</td><td>6.36</td></tr><tr><td>Fortuna</td><td>Costa</td><td>10</td><td>105.0</td><td>27.2</td><td>8.9</td><td>13.56</td><td>38.6</td><td>10.68</td></tr><tr><td>Magica</td><td>Costa</td><td>9</td><td>105.0</td><td>27.2</td><td>8.9</td><td>13.56</td><td>38.6</td><td>10.68</td></tr><tr><td>Marina</td><td>Costa</td><td>23</td><td>25.0</td><td>7.76</td><td>6.22</td><td>3.86</td><td>32.22</td><td>3.85</td></tr><tr><td>Mediterranea</td><td>Costa</td><td>10</td><td>86.0</td><td>21.14</td><td>9.6</td><td>10.56</td><td>40.68</td><td>9.2</td></tr><tr><td>Romantica</td><td>Costa</td><td>20</td><td>53.049</td><td>13.44</td><td>7.22</td><td>6.78</td><td>39.47</td><td>6.0</td></tr><tr><td>Serena</td><td>Costa</td><td>6</td><td>112.0</td><td>38.0</td><td>9.51</td><td>15.0</td><td>29.47</td><td>10.9</td></tr><tr><td>Victoria</td><td>Costa</td><td>17</td><td>75.166</td><td>19.28</td><td>8.28</td><td>9.64</td><td>38.99</td><td>7.66</td></tr><tr><td>Serenity</td><td>Crystal</td><td>10</td><td>68.0</td><td>10.8</td><td>7.9</td><td>5.5</td><td>62.96</td><td>6.36</td></tr><tr><td>Symphony</td><td>Crystal</td><td>18</td><td>51.004</td><td>9.4</td><td>7.81</td><td>4.8</td><td>54.26</td><td>5.45</td></tr><tr><td>QueenElizabethII</td><td>Cunard</td><td>44</td><td>70.327</td><td>17.91</td><td>9.63</td><td>9.5</td><td>39.27</td><td>9.21</td></tr><tr><td>QueenMary2</td><td>Cunard</td><td>10</td><td>151.4</td><td>26.2</td><td>11.32</td><td>11.34</td><td>57.79</td><td>12.53</td></tr><tr><td>QueenVictoria</td><td>Cunard</td><td>6</td><td>90.0</td><td>20.0</td><td>9.64</td><td>10.29</td><td>45.0</td><td>9.0</td></tr><tr><td>Magic</td><td>Disney</td><td>15</td><td>83.338</td><td>17.5</td><td>9.64</td><td>8.75</td><td>47.62</td><td>9.45</td></tr><tr><td>Wonder</td><td>Disney</td><td>14</td><td>83.0</td><td>17.5</td><td>9.64</td><td>8.75</td><td>47.43</td><td>9.45</td></tr><tr><td>Amsterdam</td><td>Holland_American</td><td>13</td><td>61.0</td><td>13.8</td><td>7.8</td><td>6.88</td><td>44.2</td><td>6.0</td></tr><tr><td>Eurodam</td><td>Holland_American</td><td>5</td><td>86.0</td><td>21.04</td><td>9.36</td><td>10.22</td><td>40.87</td><td>8.0</td></tr><tr><td>Maasdam</td><td>Holland_American</td><td>20</td><td>55.451</td><td>12.64</td><td>7.19</td><td>6.32</td><td>43.87</td><td>5.57</td></tr><tr><td>Noordam</td><td>Holland_American</td><td>29</td><td>33.92</td><td>12.14</td><td>7.04</td><td>6.07</td><td>27.94</td><td>5.3</td></tr><tr><td>Oosterdam</td><td>Holland_American</td><td>10</td><td>81.76899999999999</td><td>18.48</td><td>9.59</td><td>9.24</td><td>44.25</td><td>8.42</td></tr><tr><td>Prinsendam</td><td>Holland_American</td><td>25</td><td>38.0</td><td>7.49</td><td>6.74</td><td>3.96</td><td>50.73</td><td>4.6</td></tr><tr><td>Rotterdam</td><td>Holland_American</td><td>16</td><td>59.652</td><td>13.2</td><td>7.77</td><td>6.6</td><td>45.19</td><td>6.44</td></tr><tr><td>Ryndam</td><td>Holland_American</td><td>19</td><td>55.451</td><td>12.66</td><td>7.19</td><td>6.33</td><td>43.8</td><td>5.88</td></tr><tr><td>Statendam</td><td>Holland_American</td><td>20</td><td>55.451</td><td>12.66</td><td>7.19</td><td>6.33</td><td>43.8</td><td>5.88</td></tr><tr><td>Veendam</td><td>Holland_American</td><td>17</td><td>55.451</td><td>12.66</td><td>7.19</td><td>6.33</td><td>43.8</td><td>5.88</td></tr><tr><td>Volendam</td><td>Holland_American</td><td>14</td><td>63.0</td><td>14.4</td><td>7.77</td><td>7.2</td><td>43.75</td><td>5.61</td></tr><tr><td>Westerdam</td><td>Holland_American</td><td>27</td><td>53.872</td><td>14.94</td><td>7.98</td><td>7.47</td><td>36.06</td><td>6.12</td></tr><tr><td>Zaandam</td><td>Holland_American</td><td>13</td><td>63.0</td><td>14.4</td><td>7.77</td><td>7.2</td><td>43.75</td><td>5.31</td></tr><tr><td>Zuiderdam</td><td>Holland_American</td><td>11</td><td>85.0</td><td>18.48</td><td>9.51</td><td>9.24</td><td>46.0</td><td>8.0</td></tr><tr><td>Armonia</td><td>MSC</td><td>12</td><td>58.6</td><td>15.66</td><td>8.24</td><td>7.83</td><td>37.42</td><td>7.0</td></tr><tr><td>Fantasia</td><td>MSC</td><td>5</td><td>133.5</td><td>39.59</td><td>10.93</td><td>16.37</td><td>33.72</td><td>13.13</td></tr><tr><td>Lirica</td><td>MSC</td><td>10</td><td>58.825</td><td>15.6</td><td>8.23</td><td>7.65</td><td>37.71</td><td>7.0</td></tr><tr><td>Melody</td><td>MSC</td><td>31</td><td>35.143</td><td>12.5</td><td>6.69</td><td>5.32</td><td>28.11</td><td>5.35</td></tr><tr><td>Musica</td><td>MSC</td><td>7</td><td>89.6</td><td>25.5</td><td>9.61</td><td>12.75</td><td>35.14</td><td>9.87</td></tr><tr><td>Opera</td><td>MSC</td><td>9</td><td>59.058</td><td>17.0</td><td>7.63</td><td>8.5</td><td>34.74</td><td>7.4</td></tr><tr><td>Rhapsody</td><td>MSC</td><td>36</td><td>16.852</td><td>9.52</td><td>5.41</td><td>3.83</td><td>17.7</td><td>2.97</td></tr><tr><td>Sinfonia</td><td>MSC</td><td>11</td><td>58.6</td><td>15.66</td><td>8.23</td><td>7.83</td><td>37.42</td><td>7.6</td></tr><tr><td>Crown</td><td>Norwegian</td><td>25</td><td>34.25</td><td>10.52</td><td>6.15</td><td>5.26</td><td>32.56</td><td>4.7</td></tr><tr><td>Dawn</td><td>Norwegian</td><td>11</td><td>90.0</td><td>22.4</td><td>9.65</td><td>11.2</td><td>40.18</td><td>11.0</td></tr><tr><td>Dream</td><td>Norwegian</td><td>21</td><td>50.76</td><td>17.48</td><td>7.54</td><td>8.74</td><td>29.04</td><td>6.14</td></tr><tr><td>Gem</td><td>Norwegian</td><td>6</td><td>93.0</td><td>23.94</td><td>9.65</td><td>11.97</td><td>38.85</td><td>11.09</td></tr><tr><td>Jewel</td><td>Norwegian</td><td>8</td><td>91.0</td><td>22.44</td><td>9.65</td><td>11.22</td><td>40.55</td><td>11.0</td></tr><tr><td>Majesty</td><td>Norwegian</td><td>21</td><td>38.0</td><td>10.56</td><td>5.67</td><td>5.28</td><td>35.98</td><td>4.38</td></tr><tr><td>PrideofAloha</td><td>Norwegian</td><td>14</td><td>77.104</td><td>20.02</td><td>8.53</td><td>10.01</td><td>38.51</td><td>8.0</td></tr><tr><td>PrideofAmerica</td><td>Norwegian</td><td>9</td><td>81.0</td><td>21.44</td><td>9.21</td><td>10.72</td><td>37.78</td><td>10.0</td></tr><tr><td>Sea</td><td>Norwegian</td><td>25</td><td>42.0</td><td>15.04</td><td>7.08</td><td>7.52</td><td>27.93</td><td>6.3</td></tr><tr><td>Spirit</td><td>Norwegian</td><td>15</td><td>75.33800000000001</td><td>19.56</td><td>8.79</td><td>9.83</td><td>38.52</td><td>13.0</td></tr><tr><td>Star</td><td>Norwegian</td><td>40</td><td>28.0</td><td>11.5</td><td>6.74</td><td>4.0</td><td>24.35</td><td>3.8</td></tr><tr><td>Sun</td><td>Norwegian</td><td>12</td><td>77.104</td><td>20.02</td><td>8.53</td><td>10.01</td><td>38.51</td><td>9.59</td></tr><tr><td>Wind</td><td>Norwegian</td><td>20</td><td>50.76</td><td>17.48</td><td>7.54</td><td>8.74</td><td>29.04</td><td>6.14</td></tr><tr><td>Insignia</td><td>Oceania</td><td>15</td><td>30.276999999999997</td><td>6.84</td><td>5.94</td><td>3.42</td><td>44.26</td><td>4.0</td></tr><tr><td>Nautica</td><td>Oceania</td><td>13</td><td>30.276999999999997</td><td>6.84</td><td>5.94</td><td>3.42</td><td>44.26</td><td>4.0</td></tr><tr><td>Regatta</td><td>Oceania</td><td>15</td><td>30.276999999999997</td><td>6.84</td><td>5.94</td><td>3.42</td><td>44.26</td><td>4.0</td></tr><tr><td>MarcoPolo</td><td>Orient</td><td>48</td><td>22.08</td><td>8.26</td><td>5.78</td><td>4.25</td><td>26.73</td><td>3.5</td></tr><tr><td>Arcadia</td><td>P&O</td><td>9</td><td>85.0</td><td>19.68</td><td>9.35</td><td>9.84</td><td>43.19</td><td>8.69</td></tr><tr><td>Artemis</td><td>P&O</td><td>29</td><td>45.0</td><td>11.78</td><td>7.54</td><td>5.3</td><td>38.2</td><td>5.2</td></tr><tr><td>Aurora</td><td>P&O</td><td>13</td><td>76.0</td><td>18.74</td><td>8.86</td><td>9.39</td><td>40.55</td><td>8.5</td></tr><tr><td>Oceana</td><td>P&O</td><td>10</td><td>77.0</td><td>20.16</td><td>8.56</td><td>9.75</td><td>38.19</td><td>9.0</td></tr><tr><td>Oriana</td><td>P&O</td><td>18</td><td>69.153</td><td>18.82</td><td>8.53</td><td>9.14</td><td>36.74</td><td>7.94</td></tr><tr><td>Ventura</td><td>P&O</td><td>5</td><td>115.0</td><td>35.74</td><td>9.0</td><td>15.32</td><td>32.18</td><td>12.2</td></tr><tr><td>Caribbean</td><td>Princess</td><td>9</td><td>116.0</td><td>26.0</td><td>9.51</td><td>13.0</td><td>44.62</td><td>11.0</td></tr><tr><td>Coral</td><td>Princess</td><td>11</td><td>91.62700000000001</td><td>19.74</td><td>9.64</td><td>9.87</td><td>46.42</td><td>9.0</td></tr><tr><td>Crown</td><td>Princess</td><td>7</td><td>116.0</td><td>31.0</td><td>9.51</td><td>15.57</td><td>37.42</td><td>12.0</td></tr><tr><td>Dawn</td><td>Princess</td><td>16</td><td>77.499</td><td>19.5</td><td>8.56</td><td>10.5</td><td>39.74</td><td>9.0</td></tr><tr><td>Diamond</td><td>Princess</td><td>9</td><td>113.0</td><td>26.74</td><td>9.51</td><td>13.37</td><td>42.26</td><td>12.38</td></tr><tr><td>Emerald</td><td>Princess</td><td>6</td><td>113.0</td><td>37.82</td><td>9.51</td><td>15.57</td><td>29.88</td><td>12.0</td></tr><tr><td>Golden</td><td>Princess</td><td>12</td><td>108.865</td><td>27.58</td><td>9.51</td><td>13.0</td><td>39.47</td><td>11.0</td></tr><tr><td>Grand</td><td>Princess</td><td>15</td><td>108.806</td><td>26.0</td><td>9.51</td><td>13.0</td><td>41.85</td><td>11.1</td></tr><tr><td>Island</td><td>Princess</td><td>10</td><td>91.62700000000001</td><td>19.74</td><td>9.64</td><td>9.87</td><td>46.42</td><td>9.0</td></tr><tr><td>Pacific</td><td>Princess</td><td>14</td><td>30.276999999999997</td><td>6.86</td><td>5.93</td><td>3.44</td><td>44.14</td><td>3.73</td></tr><tr><td>Regal</td><td>Princess</td><td>22</td><td>69.845</td><td>15.9</td><td>8.03</td><td>7.95</td><td>43.93</td><td>6.96</td></tr><tr><td>Royal</td><td>Princess</td><td>29</td><td>44.348</td><td>12.0</td><td>7.54</td><td>6.0</td><td>36.96</td><td>5.2</td></tr><tr><td>Saphire</td><td>Princess</td><td>9</td><td>113.0</td><td>26.74</td><td>9.51</td><td>13.37</td><td>42.26</td><td>12.38</td></tr><tr><td>Sea</td><td>Princess</td><td>8</td><td>77.499</td><td>19.5</td><td>8.56</td><td>9.75</td><td>39.74</td><td>9.0</td></tr><tr><td>Star</td><td>Princess</td><td>11</td><td>108.977</td><td>26.02</td><td>9.51</td><td>13.01</td><td>41.88</td><td>12.0</td></tr><tr><td>Sun</td><td>Princess</td><td>18</td><td>77.499</td><td>19.5</td><td>8.56</td><td>9.75</td><td>39.74</td><td>9.0</td></tr><tr><td>Tahitian</td><td>Princess</td><td>14</td><td>30.276999999999997</td><td>6.88</td><td>5.93</td><td>3.44</td><td>44.01</td><td>3.73</td></tr><tr><td>ExplorerII</td><td>Regent_Seven_Seas</td><td>27</td><td>12.5</td><td>3.94</td><td>4.36</td><td>0.88</td><td>31.73</td><td>1.46</td></tr><tr><td>Mariner</td><td>Regent_Seven_Seas</td><td>12</td><td>50.0</td><td>7.0</td><td>7.09</td><td>3.54</td><td>71.43</td><td>4.45</td></tr><tr><td>Navigator</td><td>Regent_Seven_Seas</td><td>14</td><td>33.0</td><td>4.9</td><td>5.6</td><td>2.45</td><td>67.35</td><td>3.24</td></tr><tr><td>PaulGauguin</td><td>Regent_Seven_Seas</td><td>16</td><td>19.2</td><td>3.2</td><td>5.13</td><td>1.6</td><td>60.0</td><td>2.11</td></tr><tr><td>Voyager</td><td>Regent_Seven_Seas</td><td>10</td><td>46.0</td><td>7.0</td><td>6.7</td><td>1.82</td><td>65.71</td><td>4.47</td></tr><tr><td>Adventure</td><td>Royal_Caribbean</td><td>12</td><td>138.0</td><td>31.14</td><td>10.2</td><td>15.57</td><td>44.32</td><td>11.85</td></tr><tr><td>Brilliance</td><td>Royal_Caribbean</td><td>11</td><td>90.09</td><td>25.01</td><td>9.62</td><td>10.5</td><td>36.02</td><td>8.48</td></tr><tr><td>Empress</td><td>Royal_Caribbean</td><td>23</td><td>48.563</td><td>20.2</td><td>6.92</td><td>8.0</td><td>24.04</td><td>6.71</td></tr><tr><td>Enchantment</td><td>Royal_Caribbean</td><td>16</td><td>74.137</td><td>19.5</td><td>9.16</td><td>9.75</td><td>38.02</td><td>7.6</td></tr><tr><td>Explorer</td><td>Royal_Caribbean</td><td>13</td><td>138.0</td><td>31.14</td><td>10.2</td><td>15.57</td><td>44.32</td><td>11.76</td></tr><tr><td>Freedom</td><td>Royal_Caribbean</td><td>7</td><td>158.0</td><td>43.7</td><td>11.12</td><td>18.0</td><td>36.16</td><td>13.6</td></tr><tr><td>Grandeur</td><td>Royal_Caribbean</td><td>17</td><td>74.137</td><td>19.5</td><td>9.16</td><td>9.75</td><td>38.02</td><td>7.6</td></tr><tr><td>Independence</td><td>Royal_Caribbean</td><td>5</td><td>160.0</td><td>36.34</td><td>11.12</td><td>18.17</td><td>44.03</td><td>13.6</td></tr><tr><td>Jewel</td><td>Royal_Caribbean</td><td>9</td><td>90.09</td><td>25.01</td><td>9.62</td><td>10.94</td><td>36.02</td><td>8.69</td></tr><tr><td>Legend</td><td>Royal_Caribbean</td><td>18</td><td>70.0</td><td>18.0</td><td>8.67</td><td>9.0</td><td>38.89</td><td>7.2</td></tr><tr><td>Liberty</td><td>Royal_Caribbean</td><td>6</td><td>158.0</td><td>43.7</td><td>11.25</td><td>18.0</td><td>36.16</td><td>13.6</td></tr><tr><td>Majesty</td><td>Royal_Caribbean</td><td>21</td><td>73.941</td><td>27.44</td><td>8.8</td><td>11.75</td><td>26.95</td><td>8.22</td></tr><tr><td>Mariner</td><td>Royal_Caribbean</td><td>10</td><td>138.0</td><td>31.14</td><td>10.2</td><td>15.57</td><td>44.32</td><td>11.85</td></tr><tr><td>Monarch</td><td>Royal_Caribbean</td><td>22</td><td>73.941</td><td>27.44</td><td>8.8</td><td>11.77</td><td>30.94</td><td>8.22</td></tr><tr><td>Navigator</td><td>Royal_Caribbean</td><td>11</td><td>138.0</td><td>31.14</td><td>10.2</td><td>15.57</td><td>44.32</td><td>11.85</td></tr><tr><td>Oasis</td><td>Royal_Caribbean</td><td>4</td><td>220.0</td><td>54.0</td><td>11.82</td><td>27.0</td><td>40.74</td><td>21.0</td></tr><tr><td>Radiance</td><td>Royal_Caribbean</td><td>12</td><td>90.09</td><td>25.01</td><td>9.62</td><td>10.5</td><td>36.02</td><td>8.68</td></tr><tr><td>Rhapsody</td><td>Royal_Caribbean</td><td>16</td><td>78.491</td><td>24.35</td><td>9.15</td><td>10.0</td><td>32.23</td><td>7.65</td></tr><tr><td>Serenade</td><td>Royal_Caribbean</td><td>10</td><td>90.09</td><td>25.01</td><td>9.62</td><td>10.5</td><td>36.02</td><td>8.58</td></tr><tr><td>Sovreign</td><td>Royal_Caribbean</td><td>25</td><td>73.192</td><td>28.52</td><td>8.8</td><td>11.38</td><td>25.66</td><td>8.08</td></tr><tr><td>Splendour</td><td>Royal_Caribbean</td><td>17</td><td>70.0</td><td>20.76</td><td>8.67</td><td>9.02</td><td>33.72</td><td>7.2</td></tr><tr><td>Vision</td><td>Royal_Caribbean</td><td>15</td><td>78.491</td><td>24.35</td><td>9.15</td><td>10.0</td><td>32.23</td><td>6.6</td></tr><tr><td>Voyager</td><td>Royal_Caribbean</td><td>14</td><td>138.0</td><td>31.14</td><td>10.2</td><td>15.57</td><td>44.32</td><td>11.76</td></tr><tr><td>Legend</td><td>Seabourn</td><td>21</td><td>10.0</td><td>2.08</td><td>4.4</td><td>1.04</td><td>48.08</td><td>1.6</td></tr><tr><td>Pride</td><td>Seabourn</td><td>27</td><td>10.0</td><td>2.08</td><td>4.4</td><td>1.04</td><td>48.08</td><td>1.6</td></tr><tr><td>Spirit</td><td>Seabourn</td><td>24</td><td>10.0</td><td>2.08</td><td>4.4</td><td>1.04</td><td>48.08</td><td>1.6</td></tr><tr><td>Cloud</td><td>Silversea</td><td>19</td><td>16.8</td><td>2.96</td><td>5.14</td><td>1.48</td><td>56.76</td><td>2.1</td></tr><tr><td>Shadow</td><td>Silversea</td><td>13</td><td>25.0</td><td>3.82</td><td>5.97</td><td>1.94</td><td>65.45</td><td>2.95</td></tr><tr><td>Whisper</td><td>Silversea</td><td>12</td><td>25.0</td><td>3.88</td><td>5.97</td><td>1.94</td><td>64.43</td><td>2.87</td></tr><tr><td>Wind</td><td>Silversea</td><td>19</td><td>16.8</td><td>2.96</td><td>5.14</td><td>1.48</td><td>56.76</td><td>1.97</td></tr><tr><td>Aries</td><td>Star</td><td>22</td><td>3.341</td><td>0.66</td><td>2.8</td><td>0.33</td><td>50.62</td><td>0.59</td></tr><tr><td>Gemini</td><td>Star</td><td>21</td><td>19.093</td><td>8.0</td><td>5.37</td><td>4.0</td><td>23.87</td><td>4.7</td></tr><tr><td>Libra</td><td>Star</td><td>12</td><td>42.0</td><td>14.8</td><td>7.13</td><td>7.4</td><td>28.38</td><td>6.8</td></tr><tr><td>Pisces</td><td>Star</td><td>24</td><td>40.053000000000004</td><td>12.87</td><td>5.79</td><td>7.76</td><td>31.12</td><td>7.5</td></tr><tr><td>Taurus</td><td>Star</td><td>22</td><td>3.341</td><td>0.66</td><td>2.79</td><td>0.33</td><td>50.62</td><td>0.59</td></tr><tr><td>Virgo</td><td>Star</td><td>14</td><td>76.8</td><td>19.6</td><td>8.79</td><td>9.67</td><td>39.18</td><td>12.0</td></tr><tr><td>Spirit</td><td>Windstar</td><td>25</td><td>5.35</td><td>1.58</td><td>4.4</td><td>0.74</td><td>33.86</td><td>0.88</td></tr><tr><td>Star</td><td>Windstar</td><td>27</td><td>5.35</td><td>1.67</td><td>4.4</td><td>0.74</td><td>32.04</td><td>0.88</td></tr><tr><td>Surf</td><td>Windstar</td><td>23</td><td>14.745</td><td>3.08</td><td>6.17</td><td>1.56</td><td>47.87</td><td>1.8</td></tr></tbody></table></div>"
      ]
     },
     "metadata": {
      "application/vnd.databricks.v1+output": {
       "addedWidgets": {},
       "aggData": [],
       "aggError": "",
       "aggOverflow": false,
       "aggSchema": [],
       "aggSeriesLimitReached": false,
       "aggType": "",
       "arguments": {},
       "columnCustomDisplayInfos": {},
       "data": [
        [
         "Journey",
         "Azamara",
         6,
         30.276999999999997,
         6.94,
         5.94,
         3.55,
         42.64,
         3.55
        ],
        [
         "Quest",
         "Azamara",
         6,
         30.276999999999997,
         6.94,
         5.94,
         3.55,
         42.64,
         3.55
        ],
        [
         "Celebration",
         "Carnival",
         26,
         47.262,
         14.86,
         7.22,
         7.43,
         31.8,
         6.7
        ],
        [
         "Conquest",
         "Carnival",
         11,
         110.0,
         29.74,
         9.53,
         14.88,
         36.99,
         19.1
        ],
        [
         "Destiny",
         "Carnival",
         17,
         101.353,
         26.42,
         8.92,
         13.21,
         38.36,
         10.0
        ],
        [
         "Ecstasy",
         "Carnival",
         22,
         70.367,
         20.52,
         8.55,
         10.2,
         34.29,
         9.2
        ],
        [
         "Elation",
         "Carnival",
         15,
         70.367,
         20.52,
         8.55,
         10.2,
         34.29,
         9.2
        ],
        [
         "Fantasy",
         "Carnival",
         23,
         70.367,
         20.56,
         8.55,
         10.22,
         34.23,
         9.2
        ],
        [
         "Fascination",
         "Carnival",
         19,
         70.367,
         20.52,
         8.55,
         10.2,
         34.29,
         9.2
        ],
        [
         "Freedom",
         "Carnival",
         6,
         110.23899999999999,
         37.0,
         9.51,
         14.87,
         29.79,
         11.5
        ],
        [
         "Glory",
         "Carnival",
         10,
         110.0,
         29.74,
         9.51,
         14.87,
         36.99,
         11.6
        ],
        [
         "Holiday",
         "Carnival",
         28,
         46.052,
         14.52,
         7.27,
         7.26,
         31.72,
         6.6
        ],
        [
         "Imagination",
         "Carnival",
         18,
         70.367,
         20.52,
         8.55,
         10.2,
         34.29,
         9.2
        ],
        [
         "Inspiration",
         "Carnival",
         17,
         70.367,
         20.52,
         8.55,
         10.2,
         34.29,
         9.2
        ],
        [
         "Legend",
         "Carnival",
         11,
         86.0,
         21.24,
         9.63,
         10.62,
         40.49,
         9.3
        ],
        [
         "Liberty*",
         "Carnival",
         8,
         110.0,
         29.74,
         9.51,
         14.87,
         36.99,
         11.6
        ],
        [
         "Miracle",
         "Carnival",
         9,
         88.5,
         21.24,
         9.63,
         10.62,
         41.67,
         10.3
        ],
        [
         "Paradise",
         "Carnival",
         15,
         70.367,
         20.52,
         8.55,
         10.2,
         34.29,
         9.2
        ],
        [
         "Pride",
         "Carnival",
         12,
         88.5,
         21.24,
         9.63,
         11.62,
         41.67,
         9.3
        ],
        [
         "Sensation",
         "Carnival",
         20,
         70.367,
         20.52,
         8.55,
         10.2,
         34.29,
         9.2
        ],
        [
         "Spirit",
         "Carnival",
         12,
         88.5,
         21.24,
         9.63,
         10.56,
         41.67,
         10.29
        ],
        [
         "Triumph",
         "Carnival",
         14,
         101.509,
         27.58,
         8.93,
         13.21,
         36.81,
         10.0
        ],
        [
         "Valor",
         "Carnival",
         9,
         110.0,
         29.74,
         9.52,
         14.87,
         36.99,
         11.6
        ],
        [
         "Victory",
         "Carnival",
         13,
         101.509,
         27.58,
         8.93,
         13.79,
         36.81,
         11.5
        ],
        [
         "Century",
         "Celebrity",
         18,
         70.60600000000001,
         17.7,
         8.15,
         8.75,
         39.89,
         8.58
        ],
        [
         "Constellation",
         "Celebrity",
         11,
         91.0,
         20.32,
         9.65,
         9.75,
         44.78,
         9.99
        ],
        [
         "Galaxy",
         "Celebrity",
         17,
         77.71300000000001,
         18.9,
         8.66,
         9.35,
         41.12,
         9.09
        ],
        [
         "Infinity",
         "Celebrity",
         12,
         91.0,
         20.32,
         9.65,
         9.75,
         44.78,
         9.99
        ],
        [
         "Mercury",
         "Celebrity",
         16,
         77.71300000000001,
         18.82,
         8.66,
         9.35,
         41.29,
         9.09
        ],
        [
         "Millenium",
         "Celebrity",
         13,
         91.0,
         20.32,
         9.65,
         9.75,
         44.78,
         9.99
        ],
        [
         "Solstice",
         "Celebrity",
         5,
         122.0,
         28.5,
         10.33,
         6.87,
         34.57,
         6.7
        ],
        [
         "Summit",
         "Celebrity",
         12,
         91.0,
         20.32,
         9.65,
         9.75,
         44.78,
         9.99
        ],
        [
         "Xpedition",
         "Celebrity",
         12,
         2.329,
         0.94,
         2.96,
         0.45,
         24.78,
         0.6
        ],
        [
         "Zenith",
         "Celebrity",
         21,
         47.225,
         13.66,
         6.82,
         6.87,
         34.57,
         6.7
        ],
        [
         "Allegra",
         "Costa",
         21,
         28.43,
         8.08,
         6.16,
         4.1,
         35.19,
         4.0
        ],
        [
         "Atlantica",
         "Costa",
         13,
         85.619,
         21.14,
         9.57,
         10.56,
         40.5,
         9.2
        ],
        [
         "Classica",
         "Costa",
         22,
         52.926,
         13.02,
         7.18,
         6.54,
         40.65,
         6.17
        ],
        [
         "Europa",
         "Costa",
         27,
         53.872,
         14.94,
         7.98,
         7.67,
         36.06,
         6.36
        ],
        [
         "Fortuna",
         "Costa",
         10,
         105.0,
         27.2,
         8.9,
         13.56,
         38.6,
         10.68
        ],
        [
         "Magica",
         "Costa",
         9,
         105.0,
         27.2,
         8.9,
         13.56,
         38.6,
         10.68
        ],
        [
         "Marina",
         "Costa",
         23,
         25.0,
         7.76,
         6.22,
         3.86,
         32.22,
         3.85
        ],
        [
         "Mediterranea",
         "Costa",
         10,
         86.0,
         21.14,
         9.6,
         10.56,
         40.68,
         9.2
        ],
        [
         "Romantica",
         "Costa",
         20,
         53.049,
         13.44,
         7.22,
         6.78,
         39.47,
         6.0
        ],
        [
         "Serena",
         "Costa",
         6,
         112.0,
         38.0,
         9.51,
         15.0,
         29.47,
         10.9
        ],
        [
         "Victoria",
         "Costa",
         17,
         75.166,
         19.28,
         8.28,
         9.64,
         38.99,
         7.66
        ],
        [
         "Serenity",
         "Crystal",
         10,
         68.0,
         10.8,
         7.9,
         5.5,
         62.96,
         6.36
        ],
        [
         "Symphony",
         "Crystal",
         18,
         51.004,
         9.4,
         7.81,
         4.8,
         54.26,
         5.45
        ],
        [
         "QueenElizabethII",
         "Cunard",
         44,
         70.327,
         17.91,
         9.63,
         9.5,
         39.27,
         9.21
        ],
        [
         "QueenMary2",
         "Cunard",
         10,
         151.4,
         26.2,
         11.32,
         11.34,
         57.79,
         12.53
        ],
        [
         "QueenVictoria",
         "Cunard",
         6,
         90.0,
         20.0,
         9.64,
         10.29,
         45.0,
         9.0
        ],
        [
         "Magic",
         "Disney",
         15,
         83.338,
         17.5,
         9.64,
         8.75,
         47.62,
         9.45
        ],
        [
         "Wonder",
         "Disney",
         14,
         83.0,
         17.5,
         9.64,
         8.75,
         47.43,
         9.45
        ],
        [
         "Amsterdam",
         "Holland_American",
         13,
         61.0,
         13.8,
         7.8,
         6.88,
         44.2,
         6.0
        ],
        [
         "Eurodam",
         "Holland_American",
         5,
         86.0,
         21.04,
         9.36,
         10.22,
         40.87,
         8.0
        ],
        [
         "Maasdam",
         "Holland_American",
         20,
         55.451,
         12.64,
         7.19,
         6.32,
         43.87,
         5.57
        ],
        [
         "Noordam",
         "Holland_American",
         29,
         33.92,
         12.14,
         7.04,
         6.07,
         27.94,
         5.3
        ],
        [
         "Oosterdam",
         "Holland_American",
         10,
         81.76899999999999,
         18.48,
         9.59,
         9.24,
         44.25,
         8.42
        ],
        [
         "Prinsendam",
         "Holland_American",
         25,
         38.0,
         7.49,
         6.74,
         3.96,
         50.73,
         4.6
        ],
        [
         "Rotterdam",
         "Holland_American",
         16,
         59.652,
         13.2,
         7.77,
         6.6,
         45.19,
         6.44
        ],
        [
         "Ryndam",
         "Holland_American",
         19,
         55.451,
         12.66,
         7.19,
         6.33,
         43.8,
         5.88
        ],
        [
         "Statendam",
         "Holland_American",
         20,
         55.451,
         12.66,
         7.19,
         6.33,
         43.8,
         5.88
        ],
        [
         "Veendam",
         "Holland_American",
         17,
         55.451,
         12.66,
         7.19,
         6.33,
         43.8,
         5.88
        ],
        [
         "Volendam",
         "Holland_American",
         14,
         63.0,
         14.4,
         7.77,
         7.2,
         43.75,
         5.61
        ],
        [
         "Westerdam",
         "Holland_American",
         27,
         53.872,
         14.94,
         7.98,
         7.47,
         36.06,
         6.12
        ],
        [
         "Zaandam",
         "Holland_American",
         13,
         63.0,
         14.4,
         7.77,
         7.2,
         43.75,
         5.31
        ],
        [
         "Zuiderdam",
         "Holland_American",
         11,
         85.0,
         18.48,
         9.51,
         9.24,
         46.0,
         8.0
        ],
        [
         "Armonia",
         "MSC",
         12,
         58.6,
         15.66,
         8.24,
         7.83,
         37.42,
         7.0
        ],
        [
         "Fantasia",
         "MSC",
         5,
         133.5,
         39.59,
         10.93,
         16.37,
         33.72,
         13.13
        ],
        [
         "Lirica",
         "MSC",
         10,
         58.825,
         15.6,
         8.23,
         7.65,
         37.71,
         7.0
        ],
        [
         "Melody",
         "MSC",
         31,
         35.143,
         12.5,
         6.69,
         5.32,
         28.11,
         5.35
        ],
        [
         "Musica",
         "MSC",
         7,
         89.6,
         25.5,
         9.61,
         12.75,
         35.14,
         9.87
        ],
        [
         "Opera",
         "MSC",
         9,
         59.058,
         17.0,
         7.63,
         8.5,
         34.74,
         7.4
        ],
        [
         "Rhapsody",
         "MSC",
         36,
         16.852,
         9.52,
         5.41,
         3.83,
         17.7,
         2.97
        ],
        [
         "Sinfonia",
         "MSC",
         11,
         58.6,
         15.66,
         8.23,
         7.83,
         37.42,
         7.6
        ],
        [
         "Crown",
         "Norwegian",
         25,
         34.25,
         10.52,
         6.15,
         5.26,
         32.56,
         4.7
        ],
        [
         "Dawn",
         "Norwegian",
         11,
         90.0,
         22.4,
         9.65,
         11.2,
         40.18,
         11.0
        ],
        [
         "Dream",
         "Norwegian",
         21,
         50.76,
         17.48,
         7.54,
         8.74,
         29.04,
         6.14
        ],
        [
         "Gem",
         "Norwegian",
         6,
         93.0,
         23.94,
         9.65,
         11.97,
         38.85,
         11.09
        ],
        [
         "Jewel",
         "Norwegian",
         8,
         91.0,
         22.44,
         9.65,
         11.22,
         40.55,
         11.0
        ],
        [
         "Majesty",
         "Norwegian",
         21,
         38.0,
         10.56,
         5.67,
         5.28,
         35.98,
         4.38
        ],
        [
         "PrideofAloha",
         "Norwegian",
         14,
         77.104,
         20.02,
         8.53,
         10.01,
         38.51,
         8.0
        ],
        [
         "PrideofAmerica",
         "Norwegian",
         9,
         81.0,
         21.44,
         9.21,
         10.72,
         37.78,
         10.0
        ],
        [
         "Sea",
         "Norwegian",
         25,
         42.0,
         15.04,
         7.08,
         7.52,
         27.93,
         6.3
        ],
        [
         "Spirit",
         "Norwegian",
         15,
         75.33800000000001,
         19.56,
         8.79,
         9.83,
         38.52,
         13.0
        ],
        [
         "Star",
         "Norwegian",
         40,
         28.0,
         11.5,
         6.74,
         4.0,
         24.35,
         3.8
        ],
        [
         "Sun",
         "Norwegian",
         12,
         77.104,
         20.02,
         8.53,
         10.01,
         38.51,
         9.59
        ],
        [
         "Wind",
         "Norwegian",
         20,
         50.76,
         17.48,
         7.54,
         8.74,
         29.04,
         6.14
        ],
        [
         "Insignia",
         "Oceania",
         15,
         30.276999999999997,
         6.84,
         5.94,
         3.42,
         44.26,
         4.0
        ],
        [
         "Nautica",
         "Oceania",
         13,
         30.276999999999997,
         6.84,
         5.94,
         3.42,
         44.26,
         4.0
        ],
        [
         "Regatta",
         "Oceania",
         15,
         30.276999999999997,
         6.84,
         5.94,
         3.42,
         44.26,
         4.0
        ],
        [
         "MarcoPolo",
         "Orient",
         48,
         22.08,
         8.26,
         5.78,
         4.25,
         26.73,
         3.5
        ],
        [
         "Arcadia",
         "P&O",
         9,
         85.0,
         19.68,
         9.35,
         9.84,
         43.19,
         8.69
        ],
        [
         "Artemis",
         "P&O",
         29,
         45.0,
         11.78,
         7.54,
         5.3,
         38.2,
         5.2
        ],
        [
         "Aurora",
         "P&O",
         13,
         76.0,
         18.74,
         8.86,
         9.39,
         40.55,
         8.5
        ],
        [
         "Oceana",
         "P&O",
         10,
         77.0,
         20.16,
         8.56,
         9.75,
         38.19,
         9.0
        ],
        [
         "Oriana",
         "P&O",
         18,
         69.153,
         18.82,
         8.53,
         9.14,
         36.74,
         7.94
        ],
        [
         "Ventura",
         "P&O",
         5,
         115.0,
         35.74,
         9.0,
         15.32,
         32.18,
         12.2
        ],
        [
         "Caribbean",
         "Princess",
         9,
         116.0,
         26.0,
         9.51,
         13.0,
         44.62,
         11.0
        ],
        [
         "Coral",
         "Princess",
         11,
         91.62700000000001,
         19.74,
         9.64,
         9.87,
         46.42,
         9.0
        ],
        [
         "Crown",
         "Princess",
         7,
         116.0,
         31.0,
         9.51,
         15.57,
         37.42,
         12.0
        ],
        [
         "Dawn",
         "Princess",
         16,
         77.499,
         19.5,
         8.56,
         10.5,
         39.74,
         9.0
        ],
        [
         "Diamond",
         "Princess",
         9,
         113.0,
         26.74,
         9.51,
         13.37,
         42.26,
         12.38
        ],
        [
         "Emerald",
         "Princess",
         6,
         113.0,
         37.82,
         9.51,
         15.57,
         29.88,
         12.0
        ],
        [
         "Golden",
         "Princess",
         12,
         108.865,
         27.58,
         9.51,
         13.0,
         39.47,
         11.0
        ],
        [
         "Grand",
         "Princess",
         15,
         108.806,
         26.0,
         9.51,
         13.0,
         41.85,
         11.1
        ],
        [
         "Island",
         "Princess",
         10,
         91.62700000000001,
         19.74,
         9.64,
         9.87,
         46.42,
         9.0
        ],
        [
         "Pacific",
         "Princess",
         14,
         30.276999999999997,
         6.86,
         5.93,
         3.44,
         44.14,
         3.73
        ],
        [
         "Regal",
         "Princess",
         22,
         69.845,
         15.9,
         8.03,
         7.95,
         43.93,
         6.96
        ],
        [
         "Royal",
         "Princess",
         29,
         44.348,
         12.0,
         7.54,
         6.0,
         36.96,
         5.2
        ],
        [
         "Saphire",
         "Princess",
         9,
         113.0,
         26.74,
         9.51,
         13.37,
         42.26,
         12.38
        ],
        [
         "Sea",
         "Princess",
         8,
         77.499,
         19.5,
         8.56,
         9.75,
         39.74,
         9.0
        ],
        [
         "Star",
         "Princess",
         11,
         108.977,
         26.02,
         9.51,
         13.01,
         41.88,
         12.0
        ],
        [
         "Sun",
         "Princess",
         18,
         77.499,
         19.5,
         8.56,
         9.75,
         39.74,
         9.0
        ],
        [
         "Tahitian",
         "Princess",
         14,
         30.276999999999997,
         6.88,
         5.93,
         3.44,
         44.01,
         3.73
        ],
        [
         "ExplorerII",
         "Regent_Seven_Seas",
         27,
         12.5,
         3.94,
         4.36,
         0.88,
         31.73,
         1.46
        ],
        [
         "Mariner",
         "Regent_Seven_Seas",
         12,
         50.0,
         7.0,
         7.09,
         3.54,
         71.43,
         4.45
        ],
        [
         "Navigator",
         "Regent_Seven_Seas",
         14,
         33.0,
         4.9,
         5.6,
         2.45,
         67.35,
         3.24
        ],
        [
         "PaulGauguin",
         "Regent_Seven_Seas",
         16,
         19.2,
         3.2,
         5.13,
         1.6,
         60.0,
         2.11
        ],
        [
         "Voyager",
         "Regent_Seven_Seas",
         10,
         46.0,
         7.0,
         6.7,
         1.82,
         65.71,
         4.47
        ],
        [
         "Adventure",
         "Royal_Caribbean",
         12,
         138.0,
         31.14,
         10.2,
         15.57,
         44.32,
         11.85
        ],
        [
         "Brilliance",
         "Royal_Caribbean",
         11,
         90.09,
         25.01,
         9.62,
         10.5,
         36.02,
         8.48
        ],
        [
         "Empress",
         "Royal_Caribbean",
         23,
         48.563,
         20.2,
         6.92,
         8.0,
         24.04,
         6.71
        ],
        [
         "Enchantment",
         "Royal_Caribbean",
         16,
         74.137,
         19.5,
         9.16,
         9.75,
         38.02,
         7.6
        ],
        [
         "Explorer",
         "Royal_Caribbean",
         13,
         138.0,
         31.14,
         10.2,
         15.57,
         44.32,
         11.76
        ],
        [
         "Freedom",
         "Royal_Caribbean",
         7,
         158.0,
         43.7,
         11.12,
         18.0,
         36.16,
         13.6
        ],
        [
         "Grandeur",
         "Royal_Caribbean",
         17,
         74.137,
         19.5,
         9.16,
         9.75,
         38.02,
         7.6
        ],
        [
         "Independence",
         "Royal_Caribbean",
         5,
         160.0,
         36.34,
         11.12,
         18.17,
         44.03,
         13.6
        ],
        [
         "Jewel",
         "Royal_Caribbean",
         9,
         90.09,
         25.01,
         9.62,
         10.94,
         36.02,
         8.69
        ],
        [
         "Legend",
         "Royal_Caribbean",
         18,
         70.0,
         18.0,
         8.67,
         9.0,
         38.89,
         7.2
        ],
        [
         "Liberty",
         "Royal_Caribbean",
         6,
         158.0,
         43.7,
         11.25,
         18.0,
         36.16,
         13.6
        ],
        [
         "Majesty",
         "Royal_Caribbean",
         21,
         73.941,
         27.44,
         8.8,
         11.75,
         26.95,
         8.22
        ],
        [
         "Mariner",
         "Royal_Caribbean",
         10,
         138.0,
         31.14,
         10.2,
         15.57,
         44.32,
         11.85
        ],
        [
         "Monarch",
         "Royal_Caribbean",
         22,
         73.941,
         27.44,
         8.8,
         11.77,
         30.94,
         8.22
        ],
        [
         "Navigator",
         "Royal_Caribbean",
         11,
         138.0,
         31.14,
         10.2,
         15.57,
         44.32,
         11.85
        ],
        [
         "Oasis",
         "Royal_Caribbean",
         4,
         220.0,
         54.0,
         11.82,
         27.0,
         40.74,
         21.0
        ],
        [
         "Radiance",
         "Royal_Caribbean",
         12,
         90.09,
         25.01,
         9.62,
         10.5,
         36.02,
         8.68
        ],
        [
         "Rhapsody",
         "Royal_Caribbean",
         16,
         78.491,
         24.35,
         9.15,
         10.0,
         32.23,
         7.65
        ],
        [
         "Serenade",
         "Royal_Caribbean",
         10,
         90.09,
         25.01,
         9.62,
         10.5,
         36.02,
         8.58
        ],
        [
         "Sovreign",
         "Royal_Caribbean",
         25,
         73.192,
         28.52,
         8.8,
         11.38,
         25.66,
         8.08
        ],
        [
         "Splendour",
         "Royal_Caribbean",
         17,
         70.0,
         20.76,
         8.67,
         9.02,
         33.72,
         7.2
        ],
        [
         "Vision",
         "Royal_Caribbean",
         15,
         78.491,
         24.35,
         9.15,
         10.0,
         32.23,
         6.6
        ],
        [
         "Voyager",
         "Royal_Caribbean",
         14,
         138.0,
         31.14,
         10.2,
         15.57,
         44.32,
         11.76
        ],
        [
         "Legend",
         "Seabourn",
         21,
         10.0,
         2.08,
         4.4,
         1.04,
         48.08,
         1.6
        ],
        [
         "Pride",
         "Seabourn",
         27,
         10.0,
         2.08,
         4.4,
         1.04,
         48.08,
         1.6
        ],
        [
         "Spirit",
         "Seabourn",
         24,
         10.0,
         2.08,
         4.4,
         1.04,
         48.08,
         1.6
        ],
        [
         "Cloud",
         "Silversea",
         19,
         16.8,
         2.96,
         5.14,
         1.48,
         56.76,
         2.1
        ],
        [
         "Shadow",
         "Silversea",
         13,
         25.0,
         3.82,
         5.97,
         1.94,
         65.45,
         2.95
        ],
        [
         "Whisper",
         "Silversea",
         12,
         25.0,
         3.88,
         5.97,
         1.94,
         64.43,
         2.87
        ],
        [
         "Wind",
         "Silversea",
         19,
         16.8,
         2.96,
         5.14,
         1.48,
         56.76,
         1.97
        ],
        [
         "Aries",
         "Star",
         22,
         3.341,
         0.66,
         2.8,
         0.33,
         50.62,
         0.59
        ],
        [
         "Gemini",
         "Star",
         21,
         19.093,
         8.0,
         5.37,
         4.0,
         23.87,
         4.7
        ],
        [
         "Libra",
         "Star",
         12,
         42.0,
         14.8,
         7.13,
         7.4,
         28.38,
         6.8
        ],
        [
         "Pisces",
         "Star",
         24,
         40.053000000000004,
         12.87,
         5.79,
         7.76,
         31.12,
         7.5
        ],
        [
         "Taurus",
         "Star",
         22,
         3.341,
         0.66,
         2.79,
         0.33,
         50.62,
         0.59
        ],
        [
         "Virgo",
         "Star",
         14,
         76.8,
         19.6,
         8.79,
         9.67,
         39.18,
         12.0
        ],
        [
         "Spirit",
         "Windstar",
         25,
         5.35,
         1.58,
         4.4,
         0.74,
         33.86,
         0.88
        ],
        [
         "Star",
         "Windstar",
         27,
         5.35,
         1.67,
         4.4,
         0.74,
         32.04,
         0.88
        ],
        [
         "Surf",
         "Windstar",
         23,
         14.745,
         3.08,
         6.17,
         1.56,
         47.87,
         1.8
        ]
       ],
       "datasetInfos": [],
       "dbfsResultPath": null,
       "isJsonSchema": true,
       "metadata": {},
       "overflow": false,
       "plotOptions": {
        "customPlotOptions": {},
        "displayType": "table",
        "pivotAggregation": null,
        "pivotColumns": null,
        "xColumns": null,
        "yColumns": null
       },
       "removedWidgets": [],
       "schema": [
        {
         "metadata": "{}",
         "name": "Ship_name",
         "type": "\"string\""
        },
        {
         "metadata": "{}",
         "name": "Cruise_line",
         "type": "\"string\""
        },
        {
         "metadata": "{}",
         "name": "Age",
         "type": "\"integer\""
        },
        {
         "metadata": "{}",
         "name": "Tonnage",
         "type": "\"double\""
        },
        {
         "metadata": "{}",
         "name": "passengers",
         "type": "\"double\""
        },
        {
         "metadata": "{}",
         "name": "length",
         "type": "\"double\""
        },
        {
         "metadata": "{}",
         "name": "cabins",
         "type": "\"double\""
        },
        {
         "metadata": "{}",
         "name": "passenger_density",
         "type": "\"double\""
        },
        {
         "metadata": "{}",
         "name": "crew",
         "type": "\"double\""
        }
       ],
       "type": "table"
      }
     },
     "output_type": "display_data"
    },
    {
     "output_type": "display_data",
     "data": {
      "text/plain": [
       "Databricks visualization. Run in Databricks to view."
      ]
     },
     "metadata": {
      "application/vnd.databricks.v1.subcommand+json": {
       "baseErrorDetails": null,
       "bindings": {},
       "collapsed": false,
       "command": "%python\n__backend_agg_display_orig = display\n__backend_agg_dfs = []\ndef __backend_agg_display_new(df):\n    __backend_agg_df_modules = [\"pandas.core.frame\", \"databricks.koalas.frame\", \"pyspark.sql.dataframe\", \"pyspark.pandas.frame\", \"pyspark.sql.connect.dataframe\"]\n    if (type(df).__module__ in __backend_agg_df_modules and type(df).__name__ == 'DataFrame') or isinstance(df, list):\n        __backend_agg_dfs.append(df)\n\ndisplay = __backend_agg_display_new\n\ndef __backend_agg_user_code_fn():\n    import base64\n    exec(base64.standard_b64decode(\"ZGYuZGlzcGxheSgp\").decode())\n\ntry:\n    # run user code\n    __backend_agg_user_code_fn()\n\n    #reset display function\n    display = __backend_agg_display_orig\n\n    if len(__backend_agg_dfs) > 0:\n        # create a temp view\n        if type(__backend_agg_dfs[0]).__module__ == \"databricks.koalas.frame\":\n            # koalas dataframe\n            __backend_agg_dfs[0].to_spark().createOrReplaceTempView(\"DatabricksViewa891013\")\n        elif type(__backend_agg_dfs[0]).__module__ == \"pandas.core.frame\" or isinstance(__backend_agg_dfs[0], list):\n            # pandas dataframe\n            spark.createDataFrame(__backend_agg_dfs[0]).createOrReplaceTempView(\"DatabricksViewa891013\")\n        else:\n            __backend_agg_dfs[0].createOrReplaceTempView(\"DatabricksViewa891013\")\n        #run backend agg\n        display(spark.sql(\"\"\"WITH q AS (select * from DatabricksViewa891013) ,min_max AS (SELECT `Age`,(SELECT MAX(`Age`) FROM q) `target_column_max`,(SELECT MIN(`Age`) FROM q) `target_column_min` FROM q) ,histogram_meta AS (SELECT `Age`,`target_column_min` `min_value`,IF(`target_column_max` = `target_column_min`,`target_column_max` + 1,`target_column_max`) `max_value`,(`target_column_max` - `target_column_min`) / 10 `step` FROM min_max) SELECT IF(ISNULL(`Age`),NULL,LEAST(WIDTH_BUCKET(`Age`,`min_value`,`max_value`,10),10)) `Age_BIN`,FIRST(`min_value` + ((IF(ISNULL(`Age`),NULL,LEAST(WIDTH_BUCKET(`Age`,`min_value`,`max_value`,10),10)) - 1) * `step`)) `Age_BIN_LOWER_BOUND`,FIRST(`step`) `Age_BIN_STEP`,COUNT(`Age`) `COUNT` FROM histogram_meta GROUP BY `Age_BIN`\"\"\"))\n    else:\n        displayHTML(\"dataframe no longer exists. If you're using dataframe.display(), use display(dataframe) instead.\")\n\n\nfinally:\n    spark.sql(\"drop view if exists DatabricksViewa891013\")\n    display = __backend_agg_display_orig\n    del __backend_agg_display_new\n    del __backend_agg_display_orig\n    del __backend_agg_dfs\n    del __backend_agg_user_code_fn\n\n",
       "commandTitle": "Visualization 1",
       "commandType": "auto",
       "commandVersion": 0,
       "commentThread": [],
       "commentsVisible": false,
       "contentSha256Hex": null,
       "customPlotOptions": {
        "redashChart": [
         {
          "key": "type",
          "value": "CHART"
         },
         {
          "key": "options",
          "value": {
           "alignYAxesAtZero": true,
           "coefficient": 1,
           "columnConfigurationMap": {
            "x": {
             "column": "Age",
             "id": "column_fe5f2e0d15"
            }
           },
           "dateTimeFormat": "DD/MM/YYYY HH:mm",
           "direction": {
            "type": "counterclockwise"
           },
           "error_y": {
            "type": "data",
            "visible": true
           },
           "globalSeriesType": "histogram",
           "isAggregationOn": true,
           "legend": {
            "traceorder": "normal"
           },
           "missingValuesAsZero": true,
           "numBins": 10,
           "numberFormat": "0,0.[00000]",
           "percentFormat": "0[.]00%",
           "series": {
            "error_y": {
             "type": "data",
             "visible": true
            },
            "stacking": null
           },
           "seriesOptions": {
            "COUNT": {
             "color": "#3BD973"
            }
           },
           "showDataLabels": false,
           "sizemode": "diameter",
           "sortX": true,
           "sortY": true,
           "swappedAxes": false,
           "textFormat": "",
           "useAggregationsUi": true,
           "valuesOptions": {},
           "version": 2,
           "xAxis": {
            "labels": {
             "enabled": true
            },
            "type": "-"
           },
           "yAxis": [
            {
             "type": "-"
            },
            {
             "opposite": true,
             "type": "-"
            }
           ]
          }
         }
        ]
       },
       "datasetPreviewNameToCmdIdMap": {},
       "diffDeletes": [],
       "diffInserts": [],
       "displayType": "redashChart",
       "error": null,
       "errorDetails": null,
       "errorSummary": null,
       "errorTraceType": null,
       "finishTime": 0,
       "globalVars": {},
       "guid": "",
       "height": "auto",
       "hideCommandCode": false,
       "hideCommandResult": false,
       "iPythonMetadata": null,
       "inputWidgets": {},
       "isLockedInExamMode": false,
       "latestUser": "a user",
       "latestUserId": null,
       "listResultMetadata": null,
       "metadata": {
        "byteLimit": 2048000,
        "rowLimit": 10000
       },
       "nuid": "83bfa67b-7a25-4343-889d-94c3ed2f9d28",
       "origId": 0,
       "parentHierarchy": [],
       "pivotAggregation": null,
       "pivotColumns": null,
       "position": 11.0,
       "resultDbfsErrorMessage": null,
       "resultDbfsStatus": "INLINED_IN_TREE",
       "results": null,
       "showCommandTitle": false,
       "startTime": 0,
       "state": "finished",
       "streamStates": {},
       "subcommandOptions": {
        "queryPlan": {
         "groups": [
          {
           "column": "Age_BIN",
           "type": "column"
          }
         ],
         "selects": [
          {
           "alias": "Age_BIN",
           "args": [
            {
             "column": "Age",
             "type": "column"
            },
            {
             "number": 10,
             "type": "number"
            }
           ],
           "function": "BIN",
           "type": "function"
          },
          {
           "alias": "Age_BIN_LOWER_BOUND",
           "args": [
            {
             "column": "Age",
             "type": "column"
            },
            {
             "number": 10,
             "type": "number"
            }
           ],
           "function": "BIN_LOWER_BOUND",
           "type": "function"
          },
          {
           "alias": "Age_BIN_STEP",
           "args": [
            {
             "column": "Age",
             "type": "column"
            },
            {
             "number": 10,
             "type": "number"
            }
           ],
           "function": "BIN_STEP",
           "type": "function"
          },
          {
           "alias": "COUNT",
           "args": [
            {
             "column": "Age",
             "type": "column"
            }
           ],
           "function": "COUNT",
           "type": "function"
          }
         ]
        }
       },
       "submitTime": 0,
       "subtype": "tableResultSubCmd.visualization",
       "tableResultIndex": 0,
       "tableResultSettingsMap": {},
       "useConsistentColors": false,
       "version": "CommandV1",
       "width": "auto",
       "workflows": [],
       "xColumns": null,
       "yColumns": null
      }
     },
     "output_type": "display_data"
    }
   ],
   "source": [
    "df.display()"
   ]
  },
  {
   "cell_type": "code",
   "execution_count": 0,
   "metadata": {
    "application/vnd.databricks.v1+cell": {
     "cellMetadata": {
      "byteLimit": 2048000,
      "rowLimit": 10000
     },
     "inputWidgets": {},
     "nuid": "137ae04c-4d34-4b05-9981-533d79e6cb37",
     "showTitle": false,
     "tableResultSettingsMap": {},
     "title": ""
    }
   },
   "outputs": [],
   "source": [
    "from pyspark.sql.functions import col, sum as _sum"
   ]
  },
  {
   "cell_type": "code",
   "execution_count": 0,
   "metadata": {
    "application/vnd.databricks.v1+cell": {
     "cellMetadata": {
      "byteLimit": 2048000,
      "rowLimit": 10000
     },
     "inputWidgets": {},
     "nuid": "9f3bdf4b-3729-4efe-a691-4a0342b406f7",
     "showTitle": false,
     "tableResultSettingsMap": {},
     "title": ""
    }
   },
   "outputs": [],
   "source": [
    "# missing values\n",
    "missing_val = df.select([_sum(col(c).isNull().cast('int')).alias(c) for c in df.columns])"
   ]
  },
  {
   "cell_type": "code",
   "execution_count": 0,
   "metadata": {
    "application/vnd.databricks.v1+cell": {
     "cellMetadata": {
      "byteLimit": 2048000,
      "rowLimit": 10000
     },
     "inputWidgets": {},
     "nuid": "e0ec47c5-7608-4051-8654-e19b91931209",
     "showTitle": false,
     "tableResultSettingsMap": {},
     "title": ""
    }
   },
   "outputs": [
    {
     "output_type": "stream",
     "name": "stdout",
     "output_type": "stream",
     "text": [
      "+---------+-----------+---+-------+----------+------+------+-----------------+----+\n|Ship_name|Cruise_line|Age|Tonnage|passengers|length|cabins|passenger_density|crew|\n+---------+-----------+---+-------+----------+------+------+-----------------+----+\n|        0|          0|  0|      0|         0|     0|     0|                0|   0|\n+---------+-----------+---+-------+----------+------+------+-----------------+----+\n\n"
     ]
    }
   ],
   "source": [
    "missing_val.show()"
   ]
  },
  {
   "cell_type": "code",
   "execution_count": 0,
   "metadata": {
    "application/vnd.databricks.v1+cell": {
     "cellMetadata": {
      "byteLimit": 2048000,
      "rowLimit": 10000
     },
     "inputWidgets": {},
     "nuid": "1cea607e-39c9-4c77-955f-8c9d47b67ff9",
     "showTitle": false,
     "tableResultSettingsMap": {},
     "title": ""
    }
   },
   "outputs": [
    {
     "output_type": "stream",
     "name": "stdout",
     "output_type": "stream",
     "text": [
      "+---------+-----------+---+-------+----------+------+------+-----------------+----+\n|Ship_name|Cruise_line|Age|Tonnage|passengers|length|cabins|passenger_density|crew|\n+---------+-----------+---+-------+----------+------+------+-----------------+----+\n+---------+-----------+---+-------+----------+------+------+-----------------+----+\n\n"
     ]
    }
   ],
   "source": [
    "# dupicated \n",
    "duplicated = df.exceptAll(df.dropDuplicates()).show()"
   ]
  },
  {
   "cell_type": "code",
   "execution_count": 0,
   "metadata": {
    "application/vnd.databricks.v1+cell": {
     "cellMetadata": {
      "byteLimit": 2048000,
      "rowLimit": 10000
     },
     "inputWidgets": {},
     "nuid": "05b83669-9eb8-4143-939b-1f85d282a56f",
     "showTitle": false,
     "tableResultSettingsMap": {},
     "title": ""
    }
   },
   "outputs": [
    {
     "output_type": "stream",
     "name": "stdout",
     "output_type": "stream",
     "text": [
      "+-----------------+-----+\n|      Cruise_line|count|\n+-----------------+-----+\n|           Orient|    1|\n|          Crystal|    2|\n|           Disney|    2|\n|          Azamara|    2|\n|           Cunard|    3|\n|         Seabourn|    3|\n|         Windstar|    3|\n|          Oceania|    3|\n|        Silversea|    4|\n|Regent_Seven_Seas|    5|\n|              P&O|    6|\n|             Star|    6|\n|              MSC|    8|\n|        Celebrity|   10|\n|            Costa|   11|\n|        Norwegian|   13|\n| Holland_American|   14|\n|         Princess|   17|\n|         Carnival|   22|\n|  Royal_Caribbean|   23|\n+-----------------+-----+\n\n"
     ]
    }
   ],
   "source": [
    "df.groupBy('Cruise_line').count().orderBy(col('count').asc()).show()"
   ]
  },
  {
   "cell_type": "markdown",
   "metadata": {
    "application/vnd.databricks.v1+cell": {
     "cellMetadata": {
      "byteLimit": 2048000,
      "rowLimit": 10000
     },
     "inputWidgets": {},
     "nuid": "1a7ce74c-ce3a-4d3f-8e7c-93c9aa4aa787",
     "showTitle": false,
     "tableResultSettingsMap": {},
     "title": ""
    }
   },
   "source": [
    "## Format for MLlib"
   ]
  },
  {
   "cell_type": "code",
   "execution_count": 0,
   "metadata": {
    "application/vnd.databricks.v1+cell": {
     "cellMetadata": {
      "byteLimit": 2048000,
      "rowLimit": 10000
     },
     "inputWidgets": {},
     "nuid": "f3c20c3f-18f6-409e-83be-8853206a7089",
     "showTitle": false,
     "tableResultSettingsMap": {},
     "title": ""
    }
   },
   "outputs": [],
   "source": [
    "from pyspark.ml.feature import StringIndexer"
   ]
  },
  {
   "cell_type": "code",
   "execution_count": 0,
   "metadata": {
    "application/vnd.databricks.v1+cell": {
     "cellMetadata": {
      "byteLimit": 2048000,
      "rowLimit": 10000
     },
     "inputWidgets": {},
     "nuid": "2c27f14c-d60a-44f8-a8c0-52cad495a8dc",
     "showTitle": false,
     "tableResultSettingsMap": {},
     "title": ""
    }
   },
   "outputs": [
    {
     "output_type": "execute_result",
     "data": {
      "text/plain": [
       "[Row(Ship_name='Journey', Cruise_line='Azamara', Age=6, Tonnage=30.276999999999997, passengers=6.94, length=5.94, cabins=3.55, passenger_density=42.64, crew=3.55, cruise_cat=16.0),\n",
       " Row(Ship_name='Quest', Cruise_line='Azamara', Age=6, Tonnage=30.276999999999997, passengers=6.94, length=5.94, cabins=3.55, passenger_density=42.64, crew=3.55, cruise_cat=16.0),\n",
       " Row(Ship_name='Celebration', Cruise_line='Carnival', Age=26, Tonnage=47.262, passengers=14.86, length=7.22, cabins=7.43, passenger_density=31.8, crew=6.7, cruise_cat=1.0),\n",
       " Row(Ship_name='Conquest', Cruise_line='Carnival', Age=11, Tonnage=110.0, passengers=29.74, length=9.53, cabins=14.88, passenger_density=36.99, crew=19.1, cruise_cat=1.0),\n",
       " Row(Ship_name='Destiny', Cruise_line='Carnival', Age=17, Tonnage=101.353, passengers=26.42, length=8.92, cabins=13.21, passenger_density=38.36, crew=10.0, cruise_cat=1.0)]"
      ]
     },
     "execution_count": 94,
     "metadata": {},
     "output_type": "execute_result"
    }
   ],
   "source": [
    "indexer = StringIndexer(inputCol='Cruise_line', outputCol='cruise_cat')\n",
    "indexed = indexer.fit(df).transform(df)\n",
    "indexed.head(5)"
   ]
  },
  {
   "cell_type": "code",
   "execution_count": 0,
   "metadata": {
    "application/vnd.databricks.v1+cell": {
     "cellMetadata": {
      "byteLimit": 2048000,
      "rowLimit": 10000
     },
     "inputWidgets": {},
     "nuid": "a6a1be33-2d7a-4016-ac56-5e04c39a67a2",
     "showTitle": false,
     "tableResultSettingsMap": {},
     "title": ""
    }
   },
   "outputs": [],
   "source": [
    "from pyspark.ml.linalg import Vectors\n",
    "from pyspark.ml.feature import VectorAssembler"
   ]
  },
  {
   "cell_type": "code",
   "execution_count": 0,
   "metadata": {
    "application/vnd.databricks.v1+cell": {
     "cellMetadata": {
      "byteLimit": 2048000,
      "rowLimit": 10000
     },
     "inputWidgets": {},
     "nuid": "8edd440f-bd69-45e3-a98e-9c4cb006bc2c",
     "showTitle": false,
     "tableResultSettingsMap": {},
     "title": ""
    }
   },
   "outputs": [
    {
     "output_type": "execute_result",
     "data": {
      "text/plain": [
       "['Ship_name',\n",
       " 'Cruise_line',\n",
       " 'Age',\n",
       " 'Tonnage',\n",
       " 'passengers',\n",
       " 'length',\n",
       " 'cabins',\n",
       " 'passenger_density',\n",
       " 'crew',\n",
       " 'cruise_cat']"
      ]
     },
     "execution_count": 96,
     "metadata": {},
     "output_type": "execute_result"
    }
   ],
   "source": [
    "indexed.columns"
   ]
  },
  {
   "cell_type": "code",
   "execution_count": 0,
   "metadata": {
    "application/vnd.databricks.v1+cell": {
     "cellMetadata": {
      "byteLimit": 2048000,
      "rowLimit": 10000
     },
     "inputWidgets": {},
     "nuid": "dc2fb941-b0f2-461c-b66e-64b0000265ba",
     "showTitle": false,
     "tableResultSettingsMap": {},
     "title": ""
    }
   },
   "outputs": [],
   "source": [
    "assembler = VectorAssembler(inputCols=['Age', 'Tonnage', 'passengers', 'length',\n",
    "                                        'cabins', 'passenger_density', 'cruise_cat'], \n",
    "                            outputCol='features')"
   ]
  },
  {
   "cell_type": "code",
   "execution_count": 0,
   "metadata": {
    "application/vnd.databricks.v1+cell": {
     "cellMetadata": {
      "byteLimit": 2048000,
      "rowLimit": 10000
     },
     "inputWidgets": {},
     "nuid": "7f8e3b58-36d3-4d41-85de-772daeeedceb",
     "showTitle": false,
     "tableResultSettingsMap": {},
     "title": ""
    }
   },
   "outputs": [],
   "source": [
    "output = assembler.transform(indexed)"
   ]
  },
  {
   "cell_type": "code",
   "execution_count": 0,
   "metadata": {
    "application/vnd.databricks.v1+cell": {
     "cellMetadata": {
      "byteLimit": 2048000,
      "rowLimit": 10000
     },
     "inputWidgets": {},
     "nuid": "08303b9e-bebd-4ddb-92d6-9ed3d6e9f46b",
     "showTitle": false,
     "tableResultSettingsMap": {},
     "title": ""
    }
   },
   "outputs": [
    {
     "output_type": "stream",
     "name": "stdout",
     "output_type": "stream",
     "text": [
      "+-----------+-----------+---+------------------+----------+------+------+-----------------+----+----------+--------------------+\n|  Ship_name|Cruise_line|Age|           Tonnage|passengers|length|cabins|passenger_density|crew|cruise_cat|            features|\n+-----------+-----------+---+------------------+----------+------+------+-----------------+----+----------+--------------------+\n|    Journey|    Azamara|  6|30.276999999999997|      6.94|  5.94|  3.55|            42.64|3.55|      16.0|[6.0,30.276999999...|\n|      Quest|    Azamara|  6|30.276999999999997|      6.94|  5.94|  3.55|            42.64|3.55|      16.0|[6.0,30.276999999...|\n|Celebration|   Carnival| 26|            47.262|     14.86|  7.22|  7.43|             31.8| 6.7|       1.0|[26.0,47.262,14.8...|\n|   Conquest|   Carnival| 11|             110.0|     29.74|  9.53| 14.88|            36.99|19.1|       1.0|[11.0,110.0,29.74...|\n|    Destiny|   Carnival| 17|           101.353|     26.42|  8.92| 13.21|            38.36|10.0|       1.0|[17.0,101.353,26....|\n+-----------+-----------+---+------------------+----------+------+------+-----------------+----+----------+--------------------+\nonly showing top 5 rows\n\n"
     ]
    }
   ],
   "source": [
    "output.show(5)"
   ]
  },
  {
   "cell_type": "markdown",
   "metadata": {
    "application/vnd.databricks.v1+cell": {
     "cellMetadata": {
      "byteLimit": 2048000,
      "rowLimit": 10000
     },
     "inputWidgets": {},
     "nuid": "480647da-982e-4be7-ae3c-46b2a43ea73c",
     "showTitle": false,
     "tableResultSettingsMap": {},
     "title": ""
    }
   },
   "source": [
    "## Standard Scaler"
   ]
  },
  {
   "cell_type": "code",
   "execution_count": 0,
   "metadata": {
    "application/vnd.databricks.v1+cell": {
     "cellMetadata": {
      "byteLimit": 2048000,
      "rowLimit": 10000
     },
     "inputWidgets": {},
     "nuid": "5fc470e3-1fd2-467d-a27a-c92dafdd0fb3",
     "showTitle": false,
     "tableResultSettingsMap": {},
     "title": ""
    }
   },
   "outputs": [],
   "source": [
    "from pyspark.ml.feature import StandardScaler"
   ]
  },
  {
   "cell_type": "code",
   "execution_count": 0,
   "metadata": {
    "application/vnd.databricks.v1+cell": {
     "cellMetadata": {
      "byteLimit": 2048000,
      "rowLimit": 10000
     },
     "inputWidgets": {},
     "nuid": "dc2aebef-349d-43e4-90f3-e971da97c648",
     "showTitle": false,
     "tableResultSettingsMap": {},
     "title": ""
    }
   },
   "outputs": [],
   "source": [
    "scaler = StandardScaler(inputCol='features', outputCol='scalerfeatures')"
   ]
  },
  {
   "cell_type": "code",
   "execution_count": 0,
   "metadata": {
    "application/vnd.databricks.v1+cell": {
     "cellMetadata": {
      "byteLimit": 2048000,
      "rowLimit": 10000
     },
     "inputWidgets": {},
     "nuid": "de840f83-0769-496f-9c01-3835533133db",
     "showTitle": false,
     "tableResultSettingsMap": {},
     "title": ""
    }
   },
   "outputs": [],
   "source": [
    "scaler_data = scaler.fit(output).transform(output)"
   ]
  },
  {
   "cell_type": "code",
   "execution_count": 0,
   "metadata": {
    "application/vnd.databricks.v1+cell": {
     "cellMetadata": {
      "byteLimit": 2048000,
      "rowLimit": 10000
     },
     "inputWidgets": {},
     "nuid": "279f9723-94b8-4719-bcf2-d488078611e6",
     "showTitle": false,
     "tableResultSettingsMap": {},
     "title": ""
    }
   },
   "outputs": [
    {
     "output_type": "display_data",
     "data": {
      "text/html": [
       "<style scoped>\n",
       "  .table-result-container {\n",
       "    max-height: 300px;\n",
       "    overflow: auto;\n",
       "  }\n",
       "  table, th, td {\n",
       "    border: 1px solid black;\n",
       "    border-collapse: collapse;\n",
       "  }\n",
       "  th, td {\n",
       "    padding: 5px;\n",
       "  }\n",
       "  th {\n",
       "    text-align: left;\n",
       "  }\n",
       "</style><div class='table-result-container'><table class='table-result'><thead style='background-color: white'><tr><th>Ship_name</th><th>Cruise_line</th><th>Age</th><th>Tonnage</th><th>passengers</th><th>length</th><th>cabins</th><th>passenger_density</th><th>crew</th><th>cruise_cat</th><th>features</th><th>scalerfeatures</th></tr></thead><tbody><tr><td>Journey</td><td>Azamara</td><td>6</td><td>30.276999999999997</td><td>6.94</td><td>5.94</td><td>3.55</td><td>42.64</td><td>3.55</td><td>16.0</td><td>Map(vectorType -> dense, length -> 7, values -> List(6.0, 30.276999999999997, 6.94, 5.94, 3.55, 42.64, 16.0))</td><td>Map(vectorType -> dense, length -> 7, values -> List(0.7878470848821034, 0.8132520568057078, 0.7171573867216928, 3.3120087031350067, 0.7939317275999097, 4.9356324117978945, 3.3622312852191634))</td></tr><tr><td>Quest</td><td>Azamara</td><td>6</td><td>30.276999999999997</td><td>6.94</td><td>5.94</td><td>3.55</td><td>42.64</td><td>3.55</td><td>16.0</td><td>Map(vectorType -> dense, length -> 7, values -> List(6.0, 30.276999999999997, 6.94, 5.94, 3.55, 42.64, 16.0))</td><td>Map(vectorType -> dense, length -> 7, values -> List(0.7878470848821034, 0.8132520568057078, 0.7171573867216928, 3.3120087031350067, 0.7939317275999097, 4.9356324117978945, 3.3622312852191634))</td></tr><tr><td>Celebration</td><td>Carnival</td><td>26</td><td>47.262</td><td>14.86</td><td>7.22</td><td>7.43</td><td>31.8</td><td>6.7</td><td>1.0</td><td>Map(vectorType -> dense, length -> 7, values -> List(26.0, 47.262, 14.86, 7.22, 7.43, 31.8, 1.0))</td><td>Map(vectorType -> dense, length -> 7, values -> List(3.414004034489115, 1.2694757970985027, 1.5355848366980338, 4.025707548255008, 1.6616655594555858, 3.680889087597867, 0.2101394553261977))</td></tr><tr><td>Conquest</td><td>Carnival</td><td>11</td><td>110.0</td><td>29.74</td><td>9.53</td><td>14.88</td><td>36.99</td><td>19.1</td><td>1.0</td><td>Map(vectorType -> dense, length -> 7, values -> List(11.0, 110.0, 29.74, 9.53, 14.88, 36.99, 1.0))</td><td>Map(vectorType -> dense, length -> 7, values -> List(1.4443863222838562, 2.9546430045456242, 3.0732364093808564, 5.31371093280751, 3.3278039737145515, 4.28163796698884, 0.2101394553261977))</td></tr><tr><td>Destiny</td><td>Carnival</td><td>17</td><td>101.353</td><td>26.42</td><td>8.92</td><td>13.21</td><td>38.36</td><td>10.0</td><td>1.0</td><td>Map(vectorType -> dense, length -> 7, values -> List(17.0, 101.353, 26.42, 8.92, 13.21, 38.36, 1.0))</td><td>Map(vectorType -> dense, length -> 7, values -> List(2.2322334071659595, 2.7223812039973874, 2.7301582359059258, 4.97358882693001, 2.9543205976323406, 4.440217150951389, 0.2101394553261977))</td></tr></tbody></table></div>"
      ]
     },
     "metadata": {
      "application/vnd.databricks.v1+output": {
       "addedWidgets": {},
       "aggData": [],
       "aggError": "",
       "aggOverflow": false,
       "aggSchema": [],
       "aggSeriesLimitReached": false,
       "aggType": "",
       "arguments": {},
       "columnCustomDisplayInfos": {},
       "data": [
        [
         "Journey",
         "Azamara",
         6,
         30.276999999999997,
         6.94,
         5.94,
         3.55,
         42.64,
         3.55,
         16.0,
         {
          "length": 7,
          "values": [
           6.0,
           30.276999999999997,
           6.94,
           5.94,
           3.55,
           42.64,
           16.0
          ],
          "vectorType": "dense"
         },
         {
          "length": 7,
          "values": [
           0.7878470848821034,
           0.8132520568057078,
           0.7171573867216928,
           3.3120087031350067,
           0.7939317275999097,
           4.9356324117978945,
           3.3622312852191634
          ],
          "vectorType": "dense"
         }
        ],
        [
         "Quest",
         "Azamara",
         6,
         30.276999999999997,
         6.94,
         5.94,
         3.55,
         42.64,
         3.55,
         16.0,
         {
          "length": 7,
          "values": [
           6.0,
           30.276999999999997,
           6.94,
           5.94,
           3.55,
           42.64,
           16.0
          ],
          "vectorType": "dense"
         },
         {
          "length": 7,
          "values": [
           0.7878470848821034,
           0.8132520568057078,
           0.7171573867216928,
           3.3120087031350067,
           0.7939317275999097,
           4.9356324117978945,
           3.3622312852191634
          ],
          "vectorType": "dense"
         }
        ],
        [
         "Celebration",
         "Carnival",
         26,
         47.262,
         14.86,
         7.22,
         7.43,
         31.8,
         6.7,
         1.0,
         {
          "length": 7,
          "values": [
           26.0,
           47.262,
           14.86,
           7.22,
           7.43,
           31.8,
           1.0
          ],
          "vectorType": "dense"
         },
         {
          "length": 7,
          "values": [
           3.414004034489115,
           1.2694757970985027,
           1.5355848366980338,
           4.025707548255008,
           1.6616655594555858,
           3.680889087597867,
           0.2101394553261977
          ],
          "vectorType": "dense"
         }
        ],
        [
         "Conquest",
         "Carnival",
         11,
         110.0,
         29.74,
         9.53,
         14.88,
         36.99,
         19.1,
         1.0,
         {
          "length": 7,
          "values": [
           11.0,
           110.0,
           29.74,
           9.53,
           14.88,
           36.99,
           1.0
          ],
          "vectorType": "dense"
         },
         {
          "length": 7,
          "values": [
           1.4443863222838562,
           2.9546430045456242,
           3.0732364093808564,
           5.31371093280751,
           3.3278039737145515,
           4.28163796698884,
           0.2101394553261977
          ],
          "vectorType": "dense"
         }
        ],
        [
         "Destiny",
         "Carnival",
         17,
         101.353,
         26.42,
         8.92,
         13.21,
         38.36,
         10.0,
         1.0,
         {
          "length": 7,
          "values": [
           17.0,
           101.353,
           26.42,
           8.92,
           13.21,
           38.36,
           1.0
          ],
          "vectorType": "dense"
         },
         {
          "length": 7,
          "values": [
           2.2322334071659595,
           2.7223812039973874,
           2.7301582359059258,
           4.97358882693001,
           2.9543205976323406,
           4.440217150951389,
           0.2101394553261977
          ],
          "vectorType": "dense"
         }
        ]
       ],
       "datasetInfos": [],
       "dbfsResultPath": null,
       "isJsonSchema": true,
       "metadata": {},
       "overflow": false,
       "plotOptions": {
        "customPlotOptions": {},
        "displayType": "table",
        "pivotAggregation": null,
        "pivotColumns": null,
        "xColumns": null,
        "yColumns": null
       },
       "removedWidgets": [],
       "schema": [
        {
         "metadata": "{}",
         "name": "Ship_name",
         "type": "\"string\""
        },
        {
         "metadata": "{}",
         "name": "Cruise_line",
         "type": "\"string\""
        },
        {
         "metadata": "{}",
         "name": "Age",
         "type": "\"integer\""
        },
        {
         "metadata": "{}",
         "name": "Tonnage",
         "type": "\"double\""
        },
        {
         "metadata": "{}",
         "name": "passengers",
         "type": "\"double\""
        },
        {
         "metadata": "{}",
         "name": "length",
         "type": "\"double\""
        },
        {
         "metadata": "{}",
         "name": "cabins",
         "type": "\"double\""
        },
        {
         "metadata": "{}",
         "name": "passenger_density",
         "type": "\"double\""
        },
        {
         "metadata": "{}",
         "name": "crew",
         "type": "\"double\""
        },
        {
         "metadata": "{\"ml_attr\":{\"vals\":[\"Royal_Caribbean\",\"Carnival\",\"Princess\",\"Holland_American\",\"Norwegian\",\"Costa\",\"Celebrity\",\"MSC\",\"P&O\",\"Star\",\"Regent_Seven_Seas\",\"Silversea\",\"Cunard\",\"Oceania\",\"Seabourn\",\"Windstar\",\"Azamara\",\"Crystal\",\"Disney\",\"Orient\"],\"type\":\"nominal\",\"name\":\"cruise_cat\"}}",
         "name": "cruise_cat",
         "type": "\"double\""
        },
        {
         "metadata": "{\"ml_attr\":{\"attrs\":{\"numeric\":[{\"idx\":0,\"name\":\"Age\"},{\"idx\":1,\"name\":\"Tonnage\"},{\"idx\":2,\"name\":\"passengers\"},{\"idx\":3,\"name\":\"length\"},{\"idx\":4,\"name\":\"cabins\"},{\"idx\":5,\"name\":\"passenger_density\"}],\"nominal\":[{\"vals\":[\"Royal_Caribbean\",\"Carnival\",\"Princess\",\"Holland_American\",\"Norwegian\",\"Costa\",\"Celebrity\",\"MSC\",\"P&O\",\"Star\",\"Regent_Seven_Seas\",\"Silversea\",\"Cunard\",\"Oceania\",\"Seabourn\",\"Windstar\",\"Azamara\",\"Crystal\",\"Disney\",\"Orient\"],\"idx\":6,\"name\":\"cruise_cat\"}]},\"num_attrs\":7}}",
         "name": "features",
         "type": "{\"type\":\"udt\",\"class\":\"org.apache.spark.ml.linalg.VectorUDT\",\"pyClass\":\"pyspark.ml.linalg.VectorUDT\",\"sqlType\":{\"type\":\"struct\",\"fields\":[{\"name\":\"type\",\"type\":\"byte\",\"nullable\":false,\"metadata\":{}},{\"name\":\"size\",\"type\":\"integer\",\"nullable\":true,\"metadata\":{}},{\"name\":\"indices\",\"type\":{\"type\":\"array\",\"elementType\":\"integer\",\"containsNull\":false},\"nullable\":true,\"metadata\":{}},{\"name\":\"values\",\"type\":{\"type\":\"array\",\"elementType\":\"double\",\"containsNull\":false},\"nullable\":true,\"metadata\":{}}]}}"
        },
        {
         "metadata": "{\"ml_attr\":{\"num_attrs\":7}}",
         "name": "scalerfeatures",
         "type": "{\"type\":\"udt\",\"class\":\"org.apache.spark.ml.linalg.VectorUDT\",\"pyClass\":\"pyspark.ml.linalg.VectorUDT\",\"sqlType\":{\"type\":\"struct\",\"fields\":[{\"name\":\"type\",\"type\":\"byte\",\"nullable\":false,\"metadata\":{}},{\"name\":\"size\",\"type\":\"integer\",\"nullable\":true,\"metadata\":{}},{\"name\":\"indices\",\"type\":{\"type\":\"array\",\"elementType\":\"integer\",\"containsNull\":false},\"nullable\":true,\"metadata\":{}},{\"name\":\"values\",\"type\":{\"type\":\"array\",\"elementType\":\"double\",\"containsNull\":false},\"nullable\":true,\"metadata\":{}}]}}"
        }
       ],
       "type": "table"
      }
     },
     "output_type": "display_data"
    }
   ],
   "source": [
    "scaler_data.limit(5).display()"
   ]
  },
  {
   "cell_type": "code",
   "execution_count": 0,
   "metadata": {
    "application/vnd.databricks.v1+cell": {
     "cellMetadata": {
      "byteLimit": 2048000,
      "rowLimit": 10000
     },
     "inputWidgets": {},
     "nuid": "7c075334-818e-43e1-9749-74cb2548d8db",
     "showTitle": false,
     "tableResultSettingsMap": {},
     "title": ""
    }
   },
   "outputs": [],
   "source": [
    "final_data = scaler_data.select('scalerfeatures', 'crew')"
   ]
  },
  {
   "cell_type": "code",
   "execution_count": 0,
   "metadata": {
    "application/vnd.databricks.v1+cell": {
     "cellMetadata": {
      "byteLimit": 2048000,
      "rowLimit": 10000
     },
     "inputWidgets": {},
     "nuid": "efb0dba6-937c-492b-a47c-a4ded4fbf7fa",
     "showTitle": false,
     "tableResultSettingsMap": {},
     "title": ""
    }
   },
   "outputs": [
    {
     "output_type": "stream",
     "name": "stdout",
     "output_type": "stream",
     "text": [
      "+--------------------+----+\n|      scalerfeatures|crew|\n+--------------------+----+\n|[0.78784708488210...|3.55|\n|[0.78784708488210...|3.55|\n|[3.41400403448911...| 6.7|\n|[1.44438632228385...|19.1|\n|[2.23223340716595...|10.0|\n|[2.88877264456771...| 9.2|\n|[1.96961771220525...| 9.2|\n|[3.02008049204806...| 9.2|\n|[2.49484910212666...| 9.2|\n|[0.78784708488210...|11.5|\n|[1.31307847480350...|11.6|\n|[3.67661972944981...| 6.6|\n|[2.36354125464631...| 9.2|\n|[2.23223340716595...| 9.2|\n|[1.44438632228385...| 9.3|\n|[1.05046277984280...|11.6|\n|[1.18177062732315...|10.3|\n|[1.96961771220525...| 9.2|\n|[1.57569416976420...| 9.3|\n|[2.62615694960701...| 9.2|\n+--------------------+----+\nonly showing top 20 rows\n\n"
     ]
    }
   ],
   "source": [
    "final_data.show()"
   ]
  },
  {
   "cell_type": "markdown",
   "metadata": {
    "application/vnd.databricks.v1+cell": {
     "cellMetadata": {
      "byteLimit": 2048000,
      "rowLimit": 10000
     },
     "inputWidgets": {},
     "nuid": "f706fd9e-77ba-410c-945d-42a4cc9b2476",
     "showTitle": false,
     "tableResultSettingsMap": {},
     "title": ""
    }
   },
   "source": [
    "## Train Test Split"
   ]
  },
  {
   "cell_type": "code",
   "execution_count": 0,
   "metadata": {
    "application/vnd.databricks.v1+cell": {
     "cellMetadata": {
      "byteLimit": 2048000,
      "rowLimit": 10000
     },
     "inputWidgets": {},
     "nuid": "425fadcf-64d1-4bf0-b0b4-455ac3e3bba0",
     "showTitle": false,
     "tableResultSettingsMap": {},
     "title": ""
    }
   },
   "outputs": [],
   "source": [
    "train, test = final_data.randomSplit([0.7, 0.3])"
   ]
  },
  {
   "cell_type": "markdown",
   "metadata": {
    "application/vnd.databricks.v1+cell": {
     "cellMetadata": {
      "byteLimit": 2048000,
      "rowLimit": 10000
     },
     "inputWidgets": {},
     "nuid": "652fe751-2d64-4c83-8719-0d92cb268faf",
     "showTitle": false,
     "tableResultSettingsMap": {},
     "title": ""
    }
   },
   "source": [
    "## Model Linear Regression"
   ]
  },
  {
   "cell_type": "code",
   "execution_count": 0,
   "metadata": {
    "application/vnd.databricks.v1+cell": {
     "cellMetadata": {
      "byteLimit": 2048000,
      "rowLimit": 10000
     },
     "inputWidgets": {},
     "nuid": "b7a01f6a-9977-4060-9986-e033dbecb006",
     "showTitle": false,
     "tableResultSettingsMap": {},
     "title": ""
    }
   },
   "outputs": [],
   "source": [
    "from pyspark.ml.regression import LinearRegression"
   ]
  },
  {
   "cell_type": "code",
   "execution_count": 0,
   "metadata": {
    "application/vnd.databricks.v1+cell": {
     "cellMetadata": {
      "byteLimit": 2048000,
      "rowLimit": 10000
     },
     "inputWidgets": {},
     "nuid": "9fa78da4-9f01-4e7f-86ed-5ab02d7a1710",
     "showTitle": false,
     "tableResultSettingsMap": {},
     "title": ""
    }
   },
   "outputs": [],
   "source": [
    "lr = LinearRegression(featuresCol='scalerfeatures',labelCol='crew')"
   ]
  },
  {
   "cell_type": "code",
   "execution_count": 0,
   "metadata": {
    "application/vnd.databricks.v1+cell": {
     "cellMetadata": {
      "byteLimit": 2048000,
      "rowLimit": 10000
     },
     "inputWidgets": {},
     "nuid": "3671fb37-d9f7-4191-9b66-4f16564c23b6",
     "showTitle": false,
     "tableResultSettingsMap": {},
     "title": ""
    }
   },
   "outputs": [],
   "source": [
    "# training the model\n",
    "lrModel = lr.fit(train)"
   ]
  },
  {
   "cell_type": "code",
   "execution_count": 0,
   "metadata": {
    "application/vnd.databricks.v1+cell": {
     "cellMetadata": {
      "byteLimit": 2048000,
      "rowLimit": 10000
     },
     "inputWidgets": {},
     "nuid": "b4c638ea-c416-4337-8917-8051b57b8914",
     "showTitle": false,
     "tableResultSettingsMap": {},
     "title": ""
    }
   },
   "outputs": [
    {
     "output_type": "stream",
     "name": "stdout",
     "output_type": "stream",
     "text": [
      "Coefficients : [-0.10566097453320962,0.4399191263413937,-1.4003488524140266,0.8274617296583678,3.6225029241116005,-0.03009372436471925,0.2188071478294623], Intercept : -1.1163762558571027\n"
     ]
    }
   ],
   "source": [
    "# print the Coefficients and Intercept for linear regression\n",
    "print('Coefficients : {}, Intercept : {}'.format(lrModel.coefficients, lrModel.intercept))"
   ]
  },
  {
   "cell_type": "markdown",
   "metadata": {
    "application/vnd.databricks.v1+cell": {
     "cellMetadata": {},
     "inputWidgets": {},
     "nuid": "790e7980-51f2-4940-b85b-0a1febe5a248",
     "showTitle": false,
     "tableResultSettingsMap": {},
     "title": ""
    }
   },
   "source": [
    "## Evaluate"
   ]
  },
  {
   "cell_type": "code",
   "execution_count": 0,
   "metadata": {
    "application/vnd.databricks.v1+cell": {
     "cellMetadata": {
      "byteLimit": 2048000,
      "rowLimit": 10000
     },
     "inputWidgets": {},
     "nuid": "0f736ba5-1b55-426f-ac84-70cb881334f7",
     "showTitle": false,
     "tableResultSettingsMap": {},
     "title": ""
    }
   },
   "outputs": [],
   "source": [
    "test_result = lrModel.evaluate(test)"
   ]
  },
  {
   "cell_type": "code",
   "execution_count": 0,
   "metadata": {
    "application/vnd.databricks.v1+cell": {
     "cellMetadata": {
      "byteLimit": 2048000,
      "rowLimit": 10000
     },
     "inputWidgets": {},
     "nuid": "b47edeb4-d171-4311-8146-455fe1038ec0",
     "showTitle": false,
     "tableResultSettingsMap": {},
     "title": ""
    }
   },
   "outputs": [
    {
     "output_type": "stream",
     "name": "stdout",
     "output_type": "stream",
     "text": [
      "RMSE : 0.6944981212735434\nMSE : 0.4823276404524814\nR2 : 0.9537650782293563\n"
     ]
    }
   ],
   "source": [
    "print('RMSE : {}'.format(test_result.rootMeanSquaredError))\n",
    "print(\"MSE : {}\".format(test_result.meanSquaredError))\n",
    "print('R2 : {}'.format(test_result.r2))"
   ]
  },
  {
   "cell_type": "code",
   "execution_count": 0,
   "metadata": {
    "application/vnd.databricks.v1+cell": {
     "cellMetadata": {
      "byteLimit": 2048000,
      "rowLimit": 10000
     },
     "inputWidgets": {},
     "nuid": "c072c99b-55fd-4814-be9f-0f6463c0fd57",
     "showTitle": false,
     "tableResultSettingsMap": {},
     "title": ""
    }
   },
   "outputs": [],
   "source": [
    "# result of r2 0.95\n",
    "from pyspark.sql.functions import corr"
   ]
  },
  {
   "cell_type": "code",
   "execution_count": 0,
   "metadata": {
    "application/vnd.databricks.v1+cell": {
     "cellMetadata": {
      "byteLimit": 2048000,
      "rowLimit": 10000
     },
     "inputWidgets": {},
     "nuid": "fcd1eeed-1fe7-4e4e-a5de-5698e841a00d",
     "showTitle": false,
     "tableResultSettingsMap": {},
     "title": ""
    }
   },
   "outputs": [
    {
     "output_type": "stream",
     "name": "stdout",
     "output_type": "stream",
     "text": [
      "+----------------------+\n|corr(crew, passengers)|\n+----------------------+\n|    0.9152341306065384|\n+----------------------+\n\n"
     ]
    }
   ],
   "source": [
    "# check the data a little closer\n",
    "df.select(corr('crew', 'passengers')).show()"
   ]
  },
  {
   "cell_type": "code",
   "execution_count": 0,
   "metadata": {
    "application/vnd.databricks.v1+cell": {
     "cellMetadata": {
      "byteLimit": 2048000,
      "rowLimit": 10000
     },
     "inputWidgets": {},
     "nuid": "2cc638e7-bbdc-4955-8c7d-37f4cb6021a5",
     "showTitle": false,
     "tableResultSettingsMap": {},
     "title": ""
    }
   },
   "outputs": [
    {
     "output_type": "stream",
     "name": "stdout",
     "output_type": "stream",
     "text": [
      "+------------------+\n|corr(crew, cabins)|\n+------------------+\n|0.9508226063578497|\n+------------------+\n\n"
     ]
    }
   ],
   "source": [
    "df.select(corr('crew', 'cabins')).show()"
   ]
  },
  {
   "cell_type": "markdown",
   "metadata": {
    "application/vnd.databricks.v1+cell": {
     "cellMetadata": {},
     "inputWidgets": {},
     "nuid": "e508ccce-d206-42e6-b69a-0466f4ce0849",
     "showTitle": false,
     "tableResultSettingsMap": {},
     "title": ""
    }
   },
   "source": [
    "## Good Job ..!"
   ]
  }
 ],
 "metadata": {
  "application/vnd.databricks.v1+notebook": {
   "dashboards": [],
   "environmentMetadata": null,
   "language": "python",
   "notebookMetadata": {
    "pythonIndentUnit": 4
   },
   "notebookName": "02- cruise_ship_info",
   "widgets": {}
  }
 },
 "nbformat": 4,
 "nbformat_minor": 0
}
