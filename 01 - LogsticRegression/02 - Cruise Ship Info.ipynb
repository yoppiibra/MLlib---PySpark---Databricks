{
 "cells": [
  {
   "cell_type": "markdown",
   "metadata": {
    "application/vnd.databricks.v1+cell": {
     "cellMetadata": {
      "byteLimit": 2048000,
      "rowLimit": 10000
     },
     "inputWidgets": {},
     "nuid": "aa276e59-5eb6-4b94-bb9c-1360db4fffa8",
     "showTitle": false,
     "tableResultSettingsMap": {},
     "title": ""
    }
   },
   "source": [
    "## MLlib PySpark Logistic Regression\n",
    "## Cruise Ship Info\n",
    "They are currently building new ships for some customers and want you to create a model and use it to predict how many crew members the ships will need.\n",
    "\n",
    "Description: Measurements of ship size, capacity, crew, and age for 158 cruise ships.\n",
    "\n",
    "Variables/Columns\n",
    "\n",
    "* Ship Name 1-20\n",
    "* Cruise Line 21-40\n",
    "* Age (as of 2013) 46-48\n",
    "* Tonnage (1000s of tons) 50-56\n",
    "* passengers (100s) 58-64\n",
    "* Length (100s of feet) 66-72\n",
    "* Cabins (100s) 74-80\n",
    "* Passenger Density 82-88\n",
    "* Crew (100s) 90-96"
   ]
  },
  {
   "cell_type": "code",
   "execution_count": 0,
   "metadata": {
    "application/vnd.databricks.v1+cell": {
     "cellMetadata": {
      "byteLimit": 2048000,
      "rowLimit": 10000
     },
     "inputWidgets": {},
     "nuid": "531bd89f-21fb-4876-bdd5-90b7c70bad0c",
     "showTitle": false,
     "tableResultSettingsMap": {},
     "title": ""
    }
   },
   "outputs": [],
   "source": [
    "from pyspark.sql import SparkSession"
   ]
  },
  {
   "cell_type": "code",
   "execution_count": 0,
   "metadata": {
    "application/vnd.databricks.v1+cell": {
     "cellMetadata": {
      "byteLimit": 2048000,
      "rowLimit": 10000
     },
     "inputWidgets": {},
     "nuid": "287c814d-eeb3-427c-900f-0e6398226389",
     "showTitle": false,
     "tableResultSettingsMap": {},
     "title": ""
    }
   },
   "outputs": [],
   "source": [
    "spark = SparkSession.builder.appName('Cruse info').getOrCreate()"
   ]
  },
  {
   "cell_type": "code",
   "execution_count": 0,
   "metadata": {
    "application/vnd.databricks.v1+cell": {
     "cellMetadata": {
      "byteLimit": 2048000,
      "rowLimit": 10000
     },
     "inputWidgets": {},
     "nuid": "15789f0b-6e53-4d22-8ac0-915af0609dcf",
     "showTitle": false,
     "tableResultSettingsMap": {},
     "title": ""
    }
   },
   "outputs": [],
   "source": [
    "df = spark.read.csv('dbfs:/FileStore/cruise_ship_info.csv', inferSchema = True, header=True)"
   ]
  },
  {
   "cell_type": "code",
   "execution_count": 0,
   "metadata": {
    "application/vnd.databricks.v1+cell": {
     "cellMetadata": {
      "byteLimit": 2048000,
      "rowLimit": 10000
     },
     "inputWidgets": {},
     "nuid": "c63ba2ca-4bda-4edc-b3d3-a2e77c387053",
     "showTitle": false,
     "tableResultSettingsMap": {},
     "title": ""
    }
   },
   "outputs": [
    {
     "output_type": "stream",
     "name": "stdout",
     "output_type": "stream",
     "text": [
      "+-----------+-----------+---+------------------+----------+------+------+-----------------+----+\n|  Ship_name|Cruise_line|Age|           Tonnage|passengers|length|cabins|passenger_density|crew|\n+-----------+-----------+---+------------------+----------+------+------+-----------------+----+\n|    Journey|    Azamara|  6|30.276999999999997|      6.94|  5.94|  3.55|            42.64|3.55|\n|      Quest|    Azamara|  6|30.276999999999997|      6.94|  5.94|  3.55|            42.64|3.55|\n|Celebration|   Carnival| 26|            47.262|     14.86|  7.22|  7.43|             31.8| 6.7|\n|   Conquest|   Carnival| 11|             110.0|     29.74|  9.53| 14.88|            36.99|19.1|\n|    Destiny|   Carnival| 17|           101.353|     26.42|  8.92| 13.21|            38.36|10.0|\n|    Ecstasy|   Carnival| 22|            70.367|     20.52|  8.55|  10.2|            34.29| 9.2|\n|    Elation|   Carnival| 15|            70.367|     20.52|  8.55|  10.2|            34.29| 9.2|\n|    Fantasy|   Carnival| 23|            70.367|     20.56|  8.55| 10.22|            34.23| 9.2|\n|Fascination|   Carnival| 19|            70.367|     20.52|  8.55|  10.2|            34.29| 9.2|\n|    Freedom|   Carnival|  6|110.23899999999999|      37.0|  9.51| 14.87|            29.79|11.5|\n|      Glory|   Carnival| 10|             110.0|     29.74|  9.51| 14.87|            36.99|11.6|\n|    Holiday|   Carnival| 28|            46.052|     14.52|  7.27|  7.26|            31.72| 6.6|\n|Imagination|   Carnival| 18|            70.367|     20.52|  8.55|  10.2|            34.29| 9.2|\n|Inspiration|   Carnival| 17|            70.367|     20.52|  8.55|  10.2|            34.29| 9.2|\n|     Legend|   Carnival| 11|              86.0|     21.24|  9.63| 10.62|            40.49| 9.3|\n|   Liberty*|   Carnival|  8|             110.0|     29.74|  9.51| 14.87|            36.99|11.6|\n|    Miracle|   Carnival|  9|              88.5|     21.24|  9.63| 10.62|            41.67|10.3|\n|   Paradise|   Carnival| 15|            70.367|     20.52|  8.55|  10.2|            34.29| 9.2|\n|      Pride|   Carnival| 12|              88.5|     21.24|  9.63| 11.62|            41.67| 9.3|\n|  Sensation|   Carnival| 20|            70.367|     20.52|  8.55|  10.2|            34.29| 9.2|\n+-----------+-----------+---+------------------+----------+------+------+-----------------+----+\nonly showing top 20 rows\n\n"
     ]
    }
   ],
   "source": [
    "df.show()"
   ]
  },
  {
   "cell_type": "code",
   "execution_count": 0,
   "metadata": {
    "application/vnd.databricks.v1+cell": {
     "cellMetadata": {
      "byteLimit": 2048000,
      "rowLimit": 10000
     },
     "inputWidgets": {},
     "nuid": "d4ed610c-2cc6-4fb8-935a-71cc2c44f81a",
     "showTitle": false,
     "tableResultSettingsMap": {},
     "title": ""
    }
   },
   "outputs": [
    {
     "output_type": "stream",
     "name": "stdout",
     "output_type": "stream",
     "text": [
      "root\n |-- Ship_name: string (nullable = true)\n |-- Cruise_line: string (nullable = true)\n |-- Age: integer (nullable = true)\n |-- Tonnage: double (nullable = true)\n |-- passengers: double (nullable = true)\n |-- length: double (nullable = true)\n |-- cabins: double (nullable = true)\n |-- passenger_density: double (nullable = true)\n |-- crew: double (nullable = true)\n\n"
     ]
    }
   ],
   "source": [
    "df.printSchema()"
   ]
  },
  {
   "cell_type": "code",
   "execution_count": 0,
   "metadata": {
    "application/vnd.databricks.v1+cell": {
     "cellMetadata": {
      "byteLimit": 2048000,
      "rowLimit": 10000
     },
     "inputWidgets": {},
     "nuid": "f7c35e64-eecd-4a30-b3a6-19cb2564fea4",
     "showTitle": false,
     "tableResultSettingsMap": {},
     "title": ""
    }
   },
   "outputs": [
    {
     "output_type": "stream",
     "name": "stdout",
     "output_type": "stream",
     "text": [
      "(158, 9)\n"
     ]
    }
   ],
   "source": [
    "print((df.count(), len(df.columns)))"
   ]
  },
  {
   "cell_type": "code",
   "execution_count": 0,
   "metadata": {
    "application/vnd.databricks.v1+cell": {
     "cellMetadata": {
      "byteLimit": 2048000,
      "rowLimit": 10000
     },
     "inputWidgets": {},
     "nuid": "46582bb6-4359-431e-ab49-9efff46eba9b",
     "showTitle": false,
     "tableResultSettingsMap": {},
     "title": ""
    }
   },
   "outputs": [],
   "source": [
    "from pyspark.sql.functions import col, sum as _sum"
   ]
  },
  {
   "cell_type": "code",
   "execution_count": 0,
   "metadata": {
    "application/vnd.databricks.v1+cell": {
     "cellMetadata": {
      "byteLimit": 2048000,
      "rowLimit": 10000
     },
     "inputWidgets": {},
     "nuid": "30163dee-0ffb-49d0-bb7f-7e9b37bf9dbc",
     "showTitle": false,
     "tableResultSettingsMap": {},
     "title": ""
    }
   },
   "outputs": [
    {
     "output_type": "stream",
     "name": "stdout",
     "output_type": "stream",
     "text": [
      "+---------+-----------+---+-------+----------+------+------+-----------------+----+\n|Ship_name|Cruise_line|Age|Tonnage|passengers|length|cabins|passenger_density|crew|\n+---------+-----------+---+-------+----------+------+------+-----------------+----+\n|        0|          0|  0|      0|         0|     0|     0|                0|   0|\n+---------+-----------+---+-------+----------+------+------+-----------------+----+\n\n"
     ]
    }
   ],
   "source": [
    "# chech missing values\n",
    "missing_val = df.select([_sum(col(c).isNull().cast('int')).alias(c) for c in df.columns])\n",
    "missing_val.show()"
   ]
  },
  {
   "cell_type": "code",
   "execution_count": 0,
   "metadata": {
    "application/vnd.databricks.v1+cell": {
     "cellMetadata": {
      "byteLimit": 2048000,
      "rowLimit": 10000
     },
     "inputWidgets": {},
     "nuid": "3db85c92-573b-484d-a01c-520f0b40820b",
     "showTitle": false,
     "tableResultSettingsMap": {},
     "title": ""
    }
   },
   "outputs": [
    {
     "output_type": "stream",
     "name": "stdout",
     "output_type": "stream",
     "text": [
      "+---------+-----------+---+-------+----------+------+------+-----------------+----+\n|Ship_name|Cruise_line|Age|Tonnage|passengers|length|cabins|passenger_density|crew|\n+---------+-----------+---+-------+----------+------+------+-----------------+----+\n+---------+-----------+---+-------+----------+------+------+-----------------+----+\n\n"
     ]
    }
   ],
   "source": [
    "# check duplicated\n",
    "dupliated = df.exceptAll(df.dropDuplicates())\n",
    "dupliated.show()"
   ]
  },
  {
   "cell_type": "code",
   "execution_count": 0,
   "metadata": {
    "application/vnd.databricks.v1+cell": {
     "cellMetadata": {
      "byteLimit": 2048000,
      "rowLimit": 10000
     },
     "inputWidgets": {},
     "nuid": "a5d356bf-47fb-4d57-bb26-03bfdc0164d0",
     "showTitle": false,
     "tableResultSettingsMap": {},
     "title": ""
    }
   },
   "outputs": [
    {
     "output_type": "execute_result",
     "data": {
      "text/plain": [
       "['Ship_name',\n",
       " 'Cruise_line',\n",
       " 'Age',\n",
       " 'Tonnage',\n",
       " 'passengers',\n",
       " 'length',\n",
       " 'cabins',\n",
       " 'passenger_density',\n",
       " 'crew']"
      ]
     },
     "execution_count": 90,
     "metadata": {},
     "output_type": "execute_result"
    }
   ],
   "source": [
    "df.columns"
   ]
  },
  {
   "cell_type": "code",
   "execution_count": 0,
   "metadata": {
    "application/vnd.databricks.v1+cell": {
     "cellMetadata": {
      "byteLimit": 2048000,
      "rowLimit": 10000
     },
     "inputWidgets": {},
     "nuid": "fceecbb4-1807-4abb-b006-fd4a49c01c1a",
     "showTitle": false,
     "tableResultSettingsMap": {},
     "title": ""
    }
   },
   "outputs": [
    {
     "output_type": "display_data",
     "data": {
      "text/html": [
       "<style scoped>\n",
       "  .table-result-container {\n",
       "    max-height: 300px;\n",
       "    overflow: auto;\n",
       "  }\n",
       "  table, th, td {\n",
       "    border: 1px solid black;\n",
       "    border-collapse: collapse;\n",
       "  }\n",
       "  th, td {\n",
       "    padding: 5px;\n",
       "  }\n",
       "  th {\n",
       "    text-align: left;\n",
       "  }\n",
       "</style><div class='table-result-container'><table class='table-result'><thead style='background-color: white'><tr><th>summary</th><th>Age</th><th>Tonnage</th><th>passengers</th><th>length</th><th>cabins</th><th>passenger_density</th><th>crew</th></tr></thead><tbody><tr><td>count</td><td>158</td><td>158</td><td>158</td><td>158</td><td>158</td><td>158</td><td>158</td></tr><tr><td>mean</td><td>15.689873417721518</td><td>71.28467088607599</td><td>18.45740506329114</td><td>8.130632911392404</td><td>8.830000000000005</td><td>39.90094936708861</td><td>7.794177215189873</td></tr><tr><td>stddev</td><td>7.615691058751413</td><td>37.229540025907866</td><td>9.677094775143416</td><td>1.793473548054825</td><td>4.4714172221480615</td><td>8.63921711391542</td><td>3.503486564627034</td></tr><tr><td>min</td><td>4</td><td>2.329</td><td>0.66</td><td>2.79</td><td>0.33</td><td>17.7</td><td>0.59</td></tr><tr><td>max</td><td>48</td><td>220.0</td><td>54.0</td><td>11.82</td><td>27.0</td><td>71.43</td><td>21.0</td></tr></tbody></table></div>"
      ]
     },
     "metadata": {
      "application/vnd.databricks.v1+output": {
       "addedWidgets": {},
       "aggData": [],
       "aggError": "",
       "aggOverflow": false,
       "aggSchema": [],
       "aggSeriesLimitReached": false,
       "aggType": "",
       "arguments": {},
       "columnCustomDisplayInfos": {},
       "data": [
        [
         "count",
         "158",
         "158",
         "158",
         "158",
         "158",
         "158",
         "158"
        ],
        [
         "mean",
         "15.689873417721518",
         "71.28467088607599",
         "18.45740506329114",
         "8.130632911392404",
         "8.830000000000005",
         "39.90094936708861",
         "7.794177215189873"
        ],
        [
         "stddev",
         "7.615691058751413",
         "37.229540025907866",
         "9.677094775143416",
         "1.793473548054825",
         "4.4714172221480615",
         "8.63921711391542",
         "3.503486564627034"
        ],
        [
         "min",
         "4",
         "2.329",
         "0.66",
         "2.79",
         "0.33",
         "17.7",
         "0.59"
        ],
        [
         "max",
         "48",
         "220.0",
         "54.0",
         "11.82",
         "27.0",
         "71.43",
         "21.0"
        ]
       ],
       "datasetInfos": [],
       "dbfsResultPath": null,
       "isJsonSchema": true,
       "metadata": {},
       "overflow": false,
       "plotOptions": {
        "customPlotOptions": {},
        "displayType": "table",
        "pivotAggregation": null,
        "pivotColumns": null,
        "xColumns": null,
        "yColumns": null
       },
       "removedWidgets": [],
       "schema": [
        {
         "metadata": "{}",
         "name": "summary",
         "type": "\"string\""
        },
        {
         "metadata": "{}",
         "name": "Age",
         "type": "\"string\""
        },
        {
         "metadata": "{}",
         "name": "Tonnage",
         "type": "\"string\""
        },
        {
         "metadata": "{}",
         "name": "passengers",
         "type": "\"string\""
        },
        {
         "metadata": "{}",
         "name": "length",
         "type": "\"string\""
        },
        {
         "metadata": "{}",
         "name": "cabins",
         "type": "\"string\""
        },
        {
         "metadata": "{}",
         "name": "passenger_density",
         "type": "\"string\""
        },
        {
         "metadata": "{}",
         "name": "crew",
         "type": "\"string\""
        }
       ],
       "type": "table"
      }
     },
     "output_type": "display_data"
    }
   ],
   "source": [
    "# describe data\n",
    "df.select('Age', 'Tonnage', 'passengers', 'length', 'cabins',\n",
    "           'passenger_density', 'crew').describe().display()"
   ]
  },
  {
   "cell_type": "code",
   "execution_count": 0,
   "metadata": {
    "application/vnd.databricks.v1+cell": {
     "cellMetadata": {
      "byteLimit": 2048000,
      "rowLimit": 10000
     },
     "inputWidgets": {},
     "nuid": "f21be9e6-9c20-40cc-aec3-d05068481dd3",
     "showTitle": false,
     "tableResultSettingsMap": {},
     "title": ""
    }
   },
   "outputs": [],
   "source": [
    "# convert dataframe pyspark to pandas\n",
    "df_pd = df.toPandas()"
   ]
  },
  {
   "cell_type": "code",
   "execution_count": 0,
   "metadata": {
    "application/vnd.databricks.v1+cell": {
     "cellMetadata": {
      "byteLimit": 2048000,
      "rowLimit": 10000
     },
     "inputWidgets": {},
     "nuid": "39b80536-7c13-47b2-be1e-be8c3296f832",
     "showTitle": false,
     "tableResultSettingsMap": {},
     "title": ""
    }
   },
   "outputs": [],
   "source": [
    "import matplotlib.pyplot as plt \n",
    "import seaborn as sns"
   ]
  },
  {
   "cell_type": "code",
   "execution_count": 0,
   "metadata": {
    "application/vnd.databricks.v1+cell": {
     "cellMetadata": {
      "byteLimit": 2048000,
      "rowLimit": 10000
     },
     "inputWidgets": {},
     "nuid": "35be7187-b3ba-409c-a4bd-49af6c5316b2",
     "showTitle": false,
     "tableResultSettingsMap": {},
     "title": ""
    }
   },
   "outputs": [
    {
     "output_type": "display_data",
     "data": {
      "image/png": "[encoded data removed]",
      "text/plain": [
       "<Figure size 900x500 with 1 Axes>"
      ]
     },
     "metadata": {},
     "output_type": "display_data"
    }
   ],
   "source": [
    "plt.figure(figsize=(9, 5), dpi=100)\n",
    "ax = sns.countplot(x ='Cruise_line', order = df_pd['Cruise_line'].value_counts().index, data = df_pd)\n",
    "\n",
    "for p in ax.patches:\n",
    "    height = p.get_height()\n",
    "    ax.text(x = p.get_x() + p.get_width()/2, \n",
    "            y = height,\n",
    "            s = '{:.0f}'.format(height), \n",
    "            ha = 'center'\n",
    "            )\n",
    "plt.xticks(rotation=90)\n",
    "plt.show()"
   ]
  },
  {
   "cell_type": "code",
   "execution_count": 0,
   "metadata": {
    "application/vnd.databricks.v1+cell": {
     "cellMetadata": {
      "byteLimit": 2048000,
      "rowLimit": 10000
     },
     "inputWidgets": {},
     "nuid": "39af22ab-b796-4437-b194-4e3ebd2d7212",
     "showTitle": false,
     "tableResultSettingsMap": {},
     "title": ""
    }
   },
   "outputs": [
    {
     "output_type": "display_data",
     "data": {
      "image/png": "[encoded data removed]",
      "text/plain": [
       "<Figure size 640x480 with 1 Axes>"
      ]
     },
     "metadata": {},
     "output_type": "display_data"
    }
   ],
   "source": [
    "sns.histplot(x ='Age', data = df_pd,kde=True);"
   ]
  },
  {
   "cell_type": "markdown",
   "metadata": {
    "application/vnd.databricks.v1+cell": {
     "cellMetadata": {
      "byteLimit": 2048000,
      "rowLimit": 10000
     },
     "inputWidgets": {},
     "nuid": "2cfa1846-472a-4c0e-8d75-e18a9e1f9c8f",
     "showTitle": false,
     "tableResultSettingsMap": {},
     "title": ""
    }
   },
   "source": [
    "## Dealing Categorical Variable"
   ]
  },
  {
   "cell_type": "code",
   "execution_count": 0,
   "metadata": {
    "application/vnd.databricks.v1+cell": {
     "cellMetadata": {
      "byteLimit": 2048000,
      "rowLimit": 10000
     },
     "inputWidgets": {},
     "nuid": "0efb4859-3534-41aa-a0dd-12781c59cce7",
     "showTitle": false,
     "tableResultSettingsMap": {},
     "title": ""
    }
   },
   "outputs": [
    {
     "output_type": "stream",
     "name": "stdout",
     "output_type": "stream",
     "text": [
      "+-----------------+-----+\n|      Cruise_line|count|\n+-----------------+-----+\n|           Orient|    1|\n|          Crystal|    2|\n|           Disney|    2|\n|          Azamara|    2|\n|           Cunard|    3|\n|         Seabourn|    3|\n|         Windstar|    3|\n|          Oceania|    3|\n|        Silversea|    4|\n|Regent_Seven_Seas|    5|\n|              P&O|    6|\n|             Star|    6|\n|              MSC|    8|\n|        Celebrity|   10|\n|            Costa|   11|\n|        Norwegian|   13|\n| Holland_American|   14|\n|         Princess|   17|\n|         Carnival|   22|\n|  Royal_Caribbean|   23|\n+-----------------+-----+\n\n"
     ]
    }
   ],
   "source": [
    "df.groupBy('Cruise_line').count().orderBy(col('count').asc()).show()"
   ]
  },
  {
   "cell_type": "code",
   "execution_count": 0,
   "metadata": {
    "application/vnd.databricks.v1+cell": {
     "cellMetadata": {
      "byteLimit": 2048000,
      "rowLimit": 10000
     },
     "inputWidgets": {},
     "nuid": "8f6e4981-1291-49cd-bce1-44a4cccef9bb",
     "showTitle": false,
     "tableResultSettingsMap": {},
     "title": ""
    }
   },
   "outputs": [],
   "source": [
    "from pyspark.ml.feature import StringIndexer"
   ]
  },
  {
   "cell_type": "code",
   "execution_count": 0,
   "metadata": {
    "application/vnd.databricks.v1+cell": {
     "cellMetadata": {
      "byteLimit": 2048000,
      "rowLimit": 10000
     },
     "inputWidgets": {},
     "nuid": "109a3506-3357-4b5a-a9ab-f392b35bc347",
     "showTitle": false,
     "tableResultSettingsMap": {},
     "title": ""
    }
   },
   "outputs": [
    {
     "output_type": "execute_result",
     "data": {
      "text/plain": [
       "[Row(Ship_name='Journey', Cruise_line='Azamara', Age=6, Tonnage=30.276999999999997, passengers=6.94, length=5.94, cabins=3.55, passenger_density=42.64, crew=3.55, cruise_cat=16.0),\n",
       " Row(Ship_name='Quest', Cruise_line='Azamara', Age=6, Tonnage=30.276999999999997, passengers=6.94, length=5.94, cabins=3.55, passenger_density=42.64, crew=3.55, cruise_cat=16.0),\n",
       " Row(Ship_name='Celebration', Cruise_line='Carnival', Age=26, Tonnage=47.262, passengers=14.86, length=7.22, cabins=7.43, passenger_density=31.8, crew=6.7, cruise_cat=1.0),\n",
       " Row(Ship_name='Conquest', Cruise_line='Carnival', Age=11, Tonnage=110.0, passengers=29.74, length=9.53, cabins=14.88, passenger_density=36.99, crew=19.1, cruise_cat=1.0),\n",
       " Row(Ship_name='Destiny', Cruise_line='Carnival', Age=17, Tonnage=101.353, passengers=26.42, length=8.92, cabins=13.21, passenger_density=38.36, crew=10.0, cruise_cat=1.0)]"
      ]
     },
     "execution_count": 98,
     "metadata": {},
     "output_type": "execute_result"
    }
   ],
   "source": [
    "indexer = StringIndexer(inputCol='Cruise_line', outputCol='cruise_cat')\n",
    "indexed = indexer.fit(df).transform(df)\n",
    "indexed.head(5)\n"
   ]
  },
  {
   "cell_type": "markdown",
   "metadata": {
    "application/vnd.databricks.v1+cell": {
     "cellMetadata": {
      "byteLimit": 2048000,
      "rowLimit": 10000
     },
     "inputWidgets": {},
     "nuid": "a2de71ec-6f00-48ae-8829-b5b0e8703e85",
     "showTitle": false,
     "tableResultSettingsMap": {},
     "title": ""
    }
   },
   "source": [
    "## Format for MLlib"
   ]
  },
  {
   "cell_type": "code",
   "execution_count": 0,
   "metadata": {
    "application/vnd.databricks.v1+cell": {
     "cellMetadata": {
      "byteLimit": 2048000,
      "rowLimit": 10000
     },
     "inputWidgets": {},
     "nuid": "c7965151-1f51-41af-9a90-4ee9288eb0af",
     "showTitle": false,
     "tableResultSettingsMap": {},
     "title": ""
    }
   },
   "outputs": [],
   "source": [
    "from pyspark.ml.feature import VectorAssembler"
   ]
  },
  {
   "cell_type": "code",
   "execution_count": 0,
   "metadata": {
    "application/vnd.databricks.v1+cell": {
     "cellMetadata": {
      "byteLimit": 2048000,
      "rowLimit": 10000
     },
     "inputWidgets": {},
     "nuid": "b1a4387b-f5ff-4f16-875d-18e20625548a",
     "showTitle": false,
     "tableResultSettingsMap": {},
     "title": ""
    }
   },
   "outputs": [
    {
     "output_type": "execute_result",
     "data": {
      "text/plain": [
       "['Ship_name',\n",
       " 'Cruise_line',\n",
       " 'Age',\n",
       " 'Tonnage',\n",
       " 'passengers',\n",
       " 'length',\n",
       " 'cabins',\n",
       " 'passenger_density',\n",
       " 'crew',\n",
       " 'cruise_cat']"
      ]
     },
     "execution_count": 100,
     "metadata": {},
     "output_type": "execute_result"
    }
   ],
   "source": [
    "indexed.columns"
   ]
  },
  {
   "cell_type": "code",
   "execution_count": 0,
   "metadata": {
    "application/vnd.databricks.v1+cell": {
     "cellMetadata": {
      "byteLimit": 2048000,
      "rowLimit": 10000
     },
     "inputWidgets": {},
     "nuid": "d3663b67-d67c-4ddb-b928-039df2499871",
     "showTitle": false,
     "tableResultSettingsMap": {},
     "title": ""
    }
   },
   "outputs": [],
   "source": [
    "assembler = VectorAssembler(inputCols=['Age', 'Tonnage', 'passengers','length',\n",
    "                                        'cabins', 'passenger_density','cruise_cat'], \n",
    "                            outputCol='features')"
   ]
  },
  {
   "cell_type": "code",
   "execution_count": 0,
   "metadata": {
    "application/vnd.databricks.v1+cell": {
     "cellMetadata": {
      "byteLimit": 2048000,
      "rowLimit": 10000
     },
     "inputWidgets": {},
     "nuid": "cb7520cc-9a61-4ac7-986b-c0b17ca185cd",
     "showTitle": false,
     "tableResultSettingsMap": {},
     "title": ""
    }
   },
   "outputs": [],
   "source": [
    "output = assembler.transform(indexed)"
   ]
  },
  {
   "cell_type": "code",
   "execution_count": 0,
   "metadata": {
    "application/vnd.databricks.v1+cell": {
     "cellMetadata": {
      "byteLimit": 2048000,
      "rowLimit": 10000
     },
     "inputWidgets": {},
     "nuid": "406be286-df50-4a54-8f36-b0b77e68b9a3",
     "showTitle": false,
     "tableResultSettingsMap": {},
     "title": ""
    }
   },
   "outputs": [
    {
     "output_type": "display_data",
     "data": {
      "text/html": [
       "<style scoped>\n",
       "  .table-result-container {\n",
       "    max-height: 300px;\n",
       "    overflow: auto;\n",
       "  }\n",
       "  table, th, td {\n",
       "    border: 1px solid black;\n",
       "    border-collapse: collapse;\n",
       "  }\n",
       "  th, td {\n",
       "    padding: 5px;\n",
       "  }\n",
       "  th {\n",
       "    text-align: left;\n",
       "  }\n",
       "</style><div class='table-result-container'><table class='table-result'><thead style='background-color: white'><tr><th>Ship_name</th><th>Cruise_line</th><th>Age</th><th>Tonnage</th><th>passengers</th><th>length</th><th>cabins</th><th>passenger_density</th><th>crew</th><th>cruise_cat</th><th>features</th></tr></thead><tbody><tr><td>Journey</td><td>Azamara</td><td>6</td><td>30.276999999999997</td><td>6.94</td><td>5.94</td><td>3.55</td><td>42.64</td><td>3.55</td><td>16.0</td><td>Map(vectorType -> dense, length -> 7, values -> List(6.0, 30.276999999999997, 6.94, 5.94, 3.55, 42.64, 16.0))</td></tr><tr><td>Quest</td><td>Azamara</td><td>6</td><td>30.276999999999997</td><td>6.94</td><td>5.94</td><td>3.55</td><td>42.64</td><td>3.55</td><td>16.0</td><td>Map(vectorType -> dense, length -> 7, values -> List(6.0, 30.276999999999997, 6.94, 5.94, 3.55, 42.64, 16.0))</td></tr><tr><td>Celebration</td><td>Carnival</td><td>26</td><td>47.262</td><td>14.86</td><td>7.22</td><td>7.43</td><td>31.8</td><td>6.7</td><td>1.0</td><td>Map(vectorType -> dense, length -> 7, values -> List(26.0, 47.262, 14.86, 7.22, 7.43, 31.8, 1.0))</td></tr><tr><td>Conquest</td><td>Carnival</td><td>11</td><td>110.0</td><td>29.74</td><td>9.53</td><td>14.88</td><td>36.99</td><td>19.1</td><td>1.0</td><td>Map(vectorType -> dense, length -> 7, values -> List(11.0, 110.0, 29.74, 9.53, 14.88, 36.99, 1.0))</td></tr><tr><td>Destiny</td><td>Carnival</td><td>17</td><td>101.353</td><td>26.42</td><td>8.92</td><td>13.21</td><td>38.36</td><td>10.0</td><td>1.0</td><td>Map(vectorType -> dense, length -> 7, values -> List(17.0, 101.353, 26.42, 8.92, 13.21, 38.36, 1.0))</td></tr></tbody></table></div>"
      ]
     },
     "metadata": {
      "application/vnd.databricks.v1+output": {
       "addedWidgets": {},
       "aggData": [],
       "aggError": "",
       "aggOverflow": false,
       "aggSchema": [],
       "aggSeriesLimitReached": false,
       "aggType": "",
       "arguments": {},
       "columnCustomDisplayInfos": {},
       "data": [
        [
         "Journey",
         "Azamara",
         6,
         30.276999999999997,
         6.94,
         5.94,
         3.55,
         42.64,
         3.55,
         16.0,
         {
          "length": 7,
          "values": [
           6.0,
           30.276999999999997,
           6.94,
           5.94,
           3.55,
           42.64,
           16.0
          ],
          "vectorType": "dense"
         }
        ],
        [
         "Quest",
         "Azamara",
         6,
         30.276999999999997,
         6.94,
         5.94,
         3.55,
         42.64,
         3.55,
         16.0,
         {
          "length": 7,
          "values": [
           6.0,
           30.276999999999997,
           6.94,
           5.94,
           3.55,
           42.64,
           16.0
          ],
          "vectorType": "dense"
         }
        ],
        [
         "Celebration",
         "Carnival",
         26,
         47.262,
         14.86,
         7.22,
         7.43,
         31.8,
         6.7,
         1.0,
         {
          "length": 7,
          "values": [
           26.0,
           47.262,
           14.86,
           7.22,
           7.43,
           31.8,
           1.0
          ],
          "vectorType": "dense"
         }
        ],
        [
         "Conquest",
         "Carnival",
         11,
         110.0,
         29.74,
         9.53,
         14.88,
         36.99,
         19.1,
         1.0,
         {
          "length": 7,
          "values": [
           11.0,
           110.0,
           29.74,
           9.53,
           14.88,
           36.99,
           1.0
          ],
          "vectorType": "dense"
         }
        ],
        [
         "Destiny",
         "Carnival",
         17,
         101.353,
         26.42,
         8.92,
         13.21,
         38.36,
         10.0,
         1.0,
         {
          "length": 7,
          "values": [
           17.0,
           101.353,
           26.42,
           8.92,
           13.21,
           38.36,
           1.0
          ],
          "vectorType": "dense"
         }
        ]
       ],
       "datasetInfos": [],
       "dbfsResultPath": null,
       "isJsonSchema": true,
       "metadata": {},
       "overflow": false,
       "plotOptions": {
        "customPlotOptions": {},
        "displayType": "table",
        "pivotAggregation": null,
        "pivotColumns": null,
        "xColumns": null,
        "yColumns": null
       },
       "removedWidgets": [],
       "schema": [
        {
         "metadata": "{}",
         "name": "Ship_name",
         "type": "\"string\""
        },
        {
         "metadata": "{}",
         "name": "Cruise_line",
         "type": "\"string\""
        },
        {
         "metadata": "{}",
         "name": "Age",
         "type": "\"integer\""
        },
        {
         "metadata": "{}",
         "name": "Tonnage",
         "type": "\"double\""
        },
        {
         "metadata": "{}",
         "name": "passengers",
         "type": "\"double\""
        },
        {
         "metadata": "{}",
         "name": "length",
         "type": "\"double\""
        },
        {
         "metadata": "{}",
         "name": "cabins",
         "type": "\"double\""
        },
        {
         "metadata": "{}",
         "name": "passenger_density",
         "type": "\"double\""
        },
        {
         "metadata": "{}",
         "name": "crew",
         "type": "\"double\""
        },
        {
         "metadata": "{\"ml_attr\":{\"vals\":[\"Royal_Caribbean\",\"Carnival\",\"Princess\",\"Holland_American\",\"Norwegian\",\"Costa\",\"Celebrity\",\"MSC\",\"P&O\",\"Star\",\"Regent_Seven_Seas\",\"Silversea\",\"Cunard\",\"Oceania\",\"Seabourn\",\"Windstar\",\"Azamara\",\"Crystal\",\"Disney\",\"Orient\"],\"type\":\"nominal\",\"name\":\"cruise_cat\"}}",
         "name": "cruise_cat",
         "type": "\"double\""
        },
        {
         "metadata": "{\"ml_attr\":{\"attrs\":{\"numeric\":[{\"idx\":0,\"name\":\"Age\"},{\"idx\":1,\"name\":\"Tonnage\"},{\"idx\":2,\"name\":\"passengers\"},{\"idx\":3,\"name\":\"length\"},{\"idx\":4,\"name\":\"cabins\"},{\"idx\":5,\"name\":\"passenger_density\"}],\"nominal\":[{\"vals\":[\"Royal_Caribbean\",\"Carnival\",\"Princess\",\"Holland_American\",\"Norwegian\",\"Costa\",\"Celebrity\",\"MSC\",\"P&O\",\"Star\",\"Regent_Seven_Seas\",\"Silversea\",\"Cunard\",\"Oceania\",\"Seabourn\",\"Windstar\",\"Azamara\",\"Crystal\",\"Disney\",\"Orient\"],\"idx\":6,\"name\":\"cruise_cat\"}]},\"num_attrs\":7}}",
         "name": "features",
         "type": "{\"type\":\"udt\",\"class\":\"org.apache.spark.ml.linalg.VectorUDT\",\"pyClass\":\"pyspark.ml.linalg.VectorUDT\",\"sqlType\":{\"type\":\"struct\",\"fields\":[{\"name\":\"type\",\"type\":\"byte\",\"nullable\":false,\"metadata\":{}},{\"name\":\"size\",\"type\":\"integer\",\"nullable\":true,\"metadata\":{}},{\"name\":\"indices\",\"type\":{\"type\":\"array\",\"elementType\":\"integer\",\"containsNull\":false},\"nullable\":true,\"metadata\":{}},{\"name\":\"values\",\"type\":{\"type\":\"array\",\"elementType\":\"double\",\"containsNull\":false},\"nullable\":true,\"metadata\":{}}]}}"
        }
       ],
       "type": "table"
      }
     },
     "output_type": "display_data"
    }
   ],
   "source": [
    "output.limit(5).display()"
   ]
  },
  {
   "cell_type": "markdown",
   "metadata": {
    "application/vnd.databricks.v1+cell": {
     "cellMetadata": {
      "byteLimit": 2048000,
      "rowLimit": 10000
     },
     "inputWidgets": {},
     "nuid": "4b28209e-661a-4e9b-89fc-84e544f4b0c1",
     "showTitle": false,
     "tableResultSettingsMap": {},
     "title": ""
    }
   },
   "source": [
    "## Standard Sclaler"
   ]
  },
  {
   "cell_type": "code",
   "execution_count": 0,
   "metadata": {
    "application/vnd.databricks.v1+cell": {
     "cellMetadata": {
      "byteLimit": 2048000,
      "rowLimit": 10000
     },
     "inputWidgets": {},
     "nuid": "aed74470-fb23-4579-93db-77d336834dec",
     "showTitle": false,
     "tableResultSettingsMap": {},
     "title": ""
    }
   },
   "outputs": [],
   "source": [
    "from pyspark.ml.feature import StandardScaler"
   ]
  },
  {
   "cell_type": "code",
   "execution_count": 0,
   "metadata": {
    "application/vnd.databricks.v1+cell": {
     "cellMetadata": {
      "byteLimit": 2048000,
      "rowLimit": 10000
     },
     "inputWidgets": {},
     "nuid": "19784c54-19a6-4209-be16-778bc8277458",
     "showTitle": false,
     "tableResultSettingsMap": {},
     "title": ""
    }
   },
   "outputs": [],
   "source": [
    "scaler = StandardScaler(inputCol='features', outputCol='scalerfeature', withStd=True, withMean =False)"
   ]
  },
  {
   "cell_type": "code",
   "execution_count": 0,
   "metadata": {
    "application/vnd.databricks.v1+cell": {
     "cellMetadata": {
      "byteLimit": 2048000,
      "rowLimit": 10000
     },
     "inputWidgets": {},
     "nuid": "d510a5bf-91fb-45ff-b4e2-929c27de5a3a",
     "showTitle": false,
     "tableResultSettingsMap": {},
     "title": ""
    }
   },
   "outputs": [],
   "source": [
    "scaler_df = scaler.fit(output).transform(output)"
   ]
  },
  {
   "cell_type": "code",
   "execution_count": 0,
   "metadata": {
    "application/vnd.databricks.v1+cell": {
     "cellMetadata": {
      "byteLimit": 2048000,
      "rowLimit": 10000
     },
     "inputWidgets": {},
     "nuid": "799cff5d-f631-4391-a92d-5b97997e2669",
     "showTitle": false,
     "tableResultSettingsMap": {},
     "title": ""
    }
   },
   "outputs": [
    {
     "output_type": "display_data",
     "data": {
      "text/html": [
       "<style scoped>\n",
       "  .table-result-container {\n",
       "    max-height: 300px;\n",
       "    overflow: auto;\n",
       "  }\n",
       "  table, th, td {\n",
       "    border: 1px solid black;\n",
       "    border-collapse: collapse;\n",
       "  }\n",
       "  th, td {\n",
       "    padding: 5px;\n",
       "  }\n",
       "  th {\n",
       "    text-align: left;\n",
       "  }\n",
       "</style><div class='table-result-container'><table class='table-result'><thead style='background-color: white'><tr><th>Ship_name</th><th>Cruise_line</th><th>Age</th><th>Tonnage</th><th>passengers</th><th>length</th><th>cabins</th><th>passenger_density</th><th>crew</th><th>cruise_cat</th><th>features</th><th>scalerfeature</th></tr></thead><tbody><tr><td>Journey</td><td>Azamara</td><td>6</td><td>30.276999999999997</td><td>6.94</td><td>5.94</td><td>3.55</td><td>42.64</td><td>3.55</td><td>16.0</td><td>Map(vectorType -> dense, length -> 7, values -> List(6.0, 30.276999999999997, 6.94, 5.94, 3.55, 42.64, 16.0))</td><td>Map(vectorType -> dense, length -> 7, values -> List(0.7878470848821034, 0.8132520568057078, 0.7171573867216928, 3.3120087031350067, 0.7939317275999097, 4.9356324117978945, 3.3622312852191634))</td></tr><tr><td>Quest</td><td>Azamara</td><td>6</td><td>30.276999999999997</td><td>6.94</td><td>5.94</td><td>3.55</td><td>42.64</td><td>3.55</td><td>16.0</td><td>Map(vectorType -> dense, length -> 7, values -> List(6.0, 30.276999999999997, 6.94, 5.94, 3.55, 42.64, 16.0))</td><td>Map(vectorType -> dense, length -> 7, values -> List(0.7878470848821034, 0.8132520568057078, 0.7171573867216928, 3.3120087031350067, 0.7939317275999097, 4.9356324117978945, 3.3622312852191634))</td></tr><tr><td>Celebration</td><td>Carnival</td><td>26</td><td>47.262</td><td>14.86</td><td>7.22</td><td>7.43</td><td>31.8</td><td>6.7</td><td>1.0</td><td>Map(vectorType -> dense, length -> 7, values -> List(26.0, 47.262, 14.86, 7.22, 7.43, 31.8, 1.0))</td><td>Map(vectorType -> dense, length -> 7, values -> List(3.414004034489115, 1.2694757970985027, 1.5355848366980338, 4.025707548255008, 1.6616655594555858, 3.680889087597867, 0.2101394553261977))</td></tr><tr><td>Conquest</td><td>Carnival</td><td>11</td><td>110.0</td><td>29.74</td><td>9.53</td><td>14.88</td><td>36.99</td><td>19.1</td><td>1.0</td><td>Map(vectorType -> dense, length -> 7, values -> List(11.0, 110.0, 29.74, 9.53, 14.88, 36.99, 1.0))</td><td>Map(vectorType -> dense, length -> 7, values -> List(1.4443863222838562, 2.9546430045456242, 3.0732364093808564, 5.31371093280751, 3.3278039737145515, 4.28163796698884, 0.2101394553261977))</td></tr><tr><td>Destiny</td><td>Carnival</td><td>17</td><td>101.353</td><td>26.42</td><td>8.92</td><td>13.21</td><td>38.36</td><td>10.0</td><td>1.0</td><td>Map(vectorType -> dense, length -> 7, values -> List(17.0, 101.353, 26.42, 8.92, 13.21, 38.36, 1.0))</td><td>Map(vectorType -> dense, length -> 7, values -> List(2.2322334071659595, 2.7223812039973874, 2.7301582359059258, 4.97358882693001, 2.9543205976323406, 4.440217150951389, 0.2101394553261977))</td></tr></tbody></table></div>"
      ]
     },
     "metadata": {
      "application/vnd.databricks.v1+output": {
       "addedWidgets": {},
       "aggData": [],
       "aggError": "",
       "aggOverflow": false,
       "aggSchema": [],
       "aggSeriesLimitReached": false,
       "aggType": "",
       "arguments": {},
       "columnCustomDisplayInfos": {},
       "data": [
        [
         "Journey",
         "Azamara",
         6,
         30.276999999999997,
         6.94,
         5.94,
         3.55,
         42.64,
         3.55,
         16.0,
         {
          "length": 7,
          "values": [
           6.0,
           30.276999999999997,
           6.94,
           5.94,
           3.55,
           42.64,
           16.0
          ],
          "vectorType": "dense"
         },
         {
          "length": 7,
          "values": [
           0.7878470848821034,
           0.8132520568057078,
           0.7171573867216928,
           3.3120087031350067,
           0.7939317275999097,
           4.9356324117978945,
           3.3622312852191634
          ],
          "vectorType": "dense"
         }
        ],
        [
         "Quest",
         "Azamara",
         6,
         30.276999999999997,
         6.94,
         5.94,
         3.55,
         42.64,
         3.55,
         16.0,
         {
          "length": 7,
          "values": [
           6.0,
           30.276999999999997,
           6.94,
           5.94,
           3.55,
           42.64,
           16.0
          ],
          "vectorType": "dense"
         },
         {
          "length": 7,
          "values": [
           0.7878470848821034,
           0.8132520568057078,
           0.7171573867216928,
           3.3120087031350067,
           0.7939317275999097,
           4.9356324117978945,
           3.3622312852191634
          ],
          "vectorType": "dense"
         }
        ],
        [
         "Celebration",
         "Carnival",
         26,
         47.262,
         14.86,
         7.22,
         7.43,
         31.8,
         6.7,
         1.0,
         {
          "length": 7,
          "values": [
           26.0,
           47.262,
           14.86,
           7.22,
           7.43,
           31.8,
           1.0
          ],
          "vectorType": "dense"
         },
         {
          "length": 7,
          "values": [
           3.414004034489115,
           1.2694757970985027,
           1.5355848366980338,
           4.025707548255008,
           1.6616655594555858,
           3.680889087597867,
           0.2101394553261977
          ],
          "vectorType": "dense"
         }
        ],
        [
         "Conquest",
         "Carnival",
         11,
         110.0,
         29.74,
         9.53,
         14.88,
         36.99,
         19.1,
         1.0,
         {
          "length": 7,
          "values": [
           11.0,
           110.0,
           29.74,
           9.53,
           14.88,
           36.99,
           1.0
          ],
          "vectorType": "dense"
         },
         {
          "length": 7,
          "values": [
           1.4443863222838562,
           2.9546430045456242,
           3.0732364093808564,
           5.31371093280751,
           3.3278039737145515,
           4.28163796698884,
           0.2101394553261977
          ],
          "vectorType": "dense"
         }
        ],
        [
         "Destiny",
         "Carnival",
         17,
         101.353,
         26.42,
         8.92,
         13.21,
         38.36,
         10.0,
         1.0,
         {
          "length": 7,
          "values": [
           17.0,
           101.353,
           26.42,
           8.92,
           13.21,
           38.36,
           1.0
          ],
          "vectorType": "dense"
         },
         {
          "length": 7,
          "values": [
           2.2322334071659595,
           2.7223812039973874,
           2.7301582359059258,
           4.97358882693001,
           2.9543205976323406,
           4.440217150951389,
           0.2101394553261977
          ],
          "vectorType": "dense"
         }
        ]
       ],
       "datasetInfos": [],
       "dbfsResultPath": null,
       "isJsonSchema": true,
       "metadata": {},
       "overflow": false,
       "plotOptions": {
        "customPlotOptions": {},
        "displayType": "table",
        "pivotAggregation": null,
        "pivotColumns": null,
        "xColumns": null,
        "yColumns": null
       },
       "removedWidgets": [],
       "schema": [
        {
         "metadata": "{}",
         "name": "Ship_name",
         "type": "\"string\""
        },
        {
         "metadata": "{}",
         "name": "Cruise_line",
         "type": "\"string\""
        },
        {
         "metadata": "{}",
         "name": "Age",
         "type": "\"integer\""
        },
        {
         "metadata": "{}",
         "name": "Tonnage",
         "type": "\"double\""
        },
        {
         "metadata": "{}",
         "name": "passengers",
         "type": "\"double\""
        },
        {
         "metadata": "{}",
         "name": "length",
         "type": "\"double\""
        },
        {
         "metadata": "{}",
         "name": "cabins",
         "type": "\"double\""
        },
        {
         "metadata": "{}",
         "name": "passenger_density",
         "type": "\"double\""
        },
        {
         "metadata": "{}",
         "name": "crew",
         "type": "\"double\""
        },
        {
         "metadata": "{\"ml_attr\":{\"vals\":[\"Royal_Caribbean\",\"Carnival\",\"Princess\",\"Holland_American\",\"Norwegian\",\"Costa\",\"Celebrity\",\"MSC\",\"P&O\",\"Star\",\"Regent_Seven_Seas\",\"Silversea\",\"Cunard\",\"Oceania\",\"Seabourn\",\"Windstar\",\"Azamara\",\"Crystal\",\"Disney\",\"Orient\"],\"type\":\"nominal\",\"name\":\"cruise_cat\"}}",
         "name": "cruise_cat",
         "type": "\"double\""
        },
        {
         "metadata": "{\"ml_attr\":{\"attrs\":{\"numeric\":[{\"idx\":0,\"name\":\"Age\"},{\"idx\":1,\"name\":\"Tonnage\"},{\"idx\":2,\"name\":\"passengers\"},{\"idx\":3,\"name\":\"length\"},{\"idx\":4,\"name\":\"cabins\"},{\"idx\":5,\"name\":\"passenger_density\"}],\"nominal\":[{\"vals\":[\"Royal_Caribbean\",\"Carnival\",\"Princess\",\"Holland_American\",\"Norwegian\",\"Costa\",\"Celebrity\",\"MSC\",\"P&O\",\"Star\",\"Regent_Seven_Seas\",\"Silversea\",\"Cunard\",\"Oceania\",\"Seabourn\",\"Windstar\",\"Azamara\",\"Crystal\",\"Disney\",\"Orient\"],\"idx\":6,\"name\":\"cruise_cat\"}]},\"num_attrs\":7}}",
         "name": "features",
         "type": "{\"type\":\"udt\",\"class\":\"org.apache.spark.ml.linalg.VectorUDT\",\"pyClass\":\"pyspark.ml.linalg.VectorUDT\",\"sqlType\":{\"type\":\"struct\",\"fields\":[{\"name\":\"type\",\"type\":\"byte\",\"nullable\":false,\"metadata\":{}},{\"name\":\"size\",\"type\":\"integer\",\"nullable\":true,\"metadata\":{}},{\"name\":\"indices\",\"type\":{\"type\":\"array\",\"elementType\":\"integer\",\"containsNull\":false},\"nullable\":true,\"metadata\":{}},{\"name\":\"values\",\"type\":{\"type\":\"array\",\"elementType\":\"double\",\"containsNull\":false},\"nullable\":true,\"metadata\":{}}]}}"
        },
        {
         "metadata": "{\"ml_attr\":{\"num_attrs\":7}}",
         "name": "scalerfeature",
         "type": "{\"type\":\"udt\",\"class\":\"org.apache.spark.ml.linalg.VectorUDT\",\"pyClass\":\"pyspark.ml.linalg.VectorUDT\",\"sqlType\":{\"type\":\"struct\",\"fields\":[{\"name\":\"type\",\"type\":\"byte\",\"nullable\":false,\"metadata\":{}},{\"name\":\"size\",\"type\":\"integer\",\"nullable\":true,\"metadata\":{}},{\"name\":\"indices\",\"type\":{\"type\":\"array\",\"elementType\":\"integer\",\"containsNull\":false},\"nullable\":true,\"metadata\":{}},{\"name\":\"values\",\"type\":{\"type\":\"array\",\"elementType\":\"double\",\"containsNull\":false},\"nullable\":true,\"metadata\":{}}]}}"
        }
       ],
       "type": "table"
      }
     },
     "output_type": "display_data"
    }
   ],
   "source": [
    "scaler_df.limit(5).display()"
   ]
  },
  {
   "cell_type": "code",
   "execution_count": 0,
   "metadata": {
    "application/vnd.databricks.v1+cell": {
     "cellMetadata": {
      "byteLimit": 2048000,
      "rowLimit": 10000
     },
     "inputWidgets": {},
     "nuid": "6c28718d-92fa-4b7d-8cca-53d15e79025d",
     "showTitle": false,
     "tableResultSettingsMap": {},
     "title": ""
    }
   },
   "outputs": [],
   "source": [
    "final_df = scaler_df.select('crew', 'scalerfeature')"
   ]
  },
  {
   "cell_type": "code",
   "execution_count": 0,
   "metadata": {
    "application/vnd.databricks.v1+cell": {
     "cellMetadata": {
      "byteLimit": 2048000,
      "rowLimit": 10000
     },
     "inputWidgets": {},
     "nuid": "92d9c2ff-3012-4e4c-92f4-c0096aa85d83",
     "showTitle": false,
     "tableResultSettingsMap": {},
     "title": ""
    }
   },
   "outputs": [
    {
     "output_type": "stream",
     "name": "stdout",
     "output_type": "stream",
     "text": [
      "+----+--------------------+\n|crew|       scalerfeature|\n+----+--------------------+\n|3.55|[0.78784708488210...|\n|3.55|[0.78784708488210...|\n| 6.7|[3.41400403448911...|\n|19.1|[1.44438632228385...|\n|10.0|[2.23223340716595...|\n| 9.2|[2.88877264456771...|\n| 9.2|[1.96961771220525...|\n| 9.2|[3.02008049204806...|\n| 9.2|[2.49484910212666...|\n|11.5|[0.78784708488210...|\n|11.6|[1.31307847480350...|\n| 6.6|[3.67661972944981...|\n| 9.2|[2.36354125464631...|\n| 9.2|[2.23223340716595...|\n| 9.3|[1.44438632228385...|\n|11.6|[1.05046277984280...|\n|10.3|[1.18177062732315...|\n| 9.2|[1.96961771220525...|\n| 9.3|[1.57569416976420...|\n| 9.2|[2.62615694960701...|\n+----+--------------------+\nonly showing top 20 rows\n\n"
     ]
    }
   ],
   "source": [
    "final_df.show()"
   ]
  },
  {
   "cell_type": "markdown",
   "metadata": {
    "application/vnd.databricks.v1+cell": {
     "cellMetadata": {
      "byteLimit": 2048000,
      "rowLimit": 10000
     },
     "inputWidgets": {},
     "nuid": "9a84adf8-5db2-4689-9939-759b82a0f4bb",
     "showTitle": false,
     "tableResultSettingsMap": {},
     "title": ""
    }
   },
   "source": [
    "## Train Test Split"
   ]
  },
  {
   "cell_type": "code",
   "execution_count": 0,
   "metadata": {
    "application/vnd.databricks.v1+cell": {
     "cellMetadata": {
      "byteLimit": 2048000,
      "rowLimit": 10000
     },
     "inputWidgets": {},
     "nuid": "a8bb9a1d-6606-4759-b21e-a0afb9369d2e",
     "showTitle": false,
     "tableResultSettingsMap": {},
     "title": ""
    }
   },
   "outputs": [],
   "source": [
    "train, test = final_df.randomSplit([0.7, 0.3])"
   ]
  },
  {
   "cell_type": "markdown",
   "metadata": {
    "application/vnd.databricks.v1+cell": {
     "cellMetadata": {
      "byteLimit": 2048000,
      "rowLimit": 10000
     },
     "inputWidgets": {},
     "nuid": "2781c680-49c4-4214-86ba-ae830c5dddbb",
     "showTitle": false,
     "tableResultSettingsMap": {},
     "title": ""
    }
   },
   "source": [
    "## Create Model"
   ]
  },
  {
   "cell_type": "code",
   "execution_count": 0,
   "metadata": {
    "application/vnd.databricks.v1+cell": {
     "cellMetadata": {
      "byteLimit": 2048000,
      "rowLimit": 10000
     },
     "inputWidgets": {},
     "nuid": "64b029e2-02f7-4cf5-b20d-4044a12c6dfc",
     "showTitle": false,
     "tableResultSettingsMap": {},
     "title": ""
    }
   },
   "outputs": [],
   "source": [
    "from pyspark.ml.regression import LinearRegression"
   ]
  },
  {
   "cell_type": "code",
   "execution_count": 0,
   "metadata": {
    "application/vnd.databricks.v1+cell": {
     "cellMetadata": {
      "byteLimit": 2048000,
      "rowLimit": 10000
     },
     "inputWidgets": {},
     "nuid": "25e3b6e6-eefb-49d1-9fcc-4b6880fada83",
     "showTitle": false,
     "tableResultSettingsMap": {},
     "title": ""
    }
   },
   "outputs": [],
   "source": [
    "lr = LinearRegression(featuresCol='scalerfeature', labelCol='crew')"
   ]
  },
  {
   "cell_type": "code",
   "execution_count": 0,
   "metadata": {
    "application/vnd.databricks.v1+cell": {
     "cellMetadata": {
      "byteLimit": 2048000,
      "rowLimit": 10000
     },
     "inputWidgets": {},
     "nuid": "60b0dbce-b567-49b7-aa7b-0173f4794f50",
     "showTitle": false,
     "tableResultSettingsMap": {},
     "title": ""
    }
   },
   "outputs": [],
   "source": [
    "# fit the model \n",
    "lrModel = lr.fit(train)"
   ]
  },
  {
   "cell_type": "code",
   "execution_count": 0,
   "metadata": {
    "application/vnd.databricks.v1+cell": {
     "cellMetadata": {
      "byteLimit": 2048000,
      "rowLimit": 10000
     },
     "inputWidgets": {},
     "nuid": "07647f1e-ddc3-4f99-8eb4-23b0b5bc377b",
     "showTitle": false,
     "tableResultSettingsMap": {},
     "title": ""
    }
   },
   "outputs": [
    {
     "output_type": "stream",
     "name": "stdout",
     "output_type": "stream",
     "text": [
      "Coefficients : [-0.08630107635810601,0.4757018438343566,-1.2818041705615733,0.605858578794889,3.7632590191788657,-0.006665760803215711,0.25780229576427205] , Intercept : -0.8346097195857818\n"
     ]
    }
   ],
   "source": [
    "# print coefficients and intercept for linear regression\n",
    "print('Coefficients : {} , Intercept : {}'.format(lrModel.coefficients, lrModel.intercept))"
   ]
  },
  {
   "cell_type": "markdown",
   "metadata": {
    "application/vnd.databricks.v1+cell": {
     "cellMetadata": {
      "byteLimit": 2048000,
      "rowLimit": 10000
     },
     "inputWidgets": {},
     "nuid": "3d3e49c2-c22f-492c-b82f-2540d2b05142",
     "showTitle": false,
     "tableResultSettingsMap": {},
     "title": ""
    }
   },
   "source": [
    "## Evaluate"
   ]
  },
  {
   "cell_type": "code",
   "execution_count": 0,
   "metadata": {
    "application/vnd.databricks.v1+cell": {
     "cellMetadata": {
      "byteLimit": 2048000,
      "rowLimit": 10000
     },
     "inputWidgets": {},
     "nuid": "ff33517d-9343-487a-95ed-2bcbd30220cb",
     "showTitle": false,
     "tableResultSettingsMap": {},
     "title": ""
    }
   },
   "outputs": [],
   "source": [
    "test_result = lrModel.evaluate(test)"
   ]
  },
  {
   "cell_type": "code",
   "execution_count": 0,
   "metadata": {
    "application/vnd.databricks.v1+cell": {
     "cellMetadata": {
      "byteLimit": 2048000,
      "rowLimit": 10000
     },
     "inputWidgets": {},
     "nuid": "e54c9d97-115e-4e74-ab76-db76d37f9d62",
     "showTitle": false,
     "tableResultSettingsMap": {},
     "title": ""
    }
   },
   "outputs": [
    {
     "output_type": "stream",
     "name": "stdout",
     "output_type": "stream",
     "text": [
      "RMSE : 0.7066540394229885\nMSE : 0.4993599314328266\nR2 : 0.9645527713844144\n"
     ]
    }
   ],
   "source": [
    "print('RMSE : {}'.format(test_result.rootMeanSquaredError))\n",
    "print('MSE : {}'.format(test_result.meanSquaredError))\n",
    "print('R2 : {}'.format(test_result.r2))"
   ]
  },
  {
   "cell_type": "code",
   "execution_count": 0,
   "metadata": {
    "application/vnd.databricks.v1+cell": {
     "cellMetadata": {
      "byteLimit": 2048000,
      "rowLimit": 10000
     },
     "inputWidgets": {},
     "nuid": "4768fbae-4eed-44f3-a59c-4b79fd3153d7",
     "showTitle": false,
     "tableResultSettingsMap": {},
     "title": ""
    }
   },
   "outputs": [],
   "source": [
    "# result r2 0.96\n",
    "from pyspark.sql.functions import corr"
   ]
  },
  {
   "cell_type": "code",
   "execution_count": 0,
   "metadata": {
    "application/vnd.databricks.v1+cell": {
     "cellMetadata": {
      "byteLimit": 2048000,
      "rowLimit": 10000
     },
     "inputWidgets": {},
     "nuid": "9c2272a2-f6ce-4d9f-990a-07fe427ec5c4",
     "showTitle": false,
     "tableResultSettingsMap": {},
     "title": ""
    }
   },
   "outputs": [
    {
     "output_type": "stream",
     "name": "stdout",
     "output_type": "stream",
     "text": [
      "+----------------------+\n|corr(crew, passengers)|\n+----------------------+\n|    0.9152341306065384|\n+----------------------+\n\n"
     ]
    }
   ],
   "source": [
    "# check the data little closer\n",
    "df.select(corr('crew', 'passengers')).show()"
   ]
  },
  {
   "cell_type": "code",
   "execution_count": 0,
   "metadata": {
    "application/vnd.databricks.v1+cell": {
     "cellMetadata": {
      "byteLimit": 2048000,
      "rowLimit": 10000
     },
     "inputWidgets": {},
     "nuid": "74e648a9-d7e4-422d-8a5b-365835f661c8",
     "showTitle": false,
     "tableResultSettingsMap": {},
     "title": ""
    }
   },
   "outputs": [
    {
     "output_type": "stream",
     "name": "stdout",
     "output_type": "stream",
     "text": [
      "+------------------+\n|corr(crew, cabins)|\n+------------------+\n|0.9508226063578497|\n+------------------+\n\n"
     ]
    }
   ],
   "source": [
    "df.select(corr('crew','cabins')).show()"
   ]
  },
  {
   "cell_type": "markdown",
   "metadata": {
    "application/vnd.databricks.v1+cell": {
     "cellMetadata": {
      "byteLimit": 2048000,
      "rowLimit": 10000
     },
     "inputWidgets": {},
     "nuid": "bafcc4f4-4bd8-49d2-bbe5-6d16add17a23",
     "showTitle": false,
     "tableResultSettingsMap": {},
     "title": ""
    }
   },
   "source": [
    "## Good Jobs.!!"
   ]
  }
 ],
 "metadata": {
  "application/vnd.databricks.v1+notebook": {
   "dashboards": [],
   "environmentMetadata": null,
   "language": "python",
   "notebookMetadata": {
    "pythonIndentUnit": 4
   },
   "notebookName": "02 - Cruise Ship Info",
   "widgets": {}
  }
 },
 "nbformat": 4,
 "nbformat_minor": 0
}
