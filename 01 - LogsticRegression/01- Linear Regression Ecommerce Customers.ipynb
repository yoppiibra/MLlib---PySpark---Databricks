{
 "cells": [
  {
   "cell_type": "markdown",
   "metadata": {
    "application/vnd.databricks.v1+cell": {
     "cellMetadata": {
      "byteLimit": 2048000,
      "rowLimit": 10000
     },
     "inputWidgets": {},
     "nuid": "659e00cd-7b68-4ac1-bca4-236c3dca4f4e",
     "showTitle": false,
     "tableResultSettingsMap": {},
     "title": ""
    }
   },
   "source": [
    "## Linear Regression Ecommerce Customers Dataset\n",
    "\n",
    "Basically what we do here is examine a dataset with Ecommerce Customer Data for a company's website and mobile app. Then we want to see if we can build a regression model that will predict the customer's yearly spend on the company's product."
   ]
  },
  {
   "cell_type": "code",
   "execution_count": 0,
   "metadata": {
    "application/vnd.databricks.v1+cell": {
     "cellMetadata": {
      "byteLimit": 2048000,
      "rowLimit": 10000
     },
     "inputWidgets": {},
     "nuid": "406f7688-4643-48fa-8146-090416b0d15a",
     "showTitle": false,
     "tableResultSettingsMap": {},
     "title": ""
    }
   },
   "outputs": [],
   "source": [
    "from pyspark.sql import SparkSession"
   ]
  },
  {
   "cell_type": "code",
   "execution_count": 0,
   "metadata": {
    "application/vnd.databricks.v1+cell": {
     "cellMetadata": {
      "byteLimit": 2048000,
      "rowLimit": 10000
     },
     "inputWidgets": {},
     "nuid": "84eabb65-f035-42d1-a4df-e4a8def57b96",
     "showTitle": false,
     "tableResultSettingsMap": {},
     "title": ""
    }
   },
   "outputs": [],
   "source": [
    "spark = SparkSession.builder.appName('LR_Ecommerce').getOrCreate()"
   ]
  },
  {
   "cell_type": "code",
   "execution_count": 0,
   "metadata": {
    "application/vnd.databricks.v1+cell": {
     "cellMetadata": {
      "byteLimit": 2048000,
      "rowLimit": 10000
     },
     "inputWidgets": {},
     "nuid": "f150f071-4d75-41b6-9fc9-5f1f8462d3cb",
     "showTitle": false,
     "tableResultSettingsMap": {},
     "title": ""
    }
   },
   "outputs": [],
   "source": [
    "df = spark.read.csv('dbfs:/FileStore/Ecommerce_Customers.csv', inferSchema=True, header=True)"
   ]
  },
  {
   "cell_type": "code",
   "execution_count": 0,
   "metadata": {
    "application/vnd.databricks.v1+cell": {
     "cellMetadata": {
      "byteLimit": 2048000,
      "rowLimit": 10000
     },
     "inputWidgets": {},
     "nuid": "dc779bce-224a-45dd-b79f-ee3cc5a26af0",
     "showTitle": false,
     "tableResultSettingsMap": {},
     "title": ""
    }
   },
   "outputs": [
    {
     "output_type": "display_data",
     "data": {
      "text/html": [
       "<style scoped>\n",
       "  .table-result-container {\n",
       "    max-height: 300px;\n",
       "    overflow: auto;\n",
       "  }\n",
       "  table, th, td {\n",
       "    border: 1px solid black;\n",
       "    border-collapse: collapse;\n",
       "  }\n",
       "  th, td {\n",
       "    padding: 5px;\n",
       "  }\n",
       "  th {\n",
       "    text-align: left;\n",
       "  }\n",
       "</style><div class='table-result-container'><table class='table-result'><thead style='background-color: white'><tr><th>Email</th><th>Address</th><th>Avatar</th><th>Avg Session Length</th><th>Time on App</th><th>Time on Website</th><th>Length of Membership</th><th>Yearly Amount Spent</th></tr></thead><tbody><tr><td>mstephenson@fernandez.com</td><td>835 Frank TunnelWrightmouth, MI 82180-9605</td><td>Violet</td><td>34.49726772511229</td><td>12.65565114916675</td><td>39.57766801952616</td><td>4.0826206329529615</td><td>587.9510539684005</td></tr><tr><td>hduke@hotmail.com</td><td>4547 Archer CommonDiazchester, CA 06566-8576</td><td>DarkGreen</td><td>31.92627202636016</td><td>11.109460728682564</td><td>37.268958868297744</td><td>2.66403418213262</td><td>392.2049334443264</td></tr><tr><td>pallen@yahoo.com</td><td>24645 Valerie Unions Suite 582Cobbborough, DC 99414-7564</td><td>Bisque</td><td>33.000914755642675</td><td>11.330278057777512</td><td>37.110597442120856</td><td>4.104543202376424</td><td>487.54750486747207</td></tr><tr><td>riverarebecca@gmail.com</td><td>1414 David ThroughwayPort Jason, OH 22070-1220</td><td>SaddleBrown</td><td>34.30555662975554</td><td>13.717513665142507</td><td>36.72128267790313</td><td>3.120178782748092</td><td>581.8523440352177</td></tr><tr><td>mstephens@davidson-herman.com</td><td>14023 Rodriguez PassagePort Jacobville, PR 37242-1057</td><td>MediumAquaMarine</td><td>33.33067252364639</td><td>12.795188551078114</td><td>37.53665330059473</td><td>4.446308318351434</td><td>599.4060920457634</td></tr><tr><td>alvareznancy@lucas.biz</td><td>645 Martha Park Apt. 611Jeffreychester, MN 67218-7250</td><td>FloralWhite</td><td>33.871037879341976</td><td>12.026925339755056</td><td>34.47687762925054</td><td>5.493507201364199</td><td>637.102447915074</td></tr><tr><td>katherine20@yahoo.com</td><td>68388 Reyes Lights Suite 692Josephbury, WV 92213-0247</td><td>DarkSlateBlue</td><td>32.02159550138701</td><td>11.366348309710526</td><td>36.68377615286961</td><td>4.685017246570912</td><td>521.5721747578274</td></tr><tr><td>awatkins@yahoo.com</td><td>Unit 6538 Box 8980DPO AP 09026-4941</td><td>Aqua</td><td>32.739142938380326</td><td>12.35195897300293</td><td>37.37335885854755</td><td>4.4342734348999375</td><td>549.9041461052942</td></tr><tr><td>vchurch@walter-martinez.com</td><td>860 Lee KeyWest Debra, SD 97450-0495</td><td>Salmon</td><td>33.98777289568564</td><td>13.386235275676436</td><td>37.534497341555735</td><td>3.2734335777477144</td><td>570.2004089636196</td></tr><tr><td>bonnie69@lin.biz</td><td>PSC 2734, Box 5255APO AA 98456-7482</td><td>Brown</td><td>31.936548618448917</td><td>11.814128294972196</td><td>37.14516822352819</td><td>3.202806071553459</td><td>427.1993848953282</td></tr></tbody></table></div>"
      ]
     },
     "metadata": {
      "application/vnd.databricks.v1+output": {
       "addedWidgets": {},
       "aggData": [],
       "aggError": "",
       "aggOverflow": false,
       "aggSchema": [],
       "aggSeriesLimitReached": false,
       "aggType": "",
       "arguments": {},
       "columnCustomDisplayInfos": {},
       "data": [
        [
         "mstephenson@fernandez.com",
         "835 Frank TunnelWrightmouth, MI 82180-9605",
         "Violet",
         34.49726772511229,
         12.65565114916675,
         39.57766801952616,
         4.0826206329529615,
         587.9510539684005
        ],
        [
         "hduke@hotmail.com",
         "4547 Archer CommonDiazchester, CA 06566-8576",
         "DarkGreen",
         31.92627202636016,
         11.109460728682564,
         37.268958868297744,
         2.66403418213262,
         392.2049334443264
        ],
        [
         "pallen@yahoo.com",
         "24645 Valerie Unions Suite 582Cobbborough, DC 99414-7564",
         "Bisque",
         33.000914755642675,
         11.330278057777512,
         37.110597442120856,
         4.104543202376424,
         487.54750486747207
        ],
        [
         "riverarebecca@gmail.com",
         "1414 David ThroughwayPort Jason, OH 22070-1220",
         "SaddleBrown",
         34.30555662975554,
         13.717513665142507,
         36.72128267790313,
         3.120178782748092,
         581.8523440352177
        ],
        [
         "mstephens@davidson-herman.com",
         "14023 Rodriguez PassagePort Jacobville, PR 37242-1057",
         "MediumAquaMarine",
         33.33067252364639,
         12.795188551078114,
         37.53665330059473,
         4.446308318351434,
         599.4060920457634
        ],
        [
         "alvareznancy@lucas.biz",
         "645 Martha Park Apt. 611Jeffreychester, MN 67218-7250",
         "FloralWhite",
         33.871037879341976,
         12.026925339755056,
         34.47687762925054,
         5.493507201364199,
         637.102447915074
        ],
        [
         "katherine20@yahoo.com",
         "68388 Reyes Lights Suite 692Josephbury, WV 92213-0247",
         "DarkSlateBlue",
         32.02159550138701,
         11.366348309710526,
         36.68377615286961,
         4.685017246570912,
         521.5721747578274
        ],
        [
         "awatkins@yahoo.com",
         "Unit 6538 Box 8980DPO AP 09026-4941",
         "Aqua",
         32.739142938380326,
         12.35195897300293,
         37.37335885854755,
         4.4342734348999375,
         549.9041461052942
        ],
        [
         "vchurch@walter-martinez.com",
         "860 Lee KeyWest Debra, SD 97450-0495",
         "Salmon",
         33.98777289568564,
         13.386235275676436,
         37.534497341555735,
         3.2734335777477144,
         570.2004089636196
        ],
        [
         "bonnie69@lin.biz",
         "PSC 2734, Box 5255APO AA 98456-7482",
         "Brown",
         31.936548618448917,
         11.814128294972196,
         37.14516822352819,
         3.202806071553459,
         427.1993848953282
        ]
       ],
       "datasetInfos": [],
       "dbfsResultPath": null,
       "isJsonSchema": true,
       "metadata": {},
       "overflow": false,
       "plotOptions": {
        "customPlotOptions": {},
        "displayType": "table",
        "pivotAggregation": null,
        "pivotColumns": null,
        "xColumns": null,
        "yColumns": null
       },
       "removedWidgets": [],
       "schema": [
        {
         "metadata": "{}",
         "name": "Email",
         "type": "\"string\""
        },
        {
         "metadata": "{}",
         "name": "Address",
         "type": "\"string\""
        },
        {
         "metadata": "{}",
         "name": "Avatar",
         "type": "\"string\""
        },
        {
         "metadata": "{}",
         "name": "Avg Session Length",
         "type": "\"double\""
        },
        {
         "metadata": "{}",
         "name": "Time on App",
         "type": "\"double\""
        },
        {
         "metadata": "{}",
         "name": "Time on Website",
         "type": "\"double\""
        },
        {
         "metadata": "{}",
         "name": "Length of Membership",
         "type": "\"double\""
        },
        {
         "metadata": "{}",
         "name": "Yearly Amount Spent",
         "type": "\"double\""
        }
       ],
       "type": "table"
      }
     },
     "output_type": "display_data"
    }
   ],
   "source": [
    "df.limit(10).display()"
   ]
  },
  {
   "cell_type": "code",
   "execution_count": 0,
   "metadata": {
    "application/vnd.databricks.v1+cell": {
     "cellMetadata": {
      "byteLimit": 2048000,
      "rowLimit": 10000
     },
     "inputWidgets": {},
     "nuid": "248be342-9834-4d42-b228-d441fb979410",
     "showTitle": false,
     "tableResultSettingsMap": {},
     "title": ""
    }
   },
   "outputs": [
    {
     "output_type": "stream",
     "name": "stdout",
     "output_type": "stream",
     "text": [
      "root\n |-- Email: string (nullable = true)\n |-- Address: string (nullable = true)\n |-- Avatar: string (nullable = true)\n |-- Avg Session Length: double (nullable = true)\n |-- Time on App: double (nullable = true)\n |-- Time on Website: double (nullable = true)\n |-- Length of Membership: double (nullable = true)\n |-- Yearly Amount Spent: double (nullable = true)\n\n"
     ]
    }
   ],
   "source": [
    "df.printSchema()"
   ]
  },
  {
   "cell_type": "code",
   "execution_count": 0,
   "metadata": {
    "application/vnd.databricks.v1+cell": {
     "cellMetadata": {
      "byteLimit": 2048000,
      "rowLimit": 10000
     },
     "inputWidgets": {},
     "nuid": "53bd3702-d91b-4317-a2d7-fa67176d3a22",
     "showTitle": false,
     "tableResultSettingsMap": {},
     "title": ""
    }
   },
   "outputs": [
    {
     "output_type": "execute_result",
     "data": {
      "text/plain": [
       "['Email',\n",
       " 'Address',\n",
       " 'Avatar',\n",
       " 'Avg Session Length',\n",
       " 'Time on App',\n",
       " 'Time on Website',\n",
       " 'Length of Membership',\n",
       " 'Yearly Amount Spent']"
      ]
     },
     "execution_count": 90,
     "metadata": {},
     "output_type": "execute_result"
    }
   ],
   "source": [
    "df.columns"
   ]
  },
  {
   "cell_type": "code",
   "execution_count": 0,
   "metadata": {
    "application/vnd.databricks.v1+cell": {
     "cellMetadata": {
      "byteLimit": 2048000,
      "rowLimit": 10000
     },
     "inputWidgets": {},
     "nuid": "e96acc76-8fee-4eba-8c53-873910f7e55f",
     "showTitle": false,
     "tableResultSettingsMap": {},
     "title": ""
    }
   },
   "outputs": [
    {
     "output_type": "stream",
     "name": "stdout",
     "output_type": "stream",
     "text": [
      "+-------+------------------+------------------+------------------+--------------------+-------------------+\n|summary|Avg Session Length|       Time on App|   Time on Website|Length of Membership|Yearly Amount Spent|\n+-------+------------------+------------------+------------------+--------------------+-------------------+\n|  count|               500|               500|               500|                 500|                500|\n|   mean| 33.05319351819619|12.052487937166134| 37.06044542094859|   3.533461555915055|  499.3140382585909|\n| stddev|0.9925631110845354|0.9942156084725424|1.0104889067564033|  0.9992775024112585|   79.3147815497068|\n|    min|29.532428967057943| 8.508152176032603| 33.91384724758464|  0.2699010899842742| 256.67058229005585|\n|    max| 36.13966248879052|15.126994288792467|40.005181638101895|   6.922689335035808|  765.5184619388373|\n+-------+------------------+------------------+------------------+--------------------+-------------------+\n\n"
     ]
    }
   ],
   "source": [
    "# describe data\n",
    "df.select('Avg Session Length', 'Time on App', 'Time on Website',\n",
    "           'Length of Membership', 'Yearly Amount Spent').describe().show()"
   ]
  },
  {
   "cell_type": "code",
   "execution_count": 0,
   "metadata": {
    "application/vnd.databricks.v1+cell": {
     "cellMetadata": {
      "byteLimit": 2048000,
      "rowLimit": 10000
     },
     "inputWidgets": {},
     "nuid": "168a7db7-8d45-410a-a3c9-3ce1957a4124",
     "showTitle": false,
     "tableResultSettingsMap": {},
     "title": ""
    }
   },
   "outputs": [],
   "source": [
    "from pyspark.sql.functions import col, sum as _sum"
   ]
  },
  {
   "cell_type": "code",
   "execution_count": 0,
   "metadata": {
    "application/vnd.databricks.v1+cell": {
     "cellMetadata": {
      "byteLimit": 2048000,
      "rowLimit": 10000
     },
     "inputWidgets": {},
     "nuid": "28d7fb5a-a829-4253-b351-685a781ebbde",
     "showTitle": false,
     "tableResultSettingsMap": {},
     "title": ""
    }
   },
   "outputs": [],
   "source": [
    "# check missing value \n",
    "missing_val = df.select([_sum(col(c).isNull().cast('int')).alias(c) for c in df.columns])"
   ]
  },
  {
   "cell_type": "code",
   "execution_count": 0,
   "metadata": {
    "application/vnd.databricks.v1+cell": {
     "cellMetadata": {
      "byteLimit": 2048000,
      "rowLimit": 10000
     },
     "inputWidgets": {},
     "nuid": "325dcdfa-d84d-4234-8439-9029ca8eec58",
     "showTitle": false,
     "tableResultSettingsMap": {},
     "title": ""
    }
   },
   "outputs": [
    {
     "output_type": "stream",
     "name": "stdout",
     "output_type": "stream",
     "text": [
      "+-----+-------+------+------------------+-----------+---------------+--------------------+-------------------+\n|Email|Address|Avatar|Avg Session Length|Time on App|Time on Website|Length of Membership|Yearly Amount Spent|\n+-----+-------+------+------------------+-----------+---------------+--------------------+-------------------+\n|    0|      0|     0|                 0|          0|              0|                   0|                  0|\n+-----+-------+------+------------------+-----------+---------------+--------------------+-------------------+\n\n"
     ]
    }
   ],
   "source": [
    "missing_val.show()"
   ]
  },
  {
   "cell_type": "code",
   "execution_count": 0,
   "metadata": {
    "application/vnd.databricks.v1+cell": {
     "cellMetadata": {
      "byteLimit": 2048000,
      "rowLimit": 10000
     },
     "inputWidgets": {},
     "nuid": "700c1a1f-80e1-435c-b07f-8e8e12d89885",
     "showTitle": false,
     "tableResultSettingsMap": {},
     "title": ""
    }
   },
   "outputs": [],
   "source": [
    "# check dupicated\n",
    "dupicates = df.exceptAll(df.dropDuplicates())"
   ]
  },
  {
   "cell_type": "code",
   "execution_count": 0,
   "metadata": {
    "application/vnd.databricks.v1+cell": {
     "cellMetadata": {
      "byteLimit": 2048000,
      "rowLimit": 10000
     },
     "inputWidgets": {},
     "nuid": "e98da8ef-8d78-41d9-9c3a-363338b8e9f1",
     "showTitle": false,
     "tableResultSettingsMap": {},
     "title": ""
    }
   },
   "outputs": [
    {
     "output_type": "stream",
     "name": "stdout",
     "output_type": "stream",
     "text": [
      "+-----+-------+------+------------------+-----------+---------------+--------------------+-------------------+\n|Email|Address|Avatar|Avg Session Length|Time on App|Time on Website|Length of Membership|Yearly Amount Spent|\n+-----+-------+------+------------------+-----------+---------------+--------------------+-------------------+\n+-----+-------+------+------------------+-----------+---------------+--------------------+-------------------+\n\n"
     ]
    }
   ],
   "source": [
    "dupicates.show()"
   ]
  },
  {
   "cell_type": "code",
   "execution_count": 0,
   "metadata": {
    "application/vnd.databricks.v1+cell": {
     "cellMetadata": {
      "byteLimit": 2048000,
      "rowLimit": 10000
     },
     "inputWidgets": {},
     "nuid": "7f90b99b-92ad-4641-8be4-542a455f2d8f",
     "showTitle": false,
     "tableResultSettingsMap": {},
     "title": ""
    }
   },
   "outputs": [
    {
     "output_type": "execute_result",
     "data": {
      "text/plain": [
       "[Row(Email='mstephenson@fernandez.com', Address='835 Frank TunnelWrightmouth, MI 82180-9605', Avatar='Violet', Avg Session Length=34.49726772511229, Time on App=12.65565114916675, Time on Website=39.57766801952616, Length of Membership=4.0826206329529615, Yearly Amount Spent=587.9510539684005),\n",
       " Row(Email='hduke@hotmail.com', Address='4547 Archer CommonDiazchester, CA 06566-8576', Avatar='DarkGreen', Avg Session Length=31.92627202636016, Time on App=11.109460728682564, Time on Website=37.268958868297744, Length of Membership=2.66403418213262, Yearly Amount Spent=392.2049334443264),\n",
       " Row(Email='pallen@yahoo.com', Address='24645 Valerie Unions Suite 582Cobbborough, DC 99414-7564', Avatar='Bisque', Avg Session Length=33.000914755642675, Time on App=11.330278057777512, Time on Website=37.110597442120856, Length of Membership=4.104543202376424, Yearly Amount Spent=487.54750486747207),\n",
       " Row(Email='riverarebecca@gmail.com', Address='1414 David ThroughwayPort Jason, OH 22070-1220', Avatar='SaddleBrown', Avg Session Length=34.30555662975554, Time on App=13.717513665142507, Time on Website=36.72128267790313, Length of Membership=3.120178782748092, Yearly Amount Spent=581.8523440352177),\n",
       " Row(Email='mstephens@davidson-herman.com', Address='14023 Rodriguez PassagePort Jacobville, PR 37242-1057', Avatar='MediumAquaMarine', Avg Session Length=33.33067252364639, Time on App=12.795188551078114, Time on Website=37.53665330059473, Length of Membership=4.446308318351434, Yearly Amount Spent=599.4060920457634)]"
      ]
     },
     "execution_count": 97,
     "metadata": {},
     "output_type": "execute_result"
    }
   ],
   "source": [
    "df.head(5)"
   ]
  },
  {
   "cell_type": "code",
   "execution_count": 0,
   "metadata": {
    "application/vnd.databricks.v1+cell": {
     "cellMetadata": {
      "byteLimit": 2048000,
      "rowLimit": 10000
     },
     "inputWidgets": {},
     "nuid": "c8abedfb-852a-4759-b320-3e3251249419",
     "showTitle": false,
     "tableResultSettingsMap": {},
     "title": ""
    }
   },
   "outputs": [
    {
     "output_type": "stream",
     "name": "stdout",
     "output_type": "stream",
     "text": [
      "mstephenson@fernandez.com\n835 Frank TunnelWrightmouth, MI 82180-9605\nViolet\n34.49726772511229\n12.65565114916675\n39.57766801952616\n4.0826206329529615\n587.9510539684005\n"
     ]
    }
   ],
   "source": [
    "for item in df.head():\n",
    "    print(item)"
   ]
  },
  {
   "cell_type": "markdown",
   "metadata": {
    "application/vnd.databricks.v1+cell": {
     "cellMetadata": {
      "byteLimit": 2048000,
      "rowLimit": 10000
     },
     "inputWidgets": {},
     "nuid": "959c4a04-a573-48d6-af7a-6788b99aee24",
     "showTitle": false,
     "tableResultSettingsMap": {},
     "title": ""
    }
   },
   "source": [
    "## Format for MLlib"
   ]
  },
  {
   "cell_type": "code",
   "execution_count": 0,
   "metadata": {
    "application/vnd.databricks.v1+cell": {
     "cellMetadata": {
      "byteLimit": 2048000,
      "rowLimit": 10000
     },
     "inputWidgets": {},
     "nuid": "d8eb1f23-6128-49ce-b92d-55a1c8dcf58b",
     "showTitle": false,
     "tableResultSettingsMap": {},
     "title": ""
    }
   },
   "outputs": [],
   "source": [
    "from pyspark.ml.feature import VectorAssembler"
   ]
  },
  {
   "cell_type": "code",
   "execution_count": 0,
   "metadata": {
    "application/vnd.databricks.v1+cell": {
     "cellMetadata": {
      "byteLimit": 2048000,
      "rowLimit": 10000
     },
     "inputWidgets": {},
     "nuid": "fd361659-b14b-440a-ab41-95ddbbe566ae",
     "showTitle": false,
     "tableResultSettingsMap": {},
     "title": ""
    }
   },
   "outputs": [
    {
     "output_type": "execute_result",
     "data": {
      "text/plain": [
       "['Email',\n",
       " 'Address',\n",
       " 'Avatar',\n",
       " 'Avg Session Length',\n",
       " 'Time on App',\n",
       " 'Time on Website',\n",
       " 'Length of Membership',\n",
       " 'Yearly Amount Spent']"
      ]
     },
     "execution_count": 100,
     "metadata": {},
     "output_type": "execute_result"
    }
   ],
   "source": [
    "df.columns"
   ]
  },
  {
   "cell_type": "code",
   "execution_count": 0,
   "metadata": {
    "application/vnd.databricks.v1+cell": {
     "cellMetadata": {
      "byteLimit": 2048000,
      "rowLimit": 10000
     },
     "inputWidgets": {},
     "nuid": "d90bd61f-77ba-452f-9ad3-2b441d479503",
     "showTitle": false,
     "tableResultSettingsMap": {},
     "title": ""
    }
   },
   "outputs": [],
   "source": [
    "assembler = VectorAssembler(inputCols=['Avg Session Length', 'Time on App',\n",
    "                                        'Time on Website', 'Length of Membership'], \n",
    "                            outputCol='features')"
   ]
  },
  {
   "cell_type": "code",
   "execution_count": 0,
   "metadata": {
    "application/vnd.databricks.v1+cell": {
     "cellMetadata": {
      "byteLimit": 2048000,
      "rowLimit": 10000
     },
     "inputWidgets": {},
     "nuid": "33803350-a8b5-4178-8811-89bd5a66a11e",
     "showTitle": false,
     "tableResultSettingsMap": {},
     "title": ""
    }
   },
   "outputs": [],
   "source": [
    "output = assembler.transform(df)"
   ]
  },
  {
   "cell_type": "code",
   "execution_count": 0,
   "metadata": {
    "application/vnd.databricks.v1+cell": {
     "cellMetadata": {
      "byteLimit": 2048000,
      "rowLimit": 10000
     },
     "inputWidgets": {},
     "nuid": "7949c87c-360c-41c7-822f-818180058f46",
     "showTitle": false,
     "tableResultSettingsMap": {},
     "title": ""
    }
   },
   "outputs": [
    {
     "output_type": "display_data",
     "data": {
      "text/html": [
       "<style scoped>\n",
       "  .table-result-container {\n",
       "    max-height: 300px;\n",
       "    overflow: auto;\n",
       "  }\n",
       "  table, th, td {\n",
       "    border: 1px solid black;\n",
       "    border-collapse: collapse;\n",
       "  }\n",
       "  th, td {\n",
       "    padding: 5px;\n",
       "  }\n",
       "  th {\n",
       "    text-align: left;\n",
       "  }\n",
       "</style><div class='table-result-container'><table class='table-result'><thead style='background-color: white'><tr><th>Email</th><th>Address</th><th>Avatar</th><th>Avg Session Length</th><th>Time on App</th><th>Time on Website</th><th>Length of Membership</th><th>Yearly Amount Spent</th><th>features</th></tr></thead><tbody><tr><td>mstephenson@fernandez.com</td><td>835 Frank TunnelWrightmouth, MI 82180-9605</td><td>Violet</td><td>34.49726772511229</td><td>12.65565114916675</td><td>39.57766801952616</td><td>4.0826206329529615</td><td>587.9510539684005</td><td>Map(vectorType -> dense, length -> 4, values -> List(34.49726772511229, 12.65565114916675, 39.57766801952616, 4.0826206329529615))</td></tr><tr><td>hduke@hotmail.com</td><td>4547 Archer CommonDiazchester, CA 06566-8576</td><td>DarkGreen</td><td>31.92627202636016</td><td>11.109460728682564</td><td>37.268958868297744</td><td>2.66403418213262</td><td>392.2049334443264</td><td>Map(vectorType -> dense, length -> 4, values -> List(31.92627202636016, 11.109460728682564, 37.268958868297744, 2.66403418213262))</td></tr><tr><td>pallen@yahoo.com</td><td>24645 Valerie Unions Suite 582Cobbborough, DC 99414-7564</td><td>Bisque</td><td>33.000914755642675</td><td>11.330278057777512</td><td>37.110597442120856</td><td>4.104543202376424</td><td>487.54750486747207</td><td>Map(vectorType -> dense, length -> 4, values -> List(33.000914755642675, 11.330278057777512, 37.110597442120856, 4.104543202376424))</td></tr><tr><td>riverarebecca@gmail.com</td><td>1414 David ThroughwayPort Jason, OH 22070-1220</td><td>SaddleBrown</td><td>34.30555662975554</td><td>13.717513665142507</td><td>36.72128267790313</td><td>3.120178782748092</td><td>581.8523440352177</td><td>Map(vectorType -> dense, length -> 4, values -> List(34.30555662975554, 13.717513665142507, 36.72128267790313, 3.120178782748092))</td></tr><tr><td>mstephens@davidson-herman.com</td><td>14023 Rodriguez PassagePort Jacobville, PR 37242-1057</td><td>MediumAquaMarine</td><td>33.33067252364639</td><td>12.795188551078114</td><td>37.53665330059473</td><td>4.446308318351434</td><td>599.4060920457634</td><td>Map(vectorType -> dense, length -> 4, values -> List(33.33067252364639, 12.795188551078114, 37.53665330059473, 4.446308318351434))</td></tr></tbody></table></div>"
      ]
     },
     "metadata": {
      "application/vnd.databricks.v1+output": {
       "addedWidgets": {},
       "aggData": [],
       "aggError": "",
       "aggOverflow": false,
       "aggSchema": [],
       "aggSeriesLimitReached": false,
       "aggType": "",
       "arguments": {},
       "columnCustomDisplayInfos": {},
       "data": [
        [
         "mstephenson@fernandez.com",
         "835 Frank TunnelWrightmouth, MI 82180-9605",
         "Violet",
         34.49726772511229,
         12.65565114916675,
         39.57766801952616,
         4.0826206329529615,
         587.9510539684005,
         {
          "length": 4,
          "values": [
           34.49726772511229,
           12.65565114916675,
           39.57766801952616,
           4.0826206329529615
          ],
          "vectorType": "dense"
         }
        ],
        [
         "hduke@hotmail.com",
         "4547 Archer CommonDiazchester, CA 06566-8576",
         "DarkGreen",
         31.92627202636016,
         11.109460728682564,
         37.268958868297744,
         2.66403418213262,
         392.2049334443264,
         {
          "length": 4,
          "values": [
           31.92627202636016,
           11.109460728682564,
           37.268958868297744,
           2.66403418213262
          ],
          "vectorType": "dense"
         }
        ],
        [
         "pallen@yahoo.com",
         "24645 Valerie Unions Suite 582Cobbborough, DC 99414-7564",
         "Bisque",
         33.000914755642675,
         11.330278057777512,
         37.110597442120856,
         4.104543202376424,
         487.54750486747207,
         {
          "length": 4,
          "values": [
           33.000914755642675,
           11.330278057777512,
           37.110597442120856,
           4.104543202376424
          ],
          "vectorType": "dense"
         }
        ],
        [
         "riverarebecca@gmail.com",
         "1414 David ThroughwayPort Jason, OH 22070-1220",
         "SaddleBrown",
         34.30555662975554,
         13.717513665142507,
         36.72128267790313,
         3.120178782748092,
         581.8523440352177,
         {
          "length": 4,
          "values": [
           34.30555662975554,
           13.717513665142507,
           36.72128267790313,
           3.120178782748092
          ],
          "vectorType": "dense"
         }
        ],
        [
         "mstephens@davidson-herman.com",
         "14023 Rodriguez PassagePort Jacobville, PR 37242-1057",
         "MediumAquaMarine",
         33.33067252364639,
         12.795188551078114,
         37.53665330059473,
         4.446308318351434,
         599.4060920457634,
         {
          "length": 4,
          "values": [
           33.33067252364639,
           12.795188551078114,
           37.53665330059473,
           4.446308318351434
          ],
          "vectorType": "dense"
         }
        ]
       ],
       "datasetInfos": [],
       "dbfsResultPath": null,
       "isJsonSchema": true,
       "metadata": {},
       "overflow": false,
       "plotOptions": {
        "customPlotOptions": {},
        "displayType": "table",
        "pivotAggregation": null,
        "pivotColumns": null,
        "xColumns": null,
        "yColumns": null
       },
       "removedWidgets": [],
       "schema": [
        {
         "metadata": "{}",
         "name": "Email",
         "type": "\"string\""
        },
        {
         "metadata": "{}",
         "name": "Address",
         "type": "\"string\""
        },
        {
         "metadata": "{}",
         "name": "Avatar",
         "type": "\"string\""
        },
        {
         "metadata": "{}",
         "name": "Avg Session Length",
         "type": "\"double\""
        },
        {
         "metadata": "{}",
         "name": "Time on App",
         "type": "\"double\""
        },
        {
         "metadata": "{}",
         "name": "Time on Website",
         "type": "\"double\""
        },
        {
         "metadata": "{}",
         "name": "Length of Membership",
         "type": "\"double\""
        },
        {
         "metadata": "{}",
         "name": "Yearly Amount Spent",
         "type": "\"double\""
        },
        {
         "metadata": "{\"ml_attr\":{\"attrs\":{\"numeric\":[{\"idx\":0,\"name\":\"Avg Session Length\"},{\"idx\":1,\"name\":\"Time on App\"},{\"idx\":2,\"name\":\"Time on Website\"},{\"idx\":3,\"name\":\"Length of Membership\"}]},\"num_attrs\":4}}",
         "name": "features",
         "type": "{\"type\":\"udt\",\"class\":\"org.apache.spark.ml.linalg.VectorUDT\",\"pyClass\":\"pyspark.ml.linalg.VectorUDT\",\"sqlType\":{\"type\":\"struct\",\"fields\":[{\"name\":\"type\",\"type\":\"byte\",\"nullable\":false,\"metadata\":{}},{\"name\":\"size\",\"type\":\"integer\",\"nullable\":true,\"metadata\":{}},{\"name\":\"indices\",\"type\":{\"type\":\"array\",\"elementType\":\"integer\",\"containsNull\":false},\"nullable\":true,\"metadata\":{}},{\"name\":\"values\",\"type\":{\"type\":\"array\",\"elementType\":\"double\",\"containsNull\":false},\"nullable\":true,\"metadata\":{}}]}}"
        }
       ],
       "type": "table"
      }
     },
     "output_type": "display_data"
    }
   ],
   "source": [
    "output.limit(5).display()"
   ]
  },
  {
   "cell_type": "code",
   "execution_count": 0,
   "metadata": {
    "application/vnd.databricks.v1+cell": {
     "cellMetadata": {
      "byteLimit": 2048000,
      "rowLimit": 10000
     },
     "inputWidgets": {},
     "nuid": "447d6752-a1e1-4d55-a94b-96bf8b9b4523",
     "showTitle": false,
     "tableResultSettingsMap": {},
     "title": ""
    }
   },
   "outputs": [
    {
     "output_type": "stream",
     "name": "stdout",
     "output_type": "stream",
     "text": [
      "+--------------------+\n|            features|\n+--------------------+\n|[34.4972677251122...|\n|[31.9262720263601...|\n|[33.0009147556426...|\n|[34.3055566297555...|\n|[33.3306725236463...|\n|[33.8710378793419...|\n|[32.0215955013870...|\n|[32.7391429383803...|\n|[33.9877728956856...|\n|[31.9365486184489...|\n|[33.9925727749537...|\n|[33.8793608248049...|\n|[29.5324289670579...|\n|[33.1903340437226...|\n|[32.3879758531538...|\n|[30.7377203726281...|\n|[32.1253868972878...|\n|[32.3388993230671...|\n|[32.1878120459321...|\n|[32.6178560628234...|\n+--------------------+\nonly showing top 20 rows\n\n"
     ]
    }
   ],
   "source": [
    "output.select('features').show()"
   ]
  },
  {
   "cell_type": "code",
   "execution_count": 0,
   "metadata": {
    "application/vnd.databricks.v1+cell": {
     "cellMetadata": {
      "byteLimit": 2048000,
      "rowLimit": 10000
     },
     "inputWidgets": {},
     "nuid": "caf79237-ca23-41f8-9f71-b42f3719c7c9",
     "showTitle": false,
     "tableResultSettingsMap": {},
     "title": ""
    }
   },
   "outputs": [],
   "source": [
    "final_data = output.select('features', 'Yearly Amount Spent')"
   ]
  },
  {
   "cell_type": "code",
   "execution_count": 0,
   "metadata": {
    "application/vnd.databricks.v1+cell": {
     "cellMetadata": {
      "byteLimit": 2048000,
      "rowLimit": 10000
     },
     "inputWidgets": {},
     "nuid": "bd0d2e37-7270-48af-bc72-443eb7b12296",
     "showTitle": false,
     "tableResultSettingsMap": {},
     "title": ""
    }
   },
   "outputs": [
    {
     "output_type": "stream",
     "name": "stdout",
     "output_type": "stream",
     "text": [
      "+--------------------+-------------------+\n|            features|Yearly Amount Spent|\n+--------------------+-------------------+\n|[34.4972677251122...|  587.9510539684005|\n|[31.9262720263601...|  392.2049334443264|\n|[33.0009147556426...| 487.54750486747207|\n|[34.3055566297555...|  581.8523440352177|\n|[33.3306725236463...|  599.4060920457634|\n|[33.8710378793419...|   637.102447915074|\n|[32.0215955013870...|  521.5721747578274|\n|[32.7391429383803...|  549.9041461052942|\n|[33.9877728956856...|  570.2004089636196|\n|[31.9365486184489...|  427.1993848953282|\n|[33.9925727749537...|  492.6060127179966|\n|[33.8793608248049...|  522.3374046069357|\n|[29.5324289670579...|  408.6403510726275|\n|[33.1903340437226...|  573.4158673313865|\n|[32.3879758531538...|  470.4527333009554|\n|[30.7377203726281...|  461.7807421962299|\n|[32.1253868972878...| 457.84769594494855|\n|[32.3388993230671...| 407.70454754954415|\n|[32.1878120459321...|  452.3156754800354|\n|[32.6178560628234...|   605.061038804892|\n+--------------------+-------------------+\nonly showing top 20 rows\n\n"
     ]
    }
   ],
   "source": [
    "final_data.show()"
   ]
  },
  {
   "cell_type": "markdown",
   "metadata": {
    "application/vnd.databricks.v1+cell": {
     "cellMetadata": {
      "byteLimit": 2048000,
      "rowLimit": 10000
     },
     "inputWidgets": {},
     "nuid": "d9153d26-1191-43da-ad73-0db45d6acf58",
     "showTitle": false,
     "tableResultSettingsMap": {},
     "title": ""
    }
   },
   "source": [
    "## Train Test Split"
   ]
  },
  {
   "cell_type": "code",
   "execution_count": 0,
   "metadata": {
    "application/vnd.databricks.v1+cell": {
     "cellMetadata": {
      "byteLimit": 2048000,
      "rowLimit": 10000
     },
     "inputWidgets": {},
     "nuid": "09e60177-4c67-45cc-958b-03670c76e956",
     "showTitle": false,
     "tableResultSettingsMap": {},
     "title": ""
    }
   },
   "outputs": [],
   "source": [
    "train, test = final_data.randomSplit([0.7, 0.3])"
   ]
  },
  {
   "cell_type": "code",
   "execution_count": 0,
   "metadata": {
    "application/vnd.databricks.v1+cell": {
     "cellMetadata": {
      "byteLimit": 2048000,
      "rowLimit": 10000
     },
     "inputWidgets": {},
     "nuid": "ba03b184-6834-433e-9a37-914b3ff066e0",
     "showTitle": false,
     "tableResultSettingsMap": {},
     "title": ""
    }
   },
   "outputs": [
    {
     "output_type": "stream",
     "name": "stdout",
     "output_type": "stream",
     "text": [
      "+-------+-------------------+\n|summary|Yearly Amount Spent|\n+-------+-------------------+\n|  count|                351|\n|   mean| 505.17809542832737|\n| stddev|  78.11058464987376|\n|    min| 256.67058229005585|\n|    max|  744.2218671047146|\n+-------+-------------------+\n\n"
     ]
    }
   ],
   "source": [
    "train.describe().show()"
   ]
  },
  {
   "cell_type": "code",
   "execution_count": 0,
   "metadata": {
    "application/vnd.databricks.v1+cell": {
     "cellMetadata": {
      "byteLimit": 2048000,
      "rowLimit": 10000
     },
     "inputWidgets": {},
     "nuid": "6e1551e6-12a3-43af-96ad-d198b5af37ce",
     "showTitle": false,
     "tableResultSettingsMap": {},
     "title": ""
    }
   },
   "outputs": [
    {
     "output_type": "stream",
     "name": "stdout",
     "output_type": "stream",
     "text": [
      "+-------+-------------------+\n|summary|Yearly Amount Spent|\n+-------+-------------------+\n|  count|                149|\n|   mean|  485.5000512345802|\n| stddev|  80.67206073508915|\n|    min|  275.9184206503857|\n|    max|  765.5184619388373|\n+-------+-------------------+\n\n"
     ]
    }
   ],
   "source": [
    "test.describe().show()"
   ]
  },
  {
   "cell_type": "markdown",
   "metadata": {
    "application/vnd.databricks.v1+cell": {
     "cellMetadata": {
      "byteLimit": 2048000,
      "rowLimit": 10000
     },
     "inputWidgets": {},
     "nuid": "942a453c-68ec-44ab-9ad7-d67d019dc297",
     "showTitle": false,
     "tableResultSettingsMap": {},
     "title": ""
    }
   },
   "source": [
    "## Create Model Linear Regression"
   ]
  },
  {
   "cell_type": "code",
   "execution_count": 0,
   "metadata": {
    "application/vnd.databricks.v1+cell": {
     "cellMetadata": {
      "byteLimit": 2048000,
      "rowLimit": 10000
     },
     "inputWidgets": {},
     "nuid": "a6776844-5c79-482b-b034-9aea0f55e87c",
     "showTitle": false,
     "tableResultSettingsMap": {},
     "title": ""
    }
   },
   "outputs": [],
   "source": [
    "from pyspark.ml.regression import LinearRegression"
   ]
  },
  {
   "cell_type": "code",
   "execution_count": 0,
   "metadata": {
    "application/vnd.databricks.v1+cell": {
     "cellMetadata": {
      "byteLimit": 2048000,
      "rowLimit": 10000
     },
     "inputWidgets": {},
     "nuid": "fb39b363-6662-4b39-b40b-7285824b9bbd",
     "showTitle": false,
     "tableResultSettingsMap": {},
     "title": ""
    }
   },
   "outputs": [],
   "source": [
    "lr = LinearRegression(labelCol='Yearly Amount Spent')"
   ]
  },
  {
   "cell_type": "code",
   "execution_count": 0,
   "metadata": {
    "application/vnd.databricks.v1+cell": {
     "cellMetadata": {
      "byteLimit": 2048000,
      "rowLimit": 10000
     },
     "inputWidgets": {},
     "nuid": "5d162292-9817-4c72-b3e2-955104a8079d",
     "showTitle": false,
     "tableResultSettingsMap": {},
     "title": ""
    }
   },
   "outputs": [],
   "source": [
    "# fit the model\n",
    "lrModel = lr.fit(train)"
   ]
  },
  {
   "cell_type": "code",
   "execution_count": 0,
   "metadata": {
    "application/vnd.databricks.v1+cell": {
     "cellMetadata": {
      "byteLimit": 2048000,
      "rowLimit": 10000
     },
     "inputWidgets": {},
     "nuid": "31d282f2-8732-4d2b-9824-e37281bce519",
     "showTitle": false,
     "tableResultSettingsMap": {},
     "title": ""
    }
   },
   "outputs": [
    {
     "output_type": "stream",
     "name": "stdout",
     "output_type": "stream",
     "text": [
      "Coefficients : [25.934049376822202,38.91951853287949,-0.18301096020995175,61.43265734610271], Intercept : -1036.9722076302494\n"
     ]
    }
   ],
   "source": [
    "# print Coefficients and Intercept\n",
    "print('Coefficients : {}, Intercept : {}'.format(lrModel.coefficients, lrModel.intercept))"
   ]
  },
  {
   "cell_type": "code",
   "execution_count": 0,
   "metadata": {
    "application/vnd.databricks.v1+cell": {
     "cellMetadata": {
      "byteLimit": 2048000,
      "rowLimit": 10000
     },
     "inputWidgets": {},
     "nuid": "f7759b22-59ba-4f71-8512-419dfa474aa8",
     "showTitle": false,
     "tableResultSettingsMap": {},
     "title": ""
    }
   },
   "outputs": [],
   "source": [
    "test_result = lrModel.evaluate(test)"
   ]
  },
  {
   "cell_type": "code",
   "execution_count": 0,
   "metadata": {
    "application/vnd.databricks.v1+cell": {
     "cellMetadata": {
      "byteLimit": 2048000,
      "rowLimit": 10000
     },
     "inputWidgets": {},
     "nuid": "f913b9e0-45f4-4c1a-8727-269e3b9e7357",
     "showTitle": false,
     "tableResultSettingsMap": {},
     "title": ""
    }
   },
   "outputs": [
    {
     "output_type": "stream",
     "name": "stdout",
     "output_type": "stream",
     "text": [
      "+-------------------+\n|          residuals|\n+-------------------+\n| 11.374413278382008|\n| 0.5885689853882354|\n| 10.134829589539436|\n| -4.005515735647975|\n| -6.571278309970296|\n|-22.260746384262006|\n| 20.015309808878158|\n|  4.022966377151647|\n| 1.4169238638910429|\n| 3.1698185509637256|\n| -6.542770909238584|\n| -3.969255137290702|\n|-3.3507563600281287|\n|  4.221756525244075|\n|-18.264828421822358|\n| 17.880582881947475|\n| -5.147494372395897|\n|-5.8706453821743025|\n| 1.9996216042657693|\n| -2.931492297555394|\n+-------------------+\nonly showing top 20 rows\n\n"
     ]
    }
   ],
   "source": [
    "# test residuals\n",
    "test_result.residuals.show()"
   ]
  },
  {
   "cell_type": "code",
   "execution_count": 0,
   "metadata": {
    "application/vnd.databricks.v1+cell": {
     "cellMetadata": {
      "byteLimit": 2048000,
      "rowLimit": 10000
     },
     "inputWidgets": {},
     "nuid": "a9707853-5e3b-4541-a04e-84bd9164b045",
     "showTitle": false,
     "tableResultSettingsMap": {},
     "title": ""
    }
   },
   "outputs": [],
   "source": [
    "unlabeled_data = test.select('features')"
   ]
  },
  {
   "cell_type": "code",
   "execution_count": 0,
   "metadata": {
    "application/vnd.databricks.v1+cell": {
     "cellMetadata": {
      "byteLimit": 2048000,
      "rowLimit": 10000
     },
     "inputWidgets": {},
     "nuid": "eccb6ea9-fd54-4dd7-a230-bcb2614dd50c",
     "showTitle": false,
     "tableResultSettingsMap": {},
     "title": ""
    }
   },
   "outputs": [],
   "source": [
    "# prediction \n",
    "predictions = lrModel.transform(unlabeled_data)"
   ]
  },
  {
   "cell_type": "code",
   "execution_count": 0,
   "metadata": {
    "application/vnd.databricks.v1+cell": {
     "cellMetadata": {
      "byteLimit": 2048000,
      "rowLimit": 10000
     },
     "inputWidgets": {},
     "nuid": "2ec01ca5-f861-4f02-994d-60b873404353",
     "showTitle": false,
     "tableResultSettingsMap": {},
     "title": ""
    }
   },
   "outputs": [
    {
     "output_type": "stream",
     "name": "stdout",
     "output_type": "stream",
     "text": [
      "+--------------------+------------------+\n|            features|        prediction|\n+--------------------+------------------+\n|[29.5324289670579...| 397.2659377942455|\n|[30.5743636841713...| 441.4758447726774|\n|[30.7377203726281...|451.64591260669044|\n|[30.8794843441274...|494.21211572050265|\n|[31.0613251567161...| 494.1267363678719|\n|[31.1239743499119...| 509.2078002240278|\n|[31.3123495994443...|443.57610821906246|\n|[31.3662121671876...|426.56591617933327|\n|[31.3895854806643...|408.65268719609185|\n|[31.4459724827577...|481.70714638416484|\n|[31.4474464941278...| 425.1455130044626|\n|[31.5147378578019...| 493.7817431337521|\n|[31.5171218025062...|279.26917701041384|\n|[31.5316044825729...| 432.2938492041185|\n|[31.5702008293202...| 564.2103205632272|\n|[31.6005122003032...|461.29226860914946|\n|[31.6253601348306...| 381.4843951293201|\n|[31.7207699002873...| 544.6455788601972|\n|[31.7366356860502...|494.93382465126615|\n|[31.8186165667690...|449.35016566769104|\n+--------------------+------------------+\nonly showing top 20 rows\n\n"
     ]
    }
   ],
   "source": [
    "predictions.show()"
   ]
  },
  {
   "cell_type": "markdown",
   "metadata": {
    "application/vnd.databricks.v1+cell": {
     "cellMetadata": {
      "byteLimit": 2048000,
      "rowLimit": 10000
     },
     "inputWidgets": {},
     "nuid": "73901284-c88a-4f50-8523-a664124fd48c",
     "showTitle": false,
     "tableResultSettingsMap": {},
     "title": ""
    }
   },
   "source": [
    "## Evauations"
   ]
  },
  {
   "cell_type": "code",
   "execution_count": 0,
   "metadata": {
    "application/vnd.databricks.v1+cell": {
     "cellMetadata": {
      "byteLimit": 2048000,
      "rowLimit": 10000
     },
     "inputWidgets": {},
     "nuid": "6293be1c-6d19-4a16-b331-453814ebca3f",
     "showTitle": false,
     "tableResultSettingsMap": {},
     "title": ""
    }
   },
   "outputs": [
    {
     "output_type": "stream",
     "name": "stdout",
     "output_type": "stream",
     "text": [
      "RMSE : 10.355674437788581\nMSE : 107.23999306146783\n"
     ]
    }
   ],
   "source": [
    "print('RMSE : {}'.format(test_result.rootMeanSquaredError))\n",
    "print(\"MSE : {}\".format(test_result.meanSquaredError))"
   ]
  },
  {
   "cell_type": "markdown",
   "metadata": {
    "application/vnd.databricks.v1+cell": {
     "cellMetadata": {
      "byteLimit": 2048000,
      "rowLimit": 10000
     },
     "inputWidgets": {},
     "nuid": "312dd106-12c7-4f3d-8b94-76c61407490d",
     "showTitle": false,
     "tableResultSettingsMap": {},
     "title": ""
    }
   },
   "source": [
    "### Good Job..!"
   ]
  },
  {
   "cell_type": "code",
   "execution_count": 0,
   "metadata": {
    "application/vnd.databricks.v1+cell": {
     "cellMetadata": {
      "byteLimit": 2048000,
      "rowLimit": 10000
     },
     "inputWidgets": {},
     "nuid": "bd23b431-c574-40c7-99a6-af9bb432f5e3",
     "showTitle": false,
     "tableResultSettingsMap": {},
     "title": ""
    }
   },
   "outputs": [],
   "source": []
  }
 ],
 "metadata": {
  "application/vnd.databricks.v1+notebook": {
   "dashboards": [],
   "environmentMetadata": null,
   "language": "python",
   "notebookMetadata": {
    "pythonIndentUnit": 4
   },
   "notebookName": "01- Linear Regression Ecommerce Customers",
   "widgets": {}
  }
 },
 "nbformat": 4,
 "nbformat_minor": 0
}
